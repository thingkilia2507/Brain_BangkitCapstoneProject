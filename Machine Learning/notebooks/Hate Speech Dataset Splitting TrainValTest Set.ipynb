{
  "nbformat": 4,
  "nbformat_minor": 0,
  "metadata": {
    "colab": {
      "name": "Hate Speech Dataset - Splitting TrainValTest Set.ipynb",
      "provenance": [],
      "collapsed_sections": [],
      "toc_visible": true,
      "authorship_tag": "ABX9TyP0wYDZpj7JiG+ML72zj3ol",
      "include_colab_link": true
    },
    "kernelspec": {
      "name": "python3",
      "display_name": "Python 3"
    },
    "language_info": {
      "name": "python"
    }
  },
  "cells": [
    {
      "cell_type": "markdown",
      "metadata": {
        "id": "view-in-github",
        "colab_type": "text"
      },
      "source": [
        "<a href=\"https://colab.research.google.com/github/thingkilia2507/PTCJNN_BangkitCapstoneProject/blob/celine-branch/Machine%20Learning/notebooks/Hate%20Speech%20Dataset%20Splitting%20TrainValTest%20Set.ipynb\" target=\"_parent\"><img src=\"https://colab.research.google.com/assets/colab-badge.svg\" alt=\"Open In Colab\"/></a>"
      ]
    },
    {
      "cell_type": "markdown",
      "metadata": {
        "id": "BKIJ20o2qsxA"
      },
      "source": [
        "# **Library**"
      ]
    },
    {
      "cell_type": "code",
      "metadata": {
        "id": "zNML-0ijMRre",
        "colab": {
          "base_uri": "https://localhost:8080/"
        },
        "outputId": "264e9e61-c25f-48c9-bc5b-3426f6e13967"
      },
      "source": [
        "from google.colab import drive\n",
        "drive.mount('/content/drive')\n",
        "\n",
        "PROJECT_ROOT = 'drive/My Drive/Bangkit Capstone PT CJNN/ML/'\n",
        "HS_PATH = PROJECT_ROOT + 'dataset/hate_speech/'"
      ],
      "execution_count": null,
      "outputs": [
        {
          "output_type": "stream",
          "text": [
            "Mounted at /content/drive\n",
            "time: 20.2 s (started: 2021-05-19 20:01:46 +00:00)\n"
          ],
          "name": "stdout"
        }
      ]
    },
    {
      "cell_type": "code",
      "metadata": {
        "colab": {
          "base_uri": "https://localhost:8080/"
        },
        "id": "33lEGK7hhEOx",
        "outputId": "8691b2c5-3fb5-4022-c493-e14aaaf6bc59"
      },
      "source": [
        "!pip install ipython-autotime\n",
        "%load_ext autotime\n",
        "\n",
        "import pandas as pd\n",
        "\n",
        "from collections import Counter\n",
        "from sklearn.model_selection import train_test_split"
      ],
      "execution_count": null,
      "outputs": [
        {
          "output_type": "stream",
          "text": [
            "Collecting ipython-autotime\n",
            "  Downloading https://files.pythonhosted.org/packages/b4/c9/b413a24f759641bc27ef98c144b590023c8038dfb8a3f09e713e9dff12c1/ipython_autotime-0.3.1-py2.py3-none-any.whl\n",
            "Requirement already satisfied: ipython in /usr/local/lib/python3.7/dist-packages (from ipython-autotime) (5.5.0)\n",
            "Requirement already satisfied: decorator in /usr/local/lib/python3.7/dist-packages (from ipython->ipython-autotime) (4.4.2)\n",
            "Requirement already satisfied: pexpect; sys_platform != \"win32\" in /usr/local/lib/python3.7/dist-packages (from ipython->ipython-autotime) (4.8.0)\n",
            "Requirement already satisfied: simplegeneric>0.8 in /usr/local/lib/python3.7/dist-packages (from ipython->ipython-autotime) (0.8.1)\n",
            "Requirement already satisfied: pickleshare in /usr/local/lib/python3.7/dist-packages (from ipython->ipython-autotime) (0.7.5)\n",
            "Requirement already satisfied: setuptools>=18.5 in /usr/local/lib/python3.7/dist-packages (from ipython->ipython-autotime) (56.1.0)\n",
            "Requirement already satisfied: traitlets>=4.2 in /usr/local/lib/python3.7/dist-packages (from ipython->ipython-autotime) (5.0.5)\n",
            "Requirement already satisfied: pygments in /usr/local/lib/python3.7/dist-packages (from ipython->ipython-autotime) (2.6.1)\n",
            "Requirement already satisfied: prompt-toolkit<2.0.0,>=1.0.4 in /usr/local/lib/python3.7/dist-packages (from ipython->ipython-autotime) (1.0.18)\n",
            "Requirement already satisfied: ptyprocess>=0.5 in /usr/local/lib/python3.7/dist-packages (from pexpect; sys_platform != \"win32\"->ipython->ipython-autotime) (0.7.0)\n",
            "Requirement already satisfied: ipython-genutils in /usr/local/lib/python3.7/dist-packages (from traitlets>=4.2->ipython->ipython-autotime) (0.2.0)\n",
            "Requirement already satisfied: wcwidth in /usr/local/lib/python3.7/dist-packages (from prompt-toolkit<2.0.0,>=1.0.4->ipython->ipython-autotime) (0.2.5)\n",
            "Requirement already satisfied: six>=1.9.0 in /usr/local/lib/python3.7/dist-packages (from prompt-toolkit<2.0.0,>=1.0.4->ipython->ipython-autotime) (1.15.0)\n",
            "Installing collected packages: ipython-autotime\n",
            "Successfully installed ipython-autotime-0.3.1\n",
            "time: 772 ms (started: 2021-05-19 20:01:46 +00:00)\n"
          ],
          "name": "stdout"
        }
      ]
    },
    {
      "cell_type": "markdown",
      "metadata": {
        "id": "5W2kCn1JjlsQ"
      },
      "source": [
        "# **Split The Data (Data Preprocessed Thoroughly)**\n",
        "* punctuations are removed\n",
        "* emoji and emoticon are translated to description"
      ]
    },
    {
      "cell_type": "code",
      "metadata": {
        "colab": {
          "base_uri": "https://localhost:8080/",
          "height": 213
        },
        "id": "hIpULEFmjpJI",
        "outputId": "1be18061-d60a-486d-ce31-ce7225c397d9"
      },
      "source": [
        "hs_df = pd.read_csv(HS_PATH + 'hs-abusive_preprocessed.csv')\n",
        "hs_df.head()"
      ],
      "execution_count": null,
      "outputs": [
        {
          "output_type": "execute_result",
          "data": {
            "text/html": [
              "<div>\n",
              "<style scoped>\n",
              "    .dataframe tbody tr th:only-of-type {\n",
              "        vertical-align: middle;\n",
              "    }\n",
              "\n",
              "    .dataframe tbody tr th {\n",
              "        vertical-align: top;\n",
              "    }\n",
              "\n",
              "    .dataframe thead th {\n",
              "        text-align: right;\n",
              "    }\n",
              "</style>\n",
              "<table border=\"1\" class=\"dataframe\">\n",
              "  <thead>\n",
              "    <tr style=\"text-align: right;\">\n",
              "      <th></th>\n",
              "      <th>text</th>\n",
              "      <th>labels</th>\n",
              "    </tr>\n",
              "  </thead>\n",
              "  <tbody>\n",
              "    <tr>\n",
              "      <th>0</th>\n",
              "      <td>disaat semua cowok berusaha melacak perhatian ...</td>\n",
              "      <td>hs</td>\n",
              "    </tr>\n",
              "    <tr>\n",
              "      <th>1</th>\n",
              "      <td>siapa yang telat ngasih tau elu edan sarap gue...</td>\n",
              "      <td>hs</td>\n",
              "    </tr>\n",
              "    <tr>\n",
              "      <th>2</th>\n",
              "      <td>41 kadang aku berfikir kenapa aku tetap percay...</td>\n",
              "      <td>non_hs</td>\n",
              "    </tr>\n",
              "    <tr>\n",
              "      <th>3</th>\n",
              "      <td>aku itu aku ku tau matamu sipit tapi diliat da...</td>\n",
              "      <td>non_hs</td>\n",
              "    </tr>\n",
              "    <tr>\n",
              "      <th>4</th>\n",
              "      <td>kaum cebong kapir udah keliatan dongoknya dari...</td>\n",
              "      <td>hs</td>\n",
              "    </tr>\n",
              "  </tbody>\n",
              "</table>\n",
              "</div>"
            ],
            "text/plain": [
              "                                                text  labels\n",
              "0  disaat semua cowok berusaha melacak perhatian ...      hs\n",
              "1  siapa yang telat ngasih tau elu edan sarap gue...      hs\n",
              "2  41 kadang aku berfikir kenapa aku tetap percay...  non_hs\n",
              "3  aku itu aku ku tau matamu sipit tapi diliat da...  non_hs\n",
              "4  kaum cebong kapir udah keliatan dongoknya dari...      hs"
            ]
          },
          "metadata": {
            "tags": []
          },
          "execution_count": 3
        },
        {
          "output_type": "stream",
          "text": [
            "time: 1.19 s (started: 2021-05-19 19:19:06 +00:00)\n"
          ],
          "name": "stdout"
        }
      ]
    },
    {
      "cell_type": "code",
      "metadata": {
        "colab": {
          "base_uri": "https://localhost:8080/",
          "height": 65
        },
        "id": "9KM-mV0vk-RY",
        "outputId": "95367d87-a408-47b6-bc63-27f71ec2fb62"
      },
      "source": [
        "# cari yg nyebabin error, yaitu yg ada \\r\n",
        "hs_df.loc[hs_df['text'].str.find('\\r') != -1]"
      ],
      "execution_count": null,
      "outputs": [
        {
          "output_type": "execute_result",
          "data": {
            "text/html": [
              "<div>\n",
              "<style scoped>\n",
              "    .dataframe tbody tr th:only-of-type {\n",
              "        vertical-align: middle;\n",
              "    }\n",
              "\n",
              "    .dataframe tbody tr th {\n",
              "        vertical-align: top;\n",
              "    }\n",
              "\n",
              "    .dataframe thead th {\n",
              "        text-align: right;\n",
              "    }\n",
              "</style>\n",
              "<table border=\"1\" class=\"dataframe\">\n",
              "  <thead>\n",
              "    <tr style=\"text-align: right;\">\n",
              "      <th></th>\n",
              "      <th>text</th>\n",
              "      <th>labels</th>\n",
              "    </tr>\n",
              "  </thead>\n",
              "  <tbody>\n",
              "  </tbody>\n",
              "</table>\n",
              "</div>"
            ],
            "text/plain": [
              "Empty DataFrame\n",
              "Columns: [text, labels]\n",
              "Index: []"
            ]
          },
          "metadata": {
            "tags": []
          },
          "execution_count": 4
        },
        {
          "output_type": "stream",
          "text": [
            "time: 53.5 ms (started: 2021-05-19 17:53:04 +00:00)\n"
          ],
          "name": "stdout"
        }
      ]
    },
    {
      "cell_type": "code",
      "metadata": {
        "colab": {
          "base_uri": "https://localhost:8080/"
        },
        "id": "INYVX7TioYVR",
        "outputId": "96ee2ba1-e3f4-48b1-c5af-da0fda6d5e82"
      },
      "source": [
        "hs_df.groupby(['labels']).size()"
      ],
      "execution_count": null,
      "outputs": [
        {
          "output_type": "execute_result",
          "data": {
            "text/plain": [
              "labels\n",
              "hs        7301\n",
              "non_hs    5822\n",
              "dtype: int64"
            ]
          },
          "metadata": {
            "tags": []
          },
          "execution_count": 5
        },
        {
          "output_type": "stream",
          "text": [
            "time: 13.9 ms (started: 2021-05-19 17:53:13 +00:00)\n"
          ],
          "name": "stdout"
        }
      ]
    },
    {
      "cell_type": "code",
      "metadata": {
        "colab": {
          "base_uri": "https://localhost:8080/"
        },
        "id": "IBKWmpJPo3ni",
        "outputId": "0211e158-8ef7-47d1-8ab2-4d8680166131"
      },
      "source": [
        "texts = hs_df.text.to_list()\n",
        "labels = hs_df.labels.to_list()"
      ],
      "execution_count": null,
      "outputs": [
        {
          "output_type": "stream",
          "text": [
            "time: 3 ms (started: 2021-05-19 17:53:17 +00:00)\n"
          ],
          "name": "stdout"
        }
      ]
    },
    {
      "cell_type": "markdown",
      "metadata": {
        "id": "5mBLKn7pwyBR"
      },
      "source": [
        "## **Initial Ratio**"
      ]
    },
    {
      "cell_type": "code",
      "metadata": {
        "colab": {
          "base_uri": "https://localhost:8080/"
        },
        "id": "-tbyi34notDq",
        "outputId": "0192ace0-1301-4d43-fbc7-9159bb21dfc2"
      },
      "source": [
        "# Source: https://datascience.stackexchange.com/a/53161\n",
        "train_ratio = 0.7\n",
        "validation_ratio = 0.15\n",
        "test_ratio = 0.15\n",
        "\n",
        "# train is now 70% of the entire data set\n",
        "train_texts, test_texts, train_labels, test_labels = train_test_split(texts, labels, test_size=1-train_ratio, random_state=3)\n",
        "\n",
        "# test is now 15% of the initial data set\n",
        "# validation is now 15% of the initial data set\n",
        "val_texts, test_texts, val_labels, test_labels = train_test_split(test_texts, test_labels, test_size=test_ratio/(test_ratio + validation_ratio), random_state=3) "
      ],
      "execution_count": null,
      "outputs": [
        {
          "output_type": "stream",
          "text": [
            "time: 14.6 ms (started: 2021-05-11 13:30:21 +00:00)\n"
          ],
          "name": "stdout"
        }
      ]
    },
    {
      "cell_type": "code",
      "metadata": {
        "colab": {
          "base_uri": "https://localhost:8080/"
        },
        "id": "gKsKrmn4q_zi",
        "outputId": "0282b651-d542-434b-cc2a-70f81119c30c"
      },
      "source": [
        "print('Distribusi kelas pada train set'.rjust(40), ':', dict(Counter(train_labels).items()))\n",
        "print('Distribusi kelas pada validation set'.rjust(40), ':', dict(Counter(val_labels).items()))\n",
        "print('Distribusi kelas pada test set'.rjust(40), ':', dict(Counter(test_labels).items()))"
      ],
      "execution_count": null,
      "outputs": [
        {
          "output_type": "stream",
          "text": [
            "         Distribusi kelas pada train set : {'non_hs': 4106, 'hs': 5080}\n",
            "    Distribusi kelas pada validation set : {'hs': 1087, 'non_hs': 881}\n",
            "          Distribusi kelas pada test set : {'hs': 1134, 'non_hs': 835}\n",
            "time: 2.91 ms (started: 2021-05-11 13:30:23 +00:00)\n"
          ],
          "name": "stdout"
        }
      ]
    },
    {
      "cell_type": "code",
      "metadata": {
        "colab": {
          "base_uri": "https://localhost:8080/"
        },
        "id": "qRbE6-MffrN8",
        "outputId": "19a631bb-2cd5-43bc-dfa9-11f7a881178d"
      },
      "source": [
        "# save to csv\n",
        "# pd.DataFrame([train_texts, train_labels], index=['sentence1', 'label']).T.to_csv(HS_PATH + 'train.csv', index=False)\n",
        "# pd.DataFrame([val_texts, val_labels], index=['sentence1', 'label']).T.to_csv(HS_PATH + 'val.csv', index=False)\n",
        "# pd.DataFrame([test_texts, test_labels], index=['sentence1', 'label']).T.to_csv(HS_PATH + 'test.csv', index=False)"
      ],
      "execution_count": null,
      "outputs": [
        {
          "output_type": "stream",
          "text": [
            "time: 2.1 s (started: 2021-05-11 13:31:08 +00:00)\n"
          ],
          "name": "stdout"
        }
      ]
    },
    {
      "cell_type": "markdown",
      "metadata": {
        "id": "XzRczaCUw2Kr"
      },
      "source": [
        "## **Second Ratio**"
      ]
    },
    {
      "cell_type": "code",
      "metadata": {
        "colab": {
          "base_uri": "https://localhost:8080/"
        },
        "id": "7WDu7kzTw4h1",
        "outputId": "9ac28b6d-8bac-46a7-f84e-ea5686e9c2b9"
      },
      "source": [
        "# Source: https://datascience.stackexchange.com/a/53161\n",
        "train_ratio = 0.6\n",
        "validation_ratio = 0.2\n",
        "test_ratio = 0.2\n",
        "\n",
        "# train is now 60% of the entire data set\n",
        "train_texts, test_texts, train_labels, test_labels = train_test_split(texts, labels, test_size=1-train_ratio, random_state=3)\n",
        "\n",
        "# test is now 20% of the initial data set\n",
        "# validation is now 20% of the initial data set\n",
        "val_texts, test_texts, val_labels, test_labels = train_test_split(test_texts, test_labels, test_size=test_ratio/(test_ratio + validation_ratio), random_state=3) "
      ],
      "execution_count": null,
      "outputs": [
        {
          "output_type": "stream",
          "text": [
            "time: 24.6 ms (started: 2021-05-19 17:55:25 +00:00)\n"
          ],
          "name": "stdout"
        }
      ]
    },
    {
      "cell_type": "code",
      "metadata": {
        "colab": {
          "base_uri": "https://localhost:8080/"
        },
        "id": "xxAE01DHxH7Y",
        "outputId": "632eb65e-e7fc-4202-ad34-9369498338f3"
      },
      "source": [
        "print('Distribusi kelas pada train set'.rjust(40), ':', dict(Counter(train_labels).items()))\n",
        "print('Distribusi kelas pada validation set'.rjust(40), ':', dict(Counter(val_labels).items()))\n",
        "print('Distribusi kelas pada test set'.rjust(40), ':', dict(Counter(test_labels).items()))"
      ],
      "execution_count": null,
      "outputs": [
        {
          "output_type": "stream",
          "text": [
            "         Distribusi kelas pada train set : {'hs': 4363, 'non_hs': 3510}\n",
            "    Distribusi kelas pada validation set : {'hs': 1452, 'non_hs': 1173}\n",
            "          Distribusi kelas pada test set : {'hs': 1486, 'non_hs': 1139}\n",
            "time: 8.48 ms (started: 2021-05-19 17:55:27 +00:00)\n"
          ],
          "name": "stdout"
        }
      ]
    },
    {
      "cell_type": "code",
      "metadata": {
        "colab": {
          "base_uri": "https://localhost:8080/"
        },
        "id": "yD0lmp_txIFC",
        "outputId": "53e7359b-864b-43ac-d8b6-4e6ce43b36d5"
      },
      "source": [
        "# save to csv\n",
        "# pd.DataFrame([train_texts, train_labels], index=['sentence1', 'label']).T.to_csv(HS_PATH + 'train_v2.csv', index=False)\n",
        "# pd.DataFrame([val_texts, val_labels], index=['sentence1', 'label']).T.to_csv(HS_PATH + 'val_v2.csv', index=False)\n",
        "# pd.DataFrame([test_texts, test_labels], index=['sentence1', 'label']).T.to_csv(HS_PATH + 'test_v2.csv', index=False)"
      ],
      "execution_count": null,
      "outputs": [
        {
          "output_type": "stream",
          "text": [
            "time: 1.06 s (started: 2021-05-19 17:56:21 +00:00)\n"
          ],
          "name": "stdout"
        }
      ]
    },
    {
      "cell_type": "code",
      "metadata": {
        "id": "0yYTEwkFzg2H"
      },
      "source": [
        ""
      ],
      "execution_count": null,
      "outputs": []
    },
    {
      "cell_type": "markdown",
      "metadata": {
        "id": "7EFzrbB5J4cL"
      },
      "source": [
        "# **Split The Data (Data Preprocessed Partially)**\n",
        "* punctuations are not removed\n",
        "* emoji and emoticon are not translated to description\n",
        "* preprocessing is done only to remove and mask characters that are specific to tweet (RT, @username, #, link) in order to generalize the data."
      ]
    },
    {
      "cell_type": "code",
      "metadata": {
        "colab": {
          "base_uri": "https://localhost:8080/",
          "height": 213
        },
        "id": "47Q098A3J4ce",
        "outputId": "c66afe90-6965-4a76-b6f6-670cde71014a"
      },
      "source": [
        "hs_df = pd.read_csv(HS_PATH + 'hs-abusive_preprocessed_emot-emoji-intact.csv')\n",
        "hs_df.head()"
      ],
      "execution_count": null,
      "outputs": [
        {
          "output_type": "execute_result",
          "data": {
            "text/html": [
              "<div>\n",
              "<style scoped>\n",
              "    .dataframe tbody tr th:only-of-type {\n",
              "        vertical-align: middle;\n",
              "    }\n",
              "\n",
              "    .dataframe tbody tr th {\n",
              "        vertical-align: top;\n",
              "    }\n",
              "\n",
              "    .dataframe thead th {\n",
              "        text-align: right;\n",
              "    }\n",
              "</style>\n",
              "<table border=\"1\" class=\"dataframe\">\n",
              "  <thead>\n",
              "    <tr style=\"text-align: right;\">\n",
              "      <th></th>\n",
              "      <th>text</th>\n",
              "      <th>labels</th>\n",
              "    </tr>\n",
              "  </thead>\n",
              "  <tbody>\n",
              "    <tr>\n",
              "      <th>0</th>\n",
              "      <td>- disaat semua cowok berusaha melacak perhatia...</td>\n",
              "      <td>hs</td>\n",
              "    </tr>\n",
              "    <tr>\n",
              "      <th>1</th>\n",
              "      <td>siapa yang telat ngasih tau elu?edan sarap gue...</td>\n",
              "      <td>hs</td>\n",
              "    </tr>\n",
              "    <tr>\n",
              "      <th>2</th>\n",
              "      <td>41. kadang aku berfikir, kenapa aku tetap perc...</td>\n",
              "      <td>non_hs</td>\n",
              "    </tr>\n",
              "    <tr>\n",
              "      <th>3</th>\n",
              "      <td>aku itu aku ku tau matamu sipit tapi diliat da...</td>\n",
              "      <td>non_hs</td>\n",
              "    </tr>\n",
              "    <tr>\n",
              "      <th>4</th>\n",
              "      <td>kaum cebong kapir udah keliatan dongoknya dari...</td>\n",
              "      <td>hs</td>\n",
              "    </tr>\n",
              "  </tbody>\n",
              "</table>\n",
              "</div>"
            ],
            "text/plain": [
              "                                                text  labels\n",
              "0  - disaat semua cowok berusaha melacak perhatia...      hs\n",
              "1  siapa yang telat ngasih tau elu?edan sarap gue...      hs\n",
              "2  41. kadang aku berfikir, kenapa aku tetap perc...  non_hs\n",
              "3  aku itu aku ku tau matamu sipit tapi diliat da...  non_hs\n",
              "4  kaum cebong kapir udah keliatan dongoknya dari...      hs"
            ]
          },
          "metadata": {
            "tags": []
          },
          "execution_count": 3
        },
        {
          "output_type": "stream",
          "text": [
            "time: 2.59 s (started: 2021-05-19 20:02:09 +00:00)\n"
          ],
          "name": "stdout"
        }
      ]
    },
    {
      "cell_type": "code",
      "metadata": {
        "colab": {
          "base_uri": "https://localhost:8080/",
          "height": 65
        },
        "id": "rxjILEScJ4cg",
        "outputId": "ccda9c97-123f-4339-e5f6-bc170f8fd663"
      },
      "source": [
        "# cari yg nyebabin error, yaitu yg ada \\r\n",
        "hs_df.loc[hs_df['text'].str.find('\\r') != -1]"
      ],
      "execution_count": null,
      "outputs": [
        {
          "output_type": "execute_result",
          "data": {
            "text/html": [
              "<div>\n",
              "<style scoped>\n",
              "    .dataframe tbody tr th:only-of-type {\n",
              "        vertical-align: middle;\n",
              "    }\n",
              "\n",
              "    .dataframe tbody tr th {\n",
              "        vertical-align: top;\n",
              "    }\n",
              "\n",
              "    .dataframe thead th {\n",
              "        text-align: right;\n",
              "    }\n",
              "</style>\n",
              "<table border=\"1\" class=\"dataframe\">\n",
              "  <thead>\n",
              "    <tr style=\"text-align: right;\">\n",
              "      <th></th>\n",
              "      <th>text</th>\n",
              "      <th>labels</th>\n",
              "    </tr>\n",
              "  </thead>\n",
              "  <tbody>\n",
              "  </tbody>\n",
              "</table>\n",
              "</div>"
            ],
            "text/plain": [
              "Empty DataFrame\n",
              "Columns: [text, labels]\n",
              "Index: []"
            ]
          },
          "metadata": {
            "tags": []
          },
          "execution_count": 4
        },
        {
          "output_type": "stream",
          "text": [
            "time: 37.8 ms (started: 2021-05-19 20:02:15 +00:00)\n"
          ],
          "name": "stdout"
        }
      ]
    },
    {
      "cell_type": "code",
      "metadata": {
        "colab": {
          "base_uri": "https://localhost:8080/"
        },
        "id": "E4R0W085J4ch",
        "outputId": "e8bef955-2d2c-4c22-da95-6e782fc84345"
      },
      "source": [
        "hs_df.groupby(['labels']).size()"
      ],
      "execution_count": null,
      "outputs": [
        {
          "output_type": "execute_result",
          "data": {
            "text/plain": [
              "labels\n",
              "hs        7301\n",
              "non_hs    5822\n",
              "dtype: int64"
            ]
          },
          "metadata": {
            "tags": []
          },
          "execution_count": 5
        },
        {
          "output_type": "stream",
          "text": [
            "time: 9.34 ms (started: 2021-05-19 20:02:38 +00:00)\n"
          ],
          "name": "stdout"
        }
      ]
    },
    {
      "cell_type": "code",
      "metadata": {
        "colab": {
          "base_uri": "https://localhost:8080/"
        },
        "id": "_ZiMZ6_jJ4ch",
        "outputId": "24f79158-a4a2-475f-f851-d591d6e3a684"
      },
      "source": [
        "texts = hs_df.text.to_list()\n",
        "labels = hs_df.labels.to_list()"
      ],
      "execution_count": null,
      "outputs": [
        {
          "output_type": "stream",
          "text": [
            "time: 1.53 ms (started: 2021-05-19 20:02:41 +00:00)\n"
          ],
          "name": "stdout"
        }
      ]
    },
    {
      "cell_type": "markdown",
      "metadata": {
        "id": "-nuatdwWJ4ci"
      },
      "source": [
        "## **Initial Ratio**"
      ]
    },
    {
      "cell_type": "code",
      "metadata": {
        "colab": {
          "base_uri": "https://localhost:8080/"
        },
        "id": "fC5qDcBQJ4ci",
        "outputId": "77446bdd-fb25-4925-9c91-8cfd03735947"
      },
      "source": [
        "# Source: https://datascience.stackexchange.com/a/53161\n",
        "train_ratio = 0.7\n",
        "validation_ratio = 0.15\n",
        "test_ratio = 0.15\n",
        "\n",
        "# train is now 70% of the entire data set\n",
        "train_texts, test_texts, train_labels, test_labels = train_test_split(texts, labels, test_size=1-train_ratio, random_state=3)\n",
        "\n",
        "# test is now 15% of the initial data set\n",
        "# validation is now 15% of the initial data set\n",
        "val_texts, test_texts, val_labels, test_labels = train_test_split(test_texts, test_labels, test_size=test_ratio/(test_ratio + validation_ratio), random_state=3) "
      ],
      "execution_count": null,
      "outputs": [
        {
          "output_type": "stream",
          "text": [
            "time: 18.9 ms (started: 2021-05-19 20:02:48 +00:00)\n"
          ],
          "name": "stdout"
        }
      ]
    },
    {
      "cell_type": "code",
      "metadata": {
        "colab": {
          "base_uri": "https://localhost:8080/"
        },
        "id": "HBRsouS0OVEy",
        "outputId": "ac8b1b90-5146-4525-a7e0-5b5f80a79fde"
      },
      "source": [
        "print('Distribusi kelas pada train set'.rjust(40), ':', dict(Counter(train_labels).items()))\n",
        "print('Distribusi kelas pada validation set'.rjust(40), ':', dict(Counter(val_labels).items()))\n",
        "print('Distribusi kelas pada test set'.rjust(40), ':', dict(Counter(test_labels).items()))"
      ],
      "execution_count": null,
      "outputs": [
        {
          "output_type": "stream",
          "text": [
            "         Distribusi kelas pada train set : {'non_hs': 4106, 'hs': 5080}\n",
            "    Distribusi kelas pada validation set : {'hs': 1087, 'non_hs': 881}\n",
            "          Distribusi kelas pada test set : {'hs': 1134, 'non_hs': 835}\n",
            "time: 8.77 ms (started: 2021-05-19 20:02:56 +00:00)\n"
          ],
          "name": "stdout"
        }
      ]
    },
    {
      "cell_type": "code",
      "metadata": {
        "colab": {
          "base_uri": "https://localhost:8080/"
        },
        "id": "KnL5fRDdJ4cl",
        "outputId": "a58f6d96-001c-4061-bd29-811549840275"
      },
      "source": [
        "## save to csv\n",
        "# pd.DataFrame([train_texts, train_labels], index=['sentence1', 'label']).T.to_csv(HS_PATH + 'train_emo.csv', index=False)\n",
        "# pd.DataFrame([val_texts, val_labels], index=['sentence1', 'label']).T.to_csv(HS_PATH + 'val_emo.csv', index=False)\n",
        "# pd.DataFrame([test_texts, test_labels], index=['sentence1', 'label']).T.to_csv(HS_PATH + 'test_emo.csv', index=False)"
      ],
      "execution_count": null,
      "outputs": [
        {
          "output_type": "stream",
          "text": [
            "time: 976 ms (started: 2021-05-19 20:03:49 +00:00)\n"
          ],
          "name": "stdout"
        }
      ]
    },
    {
      "cell_type": "markdown",
      "metadata": {
        "id": "Re-5waPSJ4cl"
      },
      "source": [
        "## **Second Ratio**"
      ]
    },
    {
      "cell_type": "code",
      "metadata": {
        "colab": {
          "base_uri": "https://localhost:8080/"
        },
        "id": "aGrLoyHUJ4cm",
        "outputId": "1999af5d-bc23-4b97-d6eb-85f7db3f0c85"
      },
      "source": [
        "# Source: https://datascience.stackexchange.com/a/53161\n",
        "train_ratio = 0.6\n",
        "validation_ratio = 0.2\n",
        "test_ratio = 0.2\n",
        "\n",
        "# train is now 60% of the entire data set\n",
        "train_texts, test_texts, train_labels, test_labels = train_test_split(texts, labels, test_size=1-train_ratio, random_state=3)\n",
        "\n",
        "# test is now 20% of the initial data set\n",
        "# validation is now 20% of the initial data set\n",
        "val_texts, test_texts, val_labels, test_labels = train_test_split(test_texts, test_labels, test_size=test_ratio/(test_ratio + validation_ratio), random_state=3) "
      ],
      "execution_count": null,
      "outputs": [
        {
          "output_type": "stream",
          "text": [
            "time: 17.3 ms (started: 2021-05-19 20:03:55 +00:00)\n"
          ],
          "name": "stdout"
        }
      ]
    },
    {
      "cell_type": "code",
      "metadata": {
        "colab": {
          "base_uri": "https://localhost:8080/"
        },
        "id": "pMRhfe7MJ4cm",
        "outputId": "0c665ba3-1cf8-4de6-f2f4-24d7689dd772"
      },
      "source": [
        "print('Distribusi kelas pada train set'.rjust(40), ':', dict(Counter(train_labels).items()))\n",
        "print('Distribusi kelas pada validation set'.rjust(40), ':', dict(Counter(val_labels).items()))\n",
        "print('Distribusi kelas pada test set'.rjust(40), ':', dict(Counter(test_labels).items()))"
      ],
      "execution_count": null,
      "outputs": [
        {
          "output_type": "stream",
          "text": [
            "         Distribusi kelas pada train set : {'hs': 4363, 'non_hs': 3510}\n",
            "    Distribusi kelas pada validation set : {'hs': 1452, 'non_hs': 1173}\n",
            "          Distribusi kelas pada test set : {'hs': 1486, 'non_hs': 1139}\n",
            "time: 8.71 ms (started: 2021-05-19 20:03:57 +00:00)\n"
          ],
          "name": "stdout"
        }
      ]
    },
    {
      "cell_type": "code",
      "metadata": {
        "colab": {
          "base_uri": "https://localhost:8080/"
        },
        "id": "CQYoQk8vJ4cn",
        "outputId": "115b0438-196f-4f6b-f7a2-49423778b258"
      },
      "source": [
        "# # save to csv\n",
        "# pd.DataFrame([train_texts, train_labels], index=['sentence1', 'label']).T.to_csv(HS_PATH + 'train_emo_v2.csv', index=False)\n",
        "# pd.DataFrame([val_texts, val_labels], index=['sentence1', 'label']).T.to_csv(HS_PATH + 'val_emo_v2.csv', index=False)\n",
        "# pd.DataFrame([test_texts, test_labels], index=['sentence1', 'label']).T.to_csv(HS_PATH + 'test_emo_v2.csv', index=False)"
      ],
      "execution_count": null,
      "outputs": [
        {
          "output_type": "stream",
          "text": [
            "time: 1.04 s (started: 2021-05-19 20:04:17 +00:00)\n"
          ],
          "name": "stdout"
        }
      ]
    },
    {
      "cell_type": "code",
      "metadata": {
        "id": "0wb7OcYuJ4cn"
      },
      "source": [
        ""
      ],
      "execution_count": null,
      "outputs": []
    }
  ]
}