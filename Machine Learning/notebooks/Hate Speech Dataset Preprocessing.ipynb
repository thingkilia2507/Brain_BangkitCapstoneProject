{
  "nbformat": 4,
  "nbformat_minor": 0,
  "metadata": {
    "colab": {
      "name": "Hate Speech Dataset Preprocessing.ipynb",
      "provenance": [],
      "collapsed_sections": [],
      "toc_visible": true,
      "authorship_tag": "ABX9TyPaRuz3SYR7STp+M9kSD2MR",
      "include_colab_link": true
    },
    "kernelspec": {
      "name": "python3",
      "display_name": "Python 3"
    },
    "language_info": {
      "name": "python"
    }
  },
  "cells": [
    {
      "cell_type": "markdown",
      "metadata": {
        "id": "view-in-github",
        "colab_type": "text"
      },
      "source": [
        "<a href=\"https://colab.research.google.com/github/thingkilia2507/PTCJNN_BangkitCapstoneProject/blob/celine-branch/Machine%20Learning/notebooks/Hate%20Speech%20Dataset%20Preprocessing.ipynb\" target=\"_parent\"><img src=\"https://colab.research.google.com/assets/colab-badge.svg\" alt=\"Open In Colab\"/></a>"
      ]
    },
    {
      "cell_type": "markdown",
      "metadata": {
        "id": "trGOz-a6SxyU"
      },
      "source": [
        "# **Acknowledgment**\n",
        "\n",
        "```\n",
        "# This data preprocessing notebook is a part of Chrysant Celine Setyawan's bachelor thesis,\n",
        "# copied and modified accordingly from the original source: https://github.com/celine-setyawan/id-porn-tweet-detection/tree/dev.\n",
        "```\n",
        "\n",
        "\n",
        "The Indonesian hate speech dataset is obtained from https://github.com/okkyibrohim/id-multi-label-hate-speech-and-abusive-language-detection with publication:\n",
        "```\n",
        "@inproceedings{ibrohim-budi-2019-multi,\n",
        "    title = \"Multi-label Hate Speech and Abusive Language Detection in {I}ndonesian Twitter\",\n",
        "    author = \"Ibrohim, Muhammad Okky  and\n",
        "      Budi, Indra\",\n",
        "    booktitle = \"Proceedings of the Third Workshop on Abusive Language Online\",\n",
        "    month = aug,\n",
        "    year = \"2019\",\n",
        "    address = \"Florence, Italy\",\n",
        "    publisher = \"Association for Computational Linguistics\",\n",
        "    url = \"https://www.aclweb.org/anthology/W19-3506\",\n",
        "    doi = \"10.18653/v1/W19-3506\",\n",
        "    pages = \"46--57\",\n",
        "    abstract = \"Hate speech and abusive language spreading on social media need to be detected automatically to avoid conflict between citizen. Moreover, hate speech has a target, category, and level that also needs to be detected to help the authority in prioritizing which hate speech must be addressed immediately. This research discusses multi-label text classification for abusive language and hate speech detection including detecting the target, category, and level of hate speech in Indonesian Twitter using machine learning approach with Support Vector Machine (SVM), Naive Bayes (NB), and Random Forest Decision Tree (RFDT) classifier and Binary Relevance (BR), Label Power-set (LP), and Classifier Chains (CC) as the data transformation method. We used several kinds of feature extractions which are term frequency, orthography, and lexicon features. Our experiment results show that in general RFDT classifier using LP as the transformation method gives the best accuracy with fast computational time.\",\n",
        "}\n",
        "```\n",
        "\n"
      ]
    },
    {
      "cell_type": "markdown",
      "metadata": {
        "id": "vr1xB6jewKvO"
      },
      "source": [
        "# **Library**"
      ]
    },
    {
      "cell_type": "code",
      "metadata": {
        "colab": {
          "base_uri": "https://localhost:8080/"
        },
        "id": "nBHqLYHhwXws",
        "outputId": "22d9a877-308f-4707-b175-8ab0284540e2"
      },
      "source": [
        "from google.colab import drive\n",
        "drive.mount('/content/drive')\n",
        "\n",
        "PROJECT_ROOT = 'drive/My Drive/Bangkit Capstone PT CJNN/ML/'\n",
        "HS_PATH = PROJECT_ROOT + 'dataset/hate_speech/'"
      ],
      "execution_count": null,
      "outputs": [
        {
          "output_type": "stream",
          "text": [
            "Mounted at /content/drive\n"
          ],
          "name": "stdout"
        }
      ]
    },
    {
      "cell_type": "code",
      "metadata": {
        "id": "W4Fw51cjAjAv"
      },
      "source": [
        "import pandas as pd\n",
        "import pickle\n",
        "import json\n",
        "import string\n",
        "import re\n",
        "\n",
        "from ast import literal_eval\n",
        "from gspread_dataframe import set_with_dataframe"
      ],
      "execution_count": null,
      "outputs": []
    },
    {
      "cell_type": "markdown",
      "metadata": {
        "id": "d3__pjD09EjV"
      },
      "source": [
        "# **Load Data**"
      ]
    },
    {
      "cell_type": "code",
      "metadata": {
        "colab": {
          "base_uri": "https://localhost:8080/",
          "height": 414
        },
        "id": "Cqj8B5C1kcuG",
        "outputId": "acb82266-ce9b-439f-f846-2d224c304445"
      },
      "source": [
        "hs_df = pd.read_csv(HS_PATH + 'hs-abusive dataset_okkyIbrohim.csv', encoding='ISO-8859-1')\n",
        "hs_df.head()"
      ],
      "execution_count": null,
      "outputs": [
        {
          "output_type": "execute_result",
          "data": {
            "text/html": [
              "<div>\n",
              "<style scoped>\n",
              "    .dataframe tbody tr th:only-of-type {\n",
              "        vertical-align: middle;\n",
              "    }\n",
              "\n",
              "    .dataframe tbody tr th {\n",
              "        vertical-align: top;\n",
              "    }\n",
              "\n",
              "    .dataframe thead th {\n",
              "        text-align: right;\n",
              "    }\n",
              "</style>\n",
              "<table border=\"1\" class=\"dataframe\">\n",
              "  <thead>\n",
              "    <tr style=\"text-align: right;\">\n",
              "      <th></th>\n",
              "      <th>Tweet</th>\n",
              "      <th>HS</th>\n",
              "      <th>Abusive</th>\n",
              "      <th>HS_Individual</th>\n",
              "      <th>HS_Group</th>\n",
              "      <th>HS_Religion</th>\n",
              "      <th>HS_Race</th>\n",
              "      <th>HS_Physical</th>\n",
              "      <th>HS_Gender</th>\n",
              "      <th>HS_Other</th>\n",
              "      <th>HS_Weak</th>\n",
              "      <th>HS_Moderate</th>\n",
              "      <th>HS_Strong</th>\n",
              "    </tr>\n",
              "  </thead>\n",
              "  <tbody>\n",
              "    <tr>\n",
              "      <th>0</th>\n",
              "      <td>- disaat semua cowok berusaha melacak perhatia...</td>\n",
              "      <td>1</td>\n",
              "      <td>1</td>\n",
              "      <td>1</td>\n",
              "      <td>0</td>\n",
              "      <td>0</td>\n",
              "      <td>0</td>\n",
              "      <td>0</td>\n",
              "      <td>0</td>\n",
              "      <td>1</td>\n",
              "      <td>1</td>\n",
              "      <td>0</td>\n",
              "      <td>0</td>\n",
              "    </tr>\n",
              "    <tr>\n",
              "      <th>1</th>\n",
              "      <td>RT USER: USER siapa yang telat ngasih tau elu?...</td>\n",
              "      <td>0</td>\n",
              "      <td>1</td>\n",
              "      <td>0</td>\n",
              "      <td>0</td>\n",
              "      <td>0</td>\n",
              "      <td>0</td>\n",
              "      <td>0</td>\n",
              "      <td>0</td>\n",
              "      <td>0</td>\n",
              "      <td>0</td>\n",
              "      <td>0</td>\n",
              "      <td>0</td>\n",
              "    </tr>\n",
              "    <tr>\n",
              "      <th>2</th>\n",
              "      <td>41. Kadang aku berfikir, kenapa aku tetap perc...</td>\n",
              "      <td>0</td>\n",
              "      <td>0</td>\n",
              "      <td>0</td>\n",
              "      <td>0</td>\n",
              "      <td>0</td>\n",
              "      <td>0</td>\n",
              "      <td>0</td>\n",
              "      <td>0</td>\n",
              "      <td>0</td>\n",
              "      <td>0</td>\n",
              "      <td>0</td>\n",
              "      <td>0</td>\n",
              "    </tr>\n",
              "    <tr>\n",
              "      <th>3</th>\n",
              "      <td>USER USER AKU ITU AKU\\n\\nKU TAU MATAMU SIPIT T...</td>\n",
              "      <td>0</td>\n",
              "      <td>0</td>\n",
              "      <td>0</td>\n",
              "      <td>0</td>\n",
              "      <td>0</td>\n",
              "      <td>0</td>\n",
              "      <td>0</td>\n",
              "      <td>0</td>\n",
              "      <td>0</td>\n",
              "      <td>0</td>\n",
              "      <td>0</td>\n",
              "      <td>0</td>\n",
              "    </tr>\n",
              "    <tr>\n",
              "      <th>4</th>\n",
              "      <td>USER USER Kaum cebong kapir udah keliatan dong...</td>\n",
              "      <td>1</td>\n",
              "      <td>1</td>\n",
              "      <td>0</td>\n",
              "      <td>1</td>\n",
              "      <td>1</td>\n",
              "      <td>0</td>\n",
              "      <td>0</td>\n",
              "      <td>0</td>\n",
              "      <td>0</td>\n",
              "      <td>0</td>\n",
              "      <td>1</td>\n",
              "      <td>0</td>\n",
              "    </tr>\n",
              "  </tbody>\n",
              "</table>\n",
              "</div>"
            ],
            "text/plain": [
              "                                               Tweet  ...  HS_Strong\n",
              "0  - disaat semua cowok berusaha melacak perhatia...  ...          0\n",
              "1  RT USER: USER siapa yang telat ngasih tau elu?...  ...          0\n",
              "2  41. Kadang aku berfikir, kenapa aku tetap perc...  ...          0\n",
              "3  USER USER AKU ITU AKU\\n\\nKU TAU MATAMU SIPIT T...  ...          0\n",
              "4  USER USER Kaum cebong kapir udah keliatan dong...  ...          0\n",
              "\n",
              "[5 rows x 13 columns]"
            ]
          },
          "metadata": {
            "tags": []
          },
          "execution_count": 61
        }
      ]
    },
    {
      "cell_type": "code",
      "metadata": {
        "id": "GGeq3ulUXIa1"
      },
      "source": [
        "hs_df['labels'] = None\n",
        "hs_df.loc[hs_df.sum(axis=1, skipna=True) == 0, 'labels'] = 'non_hs'\n",
        "hs_df.loc[hs_df.sum(axis=1, skipna=True) >= 1, 'labels'] = 'hs'"
      ],
      "execution_count": null,
      "outputs": []
    },
    {
      "cell_type": "code",
      "metadata": {
        "colab": {
          "base_uri": "https://localhost:8080/",
          "height": 195
        },
        "id": "hoBVSMVEX3HG",
        "outputId": "bd62efd0-18a7-4272-9eb4-a60b9fb7c134"
      },
      "source": [
        "# membuat list nama kolom kecuali 'Tweet' untuk di drop\n",
        "cols = list(hs_df.columns)\n",
        "cols.remove('Tweet')\n",
        "cols.remove('labels')\n",
        "\n",
        "hs_df.drop(cols, axis=1, inplace=True) \n",
        "hs_df.rename(columns={'Tweet': 'text_ori'}, inplace=True)\n",
        "hs_df.head()"
      ],
      "execution_count": null,
      "outputs": [
        {
          "output_type": "execute_result",
          "data": {
            "text/html": [
              "<div>\n",
              "<style scoped>\n",
              "    .dataframe tbody tr th:only-of-type {\n",
              "        vertical-align: middle;\n",
              "    }\n",
              "\n",
              "    .dataframe tbody tr th {\n",
              "        vertical-align: top;\n",
              "    }\n",
              "\n",
              "    .dataframe thead th {\n",
              "        text-align: right;\n",
              "    }\n",
              "</style>\n",
              "<table border=\"1\" class=\"dataframe\">\n",
              "  <thead>\n",
              "    <tr style=\"text-align: right;\">\n",
              "      <th></th>\n",
              "      <th>text_ori</th>\n",
              "      <th>labels</th>\n",
              "    </tr>\n",
              "  </thead>\n",
              "  <tbody>\n",
              "    <tr>\n",
              "      <th>0</th>\n",
              "      <td>- disaat semua cowok berusaha melacak perhatia...</td>\n",
              "      <td>hs</td>\n",
              "    </tr>\n",
              "    <tr>\n",
              "      <th>1</th>\n",
              "      <td>RT USER: USER siapa yang telat ngasih tau elu?...</td>\n",
              "      <td>hs</td>\n",
              "    </tr>\n",
              "    <tr>\n",
              "      <th>2</th>\n",
              "      <td>41. Kadang aku berfikir, kenapa aku tetap perc...</td>\n",
              "      <td>non_hs</td>\n",
              "    </tr>\n",
              "    <tr>\n",
              "      <th>3</th>\n",
              "      <td>USER USER AKU ITU AKU\\n\\nKU TAU MATAMU SIPIT T...</td>\n",
              "      <td>non_hs</td>\n",
              "    </tr>\n",
              "    <tr>\n",
              "      <th>4</th>\n",
              "      <td>USER USER Kaum cebong kapir udah keliatan dong...</td>\n",
              "      <td>hs</td>\n",
              "    </tr>\n",
              "  </tbody>\n",
              "</table>\n",
              "</div>"
            ],
            "text/plain": [
              "                                            text_ori  labels\n",
              "0  - disaat semua cowok berusaha melacak perhatia...      hs\n",
              "1  RT USER: USER siapa yang telat ngasih tau elu?...      hs\n",
              "2  41. Kadang aku berfikir, kenapa aku tetap perc...  non_hs\n",
              "3  USER USER AKU ITU AKU\\n\\nKU TAU MATAMU SIPIT T...  non_hs\n",
              "4  USER USER Kaum cebong kapir udah keliatan dong...      hs"
            ]
          },
          "metadata": {
            "tags": []
          },
          "execution_count": 63
        }
      ]
    },
    {
      "cell_type": "code",
      "metadata": {
        "colab": {
          "base_uri": "https://localhost:8080/"
        },
        "id": "FcQcyJzS22Pb",
        "outputId": "c7dd8bdd-3519-4c5b-ce92-79a756adf547"
      },
      "source": [
        "hs_df.groupby(['labels']).size()"
      ],
      "execution_count": null,
      "outputs": [
        {
          "output_type": "execute_result",
          "data": {
            "text/plain": [
              "labels\n",
              "hs        7309\n",
              "non_hs    5860\n",
              "dtype: int64"
            ]
          },
          "metadata": {
            "tags": []
          },
          "execution_count": 64
        }
      ]
    },
    {
      "cell_type": "markdown",
      "metadata": {
        "id": "3tFbG0NjcOr6"
      },
      "source": [
        "# **Data Cleaning pt 1**\n",
        "* Remove RT, \\n, username USER\n",
        "* Mask 'link' into `<link>`\n",
        "* Replace HTML character symbols, such as `&gt; &lt;`\n",
        "\n",
        "Data cleaning p1 must be done before processing emoji and emoticon so that `://` in `https://` is not treated as emoticon."
      ]
    },
    {
      "cell_type": "code",
      "metadata": {
        "colab": {
          "base_uri": "https://localhost:8080/",
          "height": 402
        },
        "id": "AM5ncYPtbqMf",
        "outputId": "0f4f779b-0bb3-4253-aa94-f15e571a2988"
      },
      "source": [
        "def clean_p1(tweet):\n",
        "    rgx = r'@[A-Za-z0-9_]*:?|RT|\\n|\\\\n|USER:?'                                                   # @username: | RT | \\n | \\\\n | USER:\n",
        "    rgx_url = r'http[s]?[://]?(?:[a-z]|[0-9]|[$-_@.&+]|[!*\\(\\),]|(?:%[0-9a-f][0-9a-f]))*|URL'    # including truncated 'https://'\n",
        "    rgx_simbol_dan = r'&amp;'\n",
        "    rgx_lt = r'&lt;'\n",
        "    rgx_gt = r'&gt;'\n",
        "\n",
        "    cleansed = re.sub(rgx, ' ', tweet)\n",
        "    cleansed = re.sub(rgx_url, '<links>', cleansed)\n",
        "    cleansed = re.sub(rgx_simbol_dan, 'dan', cleansed)\n",
        "    cleansed = re.sub(rgx_lt, '<', cleansed)\n",
        "    cleansed = re.sub(rgx_gt, '>', cleansed)\n",
        "    return cleansed\n",
        "\n",
        "hs_df['text_cleansed_p1'] = hs_df['text_ori'].apply(lambda row: clean_p1(row))\n",
        "display(hs_df)"
      ],
      "execution_count": null,
      "outputs": [
        {
          "output_type": "display_data",
          "data": {
            "text/html": [
              "<div>\n",
              "<style scoped>\n",
              "    .dataframe tbody tr th:only-of-type {\n",
              "        vertical-align: middle;\n",
              "    }\n",
              "\n",
              "    .dataframe tbody tr th {\n",
              "        vertical-align: top;\n",
              "    }\n",
              "\n",
              "    .dataframe thead th {\n",
              "        text-align: right;\n",
              "    }\n",
              "</style>\n",
              "<table border=\"1\" class=\"dataframe\">\n",
              "  <thead>\n",
              "    <tr style=\"text-align: right;\">\n",
              "      <th></th>\n",
              "      <th>text_ori</th>\n",
              "      <th>labels</th>\n",
              "      <th>text_cleansed_p1</th>\n",
              "    </tr>\n",
              "  </thead>\n",
              "  <tbody>\n",
              "    <tr>\n",
              "      <th>0</th>\n",
              "      <td>- disaat semua cowok berusaha melacak perhatia...</td>\n",
              "      <td>hs</td>\n",
              "      <td>- disaat semua cowok berusaha melacak perhatia...</td>\n",
              "    </tr>\n",
              "    <tr>\n",
              "      <th>1</th>\n",
              "      <td>RT USER: USER siapa yang telat ngasih tau elu?...</td>\n",
              "      <td>hs</td>\n",
              "      <td>siapa yang telat ngasih tau elu?edan sar...</td>\n",
              "    </tr>\n",
              "    <tr>\n",
              "      <th>2</th>\n",
              "      <td>41. Kadang aku berfikir, kenapa aku tetap perc...</td>\n",
              "      <td>non_hs</td>\n",
              "      <td>41. Kadang aku berfikir, kenapa aku tetap perc...</td>\n",
              "    </tr>\n",
              "    <tr>\n",
              "      <th>3</th>\n",
              "      <td>USER USER AKU ITU AKU\\n\\nKU TAU MATAMU SIPIT T...</td>\n",
              "      <td>non_hs</td>\n",
              "      <td>AKU ITU AKU  KU TAU MATAMU SIPIT TAPI DILI...</td>\n",
              "    </tr>\n",
              "    <tr>\n",
              "      <th>4</th>\n",
              "      <td>USER USER Kaum cebong kapir udah keliatan dong...</td>\n",
              "      <td>hs</td>\n",
              "      <td>Kaum cebong kapir udah keliatan dongoknya ...</td>\n",
              "    </tr>\n",
              "    <tr>\n",
              "      <th>...</th>\n",
              "      <td>...</td>\n",
              "      <td>...</td>\n",
              "      <td>...</td>\n",
              "    </tr>\n",
              "    <tr>\n",
              "      <th>13164</th>\n",
              "      <td>USER jangan asal ngomong ndasmu. congor lu yg ...</td>\n",
              "      <td>hs</td>\n",
              "      <td>jangan asal ngomong ndasmu. congor lu yg sek...</td>\n",
              "    </tr>\n",
              "    <tr>\n",
              "      <th>13165</th>\n",
              "      <td>USER Kasur mana enak kunyuk'</td>\n",
              "      <td>hs</td>\n",
              "      <td>Kasur mana enak kunyuk'</td>\n",
              "    </tr>\n",
              "    <tr>\n",
              "      <th>13166</th>\n",
              "      <td>USER Hati hati bisu :( .g\\n\\nlagi bosan huft \\...</td>\n",
              "      <td>non_hs</td>\n",
              "      <td>Hati hati bisu :( .g  lagi bosan huft \\xf0\\x...</td>\n",
              "    </tr>\n",
              "    <tr>\n",
              "      <th>13167</th>\n",
              "      <td>USER USER USER USER Bom yang real mudah terdet...</td>\n",
              "      <td>non_hs</td>\n",
              "      <td>Bom yang real mudah terdeteksi bom yan...</td>\n",
              "    </tr>\n",
              "    <tr>\n",
              "      <th>13168</th>\n",
              "      <td>USER Mana situ ngasih(\": itu cuma foto ya kuti...</td>\n",
              "      <td>hs</td>\n",
              "      <td>Mana situ ngasih(\": itu cuma foto ya kutil o...</td>\n",
              "    </tr>\n",
              "  </tbody>\n",
              "</table>\n",
              "<p>13169 rows × 3 columns</p>\n",
              "</div>"
            ],
            "text/plain": [
              "                                                text_ori  ...                                   text_cleansed_p1\n",
              "0      - disaat semua cowok berusaha melacak perhatia...  ...  - disaat semua cowok berusaha melacak perhatia...\n",
              "1      RT USER: USER siapa yang telat ngasih tau elu?...  ...        siapa yang telat ngasih tau elu?edan sar...\n",
              "2      41. Kadang aku berfikir, kenapa aku tetap perc...  ...  41. Kadang aku berfikir, kenapa aku tetap perc...\n",
              "3      USER USER AKU ITU AKU\\n\\nKU TAU MATAMU SIPIT T...  ...      AKU ITU AKU  KU TAU MATAMU SIPIT TAPI DILI...\n",
              "4      USER USER Kaum cebong kapir udah keliatan dong...  ...      Kaum cebong kapir udah keliatan dongoknya ...\n",
              "...                                                  ...  ...                                                ...\n",
              "13164  USER jangan asal ngomong ndasmu. congor lu yg ...  ...    jangan asal ngomong ndasmu. congor lu yg sek...\n",
              "13165                       USER Kasur mana enak kunyuk'  ...                            Kasur mana enak kunyuk'\n",
              "13166  USER Hati hati bisu :( .g\\n\\nlagi bosan huft \\...  ...    Hati hati bisu :( .g  lagi bosan huft \\xf0\\x...\n",
              "13167  USER USER USER USER Bom yang real mudah terdet...  ...          Bom yang real mudah terdeteksi bom yan...\n",
              "13168  USER Mana situ ngasih(\": itu cuma foto ya kuti...  ...    Mana situ ngasih(\": itu cuma foto ya kutil o...\n",
              "\n",
              "[13169 rows x 3 columns]"
            ]
          },
          "metadata": {
            "tags": []
          }
        }
      ]
    },
    {
      "cell_type": "markdown",
      "metadata": {
        "id": "IIiJhL71f7QA"
      },
      "source": [
        "# **Emoticon and Emoji**\n"
      ]
    },
    {
      "cell_type": "markdown",
      "metadata": {
        "id": "0iAkk5TTgH2k"
      },
      "source": [
        "## **Decode byte (convert from bytes to emoji symbols)**"
      ]
    },
    {
      "cell_type": "code",
      "metadata": {
        "id": "uANFBOcLkDv7"
      },
      "source": [
        "def byte_to_emoji(tweet):\n",
        "    try:\n",
        "      str_emoji = literal_eval('b\"\"\"' + tweet + '\"\"\"').decode('utf-8')\n",
        "    except:\n",
        "      str_emoji = tweet\n",
        "\n",
        "    return str_emoji"
      ],
      "execution_count": null,
      "outputs": []
    },
    {
      "cell_type": "code",
      "metadata": {
        "id": "raTkeQBdQQDq"
      },
      "source": [
        "tweets_decoded_emoji = [byte_to_emoji(row) for row in hs_df['text_cleansed_p1']]"
      ],
      "execution_count": null,
      "outputs": []
    },
    {
      "cell_type": "code",
      "metadata": {
        "colab": {
          "base_uri": "https://localhost:8080/"
        },
        "id": "MKr34M4b17TR",
        "outputId": "2a70233f-6bdb-455d-8410-3f1b50746277"
      },
      "source": [
        "print('\\033[1mBefore:\\033[0m')\n",
        "print(hs_df['text_cleansed_p1'][65:66].to_list())\n",
        "\n",
        "print('\\n\\033[1mAfter:\\033[0m')\n",
        "print(tweets_decoded_emoji[65:66])"
      ],
      "execution_count": null,
      "outputs": [
        {
          "output_type": "stream",
          "text": [
            "\u001b[1mBefore:\u001b[0m\n",
            "['        \\\\xf0\\\\x9f\\\\x8e\\\\xb6 la la la...hm hmm \\\\xf0\\\\x9f\\\\x8e\\\\xa7 \"Semua diam ,semua bisu\" \"Kita coba tanya sama rumput yg bergoyang\"  \\\\xe2\\\\x99\\\\xab\\\\xe2\\\\x99\\\\xab\\\\xe2\\\\x99\\\\xab\\\\xe2\\\\x99\\\\xaa\\\\xe2\\\\x99\\\\xaa\\\\xe2\\\\x99\\\\xaa\\'']\n",
            "\n",
            "\u001b[1mAfter:\u001b[0m\n",
            "['        🎶 la la la...hm hmm 🎧 \"Semua diam ,semua bisu\" \"Kita coba tanya sama rumput yg bergoyang\"  ♫♫♫♪♪♪\\'']\n"
          ],
          "name": "stdout"
        }
      ]
    },
    {
      "cell_type": "markdown",
      "metadata": {
        "id": "r-_HbhuIl78q"
      },
      "source": [
        "## **Emoticon**\n",
        "\n",
        "The EMOTICONS_ID dictionary (Indonesian emoticon description) is a part of Chrysant Celine Setyawan's ongoing bachelor thesis, so can't be published now."
      ]
    },
    {
      "cell_type": "code",
      "metadata": {
        "id": "12KQFoRUL_cu"
      },
      "source": [
        "f = open('EMOTICONS_ID.json')\n",
        "EMOTICONS_ID = json.load(f)\n",
        "f.close()"
      ],
      "execution_count": null,
      "outputs": []
    },
    {
      "cell_type": "code",
      "metadata": {
        "id": "BDQ-GKW8jG2I"
      },
      "source": [
        "def emot_to_desc(tweet):\n",
        "    # Regex punctuation nya diperoleh dari `string.punctuation` dan ditambahkan `“”…`\n",
        "    rgx_repeated_punct = re.compile(r'''([!\"#$%&'()*+,-./:;<=>?@[\\]^_`“”{|}~…])\\1+''', re.IGNORECASE)\n",
        "    tweet = re.sub(rgx_repeated_punct, r'\\1', tweet)                                # remove repeated punctuation, e.g. :---))))))))\n",
        "\n",
        "    for emot in EMOTICONS_ID:\n",
        "        tweet = re.sub('(' + emot + ')', ' '.join(EMOTICONS_ID[emot].replace(',', '').split()), tweet)\n",
        "    \n",
        "    return tweet"
      ],
      "execution_count": null,
      "outputs": []
    },
    {
      "cell_type": "code",
      "metadata": {
        "id": "BfpKZNZkQUNq"
      },
      "source": [
        "tweets_emot_desc = [emot_to_desc(tweet) for tweet in tweets_decoded_emoji]"
      ],
      "execution_count": null,
      "outputs": []
    },
    {
      "cell_type": "code",
      "metadata": {
        "colab": {
          "base_uri": "https://localhost:8080/"
        },
        "id": "TwGUuG81DNqg",
        "outputId": "9f5dc4af-4166-49b4-b88b-233dd08f8f2b"
      },
      "source": [
        "print('\\033[1mBefore:\\033[0m')\n",
        "print(tweets_decoded_emoji[91:92])\n",
        "\n",
        "print('\\n\\033[1mAfter:\\033[0m')\n",
        "print(tweets_emot_desc[91:92])"
      ],
      "execution_count": null,
      "outputs": [
        {
          "output_type": "stream",
          "text": [
            "\u001b[1mBefore:\u001b[0m\n",
            "['Kamu transgender atau gmn anjing :( <links>']\n",
            "\n",
            "\u001b[1mAfter:\u001b[0m\n",
            "['Kamu transgender atau gmn anjing sedih atau cemberut <links>']\n"
          ],
          "name": "stdout"
        }
      ]
    },
    {
      "cell_type": "markdown",
      "metadata": {
        "id": "klHrDCBvmfsL"
      },
      "source": [
        "## **Emoji**\n",
        "\n",
        "The EMOJI_ID dictionary (Indonesian emoji description) is a part of Chrysant Celine Setyawan's ongoing bachelor thesis, so can't be published now."
      ]
    },
    {
      "cell_type": "code",
      "metadata": {
        "id": "DRyWYtJWlZaR"
      },
      "source": [
        "# Open the file\n",
        "f = open('EMOJI_ID.json')\n",
        "EMOJI_ID = json.load(f)\n",
        "f.close()"
      ],
      "execution_count": null,
      "outputs": []
    },
    {
      "cell_type": "code",
      "metadata": {
        "id": "U8wLqWwmZmJx"
      },
      "source": [
        "# Use code from https://github.com/carpedm20/emoji/blob/master/emoji/core.py and modified accordingly.\n",
        "\n",
        "'''\n",
        "  Returns compiled regular expression that matches emojis defined in\n",
        "  ``EMOJI_ID``. The regular expression is only compiled once.\n",
        "'''\n",
        "def get_emoji_regexp():\n",
        "    EMOJI_UNICODE = EMOJI_ID\n",
        "    \n",
        "    # Sort emojis by length to make sure multi-character emojis are matched first\n",
        "    emojis = sorted(EMOJI_UNICODE.keys(), key=len, reverse=True)\n",
        "\n",
        "    # Escape Unicode string\n",
        "    pattern = u'(' + u'|'.join(re.escape(u) for u in emojis) + u')'\n",
        "\n",
        "    # combine a regular expression pattern into pattern objects, which can be used for pattern matching\n",
        "    _EMOJI_REGEXP = re.compile(pattern)\n",
        "\n",
        "    return _EMOJI_REGEXP\n",
        "\n",
        "'''\n",
        "  Returns emoji that has been replaced by its decriptions in Bahasa Indonesia\n",
        "'''\n",
        "_EMOJI_REGEXP = get_emoji_regexp()\n",
        "_DEFAULT_DELIMITER = ':'\n",
        "\n",
        "def emoji_to_desc(string, delimiters=(_DEFAULT_DELIMITER, _DEFAULT_DELIMITER), codes_dict=EMOJI_ID):\n",
        "    def replace(match):\n",
        "        val = codes_dict.get(match.group(0), match.group(0))\n",
        "        return delimiters[0] + val[1:-1] + delimiters[1]\n",
        "\n",
        "    demojized = _EMOJI_REGEXP.sub(replace, string)\n",
        "    return re.sub(u'\\ufe0f', '', demojized)"
      ],
      "execution_count": null,
      "outputs": []
    },
    {
      "cell_type": "code",
      "metadata": {
        "colab": {
          "base_uri": "https://localhost:8080/"
        },
        "id": "gl6oLPVYGrMY",
        "outputId": "869641a1-b230-4668-efc1-be2bcb6f977f"
      },
      "source": [
        "tweets_emoji_desc = [emoji_to_desc(tweet) for tweet in tweets_emot_desc]\n",
        "tweets_emoji_desc[65:66]"
      ],
      "execution_count": null,
      "outputs": [
        {
          "output_type": "execute_result",
          "data": {
            "text/plain": [
              "['        :not-not musik: la la la.hm hmm :headphone: \"Semua diam ,semua bisu\" \"Kita coba tanya sama rumput yg bergoyang\"  ♫♫♫♪♪♪\\'']"
            ]
          },
          "metadata": {
            "tags": []
          },
          "execution_count": 74
        }
      ]
    },
    {
      "cell_type": "code",
      "metadata": {
        "colab": {
          "base_uri": "https://localhost:8080/",
          "height": 435
        },
        "id": "e59PUgKsjqga",
        "outputId": "7af1115c-06a2-4d90-dee3-da18e199f808"
      },
      "source": [
        "hs_df['text_emot_emoji_desc'] = tweets_emoji_desc\n",
        "display(hs_df)"
      ],
      "execution_count": null,
      "outputs": [
        {
          "output_type": "display_data",
          "data": {
            "text/html": [
              "<div>\n",
              "<style scoped>\n",
              "    .dataframe tbody tr th:only-of-type {\n",
              "        vertical-align: middle;\n",
              "    }\n",
              "\n",
              "    .dataframe tbody tr th {\n",
              "        vertical-align: top;\n",
              "    }\n",
              "\n",
              "    .dataframe thead th {\n",
              "        text-align: right;\n",
              "    }\n",
              "</style>\n",
              "<table border=\"1\" class=\"dataframe\">\n",
              "  <thead>\n",
              "    <tr style=\"text-align: right;\">\n",
              "      <th></th>\n",
              "      <th>text_ori</th>\n",
              "      <th>labels</th>\n",
              "      <th>text_cleansed_p1</th>\n",
              "      <th>text_emot_emoji_desc</th>\n",
              "    </tr>\n",
              "  </thead>\n",
              "  <tbody>\n",
              "    <tr>\n",
              "      <th>0</th>\n",
              "      <td>- disaat semua cowok berusaha melacak perhatia...</td>\n",
              "      <td>hs</td>\n",
              "      <td>- disaat semua cowok berusaha melacak perhatia...</td>\n",
              "      <td>- disaat semua cowok berusaha melacak perhatia...</td>\n",
              "    </tr>\n",
              "    <tr>\n",
              "      <th>1</th>\n",
              "      <td>RT USER: USER siapa yang telat ngasih tau elu?...</td>\n",
              "      <td>hs</td>\n",
              "      <td>siapa yang telat ngasih tau elu?edan sar...</td>\n",
              "      <td>siapa yang telat ngasih tau elu?edan sar...</td>\n",
              "    </tr>\n",
              "    <tr>\n",
              "      <th>2</th>\n",
              "      <td>41. Kadang aku berfikir, kenapa aku tetap perc...</td>\n",
              "      <td>non_hs</td>\n",
              "      <td>41. Kadang aku berfikir, kenapa aku tetap perc...</td>\n",
              "      <td>41. Kadang aku berfikir, kenapa aku tetap perc...</td>\n",
              "    </tr>\n",
              "    <tr>\n",
              "      <th>3</th>\n",
              "      <td>USER USER AKU ITU AKU\\n\\nKU TAU MATAMU SIPIT T...</td>\n",
              "      <td>non_hs</td>\n",
              "      <td>AKU ITU AKU  KU TAU MATAMU SIPIT TAPI DILI...</td>\n",
              "      <td>AKU ITU AKU  KU TAU MATAMU SIPIT TAPI DILI...</td>\n",
              "    </tr>\n",
              "    <tr>\n",
              "      <th>4</th>\n",
              "      <td>USER USER Kaum cebong kapir udah keliatan dong...</td>\n",
              "      <td>hs</td>\n",
              "      <td>Kaum cebong kapir udah keliatan dongoknya ...</td>\n",
              "      <td>Kaum cebong kapir udah keliatan dongoknya ...</td>\n",
              "    </tr>\n",
              "    <tr>\n",
              "      <th>...</th>\n",
              "      <td>...</td>\n",
              "      <td>...</td>\n",
              "      <td>...</td>\n",
              "      <td>...</td>\n",
              "    </tr>\n",
              "    <tr>\n",
              "      <th>13164</th>\n",
              "      <td>USER jangan asal ngomong ndasmu. congor lu yg ...</td>\n",
              "      <td>hs</td>\n",
              "      <td>jangan asal ngomong ndasmu. congor lu yg sek...</td>\n",
              "      <td>jangan asal ngomong ndasmu. congor lu yg sek...</td>\n",
              "    </tr>\n",
              "    <tr>\n",
              "      <th>13165</th>\n",
              "      <td>USER Kasur mana enak kunyuk'</td>\n",
              "      <td>hs</td>\n",
              "      <td>Kasur mana enak kunyuk'</td>\n",
              "      <td>Kasur mana enak kunyuk'</td>\n",
              "    </tr>\n",
              "    <tr>\n",
              "      <th>13166</th>\n",
              "      <td>USER Hati hati bisu :( .g\\n\\nlagi bosan huft \\...</td>\n",
              "      <td>non_hs</td>\n",
              "      <td>Hati hati bisu :( .g  lagi bosan huft \\xf0\\x...</td>\n",
              "      <td>Hati hati bisu sedih atau cemberut .g  lagi ...</td>\n",
              "    </tr>\n",
              "    <tr>\n",
              "      <th>13167</th>\n",
              "      <td>USER USER USER USER Bom yang real mudah terdet...</td>\n",
              "      <td>non_hs</td>\n",
              "      <td>Bom yang real mudah terdeteksi bom yan...</td>\n",
              "      <td>Bom yang real mudah terdeteksi bom yan...</td>\n",
              "    </tr>\n",
              "    <tr>\n",
              "      <th>13168</th>\n",
              "      <td>USER Mana situ ngasih(\": itu cuma foto ya kuti...</td>\n",
              "      <td>hs</td>\n",
              "      <td>Mana situ ngasih(\": itu cuma foto ya kutil o...</td>\n",
              "      <td>Mana situ ngasih(\": itu cuma foto ya kutil o...</td>\n",
              "    </tr>\n",
              "  </tbody>\n",
              "</table>\n",
              "<p>13169 rows × 4 columns</p>\n",
              "</div>"
            ],
            "text/plain": [
              "                                                text_ori  ...                               text_emot_emoji_desc\n",
              "0      - disaat semua cowok berusaha melacak perhatia...  ...  - disaat semua cowok berusaha melacak perhatia...\n",
              "1      RT USER: USER siapa yang telat ngasih tau elu?...  ...        siapa yang telat ngasih tau elu?edan sar...\n",
              "2      41. Kadang aku berfikir, kenapa aku tetap perc...  ...  41. Kadang aku berfikir, kenapa aku tetap perc...\n",
              "3      USER USER AKU ITU AKU\\n\\nKU TAU MATAMU SIPIT T...  ...      AKU ITU AKU  KU TAU MATAMU SIPIT TAPI DILI...\n",
              "4      USER USER Kaum cebong kapir udah keliatan dong...  ...      Kaum cebong kapir udah keliatan dongoknya ...\n",
              "...                                                  ...  ...                                                ...\n",
              "13164  USER jangan asal ngomong ndasmu. congor lu yg ...  ...    jangan asal ngomong ndasmu. congor lu yg sek...\n",
              "13165                       USER Kasur mana enak kunyuk'  ...                            Kasur mana enak kunyuk'\n",
              "13166  USER Hati hati bisu :( .g\\n\\nlagi bosan huft \\...  ...    Hati hati bisu sedih atau cemberut .g  lagi ...\n",
              "13167  USER USER USER USER Bom yang real mudah terdet...  ...          Bom yang real mudah terdeteksi bom yan...\n",
              "13168  USER Mana situ ngasih(\": itu cuma foto ya kuti...  ...    Mana situ ngasih(\": itu cuma foto ya kutil o...\n",
              "\n",
              "[13169 rows x 4 columns]"
            ]
          },
          "metadata": {
            "tags": []
          }
        }
      ]
    },
    {
      "cell_type": "markdown",
      "metadata": {
        "id": "E9Nd47RvnF2E"
      },
      "source": [
        "<a name=\"cleaning_pt2\"></a>\n",
        "# **Data Cleaning pt 2**\n",
        "* Lowercasing\n",
        "* Remove byte (b' atau b\")\n",
        "* Remove trailing spaces and multi spaces\n",
        "* Remove punctuation mark, except for `<>` that plays a role as unique token for masking `<links>`. The list of punctuation marks is obtained from `string.punctuation`, without `<>` and adding in `“”…`.\n",
        "\n",
        "These parts are done at the very end to clean everything (to ensure that any residuals from previous processes are also cleaned or handled)."
      ]
    },
    {
      "cell_type": "markdown",
      "metadata": {
        "id": "Ja3PYGNoF2an"
      },
      "source": [
        "## **Version 1**\n",
        "Just like the description above [Data Cleaning pt 2](#cleaning_pt2)."
      ]
    },
    {
      "cell_type": "code",
      "metadata": {
        "colab": {
          "base_uri": "https://localhost:8080/",
          "height": 553
        },
        "id": "Vr9BmkVohQxy",
        "outputId": "3320cf28-461d-40d0-d1f8-550abd6de267"
      },
      "source": [
        "def clean_p2(tweet):\n",
        "    punct = '''([!\"#$%&'()*+,-./:;=?@[\\]^_`“”{|}~…])\\1+'''                                 # from string.punctuation but without <>\n",
        "    rgx_multi_space = r' {2,}'\n",
        "    rgx_byte_format = r'''b'|b\"'''\n",
        "\n",
        "    tweet = tweet.lower()\n",
        "    cleansed = re.sub(rgx_byte_format, '', tweet)\n",
        "    cleansed = cleansed.translate(str.maketrans(punct, ' '*len(punct)))                    # replace punct with whitespace\n",
        "    cleansed = re.sub(rgx_multi_space, ' ', cleansed)                                      # remove multiple spaces\n",
        "    cleansed = cleansed.strip()                                                            # remove trailing spaces\n",
        "    return cleansed\n",
        "\n",
        "hs_df['text_cleansed_p2'] = hs_df['text_emot_emoji_desc'].apply(lambda row: clean_p2(row))\n",
        "display(hs_df)"
      ],
      "execution_count": null,
      "outputs": [
        {
          "output_type": "display_data",
          "data": {
            "text/html": [
              "<div>\n",
              "<style scoped>\n",
              "    .dataframe tbody tr th:only-of-type {\n",
              "        vertical-align: middle;\n",
              "    }\n",
              "\n",
              "    .dataframe tbody tr th {\n",
              "        vertical-align: top;\n",
              "    }\n",
              "\n",
              "    .dataframe thead th {\n",
              "        text-align: right;\n",
              "    }\n",
              "</style>\n",
              "<table border=\"1\" class=\"dataframe\">\n",
              "  <thead>\n",
              "    <tr style=\"text-align: right;\">\n",
              "      <th></th>\n",
              "      <th>text_ori</th>\n",
              "      <th>labels</th>\n",
              "      <th>text_cleansed_p1</th>\n",
              "      <th>text_emot_emoji_desc</th>\n",
              "      <th>text_cleansed_p2</th>\n",
              "    </tr>\n",
              "  </thead>\n",
              "  <tbody>\n",
              "    <tr>\n",
              "      <th>0</th>\n",
              "      <td>- disaat semua cowok berusaha melacak perhatia...</td>\n",
              "      <td>hs</td>\n",
              "      <td>- disaat semua cowok berusaha melacak perhatia...</td>\n",
              "      <td>- disaat semua cowok berusaha melacak perhatia...</td>\n",
              "      <td>disaat semua cowok berusaha melacak perhatian ...</td>\n",
              "    </tr>\n",
              "    <tr>\n",
              "      <th>1</th>\n",
              "      <td>RT USER: USER siapa yang telat ngasih tau elu?...</td>\n",
              "      <td>hs</td>\n",
              "      <td>siapa yang telat ngasih tau elu?edan sar...</td>\n",
              "      <td>siapa yang telat ngasih tau elu?edan sar...</td>\n",
              "      <td>siapa yang telat ngasih tau elu edan sarap gue...</td>\n",
              "    </tr>\n",
              "    <tr>\n",
              "      <th>2</th>\n",
              "      <td>41. Kadang aku berfikir, kenapa aku tetap perc...</td>\n",
              "      <td>non_hs</td>\n",
              "      <td>41. Kadang aku berfikir, kenapa aku tetap perc...</td>\n",
              "      <td>41. Kadang aku berfikir, kenapa aku tetap perc...</td>\n",
              "      <td>41 kadang aku berfikir kenapa aku tetap percay...</td>\n",
              "    </tr>\n",
              "    <tr>\n",
              "      <th>3</th>\n",
              "      <td>USER USER AKU ITU AKU\\n\\nKU TAU MATAMU SIPIT T...</td>\n",
              "      <td>non_hs</td>\n",
              "      <td>AKU ITU AKU  KU TAU MATAMU SIPIT TAPI DILI...</td>\n",
              "      <td>AKU ITU AKU  KU TAU MATAMU SIPIT TAPI DILI...</td>\n",
              "      <td>aku itu aku ku tau matamu sipit tapi diliat da...</td>\n",
              "    </tr>\n",
              "    <tr>\n",
              "      <th>4</th>\n",
              "      <td>USER USER Kaum cebong kapir udah keliatan dong...</td>\n",
              "      <td>hs</td>\n",
              "      <td>Kaum cebong kapir udah keliatan dongoknya ...</td>\n",
              "      <td>Kaum cebong kapir udah keliatan dongoknya ...</td>\n",
              "      <td>kaum cebong kapir udah keliatan dongoknya dari...</td>\n",
              "    </tr>\n",
              "    <tr>\n",
              "      <th>...</th>\n",
              "      <td>...</td>\n",
              "      <td>...</td>\n",
              "      <td>...</td>\n",
              "      <td>...</td>\n",
              "      <td>...</td>\n",
              "    </tr>\n",
              "    <tr>\n",
              "      <th>13164</th>\n",
              "      <td>USER jangan asal ngomong ndasmu. congor lu yg ...</td>\n",
              "      <td>hs</td>\n",
              "      <td>jangan asal ngomong ndasmu. congor lu yg sek...</td>\n",
              "      <td>jangan asal ngomong ndasmu. congor lu yg sek...</td>\n",
              "      <td>jangan asal ngomong ndasmu congor lu yg sekate...</td>\n",
              "    </tr>\n",
              "    <tr>\n",
              "      <th>13165</th>\n",
              "      <td>USER Kasur mana enak kunyuk'</td>\n",
              "      <td>hs</td>\n",
              "      <td>Kasur mana enak kunyuk'</td>\n",
              "      <td>Kasur mana enak kunyuk'</td>\n",
              "      <td>kasur mana enak kunyuk</td>\n",
              "    </tr>\n",
              "    <tr>\n",
              "      <th>13166</th>\n",
              "      <td>USER Hati hati bisu :( .g\\n\\nlagi bosan huft \\...</td>\n",
              "      <td>non_hs</td>\n",
              "      <td>Hati hati bisu :( .g  lagi bosan huft \\xf0\\x...</td>\n",
              "      <td>Hati hati bisu sedih atau cemberut .g  lagi ...</td>\n",
              "      <td>hati hati bisu sedih atau cemberut g lagi bosa...</td>\n",
              "    </tr>\n",
              "    <tr>\n",
              "      <th>13167</th>\n",
              "      <td>USER USER USER USER Bom yang real mudah terdet...</td>\n",
              "      <td>non_hs</td>\n",
              "      <td>Bom yang real mudah terdeteksi bom yan...</td>\n",
              "      <td>Bom yang real mudah terdeteksi bom yan...</td>\n",
              "      <td>bom yang real mudah terdeteksi bom yang terkub...</td>\n",
              "    </tr>\n",
              "    <tr>\n",
              "      <th>13168</th>\n",
              "      <td>USER Mana situ ngasih(\": itu cuma foto ya kuti...</td>\n",
              "      <td>hs</td>\n",
              "      <td>Mana situ ngasih(\": itu cuma foto ya kutil o...</td>\n",
              "      <td>Mana situ ngasih(\": itu cuma foto ya kutil o...</td>\n",
              "      <td>mana situ ngasih itu cuma foto ya kutil onta</td>\n",
              "    </tr>\n",
              "  </tbody>\n",
              "</table>\n",
              "<p>13169 rows × 5 columns</p>\n",
              "</div>"
            ],
            "text/plain": [
              "                                                text_ori  ...                                   text_cleansed_p2\n",
              "0      - disaat semua cowok berusaha melacak perhatia...  ...  disaat semua cowok berusaha melacak perhatian ...\n",
              "1      RT USER: USER siapa yang telat ngasih tau elu?...  ...  siapa yang telat ngasih tau elu edan sarap gue...\n",
              "2      41. Kadang aku berfikir, kenapa aku tetap perc...  ...  41 kadang aku berfikir kenapa aku tetap percay...\n",
              "3      USER USER AKU ITU AKU\\n\\nKU TAU MATAMU SIPIT T...  ...  aku itu aku ku tau matamu sipit tapi diliat da...\n",
              "4      USER USER Kaum cebong kapir udah keliatan dong...  ...  kaum cebong kapir udah keliatan dongoknya dari...\n",
              "...                                                  ...  ...                                                ...\n",
              "13164  USER jangan asal ngomong ndasmu. congor lu yg ...  ...  jangan asal ngomong ndasmu congor lu yg sekate...\n",
              "13165                       USER Kasur mana enak kunyuk'  ...                             kasur mana enak kunyuk\n",
              "13166  USER Hati hati bisu :( .g\\n\\nlagi bosan huft \\...  ...  hati hati bisu sedih atau cemberut g lagi bosa...\n",
              "13167  USER USER USER USER Bom yang real mudah terdet...  ...  bom yang real mudah terdeteksi bom yang terkub...\n",
              "13168  USER Mana situ ngasih(\": itu cuma foto ya kuti...  ...       mana situ ngasih itu cuma foto ya kutil onta\n",
              "\n",
              "[13169 rows x 5 columns]"
            ]
          },
          "metadata": {
            "tags": []
          }
        }
      ]
    },
    {
      "cell_type": "code",
      "metadata": {
        "colab": {
          "base_uri": "https://localhost:8080/",
          "height": 34
        },
        "id": "x0RdErbDPzml",
        "outputId": "b0469eae-5848-438a-daf4-e0c88260c32e"
      },
      "source": [
        "display(hs_df['text_cleansed_p2'][65:66].to_list())"
      ],
      "execution_count": null,
      "outputs": [
        {
          "output_type": "display_data",
          "data": {
            "text/plain": [
              "['not not musik la la la hm hmm headphone semua diam semua bisu kita coba tanya sama rumput yg bergoyang ♫♫♫♪♪♪']"
            ]
          },
          "metadata": {
            "tags": []
          }
        }
      ]
    },
    {
      "cell_type": "markdown",
      "metadata": {
        "id": "6nwc9PhcFsUV"
      },
      "source": [
        "## **Version 2**\n",
        "Without removing punctuation and without translating emot and emoji to description."
      ]
    },
    {
      "cell_type": "code",
      "metadata": {
        "id": "J0NQ01GAGB2v"
      },
      "source": [
        "def clean_p2_v2(tweet):\n",
        "    rgx_multi_space = r' {2,}'\n",
        "    rgx_byte_format = r'''b'|b\"'''\n",
        "\n",
        "    tweet = tweet.lower()\n",
        "    cleansed = re.sub(rgx_byte_format, '', tweet)\n",
        "    cleansed = re.sub(rgx_multi_space, ' ', cleansed)                                      # remove multiple spaces\n",
        "    cleansed = cleansed.strip()                                                            # remove trailing spaces\n",
        "    return cleansed"
      ],
      "execution_count": null,
      "outputs": []
    },
    {
      "cell_type": "code",
      "metadata": {
        "colab": {
          "base_uri": "https://localhost:8080/"
        },
        "id": "sYaEUp-VE1Qy",
        "outputId": "1d721c95-51d1-4240-9c9c-04c068cbdc8e"
      },
      "source": [
        "text_cleansed_p2_without_emot_emoji_desc = [clean_p2_v2(tweet) for tweet in tweets_decoded_emoji]\n",
        "text_cleansed_p2_without_emot_emoji_desc[65:66]"
      ],
      "execution_count": null,
      "outputs": [
        {
          "output_type": "execute_result",
          "data": {
            "text/plain": [
              "['🎶 la la la...hm hmm 🎧 \"semua diam ,semua bisu\" \"kita coba tanya sama rumput yg bergoyang\" ♫♫♫♪♪♪\\'']"
            ]
          },
          "metadata": {
            "tags": []
          },
          "execution_count": 79
        }
      ]
    },
    {
      "cell_type": "code",
      "metadata": {
        "colab": {
          "base_uri": "https://localhost:8080/",
          "height": 721
        },
        "id": "GggpU8u_EoV6",
        "outputId": "758a07c9-198c-4302-e867-909f080d6f96"
      },
      "source": [
        "hs_df['text_cleansed_p2_without_emot_emoji_desc'] = text_cleansed_p2_without_emot_emoji_desc\n",
        "display(hs_df)"
      ],
      "execution_count": null,
      "outputs": [
        {
          "output_type": "display_data",
          "data": {
            "text/html": [
              "<div>\n",
              "<style scoped>\n",
              "    .dataframe tbody tr th:only-of-type {\n",
              "        vertical-align: middle;\n",
              "    }\n",
              "\n",
              "    .dataframe tbody tr th {\n",
              "        vertical-align: top;\n",
              "    }\n",
              "\n",
              "    .dataframe thead th {\n",
              "        text-align: right;\n",
              "    }\n",
              "</style>\n",
              "<table border=\"1\" class=\"dataframe\">\n",
              "  <thead>\n",
              "    <tr style=\"text-align: right;\">\n",
              "      <th></th>\n",
              "      <th>text_ori</th>\n",
              "      <th>labels</th>\n",
              "      <th>text_cleansed_p1</th>\n",
              "      <th>text_emot_emoji_desc</th>\n",
              "      <th>text_cleansed_p2</th>\n",
              "      <th>text_cleansed_p2_without_emot_emoji_desc</th>\n",
              "    </tr>\n",
              "  </thead>\n",
              "  <tbody>\n",
              "    <tr>\n",
              "      <th>0</th>\n",
              "      <td>- disaat semua cowok berusaha melacak perhatia...</td>\n",
              "      <td>hs</td>\n",
              "      <td>- disaat semua cowok berusaha melacak perhatia...</td>\n",
              "      <td>- disaat semua cowok berusaha melacak perhatia...</td>\n",
              "      <td>disaat semua cowok berusaha melacak perhatian ...</td>\n",
              "      <td>- disaat semua cowok berusaha melacak perhatia...</td>\n",
              "    </tr>\n",
              "    <tr>\n",
              "      <th>1</th>\n",
              "      <td>RT USER: USER siapa yang telat ngasih tau elu?...</td>\n",
              "      <td>hs</td>\n",
              "      <td>siapa yang telat ngasih tau elu?edan sar...</td>\n",
              "      <td>siapa yang telat ngasih tau elu?edan sar...</td>\n",
              "      <td>siapa yang telat ngasih tau elu edan sarap gue...</td>\n",
              "      <td>siapa yang telat ngasih tau elu?edan sarap gue...</td>\n",
              "    </tr>\n",
              "    <tr>\n",
              "      <th>2</th>\n",
              "      <td>41. Kadang aku berfikir, kenapa aku tetap perc...</td>\n",
              "      <td>non_hs</td>\n",
              "      <td>41. Kadang aku berfikir, kenapa aku tetap perc...</td>\n",
              "      <td>41. Kadang aku berfikir, kenapa aku tetap perc...</td>\n",
              "      <td>41 kadang aku berfikir kenapa aku tetap percay...</td>\n",
              "      <td>41. kadang aku berfikir, kenapa aku tetap perc...</td>\n",
              "    </tr>\n",
              "    <tr>\n",
              "      <th>3</th>\n",
              "      <td>USER USER AKU ITU AKU\\n\\nKU TAU MATAMU SIPIT T...</td>\n",
              "      <td>non_hs</td>\n",
              "      <td>AKU ITU AKU  KU TAU MATAMU SIPIT TAPI DILI...</td>\n",
              "      <td>AKU ITU AKU  KU TAU MATAMU SIPIT TAPI DILI...</td>\n",
              "      <td>aku itu aku ku tau matamu sipit tapi diliat da...</td>\n",
              "      <td>aku itu aku ku tau matamu sipit tapi diliat da...</td>\n",
              "    </tr>\n",
              "    <tr>\n",
              "      <th>4</th>\n",
              "      <td>USER USER Kaum cebong kapir udah keliatan dong...</td>\n",
              "      <td>hs</td>\n",
              "      <td>Kaum cebong kapir udah keliatan dongoknya ...</td>\n",
              "      <td>Kaum cebong kapir udah keliatan dongoknya ...</td>\n",
              "      <td>kaum cebong kapir udah keliatan dongoknya dari...</td>\n",
              "      <td>kaum cebong kapir udah keliatan dongoknya dari...</td>\n",
              "    </tr>\n",
              "    <tr>\n",
              "      <th>...</th>\n",
              "      <td>...</td>\n",
              "      <td>...</td>\n",
              "      <td>...</td>\n",
              "      <td>...</td>\n",
              "      <td>...</td>\n",
              "      <td>...</td>\n",
              "    </tr>\n",
              "    <tr>\n",
              "      <th>13164</th>\n",
              "      <td>USER jangan asal ngomong ndasmu. congor lu yg ...</td>\n",
              "      <td>hs</td>\n",
              "      <td>jangan asal ngomong ndasmu. congor lu yg sek...</td>\n",
              "      <td>jangan asal ngomong ndasmu. congor lu yg sek...</td>\n",
              "      <td>jangan asal ngomong ndasmu congor lu yg sekate...</td>\n",
              "      <td>jangan asal ngomong ndasmu. congor lu yg sekat...</td>\n",
              "    </tr>\n",
              "    <tr>\n",
              "      <th>13165</th>\n",
              "      <td>USER Kasur mana enak kunyuk'</td>\n",
              "      <td>hs</td>\n",
              "      <td>Kasur mana enak kunyuk'</td>\n",
              "      <td>Kasur mana enak kunyuk'</td>\n",
              "      <td>kasur mana enak kunyuk</td>\n",
              "      <td>kasur mana enak kunyuk'</td>\n",
              "    </tr>\n",
              "    <tr>\n",
              "      <th>13166</th>\n",
              "      <td>USER Hati hati bisu :( .g\\n\\nlagi bosan huft \\...</td>\n",
              "      <td>non_hs</td>\n",
              "      <td>Hati hati bisu :( .g  lagi bosan huft \\xf0\\x...</td>\n",
              "      <td>Hati hati bisu sedih atau cemberut .g  lagi ...</td>\n",
              "      <td>hati hati bisu sedih atau cemberut g lagi bosa...</td>\n",
              "      <td>hati hati bisu :( .g lagi bosan huft 😪'</td>\n",
              "    </tr>\n",
              "    <tr>\n",
              "      <th>13167</th>\n",
              "      <td>USER USER USER USER Bom yang real mudah terdet...</td>\n",
              "      <td>non_hs</td>\n",
              "      <td>Bom yang real mudah terdeteksi bom yan...</td>\n",
              "      <td>Bom yang real mudah terdeteksi bom yan...</td>\n",
              "      <td>bom yang real mudah terdeteksi bom yang terkub...</td>\n",
              "      <td>bom yang real mudah terdeteksi bom yang terkub...</td>\n",
              "    </tr>\n",
              "    <tr>\n",
              "      <th>13168</th>\n",
              "      <td>USER Mana situ ngasih(\": itu cuma foto ya kuti...</td>\n",
              "      <td>hs</td>\n",
              "      <td>Mana situ ngasih(\": itu cuma foto ya kutil o...</td>\n",
              "      <td>Mana situ ngasih(\": itu cuma foto ya kutil o...</td>\n",
              "      <td>mana situ ngasih itu cuma foto ya kutil onta</td>\n",
              "      <td>mana situ ngasih(\": itu cuma foto ya kutil onta'</td>\n",
              "    </tr>\n",
              "  </tbody>\n",
              "</table>\n",
              "<p>13169 rows × 6 columns</p>\n",
              "</div>"
            ],
            "text/plain": [
              "                                                text_ori  ...           text_cleansed_p2_without_emot_emoji_desc\n",
              "0      - disaat semua cowok berusaha melacak perhatia...  ...  - disaat semua cowok berusaha melacak perhatia...\n",
              "1      RT USER: USER siapa yang telat ngasih tau elu?...  ...  siapa yang telat ngasih tau elu?edan sarap gue...\n",
              "2      41. Kadang aku berfikir, kenapa aku tetap perc...  ...  41. kadang aku berfikir, kenapa aku tetap perc...\n",
              "3      USER USER AKU ITU AKU\\n\\nKU TAU MATAMU SIPIT T...  ...  aku itu aku ku tau matamu sipit tapi diliat da...\n",
              "4      USER USER Kaum cebong kapir udah keliatan dong...  ...  kaum cebong kapir udah keliatan dongoknya dari...\n",
              "...                                                  ...  ...                                                ...\n",
              "13164  USER jangan asal ngomong ndasmu. congor lu yg ...  ...  jangan asal ngomong ndasmu. congor lu yg sekat...\n",
              "13165                       USER Kasur mana enak kunyuk'  ...                            kasur mana enak kunyuk'\n",
              "13166  USER Hati hati bisu :( .g\\n\\nlagi bosan huft \\...  ...            hati hati bisu :( .g lagi bosan huft 😪'\n",
              "13167  USER USER USER USER Bom yang real mudah terdet...  ...  bom yang real mudah terdeteksi bom yang terkub...\n",
              "13168  USER Mana situ ngasih(\": itu cuma foto ya kuti...  ...   mana situ ngasih(\": itu cuma foto ya kutil onta'\n",
              "\n",
              "[13169 rows x 6 columns]"
            ]
          },
          "metadata": {
            "tags": []
          }
        }
      ]
    },
    {
      "cell_type": "markdown",
      "metadata": {
        "id": "5iqvhVTW3xMo"
      },
      "source": [
        "# **Drop Missing Values**\n",
        "Drop rows that are empty (NaN) because the original tweet only consists of usernames. Such as index:\n",
        "\n",
        "\n",
        "```\n",
        "Int64Index([  182,   288,   318,   377,   490,  1282,  1565,  1840,  1972,\n",
        "             2514,  2719,  2763,  3208,  3412,  3838,  4830,  5324,  5388,\n",
        "             5444,  5710,  5801,  6075,  6328,  6746,  7010,  7179,  7190,\n",
        "             7644,  7675,  7751,  7769,  8068,  8249,  8512,  8901,  8941,\n",
        "             9297,  9982, 10701, 10736, 11303, 11958, 12632, 12682, 12788,\n",
        "            12952],\n",
        "           dtype='int64')\n",
        "```\n",
        "\n",
        "Pandas doesn't recognise empty strings as null. To fix this, you can convert the empty stings (or whatever is in your empty cells) to np.nan objects using replace(), and then call dropna() on your DataFrame.\n"
      ]
    },
    {
      "cell_type": "code",
      "metadata": {
        "colab": {
          "base_uri": "https://localhost:8080/"
        },
        "id": "PSypTeRc6EJE",
        "outputId": "e1cce2ea-963d-45f1-f2f5-576ccd377819"
      },
      "source": [
        "# before replacing with NaN, empty strings are not detected\n",
        "hs_df.loc[pd.isna(hs_df['text_cleansed_p2']), :].index"
      ],
      "execution_count": null,
      "outputs": [
        {
          "output_type": "execute_result",
          "data": {
            "text/plain": [
              "Int64Index([], dtype='int64')"
            ]
          },
          "metadata": {
            "tags": []
          },
          "execution_count": 81
        }
      ]
    },
    {
      "cell_type": "code",
      "metadata": {
        "id": "NDHh9ZyU5uU1",
        "colab": {
          "base_uri": "https://localhost:8080/",
          "height": 246
        },
        "outputId": "ca013693-c3b1-41bc-82e7-2d2ab30b396b"
      },
      "source": [
        "import numpy as np\n",
        "\n",
        "hs_df['text_cleansed_p2'].replace('', np.nan, inplace=True)\n",
        "hs_df['text_cleansed_p2_without_emot_emoji_desc'].replace('', np.nan, inplace=True)\n",
        "\n",
        "# after replacing with NaN, empty strings are detected\n",
        "display(hs_df.loc[pd.isna(hs_df['text_cleansed_p2']), :].index)\n",
        "display(hs_df.loc[pd.isna(hs_df['text_cleansed_p2_without_emot_emoji_desc']), :].index)"
      ],
      "execution_count": null,
      "outputs": [
        {
          "output_type": "display_data",
          "data": {
            "text/plain": [
              "Int64Index([  182,   288,   318,   377,   490,  1282,  1565,  1840,  1972,\n",
              "             2514,  2719,  2763,  3208,  3412,  3838,  4830,  5324,  5388,\n",
              "             5444,  5710,  5801,  6075,  6328,  6746,  7010,  7179,  7190,\n",
              "             7644,  7675,  7751,  7769,  8068,  8249,  8512,  8901,  8941,\n",
              "             9297,  9982, 10701, 10736, 11303, 11958, 12632, 12682, 12788,\n",
              "            12952],\n",
              "           dtype='int64')"
            ]
          },
          "metadata": {
            "tags": []
          }
        },
        {
          "output_type": "display_data",
          "data": {
            "text/plain": [
              "Int64Index([  182,   288,   318,   377,   490,  1282,  1565,  1840,  1972,\n",
              "             2514,  2719,  2763,  3208,  3412,  3838,  4830,  5324,  5388,\n",
              "             5710,  5801,  6075,  6746,  7010,  7179,  7190,  7644,  7675,\n",
              "             7751,  7769,  8249,  8901,  8941, 10736, 11303, 11958, 12632,\n",
              "            12682, 12788, 12952],\n",
              "           dtype='int64')"
            ]
          },
          "metadata": {
            "tags": []
          }
        }
      ]
    },
    {
      "cell_type": "code",
      "metadata": {
        "colab": {
          "base_uri": "https://localhost:8080/",
          "height": 158
        },
        "id": "qWq8HcZu3sOV",
        "outputId": "92c70202-e97a-4593-9e4d-1d139e912ede"
      },
      "source": [
        "nan_idx = hs_df.loc[pd.isna(hs_df['text_cleansed_p2']), :].index\n",
        "display(nan_idx)\n",
        "display(len(nan_idx))"
      ],
      "execution_count": null,
      "outputs": [
        {
          "output_type": "display_data",
          "data": {
            "text/plain": [
              "Int64Index([  182,   288,   318,   377,   490,  1282,  1565,  1840,  1972,\n",
              "             2514,  2719,  2763,  3208,  3412,  3838,  4830,  5324,  5388,\n",
              "             5444,  5710,  5801,  6075,  6328,  6746,  7010,  7179,  7190,\n",
              "             7644,  7675,  7751,  7769,  8068,  8249,  8512,  8901,  8941,\n",
              "             9297,  9982, 10701, 10736, 11303, 11958, 12632, 12682, 12788,\n",
              "            12952],\n",
              "           dtype='int64')"
            ]
          },
          "metadata": {
            "tags": []
          }
        },
        {
          "output_type": "display_data",
          "data": {
            "text/plain": [
              "46"
            ]
          },
          "metadata": {
            "tags": []
          }
        }
      ]
    },
    {
      "cell_type": "code",
      "metadata": {
        "colab": {
          "base_uri": "https://localhost:8080/"
        },
        "id": "BFVgVBrY5Coj",
        "outputId": "8216bda4-25c2-4ad0-80ff-80dd290aa0c1"
      },
      "source": [
        "hs_df['text_cleansed_p2'][180:183]"
      ],
      "execution_count": null,
      "outputs": [
        {
          "output_type": "execute_result",
          "data": {
            "text/plain": [
              "180    aku pernah sempat baca ttg harun yahya ini yg ...\n",
              "181    kita maju bersama ulama kita bergerak bersama ...\n",
              "182                                                  NaN\n",
              "Name: text_cleansed_p2, dtype: object"
            ]
          },
          "metadata": {
            "tags": []
          },
          "execution_count": 86
        }
      ]
    },
    {
      "cell_type": "code",
      "metadata": {
        "id": "8AQXvKSZ6d0T"
      },
      "source": [
        "hs_df.dropna(inplace=True)"
      ],
      "execution_count": null,
      "outputs": []
    },
    {
      "cell_type": "code",
      "metadata": {
        "colab": {
          "base_uri": "https://localhost:8080/"
        },
        "id": "PJD2p26d6fz0",
        "outputId": "02f878b8-af35-4b28-a70f-a255f60dd3e3"
      },
      "source": [
        "len(hs_df)"
      ],
      "execution_count": null,
      "outputs": [
        {
          "output_type": "execute_result",
          "data": {
            "text/plain": [
              "13123"
            ]
          },
          "metadata": {
            "tags": []
          },
          "execution_count": 91
        }
      ]
    },
    {
      "cell_type": "markdown",
      "metadata": {
        "id": "8Due-a_Ttfjo"
      },
      "source": [
        "# **Export to csv**"
      ]
    },
    {
      "cell_type": "code",
      "metadata": {
        "id": "tVAW-4_buSvb"
      },
      "source": [
        "# hs_df.to_csv(HS_PATH + 'hs-abusive_preprocessed_all-step.csv', index=False)"
      ],
      "execution_count": null,
      "outputs": []
    },
    {
      "cell_type": "code",
      "metadata": {
        "id": "gO0JKcFF9KtA",
        "colab": {
          "base_uri": "https://localhost:8080/",
          "height": 402
        },
        "outputId": "df45fb2d-08c3-4514-d645-eb5e67e1a879"
      },
      "source": [
        "hs_df_preprocessed = hs_df[['text_cleansed_p2', 'labels']].copy()\n",
        "hs_df_preprocessed.rename(columns={'text_cleansed_p2': 'text'}, inplace=True)\n",
        "# hs_df_preprocessed.to_csv(HS_PATH + 'hs-abusive_preprocessed.csv', index=False)\n",
        "hs_df_preprocessed"
      ],
      "execution_count": null,
      "outputs": [
        {
          "output_type": "execute_result",
          "data": {
            "text/html": [
              "<div>\n",
              "<style scoped>\n",
              "    .dataframe tbody tr th:only-of-type {\n",
              "        vertical-align: middle;\n",
              "    }\n",
              "\n",
              "    .dataframe tbody tr th {\n",
              "        vertical-align: top;\n",
              "    }\n",
              "\n",
              "    .dataframe thead th {\n",
              "        text-align: right;\n",
              "    }\n",
              "</style>\n",
              "<table border=\"1\" class=\"dataframe\">\n",
              "  <thead>\n",
              "    <tr style=\"text-align: right;\">\n",
              "      <th></th>\n",
              "      <th>text</th>\n",
              "      <th>labels</th>\n",
              "    </tr>\n",
              "  </thead>\n",
              "  <tbody>\n",
              "    <tr>\n",
              "      <th>0</th>\n",
              "      <td>disaat semua cowok berusaha melacak perhatian ...</td>\n",
              "      <td>hs</td>\n",
              "    </tr>\n",
              "    <tr>\n",
              "      <th>1</th>\n",
              "      <td>siapa yang telat ngasih tau elu edan sarap gue...</td>\n",
              "      <td>hs</td>\n",
              "    </tr>\n",
              "    <tr>\n",
              "      <th>2</th>\n",
              "      <td>41 kadang aku berfikir kenapa aku tetap percay...</td>\n",
              "      <td>non_hs</td>\n",
              "    </tr>\n",
              "    <tr>\n",
              "      <th>3</th>\n",
              "      <td>aku itu aku ku tau matamu sipit tapi diliat da...</td>\n",
              "      <td>non_hs</td>\n",
              "    </tr>\n",
              "    <tr>\n",
              "      <th>4</th>\n",
              "      <td>kaum cebong kapir udah keliatan dongoknya dari...</td>\n",
              "      <td>hs</td>\n",
              "    </tr>\n",
              "    <tr>\n",
              "      <th>...</th>\n",
              "      <td>...</td>\n",
              "      <td>...</td>\n",
              "    </tr>\n",
              "    <tr>\n",
              "      <th>13164</th>\n",
              "      <td>jangan asal ngomong ndasmu congor lu yg sekate...</td>\n",
              "      <td>hs</td>\n",
              "    </tr>\n",
              "    <tr>\n",
              "      <th>13165</th>\n",
              "      <td>kasur mana enak kunyuk</td>\n",
              "      <td>hs</td>\n",
              "    </tr>\n",
              "    <tr>\n",
              "      <th>13166</th>\n",
              "      <td>hati hati bisu sedih atau cemberut g lagi bosa...</td>\n",
              "      <td>non_hs</td>\n",
              "    </tr>\n",
              "    <tr>\n",
              "      <th>13167</th>\n",
              "      <td>bom yang real mudah terdeteksi bom yang terkub...</td>\n",
              "      <td>non_hs</td>\n",
              "    </tr>\n",
              "    <tr>\n",
              "      <th>13168</th>\n",
              "      <td>mana situ ngasih itu cuma foto ya kutil onta</td>\n",
              "      <td>hs</td>\n",
              "    </tr>\n",
              "  </tbody>\n",
              "</table>\n",
              "<p>13123 rows × 2 columns</p>\n",
              "</div>"
            ],
            "text/plain": [
              "                                                    text  labels\n",
              "0      disaat semua cowok berusaha melacak perhatian ...      hs\n",
              "1      siapa yang telat ngasih tau elu edan sarap gue...      hs\n",
              "2      41 kadang aku berfikir kenapa aku tetap percay...  non_hs\n",
              "3      aku itu aku ku tau matamu sipit tapi diliat da...  non_hs\n",
              "4      kaum cebong kapir udah keliatan dongoknya dari...      hs\n",
              "...                                                  ...     ...\n",
              "13164  jangan asal ngomong ndasmu congor lu yg sekate...      hs\n",
              "13165                             kasur mana enak kunyuk      hs\n",
              "13166  hati hati bisu sedih atau cemberut g lagi bosa...  non_hs\n",
              "13167  bom yang real mudah terdeteksi bom yang terkub...  non_hs\n",
              "13168       mana situ ngasih itu cuma foto ya kutil onta      hs\n",
              "\n",
              "[13123 rows x 2 columns]"
            ]
          },
          "metadata": {
            "tags": []
          },
          "execution_count": 95
        }
      ]
    },
    {
      "cell_type": "code",
      "metadata": {
        "id": "cwk1OjrNSb-P",
        "colab": {
          "base_uri": "https://localhost:8080/",
          "height": 402
        },
        "outputId": "6e969534-a92d-4815-d0aa-95c937db62e3"
      },
      "source": [
        "hs_df_preprocessed_v2 = hs_df[['text_cleansed_p2_without_emot_emoji_desc', 'labels']].copy()\n",
        "hs_df_preprocessed_v2.rename(columns={'text_cleansed_p2_without_emot_emoji_desc': 'text'}, inplace=True)\n",
        "# hs_df_preprocessed_v2.to_csv(HS_PATH + 'hs-abusive_preprocessed_emot-emoji-intact.csv', index=False)\n",
        "hs_df_preprocessed_v2"
      ],
      "execution_count": null,
      "outputs": [
        {
          "output_type": "execute_result",
          "data": {
            "text/html": [
              "<div>\n",
              "<style scoped>\n",
              "    .dataframe tbody tr th:only-of-type {\n",
              "        vertical-align: middle;\n",
              "    }\n",
              "\n",
              "    .dataframe tbody tr th {\n",
              "        vertical-align: top;\n",
              "    }\n",
              "\n",
              "    .dataframe thead th {\n",
              "        text-align: right;\n",
              "    }\n",
              "</style>\n",
              "<table border=\"1\" class=\"dataframe\">\n",
              "  <thead>\n",
              "    <tr style=\"text-align: right;\">\n",
              "      <th></th>\n",
              "      <th>text</th>\n",
              "      <th>labels</th>\n",
              "    </tr>\n",
              "  </thead>\n",
              "  <tbody>\n",
              "    <tr>\n",
              "      <th>0</th>\n",
              "      <td>- disaat semua cowok berusaha melacak perhatia...</td>\n",
              "      <td>hs</td>\n",
              "    </tr>\n",
              "    <tr>\n",
              "      <th>1</th>\n",
              "      <td>siapa yang telat ngasih tau elu?edan sarap gue...</td>\n",
              "      <td>hs</td>\n",
              "    </tr>\n",
              "    <tr>\n",
              "      <th>2</th>\n",
              "      <td>41. kadang aku berfikir, kenapa aku tetap perc...</td>\n",
              "      <td>non_hs</td>\n",
              "    </tr>\n",
              "    <tr>\n",
              "      <th>3</th>\n",
              "      <td>aku itu aku ku tau matamu sipit tapi diliat da...</td>\n",
              "      <td>non_hs</td>\n",
              "    </tr>\n",
              "    <tr>\n",
              "      <th>4</th>\n",
              "      <td>kaum cebong kapir udah keliatan dongoknya dari...</td>\n",
              "      <td>hs</td>\n",
              "    </tr>\n",
              "    <tr>\n",
              "      <th>...</th>\n",
              "      <td>...</td>\n",
              "      <td>...</td>\n",
              "    </tr>\n",
              "    <tr>\n",
              "      <th>13164</th>\n",
              "      <td>jangan asal ngomong ndasmu. congor lu yg sekat...</td>\n",
              "      <td>hs</td>\n",
              "    </tr>\n",
              "    <tr>\n",
              "      <th>13165</th>\n",
              "      <td>kasur mana enak kunyuk'</td>\n",
              "      <td>hs</td>\n",
              "    </tr>\n",
              "    <tr>\n",
              "      <th>13166</th>\n",
              "      <td>hati hati bisu :( .g lagi bosan huft 😪'</td>\n",
              "      <td>non_hs</td>\n",
              "    </tr>\n",
              "    <tr>\n",
              "      <th>13167</th>\n",
              "      <td>bom yang real mudah terdeteksi bom yang terkub...</td>\n",
              "      <td>non_hs</td>\n",
              "    </tr>\n",
              "    <tr>\n",
              "      <th>13168</th>\n",
              "      <td>mana situ ngasih(\": itu cuma foto ya kutil onta'</td>\n",
              "      <td>hs</td>\n",
              "    </tr>\n",
              "  </tbody>\n",
              "</table>\n",
              "<p>13123 rows × 2 columns</p>\n",
              "</div>"
            ],
            "text/plain": [
              "                                                    text  labels\n",
              "0      - disaat semua cowok berusaha melacak perhatia...      hs\n",
              "1      siapa yang telat ngasih tau elu?edan sarap gue...      hs\n",
              "2      41. kadang aku berfikir, kenapa aku tetap perc...  non_hs\n",
              "3      aku itu aku ku tau matamu sipit tapi diliat da...  non_hs\n",
              "4      kaum cebong kapir udah keliatan dongoknya dari...      hs\n",
              "...                                                  ...     ...\n",
              "13164  jangan asal ngomong ndasmu. congor lu yg sekat...      hs\n",
              "13165                            kasur mana enak kunyuk'      hs\n",
              "13166            hati hati bisu :( .g lagi bosan huft 😪'  non_hs\n",
              "13167  bom yang real mudah terdeteksi bom yang terkub...  non_hs\n",
              "13168   mana situ ngasih(\": itu cuma foto ya kutil onta'      hs\n",
              "\n",
              "[13123 rows x 2 columns]"
            ]
          },
          "metadata": {
            "tags": []
          },
          "execution_count": 96
        }
      ]
    }
  ]
}