{
  "nbformat": 4,
  "nbformat_minor": 0,
  "metadata": {
    "colab": {
      "name": "Hate Speech Dataset Preprocessing.ipynb",
      "provenance": [],
      "collapsed_sections": [],
      "toc_visible": true,
      "authorship_tag": "ABX9TyPLlYZcqggwQw6AAobddf27",
      "include_colab_link": true
    },
    "kernelspec": {
      "name": "python3",
      "display_name": "Python 3"
    },
    "language_info": {
      "name": "python"
    }
  },
  "cells": [
    {
      "cell_type": "markdown",
      "metadata": {
        "id": "view-in-github",
        "colab_type": "text"
      },
      "source": [
        "<a href=\"https://colab.research.google.com/github/thingkilia2507/PTCJNN_BangkitCapstoneProject/blob/celine-branch/Machine%20Learning/notebooks/Hate%20Speech%20Dataset%20Preprocessing.ipynb\" target=\"_parent\"><img src=\"https://colab.research.google.com/assets/colab-badge.svg\" alt=\"Open In Colab\"/></a>"
      ]
    },
    {
      "cell_type": "markdown",
      "metadata": {
        "id": "trGOz-a6SxyU"
      },
      "source": [
        "# **Acknowledgment**\n",
        "\n",
        "```\n",
        "# This data preprocessing notebook is a part of Chrysant Celine Setyawan's bachelor thesis,\n",
        "# copied and modified accordingly from the original source: https://github.com/celine-setyawan/id-porn-tweet-detection/tree/dev.\n",
        "```\n",
        "\n",
        "\n",
        "The Indonesian hate speech dataset is obtained from https://github.com/okkyibrohim/id-multi-label-hate-speech-and-abusive-language-detection with publication:\n",
        "```\n",
        "@inproceedings{ibrohim-budi-2019-multi,\n",
        "    title = \"Multi-label Hate Speech and Abusive Language Detection in {I}ndonesian Twitter\",\n",
        "    author = \"Ibrohim, Muhammad Okky  and\n",
        "      Budi, Indra\",\n",
        "    booktitle = \"Proceedings of the Third Workshop on Abusive Language Online\",\n",
        "    month = aug,\n",
        "    year = \"2019\",\n",
        "    address = \"Florence, Italy\",\n",
        "    publisher = \"Association for Computational Linguistics\",\n",
        "    url = \"https://www.aclweb.org/anthology/W19-3506\",\n",
        "    doi = \"10.18653/v1/W19-3506\",\n",
        "    pages = \"46--57\",\n",
        "    abstract = \"Hate speech and abusive language spreading on social media need to be detected automatically to avoid conflict between citizen. Moreover, hate speech has a target, category, and level that also needs to be detected to help the authority in prioritizing which hate speech must be addressed immediately. This research discusses multi-label text classification for abusive language and hate speech detection including detecting the target, category, and level of hate speech in Indonesian Twitter using machine learning approach with Support Vector Machine (SVM), Naive Bayes (NB), and Random Forest Decision Tree (RFDT) classifier and Binary Relevance (BR), Label Power-set (LP), and Classifier Chains (CC) as the data transformation method. We used several kinds of feature extractions which are term frequency, orthography, and lexicon features. Our experiment results show that in general RFDT classifier using LP as the transformation method gives the best accuracy with fast computational time.\",\n",
        "}\n",
        "```\n",
        "\n"
      ]
    },
    {
      "cell_type": "markdown",
      "metadata": {
        "id": "vr1xB6jewKvO"
      },
      "source": [
        "# **Library**"
      ]
    },
    {
      "cell_type": "code",
      "metadata": {
        "colab": {
          "base_uri": "https://localhost:8080/"
        },
        "id": "nBHqLYHhwXws",
        "outputId": "5d8d3cd3-cf57-4587-8203-96286398c8e4"
      },
      "source": [
        "from google.colab import drive\n",
        "drive.mount('/content/drive')\n",
        "\n",
        "PROJECT_ROOT = 'drive/My Drive/Bangkit Capstone PT CJNN/ML/'\n",
        "HS_PATH = PROJECT_ROOT + 'dataset/hate_speech/'"
      ],
      "execution_count": null,
      "outputs": [
        {
          "output_type": "stream",
          "text": [
            "Mounted at /content/drive\n"
          ],
          "name": "stdout"
        }
      ]
    },
    {
      "cell_type": "code",
      "metadata": {
        "id": "W4Fw51cjAjAv"
      },
      "source": [
        "import pandas as pd\n",
        "import pickle\n",
        "import json\n",
        "import string\n",
        "import re\n",
        "\n",
        "from ast import literal_eval\n",
        "from gspread_dataframe import set_with_dataframe"
      ],
      "execution_count": null,
      "outputs": []
    },
    {
      "cell_type": "markdown",
      "metadata": {
        "id": "d3__pjD09EjV"
      },
      "source": [
        "# **Load Data**"
      ]
    },
    {
      "cell_type": "code",
      "metadata": {
        "colab": {
          "base_uri": "https://localhost:8080/",
          "height": 414
        },
        "id": "Cqj8B5C1kcuG",
        "outputId": "4bd63793-c5f3-4135-9919-d7894c183e14"
      },
      "source": [
        "hs_df = pd.read_csv(HS_PATH + 'hs-abusive dataset_okkyIbrohim.csv', encoding='ISO-8859-1')\n",
        "hs_df.head()"
      ],
      "execution_count": null,
      "outputs": [
        {
          "output_type": "execute_result",
          "data": {
            "text/html": [
              "<div>\n",
              "<style scoped>\n",
              "    .dataframe tbody tr th:only-of-type {\n",
              "        vertical-align: middle;\n",
              "    }\n",
              "\n",
              "    .dataframe tbody tr th {\n",
              "        vertical-align: top;\n",
              "    }\n",
              "\n",
              "    .dataframe thead th {\n",
              "        text-align: right;\n",
              "    }\n",
              "</style>\n",
              "<table border=\"1\" class=\"dataframe\">\n",
              "  <thead>\n",
              "    <tr style=\"text-align: right;\">\n",
              "      <th></th>\n",
              "      <th>Tweet</th>\n",
              "      <th>HS</th>\n",
              "      <th>Abusive</th>\n",
              "      <th>HS_Individual</th>\n",
              "      <th>HS_Group</th>\n",
              "      <th>HS_Religion</th>\n",
              "      <th>HS_Race</th>\n",
              "      <th>HS_Physical</th>\n",
              "      <th>HS_Gender</th>\n",
              "      <th>HS_Other</th>\n",
              "      <th>HS_Weak</th>\n",
              "      <th>HS_Moderate</th>\n",
              "      <th>HS_Strong</th>\n",
              "    </tr>\n",
              "  </thead>\n",
              "  <tbody>\n",
              "    <tr>\n",
              "      <th>0</th>\n",
              "      <td>- disaat semua cowok berusaha melacak perhatia...</td>\n",
              "      <td>1</td>\n",
              "      <td>1</td>\n",
              "      <td>1</td>\n",
              "      <td>0</td>\n",
              "      <td>0</td>\n",
              "      <td>0</td>\n",
              "      <td>0</td>\n",
              "      <td>0</td>\n",
              "      <td>1</td>\n",
              "      <td>1</td>\n",
              "      <td>0</td>\n",
              "      <td>0</td>\n",
              "    </tr>\n",
              "    <tr>\n",
              "      <th>1</th>\n",
              "      <td>RT USER: USER siapa yang telat ngasih tau elu?...</td>\n",
              "      <td>0</td>\n",
              "      <td>1</td>\n",
              "      <td>0</td>\n",
              "      <td>0</td>\n",
              "      <td>0</td>\n",
              "      <td>0</td>\n",
              "      <td>0</td>\n",
              "      <td>0</td>\n",
              "      <td>0</td>\n",
              "      <td>0</td>\n",
              "      <td>0</td>\n",
              "      <td>0</td>\n",
              "    </tr>\n",
              "    <tr>\n",
              "      <th>2</th>\n",
              "      <td>41. Kadang aku berfikir, kenapa aku tetap perc...</td>\n",
              "      <td>0</td>\n",
              "      <td>0</td>\n",
              "      <td>0</td>\n",
              "      <td>0</td>\n",
              "      <td>0</td>\n",
              "      <td>0</td>\n",
              "      <td>0</td>\n",
              "      <td>0</td>\n",
              "      <td>0</td>\n",
              "      <td>0</td>\n",
              "      <td>0</td>\n",
              "      <td>0</td>\n",
              "    </tr>\n",
              "    <tr>\n",
              "      <th>3</th>\n",
              "      <td>USER USER AKU ITU AKU\\n\\nKU TAU MATAMU SIPIT T...</td>\n",
              "      <td>0</td>\n",
              "      <td>0</td>\n",
              "      <td>0</td>\n",
              "      <td>0</td>\n",
              "      <td>0</td>\n",
              "      <td>0</td>\n",
              "      <td>0</td>\n",
              "      <td>0</td>\n",
              "      <td>0</td>\n",
              "      <td>0</td>\n",
              "      <td>0</td>\n",
              "      <td>0</td>\n",
              "    </tr>\n",
              "    <tr>\n",
              "      <th>4</th>\n",
              "      <td>USER USER Kaum cebong kapir udah keliatan dong...</td>\n",
              "      <td>1</td>\n",
              "      <td>1</td>\n",
              "      <td>0</td>\n",
              "      <td>1</td>\n",
              "      <td>1</td>\n",
              "      <td>0</td>\n",
              "      <td>0</td>\n",
              "      <td>0</td>\n",
              "      <td>0</td>\n",
              "      <td>0</td>\n",
              "      <td>1</td>\n",
              "      <td>0</td>\n",
              "    </tr>\n",
              "  </tbody>\n",
              "</table>\n",
              "</div>"
            ],
            "text/plain": [
              "                                               Tweet  ...  HS_Strong\n",
              "0  - disaat semua cowok berusaha melacak perhatia...  ...          0\n",
              "1  RT USER: USER siapa yang telat ngasih tau elu?...  ...          0\n",
              "2  41. Kadang aku berfikir, kenapa aku tetap perc...  ...          0\n",
              "3  USER USER AKU ITU AKU\\n\\nKU TAU MATAMU SIPIT T...  ...          0\n",
              "4  USER USER Kaum cebong kapir udah keliatan dong...  ...          0\n",
              "\n",
              "[5 rows x 13 columns]"
            ]
          },
          "metadata": {
            "tags": []
          },
          "execution_count": 30
        }
      ]
    },
    {
      "cell_type": "code",
      "metadata": {
        "id": "GGeq3ulUXIa1"
      },
      "source": [
        "hs_df['labels'] = None\n",
        "hs_df.loc[hs_df.sum(axis=1, skipna=True) == 0, 'labels'] = 'non_hs'\n",
        "hs_df.loc[hs_df.sum(axis=1, skipna=True) >= 1, 'labels'] = 'hs'"
      ],
      "execution_count": null,
      "outputs": []
    },
    {
      "cell_type": "code",
      "metadata": {
        "colab": {
          "base_uri": "https://localhost:8080/",
          "height": 195
        },
        "id": "hoBVSMVEX3HG",
        "outputId": "45c726df-c5b6-4653-bd54-13f07d8dc227"
      },
      "source": [
        "# membuat list nama kolom kecuali 'Tweet' untuk di drop\n",
        "cols = list(hs_df.columns)\n",
        "cols.remove('Tweet')\n",
        "cols.remove('labels')\n",
        "\n",
        "hs_df.drop(cols, axis=1, inplace=True) \n",
        "hs_df.rename(columns={'Tweet': 'text_ori'}, inplace=True)\n",
        "hs_df.head()"
      ],
      "execution_count": null,
      "outputs": [
        {
          "output_type": "execute_result",
          "data": {
            "text/html": [
              "<div>\n",
              "<style scoped>\n",
              "    .dataframe tbody tr th:only-of-type {\n",
              "        vertical-align: middle;\n",
              "    }\n",
              "\n",
              "    .dataframe tbody tr th {\n",
              "        vertical-align: top;\n",
              "    }\n",
              "\n",
              "    .dataframe thead th {\n",
              "        text-align: right;\n",
              "    }\n",
              "</style>\n",
              "<table border=\"1\" class=\"dataframe\">\n",
              "  <thead>\n",
              "    <tr style=\"text-align: right;\">\n",
              "      <th></th>\n",
              "      <th>text_ori</th>\n",
              "      <th>labels</th>\n",
              "    </tr>\n",
              "  </thead>\n",
              "  <tbody>\n",
              "    <tr>\n",
              "      <th>0</th>\n",
              "      <td>- disaat semua cowok berusaha melacak perhatia...</td>\n",
              "      <td>hs</td>\n",
              "    </tr>\n",
              "    <tr>\n",
              "      <th>1</th>\n",
              "      <td>RT USER: USER siapa yang telat ngasih tau elu?...</td>\n",
              "      <td>hs</td>\n",
              "    </tr>\n",
              "    <tr>\n",
              "      <th>2</th>\n",
              "      <td>41. Kadang aku berfikir, kenapa aku tetap perc...</td>\n",
              "      <td>non_hs</td>\n",
              "    </tr>\n",
              "    <tr>\n",
              "      <th>3</th>\n",
              "      <td>USER USER AKU ITU AKU\\n\\nKU TAU MATAMU SIPIT T...</td>\n",
              "      <td>non_hs</td>\n",
              "    </tr>\n",
              "    <tr>\n",
              "      <th>4</th>\n",
              "      <td>USER USER Kaum cebong kapir udah keliatan dong...</td>\n",
              "      <td>hs</td>\n",
              "    </tr>\n",
              "  </tbody>\n",
              "</table>\n",
              "</div>"
            ],
            "text/plain": [
              "                                            text_ori  labels\n",
              "0  - disaat semua cowok berusaha melacak perhatia...      hs\n",
              "1  RT USER: USER siapa yang telat ngasih tau elu?...      hs\n",
              "2  41. Kadang aku berfikir, kenapa aku tetap perc...  non_hs\n",
              "3  USER USER AKU ITU AKU\\n\\nKU TAU MATAMU SIPIT T...  non_hs\n",
              "4  USER USER Kaum cebong kapir udah keliatan dong...      hs"
            ]
          },
          "metadata": {
            "tags": []
          },
          "execution_count": 33
        }
      ]
    },
    {
      "cell_type": "code",
      "metadata": {
        "colab": {
          "base_uri": "https://localhost:8080/"
        },
        "id": "FcQcyJzS22Pb",
        "outputId": "04284f4a-57e5-4704-bd0d-9a3b4857e138"
      },
      "source": [
        "hs_df.groupby(['labels']).size()"
      ],
      "execution_count": null,
      "outputs": [
        {
          "output_type": "execute_result",
          "data": {
            "text/plain": [
              "labels\n",
              "hs        7309\n",
              "non_hs    5860\n",
              "dtype: int64"
            ]
          },
          "metadata": {
            "tags": []
          },
          "execution_count": 35
        }
      ]
    },
    {
      "cell_type": "markdown",
      "metadata": {
        "id": "3tFbG0NjcOr6"
      },
      "source": [
        "# **Data Cleaning pt 1**\n",
        "* Remove RT, \\n, username USER\n",
        "* Mask 'link' into `<link>`\n",
        "* Replace HTML character symbols, such as `&gt; &lt;`\n",
        "\n",
        "Data cleaning p1 must be done before processing emoji and emoticon so that `://` in `https://` is not treated as emoticon."
      ]
    },
    {
      "cell_type": "code",
      "metadata": {
        "colab": {
          "base_uri": "https://localhost:8080/",
          "height": 402
        },
        "id": "AM5ncYPtbqMf",
        "outputId": "411e6629-9039-4e8a-84bc-f2a60592d8a3"
      },
      "source": [
        "def clean_p1(tweet):\n",
        "    rgx = r'@[A-Za-z0-9_]*:?|RT|\\n|\\\\n|USER:?'                                                   # @username: | RT | \\n | \\\\n | USER:\n",
        "    rgx_url = r'http[s]?[://]?(?:[a-z]|[0-9]|[$-_@.&+]|[!*\\(\\),]|(?:%[0-9a-f][0-9a-f]))*|URL'    # including truncated 'https://'\n",
        "    rgx_simbol_dan = r'&amp;'\n",
        "    rgx_lt = r'&lt;'\n",
        "    rgx_gt = r'&gt;'\n",
        "\n",
        "    cleansed = re.sub(rgx, ' ', tweet)\n",
        "    cleansed = re.sub(rgx_url, '<links>', cleansed)\n",
        "    cleansed = re.sub(rgx_simbol_dan, 'dan', cleansed)\n",
        "    cleansed = re.sub(rgx_lt, '<', cleansed)\n",
        "    cleansed = re.sub(rgx_gt, '>', cleansed)\n",
        "    return cleansed\n",
        "\n",
        "hs_df['text_cleansed_p1'] = hs_df['text_ori'].apply(lambda row: clean_p1(row))\n",
        "display(hs_df)"
      ],
      "execution_count": null,
      "outputs": [
        {
          "output_type": "display_data",
          "data": {
            "text/html": [
              "<div>\n",
              "<style scoped>\n",
              "    .dataframe tbody tr th:only-of-type {\n",
              "        vertical-align: middle;\n",
              "    }\n",
              "\n",
              "    .dataframe tbody tr th {\n",
              "        vertical-align: top;\n",
              "    }\n",
              "\n",
              "    .dataframe thead th {\n",
              "        text-align: right;\n",
              "    }\n",
              "</style>\n",
              "<table border=\"1\" class=\"dataframe\">\n",
              "  <thead>\n",
              "    <tr style=\"text-align: right;\">\n",
              "      <th></th>\n",
              "      <th>text_ori</th>\n",
              "      <th>labels</th>\n",
              "      <th>text_cleansed_p1</th>\n",
              "    </tr>\n",
              "  </thead>\n",
              "  <tbody>\n",
              "    <tr>\n",
              "      <th>0</th>\n",
              "      <td>- disaat semua cowok berusaha melacak perhatia...</td>\n",
              "      <td>hs</td>\n",
              "      <td>- disaat semua cowok berusaha melacak perhatia...</td>\n",
              "    </tr>\n",
              "    <tr>\n",
              "      <th>1</th>\n",
              "      <td>RT USER: USER siapa yang telat ngasih tau elu?...</td>\n",
              "      <td>hs</td>\n",
              "      <td>siapa yang telat ngasih tau elu?edan sar...</td>\n",
              "    </tr>\n",
              "    <tr>\n",
              "      <th>2</th>\n",
              "      <td>41. Kadang aku berfikir, kenapa aku tetap perc...</td>\n",
              "      <td>non_hs</td>\n",
              "      <td>41. Kadang aku berfikir, kenapa aku tetap perc...</td>\n",
              "    </tr>\n",
              "    <tr>\n",
              "      <th>3</th>\n",
              "      <td>USER USER AKU ITU AKU\\n\\nKU TAU MATAMU SIPIT T...</td>\n",
              "      <td>non_hs</td>\n",
              "      <td>AKU ITU AKU  KU TAU MATAMU SIPIT TAPI DILI...</td>\n",
              "    </tr>\n",
              "    <tr>\n",
              "      <th>4</th>\n",
              "      <td>USER USER Kaum cebong kapir udah keliatan dong...</td>\n",
              "      <td>hs</td>\n",
              "      <td>Kaum cebong kapir udah keliatan dongoknya ...</td>\n",
              "    </tr>\n",
              "    <tr>\n",
              "      <th>...</th>\n",
              "      <td>...</td>\n",
              "      <td>...</td>\n",
              "      <td>...</td>\n",
              "    </tr>\n",
              "    <tr>\n",
              "      <th>13164</th>\n",
              "      <td>USER jangan asal ngomong ndasmu. congor lu yg ...</td>\n",
              "      <td>hs</td>\n",
              "      <td>jangan asal ngomong ndasmu. congor lu yg sek...</td>\n",
              "    </tr>\n",
              "    <tr>\n",
              "      <th>13165</th>\n",
              "      <td>USER Kasur mana enak kunyuk'</td>\n",
              "      <td>hs</td>\n",
              "      <td>Kasur mana enak kunyuk'</td>\n",
              "    </tr>\n",
              "    <tr>\n",
              "      <th>13166</th>\n",
              "      <td>USER Hati hati bisu :( .g\\n\\nlagi bosan huft \\...</td>\n",
              "      <td>non_hs</td>\n",
              "      <td>Hati hati bisu :( .g  lagi bosan huft \\xf0\\x...</td>\n",
              "    </tr>\n",
              "    <tr>\n",
              "      <th>13167</th>\n",
              "      <td>USER USER USER USER Bom yang real mudah terdet...</td>\n",
              "      <td>non_hs</td>\n",
              "      <td>Bom yang real mudah terdeteksi bom yan...</td>\n",
              "    </tr>\n",
              "    <tr>\n",
              "      <th>13168</th>\n",
              "      <td>USER Mana situ ngasih(\": itu cuma foto ya kuti...</td>\n",
              "      <td>hs</td>\n",
              "      <td>Mana situ ngasih(\": itu cuma foto ya kutil o...</td>\n",
              "    </tr>\n",
              "  </tbody>\n",
              "</table>\n",
              "<p>13169 rows × 3 columns</p>\n",
              "</div>"
            ],
            "text/plain": [
              "                                                text_ori  ...                                   text_cleansed_p1\n",
              "0      - disaat semua cowok berusaha melacak perhatia...  ...  - disaat semua cowok berusaha melacak perhatia...\n",
              "1      RT USER: USER siapa yang telat ngasih tau elu?...  ...        siapa yang telat ngasih tau elu?edan sar...\n",
              "2      41. Kadang aku berfikir, kenapa aku tetap perc...  ...  41. Kadang aku berfikir, kenapa aku tetap perc...\n",
              "3      USER USER AKU ITU AKU\\n\\nKU TAU MATAMU SIPIT T...  ...      AKU ITU AKU  KU TAU MATAMU SIPIT TAPI DILI...\n",
              "4      USER USER Kaum cebong kapir udah keliatan dong...  ...      Kaum cebong kapir udah keliatan dongoknya ...\n",
              "...                                                  ...  ...                                                ...\n",
              "13164  USER jangan asal ngomong ndasmu. congor lu yg ...  ...    jangan asal ngomong ndasmu. congor lu yg sek...\n",
              "13165                       USER Kasur mana enak kunyuk'  ...                            Kasur mana enak kunyuk'\n",
              "13166  USER Hati hati bisu :( .g\\n\\nlagi bosan huft \\...  ...    Hati hati bisu :( .g  lagi bosan huft \\xf0\\x...\n",
              "13167  USER USER USER USER Bom yang real mudah terdet...  ...          Bom yang real mudah terdeteksi bom yan...\n",
              "13168  USER Mana situ ngasih(\": itu cuma foto ya kuti...  ...    Mana situ ngasih(\": itu cuma foto ya kutil o...\n",
              "\n",
              "[13169 rows x 3 columns]"
            ]
          },
          "metadata": {
            "tags": []
          }
        }
      ]
    },
    {
      "cell_type": "markdown",
      "metadata": {
        "id": "IIiJhL71f7QA"
      },
      "source": [
        "# **Emoticon and Emoji**\n"
      ]
    },
    {
      "cell_type": "markdown",
      "metadata": {
        "id": "0iAkk5TTgH2k"
      },
      "source": [
        "## **Decode byte (convert from bytes to emoji symbols)**"
      ]
    },
    {
      "cell_type": "code",
      "metadata": {
        "id": "uANFBOcLkDv7"
      },
      "source": [
        "def byte_to_emoji(tweet):\n",
        "    try:\n",
        "      str_emoji = literal_eval('b\"\"\"' + tweet + '\"\"\"').decode('utf-8')\n",
        "    except:\n",
        "      str_emoji = tweet\n",
        "\n",
        "    return str_emoji"
      ],
      "execution_count": null,
      "outputs": []
    },
    {
      "cell_type": "code",
      "metadata": {
        "id": "raTkeQBdQQDq"
      },
      "source": [
        "tweets_decoded_emoji = [byte_to_emoji(row) for row in hs_df['text_cleansed_p1']]"
      ],
      "execution_count": null,
      "outputs": []
    },
    {
      "cell_type": "code",
      "metadata": {
        "colab": {
          "base_uri": "https://localhost:8080/",
          "height": 389
        },
        "id": "MKr34M4b17TR",
        "outputId": "a44b604d-d086-4b82-bc68-c616865f6ea0"
      },
      "source": [
        "display(hs_df['text_cleansed_p1'][60:70].to_list())\n",
        "display(tweets_decoded_emoji[60:70])"
      ],
      "execution_count": null,
      "outputs": [
        {
          "output_type": "display_data",
          "data": {
            "text/plain": [
              "['[ SAMPAI KAPAN MAKAN RACUN ? ]; _; Banyak ulama yang mengatakan hukum rokok mubah dan ada jugaâ?¦',\n",
              " 'Susilo Bambang Yudhoyono Presiden RI ke 6 meminta Khofifah Emil untuk dekat dengan masyarakat . No 1 Bisa ! BaGusS #KhofifahEmilNomer1',\n",
              " \"  udah biasa kali. Gue kpoper tapi kalo ngomonv sama temen2 gue, idol gua banci homo'\",\n",
              " \"Saya suka video   <links> Awal Kisah Perseteruan Haji Bolot dan Malih Tongtong'\",\n",
              " 'Budaya kafir bersungguh, klau hal2 islam tidak diendahkan...',\n",
              " '        \\\\xf0\\\\x9f\\\\x8e\\\\xb6 la la la...hm hmm \\\\xf0\\\\x9f\\\\x8e\\\\xa7 \"Semua diam ,semua bisu\" \"Kita coba tanya sama rumput yg bergoyang\"  \\\\xe2\\\\x99\\\\xab\\\\xe2\\\\x99\\\\xab\\\\xe2\\\\x99\\\\xab\\\\xe2\\\\x99\\\\xaa\\\\xe2\\\\x99\\\\xaa\\\\xe2\\\\x99\\\\xaa\\'',\n",
              " \"Apabila setan membisikkan was-was kepadamu, mintalah perlindungan kepada Allah. (QS. al-A\\\\xe2\\\\x80\\\\x99raf: 200 dan Fushilat: 36).'\",\n",
              " '              Klw ente atheis..ngapain sibuk dgn agama orang...',\n",
              " 'Lengserkan Jokowi Bangsat!!',\n",
              " '  Selamat hari kartini ; ; #2019GANTIPRESIDEN; #2019PRESIDENBARU']"
            ]
          },
          "metadata": {
            "tags": []
          }
        },
        {
          "output_type": "display_data",
          "data": {
            "text/plain": [
              "['[ SAMPAI KAPAN MAKAN RACUN ? ]; _; Banyak ulama yang mengatakan hukum rokok mubah dan ada jugaâ?¦',\n",
              " 'Susilo Bambang Yudhoyono Presiden RI ke 6 meminta Khofifah Emil untuk dekat dengan masyarakat . No 1 Bisa ! BaGusS #KhofifahEmilNomer1',\n",
              " \"  udah biasa kali. Gue kpoper tapi kalo ngomonv sama temen2 gue, idol gua banci homo'\",\n",
              " \"Saya suka video   <links> Awal Kisah Perseteruan Haji Bolot dan Malih Tongtong'\",\n",
              " 'Budaya kafir bersungguh, klau hal2 islam tidak diendahkan...',\n",
              " '        🎶 la la la...hm hmm 🎧 \"Semua diam ,semua bisu\" \"Kita coba tanya sama rumput yg bergoyang\"  ♫♫♫♪♪♪\\'',\n",
              " \"Apabila setan membisikkan was-was kepadamu, mintalah perlindungan kepada Allah. (QS. al-A’raf: 200 dan Fushilat: 36).'\",\n",
              " '              Klw ente atheis..ngapain sibuk dgn agama orang...',\n",
              " 'Lengserkan Jokowi Bangsat!!',\n",
              " '  Selamat hari kartini ; ; #2019GANTIPRESIDEN; #2019PRESIDENBARU']"
            ]
          },
          "metadata": {
            "tags": []
          }
        }
      ]
    },
    {
      "cell_type": "markdown",
      "metadata": {
        "id": "r-_HbhuIl78q"
      },
      "source": [
        "## **Emoticon**\n",
        "\n",
        "The EMOTICONS_ID dictionary (Indonesian emoticon description) is a part of Chrysant Celine Setyawan's ongoing bachelor thesis, so can't be published now."
      ]
    },
    {
      "cell_type": "code",
      "metadata": {
        "id": "12KQFoRUL_cu"
      },
      "source": [
        "f = open('EMOTICONS_ID.json')\n",
        "EMOTICONS_ID = json.load(f)\n",
        "f.close()"
      ],
      "execution_count": null,
      "outputs": []
    },
    {
      "cell_type": "code",
      "metadata": {
        "id": "BDQ-GKW8jG2I"
      },
      "source": [
        "def emot_to_desc(tweet):\n",
        "    # Regex punctuation nya diperoleh dari `string.punctuation` dan ditambahkan `“”…`\n",
        "    rgx_repeated_punct = re.compile(r'''([!\"#$%&'()*+,-./:;<=>?@[\\]^_`“”{|}~…])\\1+''', re.IGNORECASE)\n",
        "    tweet = re.sub(rgx_repeated_punct, r'\\1', tweet)                                # remove repeated punctuation, e.g. :---))))))))\n",
        "\n",
        "    for emot in EMOTICONS_ID:\n",
        "        tweet = re.sub('(' + emot + ')', ' '.join(EMOTICONS_ID[emot].replace(',', '').split()), tweet)\n",
        "    \n",
        "    return tweet"
      ],
      "execution_count": null,
      "outputs": []
    },
    {
      "cell_type": "code",
      "metadata": {
        "colab": {
          "base_uri": "https://localhost:8080/"
        },
        "id": "BfpKZNZkQUNq",
        "outputId": "92510603-e0e4-48e0-915c-0efc6a400432"
      },
      "source": [
        "tweets_emot_desc = [emot_to_desc(tweet) for tweet in tweets_decoded_emoji]\n",
        "tweets_emot_desc[120:128]"
      ],
      "execution_count": null,
      "outputs": [
        {
          "output_type": "execute_result",
          "data": {
            "text/plain": [
              "['Si tolol udah tau pemerintah rezim komunis ini bobrok koruptor bisa pimpinan sidang DPR paya cebong <links>',\n",
              " \"dari dulu kenapa bapak w kalau ke mantan mantan w selalu mgerasa sedih ampe kepikiran dan gabisa tidur lohh?! dan w ngerasa jadi anak yg brengsek aja gt ke laki2 wajah senang atau tersenyum'\",\n",
              " 'Cina perusak bangsa! Usir ! Stuju?',\n",
              " '#2019GantiPresiden scra konstitusional hak setiap rakyat woiii! . Gini nih kalo planga plongo tapi kelakuan otoriter.',\n",
              " 'Mari kita wujudkan Pilkada Kota Bengkulu 2018 aman dan damai.; .; .; coki_adem86 98heruâ?¦',\n",
              " \"Mau tanya serius ini sm presiden jokowi= knp yg ada cm islam nusantara,knp tdk ada kristen nusantara,budha,hindu bahkan kong huchu nusantara?'\",\n",
              " 'KORSA: Pernyataan Moeldoko Bukti Istana Takut dengan Kebangkitan Umat Islam',\n",
              " \"cowo yang jago drasex mana? sini ngentot sama adek - luvian'\"]"
            ]
          },
          "metadata": {
            "tags": []
          },
          "execution_count": 43
        }
      ]
    },
    {
      "cell_type": "markdown",
      "metadata": {
        "id": "klHrDCBvmfsL"
      },
      "source": [
        "## **Emoji**\n",
        "\n",
        "The EMOJI_ID dictionary (Indonesian emoji description) is a part of Chrysant Celine Setyawan's ongoing bachelor thesis, so can't be published now."
      ]
    },
    {
      "cell_type": "code",
      "metadata": {
        "id": "DRyWYtJWlZaR"
      },
      "source": [
        "# Open the file\n",
        "f = open('EMOJI_ID.json')\n",
        "EMOJI_ID = json.load(f)\n",
        "f.close()"
      ],
      "execution_count": null,
      "outputs": []
    },
    {
      "cell_type": "code",
      "metadata": {
        "id": "U8wLqWwmZmJx"
      },
      "source": [
        "# Use code from https://github.com/carpedm20/emoji/blob/master/emoji/core.py and modified accordingly.\n",
        "\n",
        "'''\n",
        "  Returns compiled regular expression that matches emojis defined in\n",
        "  ``EMOJI_ID``. The regular expression is only compiled once.\n",
        "'''\n",
        "def get_emoji_regexp():\n",
        "    EMOJI_UNICODE = EMOJI_ID\n",
        "    \n",
        "    # Sort emojis by length to make sure multi-character emojis are matched first\n",
        "    emojis = sorted(EMOJI_UNICODE.keys(), key=len, reverse=True)\n",
        "\n",
        "    # Escape Unicode string\n",
        "    pattern = u'(' + u'|'.join(re.escape(u) for u in emojis) + u')'\n",
        "\n",
        "    # combine a regular expression pattern into pattern objects, which can be used for pattern matching\n",
        "    _EMOJI_REGEXP = re.compile(pattern)\n",
        "\n",
        "    return _EMOJI_REGEXP\n",
        "\n",
        "'''\n",
        "  Returns emoji that has been replaced by its decriptions in Bahasa Indonesia\n",
        "'''\n",
        "_EMOJI_REGEXP = get_emoji_regexp()\n",
        "_DEFAULT_DELIMITER = ':'\n",
        "\n",
        "def emoji_to_desc(string, delimiters=(_DEFAULT_DELIMITER, _DEFAULT_DELIMITER), codes_dict=EMOJI_ID):\n",
        "    def replace(match):\n",
        "        val = codes_dict.get(match.group(0), match.group(0))\n",
        "        return delimiters[0] + val[1:-1] + delimiters[1]\n",
        "\n",
        "    demojized = _EMOJI_REGEXP.sub(replace, string)\n",
        "    return re.sub(u'\\ufe0f', '', demojized)"
      ],
      "execution_count": null,
      "outputs": []
    },
    {
      "cell_type": "code",
      "metadata": {
        "colab": {
          "base_uri": "https://localhost:8080/"
        },
        "id": "gl6oLPVYGrMY",
        "outputId": "c2d8eae2-5b9b-42b1-e7b6-8e6695fdaff0"
      },
      "source": [
        "tweets_emoji_desc = [emoji_to_desc(tweet) for tweet in tweets_emot_desc]\n",
        "tweets_emoji_desc[60:70]"
      ],
      "execution_count": null,
      "outputs": [
        {
          "output_type": "execute_result",
          "data": {
            "text/plain": [
              "['[ SAMPAI KAPAN MAKAN RACUN ? ]; _; Banyak ulama yang mengatakan hukum rokok mubah dan ada jugaâ?¦',\n",
              " 'Susilo Bambang Yudhoyono Presiden RI ke 6 meminta Khofifah Emil untuk dekat dengan masyarakat . No 1 Bisa ! BaGusS #KhofifahEmilNomer1',\n",
              " \"  udah biasa kali. Gue kpoper tapi kalo ngomonv sama temen2 gue, idol gua banci homo'\",\n",
              " \"Saya suka video   <links> Awal Kisah Perseteruan Haji Bolot dan Malih Tongtong'\",\n",
              " 'Budaya kafir bersungguh, klau hal2 islam tidak diendahkan.',\n",
              " '        :not-not musik: la la la.hm hmm :headphone: \"Semua diam ,semua bisu\" \"Kita coba tanya sama rumput yg bergoyang\"  ♫♫♫♪♪♪\\'',\n",
              " \"Apabila setan membisikkan was-was kepadamu, mintalah perlindungan kepada Allah. (QS. al-A’raf: 200 dan Fushilat: 36).'\",\n",
              " '              Klw ente atheis.ngapain sibuk dgn agama orang.',\n",
              " 'Lengserkan Jokowi Bangsat!',\n",
              " '  Selamat hari kartini ; ; #2019GANTIPRESIDEN; #2019PRESIDENBARU']"
            ]
          },
          "metadata": {
            "tags": []
          },
          "execution_count": 47
        }
      ]
    },
    {
      "cell_type": "code",
      "metadata": {
        "colab": {
          "base_uri": "https://localhost:8080/",
          "height": 435
        },
        "id": "e59PUgKsjqga",
        "outputId": "7a62657e-1885-40a5-d544-ef89ccc270f5"
      },
      "source": [
        "hs_df['text_emot_emoji_desc'] = tweets_emoji_desc\n",
        "display(hs_df)"
      ],
      "execution_count": null,
      "outputs": [
        {
          "output_type": "display_data",
          "data": {
            "text/html": [
              "<div>\n",
              "<style scoped>\n",
              "    .dataframe tbody tr th:only-of-type {\n",
              "        vertical-align: middle;\n",
              "    }\n",
              "\n",
              "    .dataframe tbody tr th {\n",
              "        vertical-align: top;\n",
              "    }\n",
              "\n",
              "    .dataframe thead th {\n",
              "        text-align: right;\n",
              "    }\n",
              "</style>\n",
              "<table border=\"1\" class=\"dataframe\">\n",
              "  <thead>\n",
              "    <tr style=\"text-align: right;\">\n",
              "      <th></th>\n",
              "      <th>text_ori</th>\n",
              "      <th>labels</th>\n",
              "      <th>text_cleansed_p1</th>\n",
              "      <th>text_emot_emoji_desc</th>\n",
              "    </tr>\n",
              "  </thead>\n",
              "  <tbody>\n",
              "    <tr>\n",
              "      <th>0</th>\n",
              "      <td>- disaat semua cowok berusaha melacak perhatia...</td>\n",
              "      <td>hs</td>\n",
              "      <td>- disaat semua cowok berusaha melacak perhatia...</td>\n",
              "      <td>- disaat semua cowok berusaha melacak perhatia...</td>\n",
              "    </tr>\n",
              "    <tr>\n",
              "      <th>1</th>\n",
              "      <td>RT USER: USER siapa yang telat ngasih tau elu?...</td>\n",
              "      <td>hs</td>\n",
              "      <td>siapa yang telat ngasih tau elu?edan sar...</td>\n",
              "      <td>siapa yang telat ngasih tau elu?edan sar...</td>\n",
              "    </tr>\n",
              "    <tr>\n",
              "      <th>2</th>\n",
              "      <td>41. Kadang aku berfikir, kenapa aku tetap perc...</td>\n",
              "      <td>non_hs</td>\n",
              "      <td>41. Kadang aku berfikir, kenapa aku tetap perc...</td>\n",
              "      <td>41. Kadang aku berfikir, kenapa aku tetap perc...</td>\n",
              "    </tr>\n",
              "    <tr>\n",
              "      <th>3</th>\n",
              "      <td>USER USER AKU ITU AKU\\n\\nKU TAU MATAMU SIPIT T...</td>\n",
              "      <td>non_hs</td>\n",
              "      <td>AKU ITU AKU  KU TAU MATAMU SIPIT TAPI DILI...</td>\n",
              "      <td>AKU ITU AKU  KU TAU MATAMU SIPIT TAPI DILI...</td>\n",
              "    </tr>\n",
              "    <tr>\n",
              "      <th>4</th>\n",
              "      <td>USER USER Kaum cebong kapir udah keliatan dong...</td>\n",
              "      <td>hs</td>\n",
              "      <td>Kaum cebong kapir udah keliatan dongoknya ...</td>\n",
              "      <td>Kaum cebong kapir udah keliatan dongoknya ...</td>\n",
              "    </tr>\n",
              "    <tr>\n",
              "      <th>...</th>\n",
              "      <td>...</td>\n",
              "      <td>...</td>\n",
              "      <td>...</td>\n",
              "      <td>...</td>\n",
              "    </tr>\n",
              "    <tr>\n",
              "      <th>13164</th>\n",
              "      <td>USER jangan asal ngomong ndasmu. congor lu yg ...</td>\n",
              "      <td>hs</td>\n",
              "      <td>jangan asal ngomong ndasmu. congor lu yg sek...</td>\n",
              "      <td>jangan asal ngomong ndasmu. congor lu yg sek...</td>\n",
              "    </tr>\n",
              "    <tr>\n",
              "      <th>13165</th>\n",
              "      <td>USER Kasur mana enak kunyuk'</td>\n",
              "      <td>hs</td>\n",
              "      <td>Kasur mana enak kunyuk'</td>\n",
              "      <td>Kasur mana enak kunyuk'</td>\n",
              "    </tr>\n",
              "    <tr>\n",
              "      <th>13166</th>\n",
              "      <td>USER Hati hati bisu :( .g\\n\\nlagi bosan huft \\...</td>\n",
              "      <td>non_hs</td>\n",
              "      <td>Hati hati bisu :( .g  lagi bosan huft \\xf0\\x...</td>\n",
              "      <td>Hati hati bisu sedih atau cemberut .g  lagi ...</td>\n",
              "    </tr>\n",
              "    <tr>\n",
              "      <th>13167</th>\n",
              "      <td>USER USER USER USER Bom yang real mudah terdet...</td>\n",
              "      <td>non_hs</td>\n",
              "      <td>Bom yang real mudah terdeteksi bom yan...</td>\n",
              "      <td>Bom yang real mudah terdeteksi bom yan...</td>\n",
              "    </tr>\n",
              "    <tr>\n",
              "      <th>13168</th>\n",
              "      <td>USER Mana situ ngasih(\": itu cuma foto ya kuti...</td>\n",
              "      <td>hs</td>\n",
              "      <td>Mana situ ngasih(\": itu cuma foto ya kutil o...</td>\n",
              "      <td>Mana situ ngasih(\": itu cuma foto ya kutil o...</td>\n",
              "    </tr>\n",
              "  </tbody>\n",
              "</table>\n",
              "<p>13169 rows × 4 columns</p>\n",
              "</div>"
            ],
            "text/plain": [
              "                                                text_ori  ...                               text_emot_emoji_desc\n",
              "0      - disaat semua cowok berusaha melacak perhatia...  ...  - disaat semua cowok berusaha melacak perhatia...\n",
              "1      RT USER: USER siapa yang telat ngasih tau elu?...  ...        siapa yang telat ngasih tau elu?edan sar...\n",
              "2      41. Kadang aku berfikir, kenapa aku tetap perc...  ...  41. Kadang aku berfikir, kenapa aku tetap perc...\n",
              "3      USER USER AKU ITU AKU\\n\\nKU TAU MATAMU SIPIT T...  ...      AKU ITU AKU  KU TAU MATAMU SIPIT TAPI DILI...\n",
              "4      USER USER Kaum cebong kapir udah keliatan dong...  ...      Kaum cebong kapir udah keliatan dongoknya ...\n",
              "...                                                  ...  ...                                                ...\n",
              "13164  USER jangan asal ngomong ndasmu. congor lu yg ...  ...    jangan asal ngomong ndasmu. congor lu yg sek...\n",
              "13165                       USER Kasur mana enak kunyuk'  ...                            Kasur mana enak kunyuk'\n",
              "13166  USER Hati hati bisu :( .g\\n\\nlagi bosan huft \\...  ...    Hati hati bisu sedih atau cemberut .g  lagi ...\n",
              "13167  USER USER USER USER Bom yang real mudah terdet...  ...          Bom yang real mudah terdeteksi bom yan...\n",
              "13168  USER Mana situ ngasih(\": itu cuma foto ya kuti...  ...    Mana situ ngasih(\": itu cuma foto ya kutil o...\n",
              "\n",
              "[13169 rows x 4 columns]"
            ]
          },
          "metadata": {
            "tags": []
          }
        }
      ]
    },
    {
      "cell_type": "markdown",
      "metadata": {
        "id": "E9Nd47RvnF2E"
      },
      "source": [
        "# **Data Cleaning pt 2**\n",
        "* Lowercasing\n",
        "* Remove byte (b' atau b\")\n",
        "* Remove trailing spaces and multi spaces\n",
        "* Remove punctuation mark, except for `<>` that plays a role as unique token for masking `<links>`. The list of punctuation marks is obtained from `string.punctuation`, without `<>` and adding in `“”…`.\n",
        "\n",
        "These parts are done at the very end to clean everything (to ensure that any residuals from previous processes are also cleaned or handled)."
      ]
    },
    {
      "cell_type": "code",
      "metadata": {
        "colab": {
          "base_uri": "https://localhost:8080/",
          "height": 553
        },
        "id": "Vr9BmkVohQxy",
        "outputId": "5732de95-b65a-407e-98ac-a45bc9c0f6e3"
      },
      "source": [
        "def clean_p2(tweet):\n",
        "    punct = '''([!\"#$%&'()*+,-./:;=?@[\\]^_`“”{|}~…])\\1+'''                                 # from string.punctuation but without <>\n",
        "    rgx_multi_space = r' {2,}'\n",
        "    rgx_byte_format = r'''b'|b\"'''\n",
        "\n",
        "    tweet = tweet.lower()\n",
        "    cleansed = re.sub(rgx_byte_format, '', tweet)\n",
        "    cleansed = cleansed.translate(str.maketrans(punct, ' '*len(punct)))                    # replace punct with whitespace\n",
        "    cleansed = re.sub(rgx_multi_space, ' ', cleansed)                                      # remove multiple spaces\n",
        "    cleansed = cleansed.strip()                                                            # remove trailing spaces\n",
        "    return cleansed\n",
        "\n",
        "hs_df['text_cleansed_p2'] = hs_df['text_emot_emoji_desc'].apply(lambda row: clean_p2(row))\n",
        "display(hs_df)"
      ],
      "execution_count": null,
      "outputs": [
        {
          "output_type": "display_data",
          "data": {
            "text/html": [
              "<div>\n",
              "<style scoped>\n",
              "    .dataframe tbody tr th:only-of-type {\n",
              "        vertical-align: middle;\n",
              "    }\n",
              "\n",
              "    .dataframe tbody tr th {\n",
              "        vertical-align: top;\n",
              "    }\n",
              "\n",
              "    .dataframe thead th {\n",
              "        text-align: right;\n",
              "    }\n",
              "</style>\n",
              "<table border=\"1\" class=\"dataframe\">\n",
              "  <thead>\n",
              "    <tr style=\"text-align: right;\">\n",
              "      <th></th>\n",
              "      <th>text_ori</th>\n",
              "      <th>labels</th>\n",
              "      <th>text_cleansed_p1</th>\n",
              "      <th>text_emot_emoji_desc</th>\n",
              "      <th>text_cleansed_p2</th>\n",
              "    </tr>\n",
              "  </thead>\n",
              "  <tbody>\n",
              "    <tr>\n",
              "      <th>0</th>\n",
              "      <td>- disaat semua cowok berusaha melacak perhatia...</td>\n",
              "      <td>hs</td>\n",
              "      <td>- disaat semua cowok berusaha melacak perhatia...</td>\n",
              "      <td>- disaat semua cowok berusaha melacak perhatia...</td>\n",
              "      <td>disaat semua cowok berusaha melacak perhatian ...</td>\n",
              "    </tr>\n",
              "    <tr>\n",
              "      <th>1</th>\n",
              "      <td>RT USER: USER siapa yang telat ngasih tau elu?...</td>\n",
              "      <td>hs</td>\n",
              "      <td>siapa yang telat ngasih tau elu?edan sar...</td>\n",
              "      <td>siapa yang telat ngasih tau elu?edan sar...</td>\n",
              "      <td>siapa yang telat ngasih tau elu edan sarap gue...</td>\n",
              "    </tr>\n",
              "    <tr>\n",
              "      <th>2</th>\n",
              "      <td>41. Kadang aku berfikir, kenapa aku tetap perc...</td>\n",
              "      <td>non_hs</td>\n",
              "      <td>41. Kadang aku berfikir, kenapa aku tetap perc...</td>\n",
              "      <td>41. Kadang aku berfikir, kenapa aku tetap perc...</td>\n",
              "      <td>41 kadang aku berfikir kenapa aku tetap percay...</td>\n",
              "    </tr>\n",
              "    <tr>\n",
              "      <th>3</th>\n",
              "      <td>USER USER AKU ITU AKU\\n\\nKU TAU MATAMU SIPIT T...</td>\n",
              "      <td>non_hs</td>\n",
              "      <td>AKU ITU AKU  KU TAU MATAMU SIPIT TAPI DILI...</td>\n",
              "      <td>AKU ITU AKU  KU TAU MATAMU SIPIT TAPI DILI...</td>\n",
              "      <td>aku itu aku ku tau matamu sipit tapi diliat da...</td>\n",
              "    </tr>\n",
              "    <tr>\n",
              "      <th>4</th>\n",
              "      <td>USER USER Kaum cebong kapir udah keliatan dong...</td>\n",
              "      <td>hs</td>\n",
              "      <td>Kaum cebong kapir udah keliatan dongoknya ...</td>\n",
              "      <td>Kaum cebong kapir udah keliatan dongoknya ...</td>\n",
              "      <td>kaum cebong kapir udah keliatan dongoknya dari...</td>\n",
              "    </tr>\n",
              "    <tr>\n",
              "      <th>...</th>\n",
              "      <td>...</td>\n",
              "      <td>...</td>\n",
              "      <td>...</td>\n",
              "      <td>...</td>\n",
              "      <td>...</td>\n",
              "    </tr>\n",
              "    <tr>\n",
              "      <th>13164</th>\n",
              "      <td>USER jangan asal ngomong ndasmu. congor lu yg ...</td>\n",
              "      <td>hs</td>\n",
              "      <td>jangan asal ngomong ndasmu. congor lu yg sek...</td>\n",
              "      <td>jangan asal ngomong ndasmu. congor lu yg sek...</td>\n",
              "      <td>jangan asal ngomong ndasmu congor lu yg sekate...</td>\n",
              "    </tr>\n",
              "    <tr>\n",
              "      <th>13165</th>\n",
              "      <td>USER Kasur mana enak kunyuk'</td>\n",
              "      <td>hs</td>\n",
              "      <td>Kasur mana enak kunyuk'</td>\n",
              "      <td>Kasur mana enak kunyuk'</td>\n",
              "      <td>kasur mana enak kunyuk</td>\n",
              "    </tr>\n",
              "    <tr>\n",
              "      <th>13166</th>\n",
              "      <td>USER Hati hati bisu :( .g\\n\\nlagi bosan huft \\...</td>\n",
              "      <td>non_hs</td>\n",
              "      <td>Hati hati bisu :( .g  lagi bosan huft \\xf0\\x...</td>\n",
              "      <td>Hati hati bisu sedih atau cemberut .g  lagi ...</td>\n",
              "      <td>hati hati bisu sedih atau cemberut g lagi bosa...</td>\n",
              "    </tr>\n",
              "    <tr>\n",
              "      <th>13167</th>\n",
              "      <td>USER USER USER USER Bom yang real mudah terdet...</td>\n",
              "      <td>non_hs</td>\n",
              "      <td>Bom yang real mudah terdeteksi bom yan...</td>\n",
              "      <td>Bom yang real mudah terdeteksi bom yan...</td>\n",
              "      <td>bom yang real mudah terdeteksi bom yang terkub...</td>\n",
              "    </tr>\n",
              "    <tr>\n",
              "      <th>13168</th>\n",
              "      <td>USER Mana situ ngasih(\": itu cuma foto ya kuti...</td>\n",
              "      <td>hs</td>\n",
              "      <td>Mana situ ngasih(\": itu cuma foto ya kutil o...</td>\n",
              "      <td>Mana situ ngasih(\": itu cuma foto ya kutil o...</td>\n",
              "      <td>mana situ ngasih itu cuma foto ya kutil onta</td>\n",
              "    </tr>\n",
              "  </tbody>\n",
              "</table>\n",
              "<p>13169 rows × 5 columns</p>\n",
              "</div>"
            ],
            "text/plain": [
              "                                                text_ori  ...                                   text_cleansed_p2\n",
              "0      - disaat semua cowok berusaha melacak perhatia...  ...  disaat semua cowok berusaha melacak perhatian ...\n",
              "1      RT USER: USER siapa yang telat ngasih tau elu?...  ...  siapa yang telat ngasih tau elu edan sarap gue...\n",
              "2      41. Kadang aku berfikir, kenapa aku tetap perc...  ...  41 kadang aku berfikir kenapa aku tetap percay...\n",
              "3      USER USER AKU ITU AKU\\n\\nKU TAU MATAMU SIPIT T...  ...  aku itu aku ku tau matamu sipit tapi diliat da...\n",
              "4      USER USER Kaum cebong kapir udah keliatan dong...  ...  kaum cebong kapir udah keliatan dongoknya dari...\n",
              "...                                                  ...  ...                                                ...\n",
              "13164  USER jangan asal ngomong ndasmu. congor lu yg ...  ...  jangan asal ngomong ndasmu congor lu yg sekate...\n",
              "13165                       USER Kasur mana enak kunyuk'  ...                             kasur mana enak kunyuk\n",
              "13166  USER Hati hati bisu :( .g\\n\\nlagi bosan huft \\...  ...  hati hati bisu sedih atau cemberut g lagi bosa...\n",
              "13167  USER USER USER USER Bom yang real mudah terdet...  ...  bom yang real mudah terdeteksi bom yang terkub...\n",
              "13168  USER Mana situ ngasih(\": itu cuma foto ya kuti...  ...       mana situ ngasih itu cuma foto ya kutil onta\n",
              "\n",
              "[13169 rows x 5 columns]"
            ]
          },
          "metadata": {
            "tags": []
          }
        }
      ]
    },
    {
      "cell_type": "code",
      "metadata": {
        "colab": {
          "base_uri": "https://localhost:8080/",
          "height": 193
        },
        "id": "x0RdErbDPzml",
        "outputId": "d6c868d5-bbf2-4722-9b43-dc5f30b75d96"
      },
      "source": [
        "display(hs_df['text_cleansed_p2'][60:70].to_list())"
      ],
      "execution_count": null,
      "outputs": [
        {
          "output_type": "display_data",
          "data": {
            "text/plain": [
              "['sampai kapan makan racun banyak ulama yang mengatakan hukum rokok mubah dan ada jugaâ ¦',\n",
              " 'susilo bambang yudhoyono presiden ri ke 6 meminta khofifah emil untuk dekat dengan masyarakat no 1 bisa baguss khofifahemilnomer1',\n",
              " 'udah biasa kali gue kpoper tapi kalo ngomonv sama temen2 gue idol gua banci homo',\n",
              " 'saya suka video <links> awal kisah perseteruan haji bolot dan malih tongtong',\n",
              " 'budaya kafir bersungguh klau hal2 islam tidak diendahkan',\n",
              " 'not not musik la la la hm hmm headphone semua diam semua bisu kita coba tanya sama rumput yg bergoyang ♫♫♫♪♪♪',\n",
              " 'apabila setan membisikkan was was kepadamu mintalah perlindungan kepada allah qs al a’raf 200 dan fushilat 36',\n",
              " 'klw ente atheis ngapain sibuk dgn agama orang',\n",
              " 'lengserkan jokowi bangsat',\n",
              " 'selamat hari kartini 2019gantipresiden 2019presidenbaru']"
            ]
          },
          "metadata": {
            "tags": []
          }
        }
      ]
    },
    {
      "cell_type": "markdown",
      "metadata": {
        "id": "5iqvhVTW3xMo"
      },
      "source": [
        "# **Drop Missing Values**\n",
        "Drop rows that are empty (NaN) because the original tweet only consists of usernames. Such as index:\n",
        "\n",
        "\n",
        "```\n",
        "Int64Index([  182,   288,   318,   377,   490,  1282,  1565,  1840,  1972,\n",
        "             2514,  2719,  2763,  3208,  3412,  3838,  4830,  5324,  5388,\n",
        "             5444,  5710,  5801,  6075,  6328,  6746,  7010,  7179,  7190,\n",
        "             7644,  7675,  7751,  7769,  8068,  8249,  8512,  8901,  8941,\n",
        "             9297,  9982, 10701, 10736, 11303, 11958, 12632, 12682, 12788,\n",
        "            12952],\n",
        "           dtype='int64')\n",
        "```\n",
        "\n",
        "Pandas doesn't recognise empty strings as null. To fix this, you can convert the empty stings (or whatever is in your empty cells) to np.nan objects using replace(), and then call dropna() on your DataFrame.\n"
      ]
    },
    {
      "cell_type": "code",
      "metadata": {
        "colab": {
          "base_uri": "https://localhost:8080/"
        },
        "id": "PSypTeRc6EJE",
        "outputId": "6a0da4de-643f-44c3-89bc-5f480f5c5b50"
      },
      "source": [
        "# before replacing with NaN, empty strings are not detected\n",
        "hs_df.loc[pd.isna(hs_df['text_cleansed_p2']), :].index"
      ],
      "execution_count": null,
      "outputs": [
        {
          "output_type": "execute_result",
          "data": {
            "text/plain": [
              "Int64Index([], dtype='int64')"
            ]
          },
          "metadata": {
            "tags": []
          },
          "execution_count": 86
        }
      ]
    },
    {
      "cell_type": "code",
      "metadata": {
        "id": "NDHh9ZyU5uU1"
      },
      "source": [
        "import numpy as np\n",
        "hs_df['text_cleansed_p2'].replace('', np.nan, inplace=True)"
      ],
      "execution_count": null,
      "outputs": []
    },
    {
      "cell_type": "code",
      "metadata": {
        "colab": {
          "base_uri": "https://localhost:8080/",
          "height": 158
        },
        "id": "qWq8HcZu3sOV",
        "outputId": "fae4ea9a-46de-44ae-bf7f-90e5c593c71e"
      },
      "source": [
        "nan_idx = hs_df.loc[pd.isna(hs_df['text_cleansed_p2']), :].index\n",
        "display(nan_idx)\n",
        "display(len(nan_idx))"
      ],
      "execution_count": null,
      "outputs": [
        {
          "output_type": "display_data",
          "data": {
            "text/plain": [
              "Int64Index([  182,   288,   318,   377,   490,  1282,  1565,  1840,  1972,\n",
              "             2514,  2719,  2763,  3208,  3412,  3838,  4830,  5324,  5388,\n",
              "             5444,  5710,  5801,  6075,  6328,  6746,  7010,  7179,  7190,\n",
              "             7644,  7675,  7751,  7769,  8068,  8249,  8512,  8901,  8941,\n",
              "             9297,  9982, 10701, 10736, 11303, 11958, 12632, 12682, 12788,\n",
              "            12952],\n",
              "           dtype='int64')"
            ]
          },
          "metadata": {
            "tags": []
          }
        },
        {
          "output_type": "display_data",
          "data": {
            "text/plain": [
              "46"
            ]
          },
          "metadata": {
            "tags": []
          }
        }
      ]
    },
    {
      "cell_type": "code",
      "metadata": {
        "colab": {
          "base_uri": "https://localhost:8080/"
        },
        "id": "BFVgVBrY5Coj",
        "outputId": "d525104a-8843-4621-dfcc-0ac2738969c5"
      },
      "source": [
        "hs_df['text_cleansed_p2'][180:=183]"
      ],
      "execution_count": null,
      "outputs": [
        {
          "output_type": "execute_result",
          "data": {
            "text/plain": [
              "180    aku pernah sempat baca ttg harun yahya ini yg ...\n",
              "181    kita maju bersama ulama kita bergerak bersama ...\n",
              "182                                                     \n",
              "Name: text_cleansed_p2, dtype: object"
            ]
          },
          "metadata": {
            "tags": []
          },
          "execution_count": 81
        }
      ]
    },
    {
      "cell_type": "code",
      "metadata": {
        "id": "8AQXvKSZ6d0T"
      },
      "source": [
        "hs_df.dropna(inplace=True)"
      ],
      "execution_count": null,
      "outputs": []
    },
    {
      "cell_type": "code",
      "metadata": {
        "colab": {
          "base_uri": "https://localhost:8080/"
        },
        "id": "PJD2p26d6fz0",
        "outputId": "348fe3f8-24eb-4579-ec9f-15a72aa57960"
      },
      "source": [
        "len(hs_df)"
      ],
      "execution_count": null,
      "outputs": [
        {
          "output_type": "execute_result",
          "data": {
            "text/plain": [
              "13123"
            ]
          },
          "metadata": {
            "tags": []
          },
          "execution_count": 92
        }
      ]
    },
    {
      "cell_type": "markdown",
      "metadata": {
        "id": "8Due-a_Ttfjo"
      },
      "source": [
        "# **Export to csv**"
      ]
    },
    {
      "cell_type": "code",
      "metadata": {
        "id": "tVAW-4_buSvb"
      },
      "source": [
        "# hs_df.to_csv(HS_PATH + 'hs-abusive_preprocessed_all-step.csv')"
      ],
      "execution_count": null,
      "outputs": []
    },
    {
      "cell_type": "code",
      "metadata": {
        "id": "gO0JKcFF9KtA",
        "colab": {
          "base_uri": "https://localhost:8080/",
          "height": 402
        },
        "outputId": "df45fb2d-08c3-4514-d645-eb5e67e1a879"
      },
      "source": [
        "hs_df_preprocessed = hs_df[['text_cleansed_p2', 'labels']].copy()\n",
        "hs_df_preprocessed.rename(columns={'text_cleansed_p2': 'text'}, inplace=True)\n",
        "# hs_df_preprocessed.to_csv(HS_PATH + 'hs-abusive_preprocessed.csv', index=False)\n",
        "hs_df_preprocessed"
      ],
      "execution_count": null,
      "outputs": [
        {
          "output_type": "execute_result",
          "data": {
            "text/html": [
              "<div>\n",
              "<style scoped>\n",
              "    .dataframe tbody tr th:only-of-type {\n",
              "        vertical-align: middle;\n",
              "    }\n",
              "\n",
              "    .dataframe tbody tr th {\n",
              "        vertical-align: top;\n",
              "    }\n",
              "\n",
              "    .dataframe thead th {\n",
              "        text-align: right;\n",
              "    }\n",
              "</style>\n",
              "<table border=\"1\" class=\"dataframe\">\n",
              "  <thead>\n",
              "    <tr style=\"text-align: right;\">\n",
              "      <th></th>\n",
              "      <th>text</th>\n",
              "      <th>labels</th>\n",
              "    </tr>\n",
              "  </thead>\n",
              "  <tbody>\n",
              "    <tr>\n",
              "      <th>0</th>\n",
              "      <td>disaat semua cowok berusaha melacak perhatian ...</td>\n",
              "      <td>hs</td>\n",
              "    </tr>\n",
              "    <tr>\n",
              "      <th>1</th>\n",
              "      <td>siapa yang telat ngasih tau elu edan sarap gue...</td>\n",
              "      <td>hs</td>\n",
              "    </tr>\n",
              "    <tr>\n",
              "      <th>2</th>\n",
              "      <td>41 kadang aku berfikir kenapa aku tetap percay...</td>\n",
              "      <td>non_hs</td>\n",
              "    </tr>\n",
              "    <tr>\n",
              "      <th>3</th>\n",
              "      <td>aku itu aku ku tau matamu sipit tapi diliat da...</td>\n",
              "      <td>non_hs</td>\n",
              "    </tr>\n",
              "    <tr>\n",
              "      <th>4</th>\n",
              "      <td>kaum cebong kapir udah keliatan dongoknya dari...</td>\n",
              "      <td>hs</td>\n",
              "    </tr>\n",
              "    <tr>\n",
              "      <th>...</th>\n",
              "      <td>...</td>\n",
              "      <td>...</td>\n",
              "    </tr>\n",
              "    <tr>\n",
              "      <th>13164</th>\n",
              "      <td>jangan asal ngomong ndasmu congor lu yg sekate...</td>\n",
              "      <td>hs</td>\n",
              "    </tr>\n",
              "    <tr>\n",
              "      <th>13165</th>\n",
              "      <td>kasur mana enak kunyuk</td>\n",
              "      <td>hs</td>\n",
              "    </tr>\n",
              "    <tr>\n",
              "      <th>13166</th>\n",
              "      <td>hati hati bisu sedih atau cemberut g lagi bosa...</td>\n",
              "      <td>non_hs</td>\n",
              "    </tr>\n",
              "    <tr>\n",
              "      <th>13167</th>\n",
              "      <td>bom yang real mudah terdeteksi bom yang terkub...</td>\n",
              "      <td>non_hs</td>\n",
              "    </tr>\n",
              "    <tr>\n",
              "      <th>13168</th>\n",
              "      <td>mana situ ngasih itu cuma foto ya kutil onta</td>\n",
              "      <td>hs</td>\n",
              "    </tr>\n",
              "  </tbody>\n",
              "</table>\n",
              "<p>13123 rows × 2 columns</p>\n",
              "</div>"
            ],
            "text/plain": [
              "                                                    text  labels\n",
              "0      disaat semua cowok berusaha melacak perhatian ...      hs\n",
              "1      siapa yang telat ngasih tau elu edan sarap gue...      hs\n",
              "2      41 kadang aku berfikir kenapa aku tetap percay...  non_hs\n",
              "3      aku itu aku ku tau matamu sipit tapi diliat da...  non_hs\n",
              "4      kaum cebong kapir udah keliatan dongoknya dari...      hs\n",
              "...                                                  ...     ...\n",
              "13164  jangan asal ngomong ndasmu congor lu yg sekate...      hs\n",
              "13165                             kasur mana enak kunyuk      hs\n",
              "13166  hati hati bisu sedih atau cemberut g lagi bosa...  non_hs\n",
              "13167  bom yang real mudah terdeteksi bom yang terkub...  non_hs\n",
              "13168       mana situ ngasih itu cuma foto ya kutil onta      hs\n",
              "\n",
              "[13123 rows x 2 columns]"
            ]
          },
          "metadata": {
            "tags": []
          },
          "execution_count": 95
        }
      ]
    },
    {
      "cell_type": "code",
      "metadata": {
        "id": "cwk1OjrNSb-P"
      },
      "source": [
        ""
      ],
      "execution_count": null,
      "outputs": []
    }
  ]
}