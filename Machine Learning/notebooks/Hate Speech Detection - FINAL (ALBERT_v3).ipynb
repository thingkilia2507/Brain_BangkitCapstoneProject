{
  "nbformat": 4,
  "nbformat_minor": 0,
  "metadata": {
    "colab": {
      "name": "Hate Speech Detection - ALBERT v3 (bigger ratio of val and test set, minimal preprocessing).ipynb",
      "provenance": [],
      "collapsed_sections": [],
      "toc_visible": true,
      "include_colab_link": true
    },
    "kernelspec": {
      "name": "python3",
      "display_name": "Python 3"
    },
    "language_info": {
      "name": "python"
    },
    "widgets": {
      "application/vnd.jupyter.widget-state+json": {
        "74957e86739e4932a8993b769510c768": {
          "model_module": "@jupyter-widgets/controls",
          "model_name": "HBoxModel",
          "state": {
            "_view_name": "HBoxView",
            "_dom_classes": [],
            "_model_name": "HBoxModel",
            "_view_module": "@jupyter-widgets/controls",
            "_model_module_version": "1.5.0",
            "_view_count": null,
            "_view_module_version": "1.5.0",
            "box_style": "",
            "layout": "IPY_MODEL_96d7c64a03434924a91496cd38b6004e",
            "_model_module": "@jupyter-widgets/controls",
            "children": [
              "IPY_MODEL_367649416e7944469e40718eb8749f71",
              "IPY_MODEL_b7752246d9ee4d4cbf76353e3f6e1209",
              "IPY_MODEL_549ee557c79747cc9f84f9a24ae44254"
            ]
          }
        },
        "96d7c64a03434924a91496cd38b6004e": {
          "model_module": "@jupyter-widgets/base",
          "model_name": "LayoutModel",
          "state": {
            "_view_name": "LayoutView",
            "grid_template_rows": null,
            "right": null,
            "justify_content": null,
            "_view_module": "@jupyter-widgets/base",
            "overflow": null,
            "_model_module_version": "1.2.0",
            "_view_count": null,
            "flex_flow": null,
            "width": null,
            "min_width": null,
            "border": null,
            "align_items": null,
            "bottom": null,
            "_model_module": "@jupyter-widgets/base",
            "top": null,
            "grid_column": null,
            "overflow_y": null,
            "overflow_x": null,
            "grid_auto_flow": null,
            "grid_area": null,
            "grid_template_columns": null,
            "flex": null,
            "_model_name": "LayoutModel",
            "justify_items": null,
            "grid_row": null,
            "max_height": null,
            "align_content": null,
            "visibility": null,
            "align_self": null,
            "height": null,
            "min_height": null,
            "padding": null,
            "grid_auto_rows": null,
            "grid_gap": null,
            "max_width": null,
            "order": null,
            "_view_module_version": "1.2.0",
            "grid_template_areas": null,
            "object_position": null,
            "object_fit": null,
            "grid_auto_columns": null,
            "margin": null,
            "display": null,
            "left": null
          }
        },
        "367649416e7944469e40718eb8749f71": {
          "model_module": "@jupyter-widgets/controls",
          "model_name": "HTMLModel",
          "state": {
            "_view_name": "HTMLView",
            "style": "IPY_MODEL_8d4244f338214cb99c264474ec1f41ff",
            "_dom_classes": [],
            "description": "",
            "_model_name": "HTMLModel",
            "placeholder": "​",
            "_view_module": "@jupyter-widgets/controls",
            "_model_module_version": "1.5.0",
            "value": "Downloading: 100%",
            "_view_count": null,
            "_view_module_version": "1.5.0",
            "description_tooltip": null,
            "_model_module": "@jupyter-widgets/controls",
            "layout": "IPY_MODEL_9f11b077102047838c9acbe77c45b333"
          }
        },
        "b7752246d9ee4d4cbf76353e3f6e1209": {
          "model_module": "@jupyter-widgets/controls",
          "model_name": "FloatProgressModel",
          "state": {
            "_view_name": "ProgressView",
            "style": "IPY_MODEL_e716e90115c54c22bc8ebca45d876014",
            "_dom_classes": [],
            "description": "",
            "_model_name": "FloatProgressModel",
            "bar_style": "success",
            "max": 224974,
            "_view_module": "@jupyter-widgets/controls",
            "_model_module_version": "1.5.0",
            "value": 224974,
            "_view_count": null,
            "_view_module_version": "1.5.0",
            "orientation": "horizontal",
            "min": 0,
            "description_tooltip": null,
            "_model_module": "@jupyter-widgets/controls",
            "layout": "IPY_MODEL_33fcebe4fb0d47a688e2297cf8289868"
          }
        },
        "549ee557c79747cc9f84f9a24ae44254": {
          "model_module": "@jupyter-widgets/controls",
          "model_name": "HTMLModel",
          "state": {
            "_view_name": "HTMLView",
            "style": "IPY_MODEL_c5fa6255d83246df85e8f367726b0ae3",
            "_dom_classes": [],
            "description": "",
            "_model_name": "HTMLModel",
            "placeholder": "​",
            "_view_module": "@jupyter-widgets/controls",
            "_model_module_version": "1.5.0",
            "value": " 225k/225k [00:00&lt;00:00, 4.68MB/s]",
            "_view_count": null,
            "_view_module_version": "1.5.0",
            "description_tooltip": null,
            "_model_module": "@jupyter-widgets/controls",
            "layout": "IPY_MODEL_86e3ea0b306848e0a809de57caf1d1ea"
          }
        },
        "8d4244f338214cb99c264474ec1f41ff": {
          "model_module": "@jupyter-widgets/controls",
          "model_name": "DescriptionStyleModel",
          "state": {
            "_view_name": "StyleView",
            "_model_name": "DescriptionStyleModel",
            "description_width": "",
            "_view_module": "@jupyter-widgets/base",
            "_model_module_version": "1.5.0",
            "_view_count": null,
            "_view_module_version": "1.2.0",
            "_model_module": "@jupyter-widgets/controls"
          }
        },
        "9f11b077102047838c9acbe77c45b333": {
          "model_module": "@jupyter-widgets/base",
          "model_name": "LayoutModel",
          "state": {
            "_view_name": "LayoutView",
            "grid_template_rows": null,
            "right": null,
            "justify_content": null,
            "_view_module": "@jupyter-widgets/base",
            "overflow": null,
            "_model_module_version": "1.2.0",
            "_view_count": null,
            "flex_flow": null,
            "width": null,
            "min_width": null,
            "border": null,
            "align_items": null,
            "bottom": null,
            "_model_module": "@jupyter-widgets/base",
            "top": null,
            "grid_column": null,
            "overflow_y": null,
            "overflow_x": null,
            "grid_auto_flow": null,
            "grid_area": null,
            "grid_template_columns": null,
            "flex": null,
            "_model_name": "LayoutModel",
            "justify_items": null,
            "grid_row": null,
            "max_height": null,
            "align_content": null,
            "visibility": null,
            "align_self": null,
            "height": null,
            "min_height": null,
            "padding": null,
            "grid_auto_rows": null,
            "grid_gap": null,
            "max_width": null,
            "order": null,
            "_view_module_version": "1.2.0",
            "grid_template_areas": null,
            "object_position": null,
            "object_fit": null,
            "grid_auto_columns": null,
            "margin": null,
            "display": null,
            "left": null
          }
        },
        "e716e90115c54c22bc8ebca45d876014": {
          "model_module": "@jupyter-widgets/controls",
          "model_name": "ProgressStyleModel",
          "state": {
            "_view_name": "StyleView",
            "_model_name": "ProgressStyleModel",
            "description_width": "",
            "_view_module": "@jupyter-widgets/base",
            "_model_module_version": "1.5.0",
            "_view_count": null,
            "_view_module_version": "1.2.0",
            "bar_color": null,
            "_model_module": "@jupyter-widgets/controls"
          }
        },
        "33fcebe4fb0d47a688e2297cf8289868": {
          "model_module": "@jupyter-widgets/base",
          "model_name": "LayoutModel",
          "state": {
            "_view_name": "LayoutView",
            "grid_template_rows": null,
            "right": null,
            "justify_content": null,
            "_view_module": "@jupyter-widgets/base",
            "overflow": null,
            "_model_module_version": "1.2.0",
            "_view_count": null,
            "flex_flow": null,
            "width": null,
            "min_width": null,
            "border": null,
            "align_items": null,
            "bottom": null,
            "_model_module": "@jupyter-widgets/base",
            "top": null,
            "grid_column": null,
            "overflow_y": null,
            "overflow_x": null,
            "grid_auto_flow": null,
            "grid_area": null,
            "grid_template_columns": null,
            "flex": null,
            "_model_name": "LayoutModel",
            "justify_items": null,
            "grid_row": null,
            "max_height": null,
            "align_content": null,
            "visibility": null,
            "align_self": null,
            "height": null,
            "min_height": null,
            "padding": null,
            "grid_auto_rows": null,
            "grid_gap": null,
            "max_width": null,
            "order": null,
            "_view_module_version": "1.2.0",
            "grid_template_areas": null,
            "object_position": null,
            "object_fit": null,
            "grid_auto_columns": null,
            "margin": null,
            "display": null,
            "left": null
          }
        },
        "c5fa6255d83246df85e8f367726b0ae3": {
          "model_module": "@jupyter-widgets/controls",
          "model_name": "DescriptionStyleModel",
          "state": {
            "_view_name": "StyleView",
            "_model_name": "DescriptionStyleModel",
            "description_width": "",
            "_view_module": "@jupyter-widgets/base",
            "_model_module_version": "1.5.0",
            "_view_count": null,
            "_view_module_version": "1.2.0",
            "_model_module": "@jupyter-widgets/controls"
          }
        },
        "86e3ea0b306848e0a809de57caf1d1ea": {
          "model_module": "@jupyter-widgets/base",
          "model_name": "LayoutModel",
          "state": {
            "_view_name": "LayoutView",
            "grid_template_rows": null,
            "right": null,
            "justify_content": null,
            "_view_module": "@jupyter-widgets/base",
            "overflow": null,
            "_model_module_version": "1.2.0",
            "_view_count": null,
            "flex_flow": null,
            "width": null,
            "min_width": null,
            "border": null,
            "align_items": null,
            "bottom": null,
            "_model_module": "@jupyter-widgets/base",
            "top": null,
            "grid_column": null,
            "overflow_y": null,
            "overflow_x": null,
            "grid_auto_flow": null,
            "grid_area": null,
            "grid_template_columns": null,
            "flex": null,
            "_model_name": "LayoutModel",
            "justify_items": null,
            "grid_row": null,
            "max_height": null,
            "align_content": null,
            "visibility": null,
            "align_self": null,
            "height": null,
            "min_height": null,
            "padding": null,
            "grid_auto_rows": null,
            "grid_gap": null,
            "max_width": null,
            "order": null,
            "_view_module_version": "1.2.0",
            "grid_template_areas": null,
            "object_position": null,
            "object_fit": null,
            "grid_auto_columns": null,
            "margin": null,
            "display": null,
            "left": null
          }
        },
        "b65a9cf85a104f2ea65e64d8c1559838": {
          "model_module": "@jupyter-widgets/controls",
          "model_name": "HBoxModel",
          "state": {
            "_view_name": "HBoxView",
            "_dom_classes": [],
            "_model_name": "HBoxModel",
            "_view_module": "@jupyter-widgets/controls",
            "_model_module_version": "1.5.0",
            "_view_count": null,
            "_view_module_version": "1.5.0",
            "box_style": "",
            "layout": "IPY_MODEL_65ddbb83642f4c2c908d5696be61bc21",
            "_model_module": "@jupyter-widgets/controls",
            "children": [
              "IPY_MODEL_4a8e516f0c294b60a014b24c5a345b80",
              "IPY_MODEL_bd495327523d4ebf94f1dd45076475b5",
              "IPY_MODEL_9791d90b5c1849ea9f4bdc3d65e4a150"
            ]
          }
        },
        "65ddbb83642f4c2c908d5696be61bc21": {
          "model_module": "@jupyter-widgets/base",
          "model_name": "LayoutModel",
          "state": {
            "_view_name": "LayoutView",
            "grid_template_rows": null,
            "right": null,
            "justify_content": null,
            "_view_module": "@jupyter-widgets/base",
            "overflow": null,
            "_model_module_version": "1.2.0",
            "_view_count": null,
            "flex_flow": null,
            "width": null,
            "min_width": null,
            "border": null,
            "align_items": null,
            "bottom": null,
            "_model_module": "@jupyter-widgets/base",
            "top": null,
            "grid_column": null,
            "overflow_y": null,
            "overflow_x": null,
            "grid_auto_flow": null,
            "grid_area": null,
            "grid_template_columns": null,
            "flex": null,
            "_model_name": "LayoutModel",
            "justify_items": null,
            "grid_row": null,
            "max_height": null,
            "align_content": null,
            "visibility": null,
            "align_self": null,
            "height": null,
            "min_height": null,
            "padding": null,
            "grid_auto_rows": null,
            "grid_gap": null,
            "max_width": null,
            "order": null,
            "_view_module_version": "1.2.0",
            "grid_template_areas": null,
            "object_position": null,
            "object_fit": null,
            "grid_auto_columns": null,
            "margin": null,
            "display": null,
            "left": null
          }
        },
        "4a8e516f0c294b60a014b24c5a345b80": {
          "model_module": "@jupyter-widgets/controls",
          "model_name": "HTMLModel",
          "state": {
            "_view_name": "HTMLView",
            "style": "IPY_MODEL_da572ad9b5d3442d995cbb70a6d95c3e",
            "_dom_classes": [],
            "description": "",
            "_model_name": "HTMLModel",
            "placeholder": "​",
            "_view_module": "@jupyter-widgets/controls",
            "_model_module_version": "1.5.0",
            "value": "Downloading: 100%",
            "_view_count": null,
            "_view_module_version": "1.5.0",
            "description_tooltip": null,
            "_model_module": "@jupyter-widgets/controls",
            "layout": "IPY_MODEL_99cbd32e16fd48bdb4906312b60f6c9e"
          }
        },
        "bd495327523d4ebf94f1dd45076475b5": {
          "model_module": "@jupyter-widgets/controls",
          "model_name": "FloatProgressModel",
          "state": {
            "_view_name": "ProgressView",
            "style": "IPY_MODEL_a68de977b81444a480996b93811f6f10",
            "_dom_classes": [],
            "description": "",
            "_model_name": "FloatProgressModel",
            "bar_style": "success",
            "max": 112,
            "_view_module": "@jupyter-widgets/controls",
            "_model_module_version": "1.5.0",
            "value": 112,
            "_view_count": null,
            "_view_module_version": "1.5.0",
            "orientation": "horizontal",
            "min": 0,
            "description_tooltip": null,
            "_model_module": "@jupyter-widgets/controls",
            "layout": "IPY_MODEL_06d73605b4904b6cb3959966346778a1"
          }
        },
        "9791d90b5c1849ea9f4bdc3d65e4a150": {
          "model_module": "@jupyter-widgets/controls",
          "model_name": "HTMLModel",
          "state": {
            "_view_name": "HTMLView",
            "style": "IPY_MODEL_17854acdf1384b428e849b99eeeff048",
            "_dom_classes": [],
            "description": "",
            "_model_name": "HTMLModel",
            "placeholder": "​",
            "_view_module": "@jupyter-widgets/controls",
            "_model_module_version": "1.5.0",
            "value": " 112/112 [00:00&lt;00:00, 3.61kB/s]",
            "_view_count": null,
            "_view_module_version": "1.5.0",
            "description_tooltip": null,
            "_model_module": "@jupyter-widgets/controls",
            "layout": "IPY_MODEL_c7157c55362f43628a64c2884e93b5d7"
          }
        },
        "da572ad9b5d3442d995cbb70a6d95c3e": {
          "model_module": "@jupyter-widgets/controls",
          "model_name": "DescriptionStyleModel",
          "state": {
            "_view_name": "StyleView",
            "_model_name": "DescriptionStyleModel",
            "description_width": "",
            "_view_module": "@jupyter-widgets/base",
            "_model_module_version": "1.5.0",
            "_view_count": null,
            "_view_module_version": "1.2.0",
            "_model_module": "@jupyter-widgets/controls"
          }
        },
        "99cbd32e16fd48bdb4906312b60f6c9e": {
          "model_module": "@jupyter-widgets/base",
          "model_name": "LayoutModel",
          "state": {
            "_view_name": "LayoutView",
            "grid_template_rows": null,
            "right": null,
            "justify_content": null,
            "_view_module": "@jupyter-widgets/base",
            "overflow": null,
            "_model_module_version": "1.2.0",
            "_view_count": null,
            "flex_flow": null,
            "width": null,
            "min_width": null,
            "border": null,
            "align_items": null,
            "bottom": null,
            "_model_module": "@jupyter-widgets/base",
            "top": null,
            "grid_column": null,
            "overflow_y": null,
            "overflow_x": null,
            "grid_auto_flow": null,
            "grid_area": null,
            "grid_template_columns": null,
            "flex": null,
            "_model_name": "LayoutModel",
            "justify_items": null,
            "grid_row": null,
            "max_height": null,
            "align_content": null,
            "visibility": null,
            "align_self": null,
            "height": null,
            "min_height": null,
            "padding": null,
            "grid_auto_rows": null,
            "grid_gap": null,
            "max_width": null,
            "order": null,
            "_view_module_version": "1.2.0",
            "grid_template_areas": null,
            "object_position": null,
            "object_fit": null,
            "grid_auto_columns": null,
            "margin": null,
            "display": null,
            "left": null
          }
        },
        "a68de977b81444a480996b93811f6f10": {
          "model_module": "@jupyter-widgets/controls",
          "model_name": "ProgressStyleModel",
          "state": {
            "_view_name": "StyleView",
            "_model_name": "ProgressStyleModel",
            "description_width": "",
            "_view_module": "@jupyter-widgets/base",
            "_model_module_version": "1.5.0",
            "_view_count": null,
            "_view_module_version": "1.2.0",
            "bar_color": null,
            "_model_module": "@jupyter-widgets/controls"
          }
        },
        "06d73605b4904b6cb3959966346778a1": {
          "model_module": "@jupyter-widgets/base",
          "model_name": "LayoutModel",
          "state": {
            "_view_name": "LayoutView",
            "grid_template_rows": null,
            "right": null,
            "justify_content": null,
            "_view_module": "@jupyter-widgets/base",
            "overflow": null,
            "_model_module_version": "1.2.0",
            "_view_count": null,
            "flex_flow": null,
            "width": null,
            "min_width": null,
            "border": null,
            "align_items": null,
            "bottom": null,
            "_model_module": "@jupyter-widgets/base",
            "top": null,
            "grid_column": null,
            "overflow_y": null,
            "overflow_x": null,
            "grid_auto_flow": null,
            "grid_area": null,
            "grid_template_columns": null,
            "flex": null,
            "_model_name": "LayoutModel",
            "justify_items": null,
            "grid_row": null,
            "max_height": null,
            "align_content": null,
            "visibility": null,
            "align_self": null,
            "height": null,
            "min_height": null,
            "padding": null,
            "grid_auto_rows": null,
            "grid_gap": null,
            "max_width": null,
            "order": null,
            "_view_module_version": "1.2.0",
            "grid_template_areas": null,
            "object_position": null,
            "object_fit": null,
            "grid_auto_columns": null,
            "margin": null,
            "display": null,
            "left": null
          }
        },
        "17854acdf1384b428e849b99eeeff048": {
          "model_module": "@jupyter-widgets/controls",
          "model_name": "DescriptionStyleModel",
          "state": {
            "_view_name": "StyleView",
            "_model_name": "DescriptionStyleModel",
            "description_width": "",
            "_view_module": "@jupyter-widgets/base",
            "_model_module_version": "1.5.0",
            "_view_count": null,
            "_view_module_version": "1.2.0",
            "_model_module": "@jupyter-widgets/controls"
          }
        },
        "c7157c55362f43628a64c2884e93b5d7": {
          "model_module": "@jupyter-widgets/base",
          "model_name": "LayoutModel",
          "state": {
            "_view_name": "LayoutView",
            "grid_template_rows": null,
            "right": null,
            "justify_content": null,
            "_view_module": "@jupyter-widgets/base",
            "overflow": null,
            "_model_module_version": "1.2.0",
            "_view_count": null,
            "flex_flow": null,
            "width": null,
            "min_width": null,
            "border": null,
            "align_items": null,
            "bottom": null,
            "_model_module": "@jupyter-widgets/base",
            "top": null,
            "grid_column": null,
            "overflow_y": null,
            "overflow_x": null,
            "grid_auto_flow": null,
            "grid_area": null,
            "grid_template_columns": null,
            "flex": null,
            "_model_name": "LayoutModel",
            "justify_items": null,
            "grid_row": null,
            "max_height": null,
            "align_content": null,
            "visibility": null,
            "align_self": null,
            "height": null,
            "min_height": null,
            "padding": null,
            "grid_auto_rows": null,
            "grid_gap": null,
            "max_width": null,
            "order": null,
            "_view_module_version": "1.2.0",
            "grid_template_areas": null,
            "object_position": null,
            "object_fit": null,
            "grid_auto_columns": null,
            "margin": null,
            "display": null,
            "left": null
          }
        },
        "91dbba4654764d41adfd8818ac03f064": {
          "model_module": "@jupyter-widgets/controls",
          "model_name": "HBoxModel",
          "state": {
            "_view_name": "HBoxView",
            "_dom_classes": [],
            "_model_name": "HBoxModel",
            "_view_module": "@jupyter-widgets/controls",
            "_model_module_version": "1.5.0",
            "_view_count": null,
            "_view_module_version": "1.5.0",
            "box_style": "",
            "layout": "IPY_MODEL_c3ac65d5c3e2437d8bc23cdf50c22bd1",
            "_model_module": "@jupyter-widgets/controls",
            "children": [
              "IPY_MODEL_75a50978dd144f9e82472688ffa9eb89",
              "IPY_MODEL_d363057f37194ab8b06e559a7ab8e054",
              "IPY_MODEL_2f61ff2584e84b698c3c63361f88a10c"
            ]
          }
        },
        "c3ac65d5c3e2437d8bc23cdf50c22bd1": {
          "model_module": "@jupyter-widgets/base",
          "model_name": "LayoutModel",
          "state": {
            "_view_name": "LayoutView",
            "grid_template_rows": null,
            "right": null,
            "justify_content": null,
            "_view_module": "@jupyter-widgets/base",
            "overflow": null,
            "_model_module_version": "1.2.0",
            "_view_count": null,
            "flex_flow": null,
            "width": null,
            "min_width": null,
            "border": null,
            "align_items": null,
            "bottom": null,
            "_model_module": "@jupyter-widgets/base",
            "top": null,
            "grid_column": null,
            "overflow_y": null,
            "overflow_x": null,
            "grid_auto_flow": null,
            "grid_area": null,
            "grid_template_columns": null,
            "flex": null,
            "_model_name": "LayoutModel",
            "justify_items": null,
            "grid_row": null,
            "max_height": null,
            "align_content": null,
            "visibility": null,
            "align_self": null,
            "height": null,
            "min_height": null,
            "padding": null,
            "grid_auto_rows": null,
            "grid_gap": null,
            "max_width": null,
            "order": null,
            "_view_module_version": "1.2.0",
            "grid_template_areas": null,
            "object_position": null,
            "object_fit": null,
            "grid_auto_columns": null,
            "margin": null,
            "display": null,
            "left": null
          }
        },
        "75a50978dd144f9e82472688ffa9eb89": {
          "model_module": "@jupyter-widgets/controls",
          "model_name": "HTMLModel",
          "state": {
            "_view_name": "HTMLView",
            "style": "IPY_MODEL_c90600bac31940a0aaf03531ae84b745",
            "_dom_classes": [],
            "description": "",
            "_model_name": "HTMLModel",
            "placeholder": "​",
            "_view_module": "@jupyter-widgets/controls",
            "_model_module_version": "1.5.0",
            "value": "Downloading: 100%",
            "_view_count": null,
            "_view_module_version": "1.5.0",
            "description_tooltip": null,
            "_model_module": "@jupyter-widgets/controls",
            "layout": "IPY_MODEL_ede18e2344c24c3c8aa2b7798fe024d0"
          }
        },
        "d363057f37194ab8b06e559a7ab8e054": {
          "model_module": "@jupyter-widgets/controls",
          "model_name": "FloatProgressModel",
          "state": {
            "_view_name": "ProgressView",
            "style": "IPY_MODEL_fd9bd5f5e1a1424c92d0c21018c8bcaa",
            "_dom_classes": [],
            "description": "",
            "_model_name": "FloatProgressModel",
            "bar_style": "success",
            "max": 2,
            "_view_module": "@jupyter-widgets/controls",
            "_model_module_version": "1.5.0",
            "value": 2,
            "_view_count": null,
            "_view_module_version": "1.5.0",
            "orientation": "horizontal",
            "min": 0,
            "description_tooltip": null,
            "_model_module": "@jupyter-widgets/controls",
            "layout": "IPY_MODEL_fc1d5f1d0a78453fbbdf56d817e1d83a"
          }
        },
        "2f61ff2584e84b698c3c63361f88a10c": {
          "model_module": "@jupyter-widgets/controls",
          "model_name": "HTMLModel",
          "state": {
            "_view_name": "HTMLView",
            "style": "IPY_MODEL_6af2af32e482464a839f94821abd0f59",
            "_dom_classes": [],
            "description": "",
            "_model_name": "HTMLModel",
            "placeholder": "​",
            "_view_module": "@jupyter-widgets/controls",
            "_model_module_version": "1.5.0",
            "value": " 2.00/2.00 [00:00&lt;00:00, 70.8B/s]",
            "_view_count": null,
            "_view_module_version": "1.5.0",
            "description_tooltip": null,
            "_model_module": "@jupyter-widgets/controls",
            "layout": "IPY_MODEL_c5773804540f47e3b40982fb1df54fa4"
          }
        },
        "c90600bac31940a0aaf03531ae84b745": {
          "model_module": "@jupyter-widgets/controls",
          "model_name": "DescriptionStyleModel",
          "state": {
            "_view_name": "StyleView",
            "_model_name": "DescriptionStyleModel",
            "description_width": "",
            "_view_module": "@jupyter-widgets/base",
            "_model_module_version": "1.5.0",
            "_view_count": null,
            "_view_module_version": "1.2.0",
            "_model_module": "@jupyter-widgets/controls"
          }
        },
        "ede18e2344c24c3c8aa2b7798fe024d0": {
          "model_module": "@jupyter-widgets/base",
          "model_name": "LayoutModel",
          "state": {
            "_view_name": "LayoutView",
            "grid_template_rows": null,
            "right": null,
            "justify_content": null,
            "_view_module": "@jupyter-widgets/base",
            "overflow": null,
            "_model_module_version": "1.2.0",
            "_view_count": null,
            "flex_flow": null,
            "width": null,
            "min_width": null,
            "border": null,
            "align_items": null,
            "bottom": null,
            "_model_module": "@jupyter-widgets/base",
            "top": null,
            "grid_column": null,
            "overflow_y": null,
            "overflow_x": null,
            "grid_auto_flow": null,
            "grid_area": null,
            "grid_template_columns": null,
            "flex": null,
            "_model_name": "LayoutModel",
            "justify_items": null,
            "grid_row": null,
            "max_height": null,
            "align_content": null,
            "visibility": null,
            "align_self": null,
            "height": null,
            "min_height": null,
            "padding": null,
            "grid_auto_rows": null,
            "grid_gap": null,
            "max_width": null,
            "order": null,
            "_view_module_version": "1.2.0",
            "grid_template_areas": null,
            "object_position": null,
            "object_fit": null,
            "grid_auto_columns": null,
            "margin": null,
            "display": null,
            "left": null
          }
        },
        "fd9bd5f5e1a1424c92d0c21018c8bcaa": {
          "model_module": "@jupyter-widgets/controls",
          "model_name": "ProgressStyleModel",
          "state": {
            "_view_name": "StyleView",
            "_model_name": "ProgressStyleModel",
            "description_width": "",
            "_view_module": "@jupyter-widgets/base",
            "_model_module_version": "1.5.0",
            "_view_count": null,
            "_view_module_version": "1.2.0",
            "bar_color": null,
            "_model_module": "@jupyter-widgets/controls"
          }
        },
        "fc1d5f1d0a78453fbbdf56d817e1d83a": {
          "model_module": "@jupyter-widgets/base",
          "model_name": "LayoutModel",
          "state": {
            "_view_name": "LayoutView",
            "grid_template_rows": null,
            "right": null,
            "justify_content": null,
            "_view_module": "@jupyter-widgets/base",
            "overflow": null,
            "_model_module_version": "1.2.0",
            "_view_count": null,
            "flex_flow": null,
            "width": null,
            "min_width": null,
            "border": null,
            "align_items": null,
            "bottom": null,
            "_model_module": "@jupyter-widgets/base",
            "top": null,
            "grid_column": null,
            "overflow_y": null,
            "overflow_x": null,
            "grid_auto_flow": null,
            "grid_area": null,
            "grid_template_columns": null,
            "flex": null,
            "_model_name": "LayoutModel",
            "justify_items": null,
            "grid_row": null,
            "max_height": null,
            "align_content": null,
            "visibility": null,
            "align_self": null,
            "height": null,
            "min_height": null,
            "padding": null,
            "grid_auto_rows": null,
            "grid_gap": null,
            "max_width": null,
            "order": null,
            "_view_module_version": "1.2.0",
            "grid_template_areas": null,
            "object_position": null,
            "object_fit": null,
            "grid_auto_columns": null,
            "margin": null,
            "display": null,
            "left": null
          }
        },
        "6af2af32e482464a839f94821abd0f59": {
          "model_module": "@jupyter-widgets/controls",
          "model_name": "DescriptionStyleModel",
          "state": {
            "_view_name": "StyleView",
            "_model_name": "DescriptionStyleModel",
            "description_width": "",
            "_view_module": "@jupyter-widgets/base",
            "_model_module_version": "1.5.0",
            "_view_count": null,
            "_view_module_version": "1.2.0",
            "_model_module": "@jupyter-widgets/controls"
          }
        },
        "c5773804540f47e3b40982fb1df54fa4": {
          "model_module": "@jupyter-widgets/base",
          "model_name": "LayoutModel",
          "state": {
            "_view_name": "LayoutView",
            "grid_template_rows": null,
            "right": null,
            "justify_content": null,
            "_view_module": "@jupyter-widgets/base",
            "overflow": null,
            "_model_module_version": "1.2.0",
            "_view_count": null,
            "flex_flow": null,
            "width": null,
            "min_width": null,
            "border": null,
            "align_items": null,
            "bottom": null,
            "_model_module": "@jupyter-widgets/base",
            "top": null,
            "grid_column": null,
            "overflow_y": null,
            "overflow_x": null,
            "grid_auto_flow": null,
            "grid_area": null,
            "grid_template_columns": null,
            "flex": null,
            "_model_name": "LayoutModel",
            "justify_items": null,
            "grid_row": null,
            "max_height": null,
            "align_content": null,
            "visibility": null,
            "align_self": null,
            "height": null,
            "min_height": null,
            "padding": null,
            "grid_auto_rows": null,
            "grid_gap": null,
            "max_width": null,
            "order": null,
            "_view_module_version": "1.2.0",
            "grid_template_areas": null,
            "object_position": null,
            "object_fit": null,
            "grid_auto_columns": null,
            "margin": null,
            "display": null,
            "left": null
          }
        },
        "a7d47efed55c441a8a74ed331572dd94": {
          "model_module": "@jupyter-widgets/controls",
          "model_name": "HBoxModel",
          "state": {
            "_view_name": "HBoxView",
            "_dom_classes": [],
            "_model_name": "HBoxModel",
            "_view_module": "@jupyter-widgets/controls",
            "_model_module_version": "1.5.0",
            "_view_count": null,
            "_view_module_version": "1.5.0",
            "box_style": "",
            "layout": "IPY_MODEL_05874a1017004c11922ec6bc33e91e8f",
            "_model_module": "@jupyter-widgets/controls",
            "children": [
              "IPY_MODEL_681f8733f1c1428f8de1387d5a57a3dc",
              "IPY_MODEL_4346457f46fc4a2e82c51289b088425b",
              "IPY_MODEL_dbf8622c01b84003afe65db470ebc474"
            ]
          }
        },
        "05874a1017004c11922ec6bc33e91e8f": {
          "model_module": "@jupyter-widgets/base",
          "model_name": "LayoutModel",
          "state": {
            "_view_name": "LayoutView",
            "grid_template_rows": null,
            "right": null,
            "justify_content": null,
            "_view_module": "@jupyter-widgets/base",
            "overflow": null,
            "_model_module_version": "1.2.0",
            "_view_count": null,
            "flex_flow": null,
            "width": null,
            "min_width": null,
            "border": null,
            "align_items": null,
            "bottom": null,
            "_model_module": "@jupyter-widgets/base",
            "top": null,
            "grid_column": null,
            "overflow_y": null,
            "overflow_x": null,
            "grid_auto_flow": null,
            "grid_area": null,
            "grid_template_columns": null,
            "flex": null,
            "_model_name": "LayoutModel",
            "justify_items": null,
            "grid_row": null,
            "max_height": null,
            "align_content": null,
            "visibility": null,
            "align_self": null,
            "height": null,
            "min_height": null,
            "padding": null,
            "grid_auto_rows": null,
            "grid_gap": null,
            "max_width": null,
            "order": null,
            "_view_module_version": "1.2.0",
            "grid_template_areas": null,
            "object_position": null,
            "object_fit": null,
            "grid_auto_columns": null,
            "margin": null,
            "display": null,
            "left": null
          }
        },
        "681f8733f1c1428f8de1387d5a57a3dc": {
          "model_module": "@jupyter-widgets/controls",
          "model_name": "HTMLModel",
          "state": {
            "_view_name": "HTMLView",
            "style": "IPY_MODEL_fd67a8f8add34debb75a210ee964276e",
            "_dom_classes": [],
            "description": "",
            "_model_name": "HTMLModel",
            "placeholder": "​",
            "_view_module": "@jupyter-widgets/controls",
            "_model_module_version": "1.5.0",
            "value": "Downloading: 100%",
            "_view_count": null,
            "_view_module_version": "1.5.0",
            "description_tooltip": null,
            "_model_module": "@jupyter-widgets/controls",
            "layout": "IPY_MODEL_0c6a3803290048e1a9792e1c23b9783f"
          }
        },
        "4346457f46fc4a2e82c51289b088425b": {
          "model_module": "@jupyter-widgets/controls",
          "model_name": "FloatProgressModel",
          "state": {
            "_view_name": "ProgressView",
            "style": "IPY_MODEL_de69d1e6cb364e98a55947c03d1c2689",
            "_dom_classes": [],
            "description": "",
            "_model_name": "FloatProgressModel",
            "bar_style": "success",
            "max": 1542,
            "_view_module": "@jupyter-widgets/controls",
            "_model_module_version": "1.5.0",
            "value": 1542,
            "_view_count": null,
            "_view_module_version": "1.5.0",
            "orientation": "horizontal",
            "min": 0,
            "description_tooltip": null,
            "_model_module": "@jupyter-widgets/controls",
            "layout": "IPY_MODEL_eebb046632834b9dbae55f100e5285db"
          }
        },
        "dbf8622c01b84003afe65db470ebc474": {
          "model_module": "@jupyter-widgets/controls",
          "model_name": "HTMLModel",
          "state": {
            "_view_name": "HTMLView",
            "style": "IPY_MODEL_65c64c73e6d64afab0f3b4294477e835",
            "_dom_classes": [],
            "description": "",
            "_model_name": "HTMLModel",
            "placeholder": "​",
            "_view_module": "@jupyter-widgets/controls",
            "_model_module_version": "1.5.0",
            "value": " 1.54k/1.54k [00:00&lt;00:00, 39.2kB/s]",
            "_view_count": null,
            "_view_module_version": "1.5.0",
            "description_tooltip": null,
            "_model_module": "@jupyter-widgets/controls",
            "layout": "IPY_MODEL_a3cf661c38404e00957cc46c7f39d21c"
          }
        },
        "fd67a8f8add34debb75a210ee964276e": {
          "model_module": "@jupyter-widgets/controls",
          "model_name": "DescriptionStyleModel",
          "state": {
            "_view_name": "StyleView",
            "_model_name": "DescriptionStyleModel",
            "description_width": "",
            "_view_module": "@jupyter-widgets/base",
            "_model_module_version": "1.5.0",
            "_view_count": null,
            "_view_module_version": "1.2.0",
            "_model_module": "@jupyter-widgets/controls"
          }
        },
        "0c6a3803290048e1a9792e1c23b9783f": {
          "model_module": "@jupyter-widgets/base",
          "model_name": "LayoutModel",
          "state": {
            "_view_name": "LayoutView",
            "grid_template_rows": null,
            "right": null,
            "justify_content": null,
            "_view_module": "@jupyter-widgets/base",
            "overflow": null,
            "_model_module_version": "1.2.0",
            "_view_count": null,
            "flex_flow": null,
            "width": null,
            "min_width": null,
            "border": null,
            "align_items": null,
            "bottom": null,
            "_model_module": "@jupyter-widgets/base",
            "top": null,
            "grid_column": null,
            "overflow_y": null,
            "overflow_x": null,
            "grid_auto_flow": null,
            "grid_area": null,
            "grid_template_columns": null,
            "flex": null,
            "_model_name": "LayoutModel",
            "justify_items": null,
            "grid_row": null,
            "max_height": null,
            "align_content": null,
            "visibility": null,
            "align_self": null,
            "height": null,
            "min_height": null,
            "padding": null,
            "grid_auto_rows": null,
            "grid_gap": null,
            "max_width": null,
            "order": null,
            "_view_module_version": "1.2.0",
            "grid_template_areas": null,
            "object_position": null,
            "object_fit": null,
            "grid_auto_columns": null,
            "margin": null,
            "display": null,
            "left": null
          }
        },
        "de69d1e6cb364e98a55947c03d1c2689": {
          "model_module": "@jupyter-widgets/controls",
          "model_name": "ProgressStyleModel",
          "state": {
            "_view_name": "StyleView",
            "_model_name": "ProgressStyleModel",
            "description_width": "",
            "_view_module": "@jupyter-widgets/base",
            "_model_module_version": "1.5.0",
            "_view_count": null,
            "_view_module_version": "1.2.0",
            "bar_color": null,
            "_model_module": "@jupyter-widgets/controls"
          }
        },
        "eebb046632834b9dbae55f100e5285db": {
          "model_module": "@jupyter-widgets/base",
          "model_name": "LayoutModel",
          "state": {
            "_view_name": "LayoutView",
            "grid_template_rows": null,
            "right": null,
            "justify_content": null,
            "_view_module": "@jupyter-widgets/base",
            "overflow": null,
            "_model_module_version": "1.2.0",
            "_view_count": null,
            "flex_flow": null,
            "width": null,
            "min_width": null,
            "border": null,
            "align_items": null,
            "bottom": null,
            "_model_module": "@jupyter-widgets/base",
            "top": null,
            "grid_column": null,
            "overflow_y": null,
            "overflow_x": null,
            "grid_auto_flow": null,
            "grid_area": null,
            "grid_template_columns": null,
            "flex": null,
            "_model_name": "LayoutModel",
            "justify_items": null,
            "grid_row": null,
            "max_height": null,
            "align_content": null,
            "visibility": null,
            "align_self": null,
            "height": null,
            "min_height": null,
            "padding": null,
            "grid_auto_rows": null,
            "grid_gap": null,
            "max_width": null,
            "order": null,
            "_view_module_version": "1.2.0",
            "grid_template_areas": null,
            "object_position": null,
            "object_fit": null,
            "grid_auto_columns": null,
            "margin": null,
            "display": null,
            "left": null
          }
        },
        "65c64c73e6d64afab0f3b4294477e835": {
          "model_module": "@jupyter-widgets/controls",
          "model_name": "DescriptionStyleModel",
          "state": {
            "_view_name": "StyleView",
            "_model_name": "DescriptionStyleModel",
            "description_width": "",
            "_view_module": "@jupyter-widgets/base",
            "_model_module_version": "1.5.0",
            "_view_count": null,
            "_view_module_version": "1.2.0",
            "_model_module": "@jupyter-widgets/controls"
          }
        },
        "a3cf661c38404e00957cc46c7f39d21c": {
          "model_module": "@jupyter-widgets/base",
          "model_name": "LayoutModel",
          "state": {
            "_view_name": "LayoutView",
            "grid_template_rows": null,
            "right": null,
            "justify_content": null,
            "_view_module": "@jupyter-widgets/base",
            "overflow": null,
            "_model_module_version": "1.2.0",
            "_view_count": null,
            "flex_flow": null,
            "width": null,
            "min_width": null,
            "border": null,
            "align_items": null,
            "bottom": null,
            "_model_module": "@jupyter-widgets/base",
            "top": null,
            "grid_column": null,
            "overflow_y": null,
            "overflow_x": null,
            "grid_auto_flow": null,
            "grid_area": null,
            "grid_template_columns": null,
            "flex": null,
            "_model_name": "LayoutModel",
            "justify_items": null,
            "grid_row": null,
            "max_height": null,
            "align_content": null,
            "visibility": null,
            "align_self": null,
            "height": null,
            "min_height": null,
            "padding": null,
            "grid_auto_rows": null,
            "grid_gap": null,
            "max_width": null,
            "order": null,
            "_view_module_version": "1.2.0",
            "grid_template_areas": null,
            "object_position": null,
            "object_fit": null,
            "grid_auto_columns": null,
            "margin": null,
            "display": null,
            "left": null
          }
        },
        "346fb6fd97624436a0c78586c90b77d9": {
          "model_module": "@jupyter-widgets/controls",
          "model_name": "HBoxModel",
          "state": {
            "_view_name": "HBoxView",
            "_dom_classes": [],
            "_model_name": "HBoxModel",
            "_view_module": "@jupyter-widgets/controls",
            "_model_module_version": "1.5.0",
            "_view_count": null,
            "_view_module_version": "1.5.0",
            "box_style": "",
            "layout": "IPY_MODEL_06c55e03f0e34aedbac4494449cdf6ab",
            "_model_module": "@jupyter-widgets/controls",
            "children": [
              "IPY_MODEL_5cb69f65ccb34e61a21aaca4bd8f250c",
              "IPY_MODEL_aa6fc08759a54d65962e265eb52db2c5",
              "IPY_MODEL_22980f996b594e0587052227b7bdde4b"
            ]
          }
        },
        "06c55e03f0e34aedbac4494449cdf6ab": {
          "model_module": "@jupyter-widgets/base",
          "model_name": "LayoutModel",
          "state": {
            "_view_name": "LayoutView",
            "grid_template_rows": null,
            "right": null,
            "justify_content": null,
            "_view_module": "@jupyter-widgets/base",
            "overflow": null,
            "_model_module_version": "1.2.0",
            "_view_count": null,
            "flex_flow": null,
            "width": null,
            "min_width": null,
            "border": null,
            "align_items": null,
            "bottom": null,
            "_model_module": "@jupyter-widgets/base",
            "top": null,
            "grid_column": null,
            "overflow_y": null,
            "overflow_x": null,
            "grid_auto_flow": null,
            "grid_area": null,
            "grid_template_columns": null,
            "flex": null,
            "_model_name": "LayoutModel",
            "justify_items": null,
            "grid_row": null,
            "max_height": null,
            "align_content": null,
            "visibility": null,
            "align_self": null,
            "height": null,
            "min_height": null,
            "padding": null,
            "grid_auto_rows": null,
            "grid_gap": null,
            "max_width": null,
            "order": null,
            "_view_module_version": "1.2.0",
            "grid_template_areas": null,
            "object_position": null,
            "object_fit": null,
            "grid_auto_columns": null,
            "margin": null,
            "display": null,
            "left": null
          }
        },
        "5cb69f65ccb34e61a21aaca4bd8f250c": {
          "model_module": "@jupyter-widgets/controls",
          "model_name": "HTMLModel",
          "state": {
            "_view_name": "HTMLView",
            "style": "IPY_MODEL_3a79a3f65a23499aa63989dccd32fd9c",
            "_dom_classes": [],
            "description": "",
            "_model_name": "HTMLModel",
            "placeholder": "​",
            "_view_module": "@jupyter-widgets/controls",
            "_model_module_version": "1.5.0",
            "value": "",
            "_view_count": null,
            "_view_module_version": "1.5.0",
            "description_tooltip": null,
            "_model_module": "@jupyter-widgets/controls",
            "layout": "IPY_MODEL_e37a240ff9044fb0a85d395685d80386"
          }
        },
        "aa6fc08759a54d65962e265eb52db2c5": {
          "model_module": "@jupyter-widgets/controls",
          "model_name": "FloatProgressModel",
          "state": {
            "_view_name": "ProgressView",
            "style": "IPY_MODEL_1eb8e521fda94a3287fe99a4f048b835",
            "_dom_classes": [],
            "description": "",
            "_model_name": "FloatProgressModel",
            "bar_style": "info",
            "max": 1,
            "_view_module": "@jupyter-widgets/controls",
            "_model_module_version": "1.5.0",
            "value": 1,
            "_view_count": null,
            "_view_module_version": "1.5.0",
            "orientation": "horizontal",
            "min": 0,
            "description_tooltip": null,
            "_model_module": "@jupyter-widgets/controls",
            "layout": "IPY_MODEL_d9a81c9eb30946418e9aa60098c379ee"
          }
        },
        "22980f996b594e0587052227b7bdde4b": {
          "model_module": "@jupyter-widgets/controls",
          "model_name": "HTMLModel",
          "state": {
            "_view_name": "HTMLView",
            "style": "IPY_MODEL_78248a534c4c447ba9c0656d45a448a7",
            "_dom_classes": [],
            "description": "",
            "_model_name": "HTMLModel",
            "placeholder": "​",
            "_view_module": "@jupyter-widgets/controls",
            "_model_module_version": "1.5.0",
            "value": " 0/? [00:00&lt;?, ? tables/s]",
            "_view_count": null,
            "_view_module_version": "1.5.0",
            "description_tooltip": null,
            "_model_module": "@jupyter-widgets/controls",
            "layout": "IPY_MODEL_5545133868f14763860feacc04130a3a"
          }
        },
        "3a79a3f65a23499aa63989dccd32fd9c": {
          "model_module": "@jupyter-widgets/controls",
          "model_name": "DescriptionStyleModel",
          "state": {
            "_view_name": "StyleView",
            "_model_name": "DescriptionStyleModel",
            "description_width": "",
            "_view_module": "@jupyter-widgets/base",
            "_model_module_version": "1.5.0",
            "_view_count": null,
            "_view_module_version": "1.2.0",
            "_model_module": "@jupyter-widgets/controls"
          }
        },
        "e37a240ff9044fb0a85d395685d80386": {
          "model_module": "@jupyter-widgets/base",
          "model_name": "LayoutModel",
          "state": {
            "_view_name": "LayoutView",
            "grid_template_rows": null,
            "right": null,
            "justify_content": null,
            "_view_module": "@jupyter-widgets/base",
            "overflow": null,
            "_model_module_version": "1.2.0",
            "_view_count": null,
            "flex_flow": null,
            "width": null,
            "min_width": null,
            "border": null,
            "align_items": null,
            "bottom": null,
            "_model_module": "@jupyter-widgets/base",
            "top": null,
            "grid_column": null,
            "overflow_y": null,
            "overflow_x": null,
            "grid_auto_flow": null,
            "grid_area": null,
            "grid_template_columns": null,
            "flex": null,
            "_model_name": "LayoutModel",
            "justify_items": null,
            "grid_row": null,
            "max_height": null,
            "align_content": null,
            "visibility": null,
            "align_self": null,
            "height": null,
            "min_height": null,
            "padding": null,
            "grid_auto_rows": null,
            "grid_gap": null,
            "max_width": null,
            "order": null,
            "_view_module_version": "1.2.0",
            "grid_template_areas": null,
            "object_position": null,
            "object_fit": null,
            "grid_auto_columns": null,
            "margin": null,
            "display": null,
            "left": null
          }
        },
        "1eb8e521fda94a3287fe99a4f048b835": {
          "model_module": "@jupyter-widgets/controls",
          "model_name": "ProgressStyleModel",
          "state": {
            "_view_name": "StyleView",
            "_model_name": "ProgressStyleModel",
            "description_width": "",
            "_view_module": "@jupyter-widgets/base",
            "_model_module_version": "1.5.0",
            "_view_count": null,
            "_view_module_version": "1.2.0",
            "bar_color": null,
            "_model_module": "@jupyter-widgets/controls"
          }
        },
        "d9a81c9eb30946418e9aa60098c379ee": {
          "model_module": "@jupyter-widgets/base",
          "model_name": "LayoutModel",
          "state": {
            "_view_name": "LayoutView",
            "grid_template_rows": null,
            "right": null,
            "justify_content": null,
            "_view_module": "@jupyter-widgets/base",
            "overflow": null,
            "_model_module_version": "1.2.0",
            "_view_count": null,
            "flex_flow": null,
            "width": "20px",
            "min_width": null,
            "border": null,
            "align_items": null,
            "bottom": null,
            "_model_module": "@jupyter-widgets/base",
            "top": null,
            "grid_column": null,
            "overflow_y": null,
            "overflow_x": null,
            "grid_auto_flow": null,
            "grid_area": null,
            "grid_template_columns": null,
            "flex": null,
            "_model_name": "LayoutModel",
            "justify_items": null,
            "grid_row": null,
            "max_height": null,
            "align_content": null,
            "visibility": null,
            "align_self": null,
            "height": null,
            "min_height": null,
            "padding": null,
            "grid_auto_rows": null,
            "grid_gap": null,
            "max_width": null,
            "order": null,
            "_view_module_version": "1.2.0",
            "grid_template_areas": null,
            "object_position": null,
            "object_fit": null,
            "grid_auto_columns": null,
            "margin": null,
            "display": null,
            "left": null
          }
        },
        "78248a534c4c447ba9c0656d45a448a7": {
          "model_module": "@jupyter-widgets/controls",
          "model_name": "DescriptionStyleModel",
          "state": {
            "_view_name": "StyleView",
            "_model_name": "DescriptionStyleModel",
            "description_width": "",
            "_view_module": "@jupyter-widgets/base",
            "_model_module_version": "1.5.0",
            "_view_count": null,
            "_view_module_version": "1.2.0",
            "_model_module": "@jupyter-widgets/controls"
          }
        },
        "5545133868f14763860feacc04130a3a": {
          "model_module": "@jupyter-widgets/base",
          "model_name": "LayoutModel",
          "state": {
            "_view_name": "LayoutView",
            "grid_template_rows": null,
            "right": null,
            "justify_content": null,
            "_view_module": "@jupyter-widgets/base",
            "overflow": null,
            "_model_module_version": "1.2.0",
            "_view_count": null,
            "flex_flow": null,
            "width": null,
            "min_width": null,
            "border": null,
            "align_items": null,
            "bottom": null,
            "_model_module": "@jupyter-widgets/base",
            "top": null,
            "grid_column": null,
            "overflow_y": null,
            "overflow_x": null,
            "grid_auto_flow": null,
            "grid_area": null,
            "grid_template_columns": null,
            "flex": null,
            "_model_name": "LayoutModel",
            "justify_items": null,
            "grid_row": null,
            "max_height": null,
            "align_content": null,
            "visibility": null,
            "align_self": null,
            "height": null,
            "min_height": null,
            "padding": null,
            "grid_auto_rows": null,
            "grid_gap": null,
            "max_width": null,
            "order": null,
            "_view_module_version": "1.2.0",
            "grid_template_areas": null,
            "object_position": null,
            "object_fit": null,
            "grid_auto_columns": null,
            "margin": null,
            "display": null,
            "left": null
          }
        },
        "f02fd7b0c13d4ba49adcdedb33c106da": {
          "model_module": "@jupyter-widgets/controls",
          "model_name": "HBoxModel",
          "state": {
            "_view_name": "HBoxView",
            "_dom_classes": [],
            "_model_name": "HBoxModel",
            "_view_module": "@jupyter-widgets/controls",
            "_model_module_version": "1.5.0",
            "_view_count": null,
            "_view_module_version": "1.5.0",
            "box_style": "",
            "layout": "IPY_MODEL_35ae567f35c94100bbe6e5abb6539341",
            "_model_module": "@jupyter-widgets/controls",
            "children": [
              "IPY_MODEL_50b728605d32477aa335ef77b8d8c63d",
              "IPY_MODEL_c314668badf142c5b2d4b8bc97807431",
              "IPY_MODEL_07ec2bacb79f4de2b5afe49b84b52af0"
            ]
          }
        },
        "35ae567f35c94100bbe6e5abb6539341": {
          "model_module": "@jupyter-widgets/base",
          "model_name": "LayoutModel",
          "state": {
            "_view_name": "LayoutView",
            "grid_template_rows": null,
            "right": null,
            "justify_content": null,
            "_view_module": "@jupyter-widgets/base",
            "overflow": null,
            "_model_module_version": "1.2.0",
            "_view_count": null,
            "flex_flow": null,
            "width": null,
            "min_width": null,
            "border": null,
            "align_items": null,
            "bottom": null,
            "_model_module": "@jupyter-widgets/base",
            "top": null,
            "grid_column": null,
            "overflow_y": null,
            "overflow_x": null,
            "grid_auto_flow": null,
            "grid_area": null,
            "grid_template_columns": null,
            "flex": null,
            "_model_name": "LayoutModel",
            "justify_items": null,
            "grid_row": null,
            "max_height": null,
            "align_content": null,
            "visibility": null,
            "align_self": null,
            "height": null,
            "min_height": null,
            "padding": null,
            "grid_auto_rows": null,
            "grid_gap": null,
            "max_width": null,
            "order": null,
            "_view_module_version": "1.2.0",
            "grid_template_areas": null,
            "object_position": null,
            "object_fit": null,
            "grid_auto_columns": null,
            "margin": null,
            "display": null,
            "left": null
          }
        },
        "50b728605d32477aa335ef77b8d8c63d": {
          "model_module": "@jupyter-widgets/controls",
          "model_name": "HTMLModel",
          "state": {
            "_view_name": "HTMLView",
            "style": "IPY_MODEL_09ab15864f5d4c1abbe39ab33df864b3",
            "_dom_classes": [],
            "description": "",
            "_model_name": "HTMLModel",
            "placeholder": "​",
            "_view_module": "@jupyter-widgets/controls",
            "_model_module_version": "1.5.0",
            "value": "",
            "_view_count": null,
            "_view_module_version": "1.5.0",
            "description_tooltip": null,
            "_model_module": "@jupyter-widgets/controls",
            "layout": "IPY_MODEL_9d46646a1d1c45a4aa870bc685a05b8a"
          }
        },
        "c314668badf142c5b2d4b8bc97807431": {
          "model_module": "@jupyter-widgets/controls",
          "model_name": "FloatProgressModel",
          "state": {
            "_view_name": "ProgressView",
            "style": "IPY_MODEL_dda66d16111144caa4cc0f99929ac8db",
            "_dom_classes": [],
            "description": "",
            "_model_name": "FloatProgressModel",
            "bar_style": "info",
            "max": 1,
            "_view_module": "@jupyter-widgets/controls",
            "_model_module_version": "1.5.0",
            "value": 1,
            "_view_count": null,
            "_view_module_version": "1.5.0",
            "orientation": "horizontal",
            "min": 0,
            "description_tooltip": null,
            "_model_module": "@jupyter-widgets/controls",
            "layout": "IPY_MODEL_da07bf843880484b966e69d1506f4303"
          }
        },
        "07ec2bacb79f4de2b5afe49b84b52af0": {
          "model_module": "@jupyter-widgets/controls",
          "model_name": "HTMLModel",
          "state": {
            "_view_name": "HTMLView",
            "style": "IPY_MODEL_5c812eb4ea044fba8b4631b2ee6a8791",
            "_dom_classes": [],
            "description": "",
            "_model_name": "HTMLModel",
            "placeholder": "​",
            "_view_module": "@jupyter-widgets/controls",
            "_model_module_version": "1.5.0",
            "value": " 0/? [00:00&lt;?, ? tables/s]",
            "_view_count": null,
            "_view_module_version": "1.5.0",
            "description_tooltip": null,
            "_model_module": "@jupyter-widgets/controls",
            "layout": "IPY_MODEL_9347cdb9863646a88eac5e3ef98005e7"
          }
        },
        "09ab15864f5d4c1abbe39ab33df864b3": {
          "model_module": "@jupyter-widgets/controls",
          "model_name": "DescriptionStyleModel",
          "state": {
            "_view_name": "StyleView",
            "_model_name": "DescriptionStyleModel",
            "description_width": "",
            "_view_module": "@jupyter-widgets/base",
            "_model_module_version": "1.5.0",
            "_view_count": null,
            "_view_module_version": "1.2.0",
            "_model_module": "@jupyter-widgets/controls"
          }
        },
        "9d46646a1d1c45a4aa870bc685a05b8a": {
          "model_module": "@jupyter-widgets/base",
          "model_name": "LayoutModel",
          "state": {
            "_view_name": "LayoutView",
            "grid_template_rows": null,
            "right": null,
            "justify_content": null,
            "_view_module": "@jupyter-widgets/base",
            "overflow": null,
            "_model_module_version": "1.2.0",
            "_view_count": null,
            "flex_flow": null,
            "width": null,
            "min_width": null,
            "border": null,
            "align_items": null,
            "bottom": null,
            "_model_module": "@jupyter-widgets/base",
            "top": null,
            "grid_column": null,
            "overflow_y": null,
            "overflow_x": null,
            "grid_auto_flow": null,
            "grid_area": null,
            "grid_template_columns": null,
            "flex": null,
            "_model_name": "LayoutModel",
            "justify_items": null,
            "grid_row": null,
            "max_height": null,
            "align_content": null,
            "visibility": null,
            "align_self": null,
            "height": null,
            "min_height": null,
            "padding": null,
            "grid_auto_rows": null,
            "grid_gap": null,
            "max_width": null,
            "order": null,
            "_view_module_version": "1.2.0",
            "grid_template_areas": null,
            "object_position": null,
            "object_fit": null,
            "grid_auto_columns": null,
            "margin": null,
            "display": null,
            "left": null
          }
        },
        "dda66d16111144caa4cc0f99929ac8db": {
          "model_module": "@jupyter-widgets/controls",
          "model_name": "ProgressStyleModel",
          "state": {
            "_view_name": "StyleView",
            "_model_name": "ProgressStyleModel",
            "description_width": "",
            "_view_module": "@jupyter-widgets/base",
            "_model_module_version": "1.5.0",
            "_view_count": null,
            "_view_module_version": "1.2.0",
            "bar_color": null,
            "_model_module": "@jupyter-widgets/controls"
          }
        },
        "da07bf843880484b966e69d1506f4303": {
          "model_module": "@jupyter-widgets/base",
          "model_name": "LayoutModel",
          "state": {
            "_view_name": "LayoutView",
            "grid_template_rows": null,
            "right": null,
            "justify_content": null,
            "_view_module": "@jupyter-widgets/base",
            "overflow": null,
            "_model_module_version": "1.2.0",
            "_view_count": null,
            "flex_flow": null,
            "width": "20px",
            "min_width": null,
            "border": null,
            "align_items": null,
            "bottom": null,
            "_model_module": "@jupyter-widgets/base",
            "top": null,
            "grid_column": null,
            "overflow_y": null,
            "overflow_x": null,
            "grid_auto_flow": null,
            "grid_area": null,
            "grid_template_columns": null,
            "flex": null,
            "_model_name": "LayoutModel",
            "justify_items": null,
            "grid_row": null,
            "max_height": null,
            "align_content": null,
            "visibility": null,
            "align_self": null,
            "height": null,
            "min_height": null,
            "padding": null,
            "grid_auto_rows": null,
            "grid_gap": null,
            "max_width": null,
            "order": null,
            "_view_module_version": "1.2.0",
            "grid_template_areas": null,
            "object_position": null,
            "object_fit": null,
            "grid_auto_columns": null,
            "margin": null,
            "display": null,
            "left": null
          }
        },
        "5c812eb4ea044fba8b4631b2ee6a8791": {
          "model_module": "@jupyter-widgets/controls",
          "model_name": "DescriptionStyleModel",
          "state": {
            "_view_name": "StyleView",
            "_model_name": "DescriptionStyleModel",
            "description_width": "",
            "_view_module": "@jupyter-widgets/base",
            "_model_module_version": "1.5.0",
            "_view_count": null,
            "_view_module_version": "1.2.0",
            "_model_module": "@jupyter-widgets/controls"
          }
        },
        "9347cdb9863646a88eac5e3ef98005e7": {
          "model_module": "@jupyter-widgets/base",
          "model_name": "LayoutModel",
          "state": {
            "_view_name": "LayoutView",
            "grid_template_rows": null,
            "right": null,
            "justify_content": null,
            "_view_module": "@jupyter-widgets/base",
            "overflow": null,
            "_model_module_version": "1.2.0",
            "_view_count": null,
            "flex_flow": null,
            "width": null,
            "min_width": null,
            "border": null,
            "align_items": null,
            "bottom": null,
            "_model_module": "@jupyter-widgets/base",
            "top": null,
            "grid_column": null,
            "overflow_y": null,
            "overflow_x": null,
            "grid_auto_flow": null,
            "grid_area": null,
            "grid_template_columns": null,
            "flex": null,
            "_model_name": "LayoutModel",
            "justify_items": null,
            "grid_row": null,
            "max_height": null,
            "align_content": null,
            "visibility": null,
            "align_self": null,
            "height": null,
            "min_height": null,
            "padding": null,
            "grid_auto_rows": null,
            "grid_gap": null,
            "max_width": null,
            "order": null,
            "_view_module_version": "1.2.0",
            "grid_template_areas": null,
            "object_position": null,
            "object_fit": null,
            "grid_auto_columns": null,
            "margin": null,
            "display": null,
            "left": null
          }
        },
        "fe9d2f2ac79848d697c19b94a02fc3f0": {
          "model_module": "@jupyter-widgets/controls",
          "model_name": "HBoxModel",
          "state": {
            "_view_name": "HBoxView",
            "_dom_classes": [],
            "_model_name": "HBoxModel",
            "_view_module": "@jupyter-widgets/controls",
            "_model_module_version": "1.5.0",
            "_view_count": null,
            "_view_module_version": "1.5.0",
            "box_style": "",
            "layout": "IPY_MODEL_32365dcad43b449a863011f7bb311ba9",
            "_model_module": "@jupyter-widgets/controls",
            "children": [
              "IPY_MODEL_3786f2bf54db470e8485728fb8ceee54",
              "IPY_MODEL_49e621953e554a48b5e5ecb5a624ef06",
              "IPY_MODEL_de336923e918406aba302d7b8143a5ba"
            ]
          }
        },
        "32365dcad43b449a863011f7bb311ba9": {
          "model_module": "@jupyter-widgets/base",
          "model_name": "LayoutModel",
          "state": {
            "_view_name": "LayoutView",
            "grid_template_rows": null,
            "right": null,
            "justify_content": null,
            "_view_module": "@jupyter-widgets/base",
            "overflow": null,
            "_model_module_version": "1.2.0",
            "_view_count": null,
            "flex_flow": null,
            "width": null,
            "min_width": null,
            "border": null,
            "align_items": null,
            "bottom": null,
            "_model_module": "@jupyter-widgets/base",
            "top": null,
            "grid_column": null,
            "overflow_y": null,
            "overflow_x": null,
            "grid_auto_flow": null,
            "grid_area": null,
            "grid_template_columns": null,
            "flex": null,
            "_model_name": "LayoutModel",
            "justify_items": null,
            "grid_row": null,
            "max_height": null,
            "align_content": null,
            "visibility": null,
            "align_self": null,
            "height": null,
            "min_height": null,
            "padding": null,
            "grid_auto_rows": null,
            "grid_gap": null,
            "max_width": null,
            "order": null,
            "_view_module_version": "1.2.0",
            "grid_template_areas": null,
            "object_position": null,
            "object_fit": null,
            "grid_auto_columns": null,
            "margin": null,
            "display": null,
            "left": null
          }
        },
        "3786f2bf54db470e8485728fb8ceee54": {
          "model_module": "@jupyter-widgets/controls",
          "model_name": "HTMLModel",
          "state": {
            "_view_name": "HTMLView",
            "style": "IPY_MODEL_82570eb398bc41fca45c9c48506e6c79",
            "_dom_classes": [],
            "description": "",
            "_model_name": "HTMLModel",
            "placeholder": "​",
            "_view_module": "@jupyter-widgets/controls",
            "_model_module_version": "1.5.0",
            "value": "",
            "_view_count": null,
            "_view_module_version": "1.5.0",
            "description_tooltip": null,
            "_model_module": "@jupyter-widgets/controls",
            "layout": "IPY_MODEL_1691de4c71664f018970084da70575d0"
          }
        },
        "49e621953e554a48b5e5ecb5a624ef06": {
          "model_module": "@jupyter-widgets/controls",
          "model_name": "FloatProgressModel",
          "state": {
            "_view_name": "ProgressView",
            "style": "IPY_MODEL_005947054e01433e8bc4642038672afe",
            "_dom_classes": [],
            "description": "",
            "_model_name": "FloatProgressModel",
            "bar_style": "info",
            "max": 1,
            "_view_module": "@jupyter-widgets/controls",
            "_model_module_version": "1.5.0",
            "value": 1,
            "_view_count": null,
            "_view_module_version": "1.5.0",
            "orientation": "horizontal",
            "min": 0,
            "description_tooltip": null,
            "_model_module": "@jupyter-widgets/controls",
            "layout": "IPY_MODEL_88a56738413b4480ae7415e2124a7694"
          }
        },
        "de336923e918406aba302d7b8143a5ba": {
          "model_module": "@jupyter-widgets/controls",
          "model_name": "HTMLModel",
          "state": {
            "_view_name": "HTMLView",
            "style": "IPY_MODEL_a4860a1f10214c3581b6004ac91ddc48",
            "_dom_classes": [],
            "description": "",
            "_model_name": "HTMLModel",
            "placeholder": "​",
            "_view_module": "@jupyter-widgets/controls",
            "_model_module_version": "1.5.0",
            "value": " 0/? [00:00&lt;?, ? tables/s]",
            "_view_count": null,
            "_view_module_version": "1.5.0",
            "description_tooltip": null,
            "_model_module": "@jupyter-widgets/controls",
            "layout": "IPY_MODEL_fcd43bda29434bc486130d6b9724e3d2"
          }
        },
        "82570eb398bc41fca45c9c48506e6c79": {
          "model_module": "@jupyter-widgets/controls",
          "model_name": "DescriptionStyleModel",
          "state": {
            "_view_name": "StyleView",
            "_model_name": "DescriptionStyleModel",
            "description_width": "",
            "_view_module": "@jupyter-widgets/base",
            "_model_module_version": "1.5.0",
            "_view_count": null,
            "_view_module_version": "1.2.0",
            "_model_module": "@jupyter-widgets/controls"
          }
        },
        "1691de4c71664f018970084da70575d0": {
          "model_module": "@jupyter-widgets/base",
          "model_name": "LayoutModel",
          "state": {
            "_view_name": "LayoutView",
            "grid_template_rows": null,
            "right": null,
            "justify_content": null,
            "_view_module": "@jupyter-widgets/base",
            "overflow": null,
            "_model_module_version": "1.2.0",
            "_view_count": null,
            "flex_flow": null,
            "width": null,
            "min_width": null,
            "border": null,
            "align_items": null,
            "bottom": null,
            "_model_module": "@jupyter-widgets/base",
            "top": null,
            "grid_column": null,
            "overflow_y": null,
            "overflow_x": null,
            "grid_auto_flow": null,
            "grid_area": null,
            "grid_template_columns": null,
            "flex": null,
            "_model_name": "LayoutModel",
            "justify_items": null,
            "grid_row": null,
            "max_height": null,
            "align_content": null,
            "visibility": null,
            "align_self": null,
            "height": null,
            "min_height": null,
            "padding": null,
            "grid_auto_rows": null,
            "grid_gap": null,
            "max_width": null,
            "order": null,
            "_view_module_version": "1.2.0",
            "grid_template_areas": null,
            "object_position": null,
            "object_fit": null,
            "grid_auto_columns": null,
            "margin": null,
            "display": null,
            "left": null
          }
        },
        "005947054e01433e8bc4642038672afe": {
          "model_module": "@jupyter-widgets/controls",
          "model_name": "ProgressStyleModel",
          "state": {
            "_view_name": "StyleView",
            "_model_name": "ProgressStyleModel",
            "description_width": "",
            "_view_module": "@jupyter-widgets/base",
            "_model_module_version": "1.5.0",
            "_view_count": null,
            "_view_module_version": "1.2.0",
            "bar_color": null,
            "_model_module": "@jupyter-widgets/controls"
          }
        },
        "88a56738413b4480ae7415e2124a7694": {
          "model_module": "@jupyter-widgets/base",
          "model_name": "LayoutModel",
          "state": {
            "_view_name": "LayoutView",
            "grid_template_rows": null,
            "right": null,
            "justify_content": null,
            "_view_module": "@jupyter-widgets/base",
            "overflow": null,
            "_model_module_version": "1.2.0",
            "_view_count": null,
            "flex_flow": null,
            "width": "20px",
            "min_width": null,
            "border": null,
            "align_items": null,
            "bottom": null,
            "_model_module": "@jupyter-widgets/base",
            "top": null,
            "grid_column": null,
            "overflow_y": null,
            "overflow_x": null,
            "grid_auto_flow": null,
            "grid_area": null,
            "grid_template_columns": null,
            "flex": null,
            "_model_name": "LayoutModel",
            "justify_items": null,
            "grid_row": null,
            "max_height": null,
            "align_content": null,
            "visibility": null,
            "align_self": null,
            "height": null,
            "min_height": null,
            "padding": null,
            "grid_auto_rows": null,
            "grid_gap": null,
            "max_width": null,
            "order": null,
            "_view_module_version": "1.2.0",
            "grid_template_areas": null,
            "object_position": null,
            "object_fit": null,
            "grid_auto_columns": null,
            "margin": null,
            "display": null,
            "left": null
          }
        },
        "a4860a1f10214c3581b6004ac91ddc48": {
          "model_module": "@jupyter-widgets/controls",
          "model_name": "DescriptionStyleModel",
          "state": {
            "_view_name": "StyleView",
            "_model_name": "DescriptionStyleModel",
            "description_width": "",
            "_view_module": "@jupyter-widgets/base",
            "_model_module_version": "1.5.0",
            "_view_count": null,
            "_view_module_version": "1.2.0",
            "_model_module": "@jupyter-widgets/controls"
          }
        },
        "fcd43bda29434bc486130d6b9724e3d2": {
          "model_module": "@jupyter-widgets/base",
          "model_name": "LayoutModel",
          "state": {
            "_view_name": "LayoutView",
            "grid_template_rows": null,
            "right": null,
            "justify_content": null,
            "_view_module": "@jupyter-widgets/base",
            "overflow": null,
            "_model_module_version": "1.2.0",
            "_view_count": null,
            "flex_flow": null,
            "width": null,
            "min_width": null,
            "border": null,
            "align_items": null,
            "bottom": null,
            "_model_module": "@jupyter-widgets/base",
            "top": null,
            "grid_column": null,
            "overflow_y": null,
            "overflow_x": null,
            "grid_auto_flow": null,
            "grid_area": null,
            "grid_template_columns": null,
            "flex": null,
            "_model_name": "LayoutModel",
            "justify_items": null,
            "grid_row": null,
            "max_height": null,
            "align_content": null,
            "visibility": null,
            "align_self": null,
            "height": null,
            "min_height": null,
            "padding": null,
            "grid_auto_rows": null,
            "grid_gap": null,
            "max_width": null,
            "order": null,
            "_view_module_version": "1.2.0",
            "grid_template_areas": null,
            "object_position": null,
            "object_fit": null,
            "grid_auto_columns": null,
            "margin": null,
            "display": null,
            "left": null
          }
        },
        "adb8ebf6127c426fb6dfd78fd954aa3c": {
          "model_module": "@jupyter-widgets/controls",
          "model_name": "HBoxModel",
          "state": {
            "_view_name": "HBoxView",
            "_dom_classes": [],
            "_model_name": "HBoxModel",
            "_view_module": "@jupyter-widgets/controls",
            "_model_module_version": "1.5.0",
            "_view_count": null,
            "_view_module_version": "1.5.0",
            "box_style": "",
            "layout": "IPY_MODEL_a829dd2a9f924290b95093df148b0ceb",
            "_model_module": "@jupyter-widgets/controls",
            "children": [
              "IPY_MODEL_0c22b36c1f544e73b5d68a226a18fada",
              "IPY_MODEL_02a0029538f34c2e845742ef98d2b649",
              "IPY_MODEL_e6d995359761428fa801249fb44f799f"
            ]
          }
        },
        "a829dd2a9f924290b95093df148b0ceb": {
          "model_module": "@jupyter-widgets/base",
          "model_name": "LayoutModel",
          "state": {
            "_view_name": "LayoutView",
            "grid_template_rows": null,
            "right": null,
            "justify_content": null,
            "_view_module": "@jupyter-widgets/base",
            "overflow": null,
            "_model_module_version": "1.2.0",
            "_view_count": null,
            "flex_flow": null,
            "width": null,
            "min_width": null,
            "border": null,
            "align_items": null,
            "bottom": null,
            "_model_module": "@jupyter-widgets/base",
            "top": null,
            "grid_column": null,
            "overflow_y": null,
            "overflow_x": null,
            "grid_auto_flow": null,
            "grid_area": null,
            "grid_template_columns": null,
            "flex": null,
            "_model_name": "LayoutModel",
            "justify_items": null,
            "grid_row": null,
            "max_height": null,
            "align_content": null,
            "visibility": null,
            "align_self": null,
            "height": null,
            "min_height": null,
            "padding": null,
            "grid_auto_rows": null,
            "grid_gap": null,
            "max_width": null,
            "order": null,
            "_view_module_version": "1.2.0",
            "grid_template_areas": null,
            "object_position": null,
            "object_fit": null,
            "grid_auto_columns": null,
            "margin": null,
            "display": null,
            "left": null
          }
        },
        "0c22b36c1f544e73b5d68a226a18fada": {
          "model_module": "@jupyter-widgets/controls",
          "model_name": "HTMLModel",
          "state": {
            "_view_name": "HTMLView",
            "style": "IPY_MODEL_4f4eaa3fed1b47d9bfe5a7ff908f4d56",
            "_dom_classes": [],
            "description": "",
            "_model_name": "HTMLModel",
            "placeholder": "​",
            "_view_module": "@jupyter-widgets/controls",
            "_model_module_version": "1.5.0",
            "value": "100%",
            "_view_count": null,
            "_view_module_version": "1.5.0",
            "description_tooltip": null,
            "_model_module": "@jupyter-widgets/controls",
            "layout": "IPY_MODEL_4f09a1627d034c4e8a08302e12a0943d"
          }
        },
        "02a0029538f34c2e845742ef98d2b649": {
          "model_module": "@jupyter-widgets/controls",
          "model_name": "FloatProgressModel",
          "state": {
            "_view_name": "ProgressView",
            "style": "IPY_MODEL_207ae532040b4687aa09691ef4c38786",
            "_dom_classes": [],
            "description": "",
            "_model_name": "FloatProgressModel",
            "bar_style": "success",
            "max": 8,
            "_view_module": "@jupyter-widgets/controls",
            "_model_module_version": "1.5.0",
            "value": 8,
            "_view_count": null,
            "_view_module_version": "1.5.0",
            "orientation": "horizontal",
            "min": 0,
            "description_tooltip": null,
            "_model_module": "@jupyter-widgets/controls",
            "layout": "IPY_MODEL_3ebcf6092f6840cba298fbfa76b5cb70"
          }
        },
        "e6d995359761428fa801249fb44f799f": {
          "model_module": "@jupyter-widgets/controls",
          "model_name": "HTMLModel",
          "state": {
            "_view_name": "HTMLView",
            "style": "IPY_MODEL_12eedde1a675403da125d93655c199bb",
            "_dom_classes": [],
            "description": "",
            "_model_name": "HTMLModel",
            "placeholder": "​",
            "_view_module": "@jupyter-widgets/controls",
            "_model_module_version": "1.5.0",
            "value": " 8/8 [00:04&lt;00:00,  2.06ba/s]",
            "_view_count": null,
            "_view_module_version": "1.5.0",
            "description_tooltip": null,
            "_model_module": "@jupyter-widgets/controls",
            "layout": "IPY_MODEL_6dd7f3a7c5ae45fb9312808303c84bcc"
          }
        },
        "4f4eaa3fed1b47d9bfe5a7ff908f4d56": {
          "model_module": "@jupyter-widgets/controls",
          "model_name": "DescriptionStyleModel",
          "state": {
            "_view_name": "StyleView",
            "_model_name": "DescriptionStyleModel",
            "description_width": "",
            "_view_module": "@jupyter-widgets/base",
            "_model_module_version": "1.5.0",
            "_view_count": null,
            "_view_module_version": "1.2.0",
            "_model_module": "@jupyter-widgets/controls"
          }
        },
        "4f09a1627d034c4e8a08302e12a0943d": {
          "model_module": "@jupyter-widgets/base",
          "model_name": "LayoutModel",
          "state": {
            "_view_name": "LayoutView",
            "grid_template_rows": null,
            "right": null,
            "justify_content": null,
            "_view_module": "@jupyter-widgets/base",
            "overflow": null,
            "_model_module_version": "1.2.0",
            "_view_count": null,
            "flex_flow": null,
            "width": null,
            "min_width": null,
            "border": null,
            "align_items": null,
            "bottom": null,
            "_model_module": "@jupyter-widgets/base",
            "top": null,
            "grid_column": null,
            "overflow_y": null,
            "overflow_x": null,
            "grid_auto_flow": null,
            "grid_area": null,
            "grid_template_columns": null,
            "flex": null,
            "_model_name": "LayoutModel",
            "justify_items": null,
            "grid_row": null,
            "max_height": null,
            "align_content": null,
            "visibility": null,
            "align_self": null,
            "height": null,
            "min_height": null,
            "padding": null,
            "grid_auto_rows": null,
            "grid_gap": null,
            "max_width": null,
            "order": null,
            "_view_module_version": "1.2.0",
            "grid_template_areas": null,
            "object_position": null,
            "object_fit": null,
            "grid_auto_columns": null,
            "margin": null,
            "display": null,
            "left": null
          }
        },
        "207ae532040b4687aa09691ef4c38786": {
          "model_module": "@jupyter-widgets/controls",
          "model_name": "ProgressStyleModel",
          "state": {
            "_view_name": "StyleView",
            "_model_name": "ProgressStyleModel",
            "description_width": "",
            "_view_module": "@jupyter-widgets/base",
            "_model_module_version": "1.5.0",
            "_view_count": null,
            "_view_module_version": "1.2.0",
            "bar_color": null,
            "_model_module": "@jupyter-widgets/controls"
          }
        },
        "3ebcf6092f6840cba298fbfa76b5cb70": {
          "model_module": "@jupyter-widgets/base",
          "model_name": "LayoutModel",
          "state": {
            "_view_name": "LayoutView",
            "grid_template_rows": null,
            "right": null,
            "justify_content": null,
            "_view_module": "@jupyter-widgets/base",
            "overflow": null,
            "_model_module_version": "1.2.0",
            "_view_count": null,
            "flex_flow": null,
            "width": null,
            "min_width": null,
            "border": null,
            "align_items": null,
            "bottom": null,
            "_model_module": "@jupyter-widgets/base",
            "top": null,
            "grid_column": null,
            "overflow_y": null,
            "overflow_x": null,
            "grid_auto_flow": null,
            "grid_area": null,
            "grid_template_columns": null,
            "flex": null,
            "_model_name": "LayoutModel",
            "justify_items": null,
            "grid_row": null,
            "max_height": null,
            "align_content": null,
            "visibility": null,
            "align_self": null,
            "height": null,
            "min_height": null,
            "padding": null,
            "grid_auto_rows": null,
            "grid_gap": null,
            "max_width": null,
            "order": null,
            "_view_module_version": "1.2.0",
            "grid_template_areas": null,
            "object_position": null,
            "object_fit": null,
            "grid_auto_columns": null,
            "margin": null,
            "display": null,
            "left": null
          }
        },
        "12eedde1a675403da125d93655c199bb": {
          "model_module": "@jupyter-widgets/controls",
          "model_name": "DescriptionStyleModel",
          "state": {
            "_view_name": "StyleView",
            "_model_name": "DescriptionStyleModel",
            "description_width": "",
            "_view_module": "@jupyter-widgets/base",
            "_model_module_version": "1.5.0",
            "_view_count": null,
            "_view_module_version": "1.2.0",
            "_model_module": "@jupyter-widgets/controls"
          }
        },
        "6dd7f3a7c5ae45fb9312808303c84bcc": {
          "model_module": "@jupyter-widgets/base",
          "model_name": "LayoutModel",
          "state": {
            "_view_name": "LayoutView",
            "grid_template_rows": null,
            "right": null,
            "justify_content": null,
            "_view_module": "@jupyter-widgets/base",
            "overflow": null,
            "_model_module_version": "1.2.0",
            "_view_count": null,
            "flex_flow": null,
            "width": null,
            "min_width": null,
            "border": null,
            "align_items": null,
            "bottom": null,
            "_model_module": "@jupyter-widgets/base",
            "top": null,
            "grid_column": null,
            "overflow_y": null,
            "overflow_x": null,
            "grid_auto_flow": null,
            "grid_area": null,
            "grid_template_columns": null,
            "flex": null,
            "_model_name": "LayoutModel",
            "justify_items": null,
            "grid_row": null,
            "max_height": null,
            "align_content": null,
            "visibility": null,
            "align_self": null,
            "height": null,
            "min_height": null,
            "padding": null,
            "grid_auto_rows": null,
            "grid_gap": null,
            "max_width": null,
            "order": null,
            "_view_module_version": "1.2.0",
            "grid_template_areas": null,
            "object_position": null,
            "object_fit": null,
            "grid_auto_columns": null,
            "margin": null,
            "display": null,
            "left": null
          }
        },
        "d064ac7fb6cd4ac3b44b38390f188088": {
          "model_module": "@jupyter-widgets/controls",
          "model_name": "HBoxModel",
          "state": {
            "_view_name": "HBoxView",
            "_dom_classes": [],
            "_model_name": "HBoxModel",
            "_view_module": "@jupyter-widgets/controls",
            "_model_module_version": "1.5.0",
            "_view_count": null,
            "_view_module_version": "1.5.0",
            "box_style": "",
            "layout": "IPY_MODEL_71e5fc4898d84c7880c3e786c9616167",
            "_model_module": "@jupyter-widgets/controls",
            "children": [
              "IPY_MODEL_d572e42ea5ac4495be47ef29eb101a4a",
              "IPY_MODEL_51659219b2764593b748d5e6c83846b0",
              "IPY_MODEL_9e675e23da314cb291f7539a677f3f3c"
            ]
          }
        },
        "71e5fc4898d84c7880c3e786c9616167": {
          "model_module": "@jupyter-widgets/base",
          "model_name": "LayoutModel",
          "state": {
            "_view_name": "LayoutView",
            "grid_template_rows": null,
            "right": null,
            "justify_content": null,
            "_view_module": "@jupyter-widgets/base",
            "overflow": null,
            "_model_module_version": "1.2.0",
            "_view_count": null,
            "flex_flow": null,
            "width": null,
            "min_width": null,
            "border": null,
            "align_items": null,
            "bottom": null,
            "_model_module": "@jupyter-widgets/base",
            "top": null,
            "grid_column": null,
            "overflow_y": null,
            "overflow_x": null,
            "grid_auto_flow": null,
            "grid_area": null,
            "grid_template_columns": null,
            "flex": null,
            "_model_name": "LayoutModel",
            "justify_items": null,
            "grid_row": null,
            "max_height": null,
            "align_content": null,
            "visibility": null,
            "align_self": null,
            "height": null,
            "min_height": null,
            "padding": null,
            "grid_auto_rows": null,
            "grid_gap": null,
            "max_width": null,
            "order": null,
            "_view_module_version": "1.2.0",
            "grid_template_areas": null,
            "object_position": null,
            "object_fit": null,
            "grid_auto_columns": null,
            "margin": null,
            "display": null,
            "left": null
          }
        },
        "d572e42ea5ac4495be47ef29eb101a4a": {
          "model_module": "@jupyter-widgets/controls",
          "model_name": "HTMLModel",
          "state": {
            "_view_name": "HTMLView",
            "style": "IPY_MODEL_db2f34f705e24f36a6bc32b10ae5ece3",
            "_dom_classes": [],
            "description": "",
            "_model_name": "HTMLModel",
            "placeholder": "​",
            "_view_module": "@jupyter-widgets/controls",
            "_model_module_version": "1.5.0",
            "value": "100%",
            "_view_count": null,
            "_view_module_version": "1.5.0",
            "description_tooltip": null,
            "_model_module": "@jupyter-widgets/controls",
            "layout": "IPY_MODEL_728bf3c0c2bd4b1689db1b2a32ef03b1"
          }
        },
        "51659219b2764593b748d5e6c83846b0": {
          "model_module": "@jupyter-widgets/controls",
          "model_name": "FloatProgressModel",
          "state": {
            "_view_name": "ProgressView",
            "style": "IPY_MODEL_26e2e179a0204276a273a869d24622cf",
            "_dom_classes": [],
            "description": "",
            "_model_name": "FloatProgressModel",
            "bar_style": "success",
            "max": 3,
            "_view_module": "@jupyter-widgets/controls",
            "_model_module_version": "1.5.0",
            "value": 3,
            "_view_count": null,
            "_view_module_version": "1.5.0",
            "orientation": "horizontal",
            "min": 0,
            "description_tooltip": null,
            "_model_module": "@jupyter-widgets/controls",
            "layout": "IPY_MODEL_b224b1ed5a144d18b94af772f2927c4e"
          }
        },
        "9e675e23da314cb291f7539a677f3f3c": {
          "model_module": "@jupyter-widgets/controls",
          "model_name": "HTMLModel",
          "state": {
            "_view_name": "HTMLView",
            "style": "IPY_MODEL_b720fda4d714477bac579d729f19754c",
            "_dom_classes": [],
            "description": "",
            "_model_name": "HTMLModel",
            "placeholder": "​",
            "_view_module": "@jupyter-widgets/controls",
            "_model_module_version": "1.5.0",
            "value": " 3/3 [00:01&lt;00:00,  2.32ba/s]",
            "_view_count": null,
            "_view_module_version": "1.5.0",
            "description_tooltip": null,
            "_model_module": "@jupyter-widgets/controls",
            "layout": "IPY_MODEL_4729dbeba95946029f1dab64e263eff1"
          }
        },
        "db2f34f705e24f36a6bc32b10ae5ece3": {
          "model_module": "@jupyter-widgets/controls",
          "model_name": "DescriptionStyleModel",
          "state": {
            "_view_name": "StyleView",
            "_model_name": "DescriptionStyleModel",
            "description_width": "",
            "_view_module": "@jupyter-widgets/base",
            "_model_module_version": "1.5.0",
            "_view_count": null,
            "_view_module_version": "1.2.0",
            "_model_module": "@jupyter-widgets/controls"
          }
        },
        "728bf3c0c2bd4b1689db1b2a32ef03b1": {
          "model_module": "@jupyter-widgets/base",
          "model_name": "LayoutModel",
          "state": {
            "_view_name": "LayoutView",
            "grid_template_rows": null,
            "right": null,
            "justify_content": null,
            "_view_module": "@jupyter-widgets/base",
            "overflow": null,
            "_model_module_version": "1.2.0",
            "_view_count": null,
            "flex_flow": null,
            "width": null,
            "min_width": null,
            "border": null,
            "align_items": null,
            "bottom": null,
            "_model_module": "@jupyter-widgets/base",
            "top": null,
            "grid_column": null,
            "overflow_y": null,
            "overflow_x": null,
            "grid_auto_flow": null,
            "grid_area": null,
            "grid_template_columns": null,
            "flex": null,
            "_model_name": "LayoutModel",
            "justify_items": null,
            "grid_row": null,
            "max_height": null,
            "align_content": null,
            "visibility": null,
            "align_self": null,
            "height": null,
            "min_height": null,
            "padding": null,
            "grid_auto_rows": null,
            "grid_gap": null,
            "max_width": null,
            "order": null,
            "_view_module_version": "1.2.0",
            "grid_template_areas": null,
            "object_position": null,
            "object_fit": null,
            "grid_auto_columns": null,
            "margin": null,
            "display": null,
            "left": null
          }
        },
        "26e2e179a0204276a273a869d24622cf": {
          "model_module": "@jupyter-widgets/controls",
          "model_name": "ProgressStyleModel",
          "state": {
            "_view_name": "StyleView",
            "_model_name": "ProgressStyleModel",
            "description_width": "",
            "_view_module": "@jupyter-widgets/base",
            "_model_module_version": "1.5.0",
            "_view_count": null,
            "_view_module_version": "1.2.0",
            "bar_color": null,
            "_model_module": "@jupyter-widgets/controls"
          }
        },
        "b224b1ed5a144d18b94af772f2927c4e": {
          "model_module": "@jupyter-widgets/base",
          "model_name": "LayoutModel",
          "state": {
            "_view_name": "LayoutView",
            "grid_template_rows": null,
            "right": null,
            "justify_content": null,
            "_view_module": "@jupyter-widgets/base",
            "overflow": null,
            "_model_module_version": "1.2.0",
            "_view_count": null,
            "flex_flow": null,
            "width": null,
            "min_width": null,
            "border": null,
            "align_items": null,
            "bottom": null,
            "_model_module": "@jupyter-widgets/base",
            "top": null,
            "grid_column": null,
            "overflow_y": null,
            "overflow_x": null,
            "grid_auto_flow": null,
            "grid_area": null,
            "grid_template_columns": null,
            "flex": null,
            "_model_name": "LayoutModel",
            "justify_items": null,
            "grid_row": null,
            "max_height": null,
            "align_content": null,
            "visibility": null,
            "align_self": null,
            "height": null,
            "min_height": null,
            "padding": null,
            "grid_auto_rows": null,
            "grid_gap": null,
            "max_width": null,
            "order": null,
            "_view_module_version": "1.2.0",
            "grid_template_areas": null,
            "object_position": null,
            "object_fit": null,
            "grid_auto_columns": null,
            "margin": null,
            "display": null,
            "left": null
          }
        },
        "b720fda4d714477bac579d729f19754c": {
          "model_module": "@jupyter-widgets/controls",
          "model_name": "DescriptionStyleModel",
          "state": {
            "_view_name": "StyleView",
            "_model_name": "DescriptionStyleModel",
            "description_width": "",
            "_view_module": "@jupyter-widgets/base",
            "_model_module_version": "1.5.0",
            "_view_count": null,
            "_view_module_version": "1.2.0",
            "_model_module": "@jupyter-widgets/controls"
          }
        },
        "4729dbeba95946029f1dab64e263eff1": {
          "model_module": "@jupyter-widgets/base",
          "model_name": "LayoutModel",
          "state": {
            "_view_name": "LayoutView",
            "grid_template_rows": null,
            "right": null,
            "justify_content": null,
            "_view_module": "@jupyter-widgets/base",
            "overflow": null,
            "_model_module_version": "1.2.0",
            "_view_count": null,
            "flex_flow": null,
            "width": null,
            "min_width": null,
            "border": null,
            "align_items": null,
            "bottom": null,
            "_model_module": "@jupyter-widgets/base",
            "top": null,
            "grid_column": null,
            "overflow_y": null,
            "overflow_x": null,
            "grid_auto_flow": null,
            "grid_area": null,
            "grid_template_columns": null,
            "flex": null,
            "_model_name": "LayoutModel",
            "justify_items": null,
            "grid_row": null,
            "max_height": null,
            "align_content": null,
            "visibility": null,
            "align_self": null,
            "height": null,
            "min_height": null,
            "padding": null,
            "grid_auto_rows": null,
            "grid_gap": null,
            "max_width": null,
            "order": null,
            "_view_module_version": "1.2.0",
            "grid_template_areas": null,
            "object_position": null,
            "object_fit": null,
            "grid_auto_columns": null,
            "margin": null,
            "display": null,
            "left": null
          }
        },
        "6fd6b06e8c6d4968800a68ff72b7c029": {
          "model_module": "@jupyter-widgets/controls",
          "model_name": "HBoxModel",
          "state": {
            "_view_name": "HBoxView",
            "_dom_classes": [],
            "_model_name": "HBoxModel",
            "_view_module": "@jupyter-widgets/controls",
            "_model_module_version": "1.5.0",
            "_view_count": null,
            "_view_module_version": "1.5.0",
            "box_style": "",
            "layout": "IPY_MODEL_a7c212887ef840bdb5794c681b40a66d",
            "_model_module": "@jupyter-widgets/controls",
            "children": [
              "IPY_MODEL_4aa26bda490f40c8841b8473573ec653",
              "IPY_MODEL_a4ec29818e2f46f69e5be0260a22d0b4",
              "IPY_MODEL_af2dcf86b42c4d43836c1a65e5499d3b"
            ]
          }
        },
        "a7c212887ef840bdb5794c681b40a66d": {
          "model_module": "@jupyter-widgets/base",
          "model_name": "LayoutModel",
          "state": {
            "_view_name": "LayoutView",
            "grid_template_rows": null,
            "right": null,
            "justify_content": null,
            "_view_module": "@jupyter-widgets/base",
            "overflow": null,
            "_model_module_version": "1.2.0",
            "_view_count": null,
            "flex_flow": null,
            "width": null,
            "min_width": null,
            "border": null,
            "align_items": null,
            "bottom": null,
            "_model_module": "@jupyter-widgets/base",
            "top": null,
            "grid_column": null,
            "overflow_y": null,
            "overflow_x": null,
            "grid_auto_flow": null,
            "grid_area": null,
            "grid_template_columns": null,
            "flex": null,
            "_model_name": "LayoutModel",
            "justify_items": null,
            "grid_row": null,
            "max_height": null,
            "align_content": null,
            "visibility": null,
            "align_self": null,
            "height": null,
            "min_height": null,
            "padding": null,
            "grid_auto_rows": null,
            "grid_gap": null,
            "max_width": null,
            "order": null,
            "_view_module_version": "1.2.0",
            "grid_template_areas": null,
            "object_position": null,
            "object_fit": null,
            "grid_auto_columns": null,
            "margin": null,
            "display": null,
            "left": null
          }
        },
        "4aa26bda490f40c8841b8473573ec653": {
          "model_module": "@jupyter-widgets/controls",
          "model_name": "HTMLModel",
          "state": {
            "_view_name": "HTMLView",
            "style": "IPY_MODEL_673463da7ca242c69cf58770e28d31d1",
            "_dom_classes": [],
            "description": "",
            "_model_name": "HTMLModel",
            "placeholder": "​",
            "_view_module": "@jupyter-widgets/controls",
            "_model_module_version": "1.5.0",
            "value": "100%",
            "_view_count": null,
            "_view_module_version": "1.5.0",
            "description_tooltip": null,
            "_model_module": "@jupyter-widgets/controls",
            "layout": "IPY_MODEL_4c2fb190e6d049f39a430128188c6b35"
          }
        },
        "a4ec29818e2f46f69e5be0260a22d0b4": {
          "model_module": "@jupyter-widgets/controls",
          "model_name": "FloatProgressModel",
          "state": {
            "_view_name": "ProgressView",
            "style": "IPY_MODEL_16bbf91a8ae9445590728c3f1a8d542d",
            "_dom_classes": [],
            "description": "",
            "_model_name": "FloatProgressModel",
            "bar_style": "success",
            "max": 3,
            "_view_module": "@jupyter-widgets/controls",
            "_model_module_version": "1.5.0",
            "value": 3,
            "_view_count": null,
            "_view_module_version": "1.5.0",
            "orientation": "horizontal",
            "min": 0,
            "description_tooltip": null,
            "_model_module": "@jupyter-widgets/controls",
            "layout": "IPY_MODEL_4733cd154376416faec6bd44d9aab4a1"
          }
        },
        "af2dcf86b42c4d43836c1a65e5499d3b": {
          "model_module": "@jupyter-widgets/controls",
          "model_name": "HTMLModel",
          "state": {
            "_view_name": "HTMLView",
            "style": "IPY_MODEL_b1a11615c82c4949a61b8c5abdefa6f8",
            "_dom_classes": [],
            "description": "",
            "_model_name": "HTMLModel",
            "placeholder": "​",
            "_view_module": "@jupyter-widgets/controls",
            "_model_module_version": "1.5.0",
            "value": " 3/3 [00:01&lt;00:00,  2.35ba/s]",
            "_view_count": null,
            "_view_module_version": "1.5.0",
            "description_tooltip": null,
            "_model_module": "@jupyter-widgets/controls",
            "layout": "IPY_MODEL_4a06be9440a64af4a3fd96e51b5f33a2"
          }
        },
        "673463da7ca242c69cf58770e28d31d1": {
          "model_module": "@jupyter-widgets/controls",
          "model_name": "DescriptionStyleModel",
          "state": {
            "_view_name": "StyleView",
            "_model_name": "DescriptionStyleModel",
            "description_width": "",
            "_view_module": "@jupyter-widgets/base",
            "_model_module_version": "1.5.0",
            "_view_count": null,
            "_view_module_version": "1.2.0",
            "_model_module": "@jupyter-widgets/controls"
          }
        },
        "4c2fb190e6d049f39a430128188c6b35": {
          "model_module": "@jupyter-widgets/base",
          "model_name": "LayoutModel",
          "state": {
            "_view_name": "LayoutView",
            "grid_template_rows": null,
            "right": null,
            "justify_content": null,
            "_view_module": "@jupyter-widgets/base",
            "overflow": null,
            "_model_module_version": "1.2.0",
            "_view_count": null,
            "flex_flow": null,
            "width": null,
            "min_width": null,
            "border": null,
            "align_items": null,
            "bottom": null,
            "_model_module": "@jupyter-widgets/base",
            "top": null,
            "grid_column": null,
            "overflow_y": null,
            "overflow_x": null,
            "grid_auto_flow": null,
            "grid_area": null,
            "grid_template_columns": null,
            "flex": null,
            "_model_name": "LayoutModel",
            "justify_items": null,
            "grid_row": null,
            "max_height": null,
            "align_content": null,
            "visibility": null,
            "align_self": null,
            "height": null,
            "min_height": null,
            "padding": null,
            "grid_auto_rows": null,
            "grid_gap": null,
            "max_width": null,
            "order": null,
            "_view_module_version": "1.2.0",
            "grid_template_areas": null,
            "object_position": null,
            "object_fit": null,
            "grid_auto_columns": null,
            "margin": null,
            "display": null,
            "left": null
          }
        },
        "16bbf91a8ae9445590728c3f1a8d542d": {
          "model_module": "@jupyter-widgets/controls",
          "model_name": "ProgressStyleModel",
          "state": {
            "_view_name": "StyleView",
            "_model_name": "ProgressStyleModel",
            "description_width": "",
            "_view_module": "@jupyter-widgets/base",
            "_model_module_version": "1.5.0",
            "_view_count": null,
            "_view_module_version": "1.2.0",
            "bar_color": null,
            "_model_module": "@jupyter-widgets/controls"
          }
        },
        "4733cd154376416faec6bd44d9aab4a1": {
          "model_module": "@jupyter-widgets/base",
          "model_name": "LayoutModel",
          "state": {
            "_view_name": "LayoutView",
            "grid_template_rows": null,
            "right": null,
            "justify_content": null,
            "_view_module": "@jupyter-widgets/base",
            "overflow": null,
            "_model_module_version": "1.2.0",
            "_view_count": null,
            "flex_flow": null,
            "width": null,
            "min_width": null,
            "border": null,
            "align_items": null,
            "bottom": null,
            "_model_module": "@jupyter-widgets/base",
            "top": null,
            "grid_column": null,
            "overflow_y": null,
            "overflow_x": null,
            "grid_auto_flow": null,
            "grid_area": null,
            "grid_template_columns": null,
            "flex": null,
            "_model_name": "LayoutModel",
            "justify_items": null,
            "grid_row": null,
            "max_height": null,
            "align_content": null,
            "visibility": null,
            "align_self": null,
            "height": null,
            "min_height": null,
            "padding": null,
            "grid_auto_rows": null,
            "grid_gap": null,
            "max_width": null,
            "order": null,
            "_view_module_version": "1.2.0",
            "grid_template_areas": null,
            "object_position": null,
            "object_fit": null,
            "grid_auto_columns": null,
            "margin": null,
            "display": null,
            "left": null
          }
        },
        "b1a11615c82c4949a61b8c5abdefa6f8": {
          "model_module": "@jupyter-widgets/controls",
          "model_name": "DescriptionStyleModel",
          "state": {
            "_view_name": "StyleView",
            "_model_name": "DescriptionStyleModel",
            "description_width": "",
            "_view_module": "@jupyter-widgets/base",
            "_model_module_version": "1.5.0",
            "_view_count": null,
            "_view_module_version": "1.2.0",
            "_model_module": "@jupyter-widgets/controls"
          }
        },
        "4a06be9440a64af4a3fd96e51b5f33a2": {
          "model_module": "@jupyter-widgets/base",
          "model_name": "LayoutModel",
          "state": {
            "_view_name": "LayoutView",
            "grid_template_rows": null,
            "right": null,
            "justify_content": null,
            "_view_module": "@jupyter-widgets/base",
            "overflow": null,
            "_model_module_version": "1.2.0",
            "_view_count": null,
            "flex_flow": null,
            "width": null,
            "min_width": null,
            "border": null,
            "align_items": null,
            "bottom": null,
            "_model_module": "@jupyter-widgets/base",
            "top": null,
            "grid_column": null,
            "overflow_y": null,
            "overflow_x": null,
            "grid_auto_flow": null,
            "grid_area": null,
            "grid_template_columns": null,
            "flex": null,
            "_model_name": "LayoutModel",
            "justify_items": null,
            "grid_row": null,
            "max_height": null,
            "align_content": null,
            "visibility": null,
            "align_self": null,
            "height": null,
            "min_height": null,
            "padding": null,
            "grid_auto_rows": null,
            "grid_gap": null,
            "max_width": null,
            "order": null,
            "_view_module_version": "1.2.0",
            "grid_template_areas": null,
            "object_position": null,
            "object_fit": null,
            "grid_auto_columns": null,
            "margin": null,
            "display": null,
            "left": null
          }
        },
        "1b2759a346c543c5b5e280211cbdac46": {
          "model_module": "@jupyter-widgets/controls",
          "model_name": "HBoxModel",
          "state": {
            "_view_name": "HBoxView",
            "_dom_classes": [],
            "_model_name": "HBoxModel",
            "_view_module": "@jupyter-widgets/controls",
            "_model_module_version": "1.5.0",
            "_view_count": null,
            "_view_module_version": "1.5.0",
            "box_style": "",
            "layout": "IPY_MODEL_76e71d0936934133a1dd041f035f7e8d",
            "_model_module": "@jupyter-widgets/controls",
            "children": [
              "IPY_MODEL_4b2225ee6cdb497985c08bf2e0af1f4f",
              "IPY_MODEL_94f15fdab56e42429982dd4b2b3580a0",
              "IPY_MODEL_cbaa7abf323c4ac2a8f0ea948680a6ac"
            ]
          }
        },
        "76e71d0936934133a1dd041f035f7e8d": {
          "model_module": "@jupyter-widgets/base",
          "model_name": "LayoutModel",
          "state": {
            "_view_name": "LayoutView",
            "grid_template_rows": null,
            "right": null,
            "justify_content": null,
            "_view_module": "@jupyter-widgets/base",
            "overflow": null,
            "_model_module_version": "1.2.0",
            "_view_count": null,
            "flex_flow": null,
            "width": null,
            "min_width": null,
            "border": null,
            "align_items": null,
            "bottom": null,
            "_model_module": "@jupyter-widgets/base",
            "top": null,
            "grid_column": null,
            "overflow_y": null,
            "overflow_x": null,
            "grid_auto_flow": null,
            "grid_area": null,
            "grid_template_columns": null,
            "flex": null,
            "_model_name": "LayoutModel",
            "justify_items": null,
            "grid_row": null,
            "max_height": null,
            "align_content": null,
            "visibility": null,
            "align_self": null,
            "height": null,
            "min_height": null,
            "padding": null,
            "grid_auto_rows": null,
            "grid_gap": null,
            "max_width": null,
            "order": null,
            "_view_module_version": "1.2.0",
            "grid_template_areas": null,
            "object_position": null,
            "object_fit": null,
            "grid_auto_columns": null,
            "margin": null,
            "display": null,
            "left": null
          }
        },
        "4b2225ee6cdb497985c08bf2e0af1f4f": {
          "model_module": "@jupyter-widgets/controls",
          "model_name": "HTMLModel",
          "state": {
            "_view_name": "HTMLView",
            "style": "IPY_MODEL_34114ce33e5f4f5b94c711e7f85f76b4",
            "_dom_classes": [],
            "description": "",
            "_model_name": "HTMLModel",
            "placeholder": "​",
            "_view_module": "@jupyter-widgets/controls",
            "_model_module_version": "1.5.0",
            "value": "Downloading: 100%",
            "_view_count": null,
            "_view_module_version": "1.5.0",
            "description_tooltip": null,
            "_model_module": "@jupyter-widgets/controls",
            "layout": "IPY_MODEL_62da74dd5d734f8ca917efd69cc0a759"
          }
        },
        "94f15fdab56e42429982dd4b2b3580a0": {
          "model_module": "@jupyter-widgets/controls",
          "model_name": "FloatProgressModel",
          "state": {
            "_view_name": "ProgressView",
            "style": "IPY_MODEL_6d30dc16a5ea4942ba0fbaf9ef09f2ab",
            "_dom_classes": [],
            "description": "",
            "_model_name": "FloatProgressModel",
            "bar_style": "success",
            "max": 63059416,
            "_view_module": "@jupyter-widgets/controls",
            "_model_module_version": "1.5.0",
            "value": 63059416,
            "_view_count": null,
            "_view_module_version": "1.5.0",
            "orientation": "horizontal",
            "min": 0,
            "description_tooltip": null,
            "_model_module": "@jupyter-widgets/controls",
            "layout": "IPY_MODEL_a30d005e8f49437485a6de39d4605525"
          }
        },
        "cbaa7abf323c4ac2a8f0ea948680a6ac": {
          "model_module": "@jupyter-widgets/controls",
          "model_name": "HTMLModel",
          "state": {
            "_view_name": "HTMLView",
            "style": "IPY_MODEL_3ddf19212d7846afaf609e735c2dbc6b",
            "_dom_classes": [],
            "description": "",
            "_model_name": "HTMLModel",
            "placeholder": "​",
            "_view_module": "@jupyter-widgets/controls",
            "_model_module_version": "1.5.0",
            "value": " 63.1M/63.1M [00:01&lt;00:00, 41.7MB/s]",
            "_view_count": null,
            "_view_module_version": "1.5.0",
            "description_tooltip": null,
            "_model_module": "@jupyter-widgets/controls",
            "layout": "IPY_MODEL_da1d8a33f1324804a99ef8bae8a25edf"
          }
        },
        "34114ce33e5f4f5b94c711e7f85f76b4": {
          "model_module": "@jupyter-widgets/controls",
          "model_name": "DescriptionStyleModel",
          "state": {
            "_view_name": "StyleView",
            "_model_name": "DescriptionStyleModel",
            "description_width": "",
            "_view_module": "@jupyter-widgets/base",
            "_model_module_version": "1.5.0",
            "_view_count": null,
            "_view_module_version": "1.2.0",
            "_model_module": "@jupyter-widgets/controls"
          }
        },
        "62da74dd5d734f8ca917efd69cc0a759": {
          "model_module": "@jupyter-widgets/base",
          "model_name": "LayoutModel",
          "state": {
            "_view_name": "LayoutView",
            "grid_template_rows": null,
            "right": null,
            "justify_content": null,
            "_view_module": "@jupyter-widgets/base",
            "overflow": null,
            "_model_module_version": "1.2.0",
            "_view_count": null,
            "flex_flow": null,
            "width": null,
            "min_width": null,
            "border": null,
            "align_items": null,
            "bottom": null,
            "_model_module": "@jupyter-widgets/base",
            "top": null,
            "grid_column": null,
            "overflow_y": null,
            "overflow_x": null,
            "grid_auto_flow": null,
            "grid_area": null,
            "grid_template_columns": null,
            "flex": null,
            "_model_name": "LayoutModel",
            "justify_items": null,
            "grid_row": null,
            "max_height": null,
            "align_content": null,
            "visibility": null,
            "align_self": null,
            "height": null,
            "min_height": null,
            "padding": null,
            "grid_auto_rows": null,
            "grid_gap": null,
            "max_width": null,
            "order": null,
            "_view_module_version": "1.2.0",
            "grid_template_areas": null,
            "object_position": null,
            "object_fit": null,
            "grid_auto_columns": null,
            "margin": null,
            "display": null,
            "left": null
          }
        },
        "6d30dc16a5ea4942ba0fbaf9ef09f2ab": {
          "model_module": "@jupyter-widgets/controls",
          "model_name": "ProgressStyleModel",
          "state": {
            "_view_name": "StyleView",
            "_model_name": "ProgressStyleModel",
            "description_width": "",
            "_view_module": "@jupyter-widgets/base",
            "_model_module_version": "1.5.0",
            "_view_count": null,
            "_view_module_version": "1.2.0",
            "bar_color": null,
            "_model_module": "@jupyter-widgets/controls"
          }
        },
        "a30d005e8f49437485a6de39d4605525": {
          "model_module": "@jupyter-widgets/base",
          "model_name": "LayoutModel",
          "state": {
            "_view_name": "LayoutView",
            "grid_template_rows": null,
            "right": null,
            "justify_content": null,
            "_view_module": "@jupyter-widgets/base",
            "overflow": null,
            "_model_module_version": "1.2.0",
            "_view_count": null,
            "flex_flow": null,
            "width": null,
            "min_width": null,
            "border": null,
            "align_items": null,
            "bottom": null,
            "_model_module": "@jupyter-widgets/base",
            "top": null,
            "grid_column": null,
            "overflow_y": null,
            "overflow_x": null,
            "grid_auto_flow": null,
            "grid_area": null,
            "grid_template_columns": null,
            "flex": null,
            "_model_name": "LayoutModel",
            "justify_items": null,
            "grid_row": null,
            "max_height": null,
            "align_content": null,
            "visibility": null,
            "align_self": null,
            "height": null,
            "min_height": null,
            "padding": null,
            "grid_auto_rows": null,
            "grid_gap": null,
            "max_width": null,
            "order": null,
            "_view_module_version": "1.2.0",
            "grid_template_areas": null,
            "object_position": null,
            "object_fit": null,
            "grid_auto_columns": null,
            "margin": null,
            "display": null,
            "left": null
          }
        },
        "3ddf19212d7846afaf609e735c2dbc6b": {
          "model_module": "@jupyter-widgets/controls",
          "model_name": "DescriptionStyleModel",
          "state": {
            "_view_name": "StyleView",
            "_model_name": "DescriptionStyleModel",
            "description_width": "",
            "_view_module": "@jupyter-widgets/base",
            "_model_module_version": "1.5.0",
            "_view_count": null,
            "_view_module_version": "1.2.0",
            "_model_module": "@jupyter-widgets/controls"
          }
        },
        "da1d8a33f1324804a99ef8bae8a25edf": {
          "model_module": "@jupyter-widgets/base",
          "model_name": "LayoutModel",
          "state": {
            "_view_name": "LayoutView",
            "grid_template_rows": null,
            "right": null,
            "justify_content": null,
            "_view_module": "@jupyter-widgets/base",
            "overflow": null,
            "_model_module_version": "1.2.0",
            "_view_count": null,
            "flex_flow": null,
            "width": null,
            "min_width": null,
            "border": null,
            "align_items": null,
            "bottom": null,
            "_model_module": "@jupyter-widgets/base",
            "top": null,
            "grid_column": null,
            "overflow_y": null,
            "overflow_x": null,
            "grid_auto_flow": null,
            "grid_area": null,
            "grid_template_columns": null,
            "flex": null,
            "_model_name": "LayoutModel",
            "justify_items": null,
            "grid_row": null,
            "max_height": null,
            "align_content": null,
            "visibility": null,
            "align_self": null,
            "height": null,
            "min_height": null,
            "padding": null,
            "grid_auto_rows": null,
            "grid_gap": null,
            "max_width": null,
            "order": null,
            "_view_module_version": "1.2.0",
            "grid_template_areas": null,
            "object_position": null,
            "object_fit": null,
            "grid_auto_columns": null,
            "margin": null,
            "display": null,
            "left": null
          }
        }
      }
    },
    "accelerator": "GPU"
  },
  "cells": [
    {
      "cell_type": "markdown",
      "metadata": {
        "id": "view-in-github",
        "colab_type": "text"
      },
      "source": [
        "<a href=\"https://colab.research.google.com/github/thingkilia2507/PTCJNN_BangkitCapstoneProject/blob/celine-branch/Machine%20Learning/notebooks/Hate%20Speech%20Detection%20-%20FINAL%20(ALBERT_v3).ipynb\" target=\"_parent\"><img src=\"https://colab.research.google.com/assets/colab-badge.svg\" alt=\"Open In Colab\"/></a>"
      ]
    },
    {
      "cell_type": "markdown",
      "metadata": {
        "id": "hrh51XdTgtHE"
      },
      "source": [
        "# **Acknowledgment**\n",
        "\n",
        "This notebook mainly use codes from https://github.com/huggingface/transformers/blob/master/examples/tensorflow/text-classification/run_text_classification.py and modified accordingly.\n",
        "```\n",
        "#!/usr/bin/env python\n",
        "# coding=utf-8\n",
        "# Copyright 2021 The HuggingFace Inc. team. All rights reserved.\n",
        "#\n",
        "# Licensed under the Apache License, Version 2.0 (the \"License\");\n",
        "# you may not use this file except in compliance with the License.\n",
        "# You may obtain a copy of the License at\n",
        "#\n",
        "#     http://www.apache.org/licenses/LICENSE-2.0\n",
        "#\n",
        "# Unless required by applicable law or agreed to in writing, software\n",
        "# distributed under the License is distributed on an \"AS IS\" BASIS,\n",
        "# WITHOUT WARRANTIES OR CONDITIONS OF ANY KIND, either express or implied.\n",
        "# See the License for the specific language governing permissions and\n",
        "# limitations under the License.\n",
        "\"\"\" Fine-tuning the library models for sequence classification.\"\"\"\n",
        "# You can also adapt this script on your own text classification task. Pointers for this are left as comments.\n",
        "```\n",
        "\n",
        "\n",
        "**Other References**\n",
        "* https://towardsdatascience.com/tensorflow-and-transformers-df6fceaf57cc\n",
        "* https://towardsdatascience.com/working-with-hugging-face-transformers-and-tf-2-0-89bf35e3555a\n",
        "\n",
        "\n",
        "**Pre-trained Language Model: ```indobenchmark/indobert-lite-base-p1``` from:**\n",
        "```\n",
        "@inproceedings{wilie2020indonlu,\n",
        "  title={IndoNLU: Benchmark and Resources for Evaluating Indonesian Natural Language Understanding},\n",
        "  author={Bryan Wilie and Karissa Vincentio and Genta Indra Winata and Samuel Cahyawijaya and X. Li and Zhi Yuan Lim and S. Soleman and R. Mahendra and Pascale Fung and Syafri Bahar and A. Purwarianti},\n",
        "  booktitle={Proceedings of the 1st Conference of the Asia-Pacific Chapter of the Association for Computational Linguistics and the 10th International Joint Conference on Natural Language Processing},\n",
        "  year={2020}\n",
        "}\n",
        "```"
      ]
    },
    {
      "cell_type": "markdown",
      "metadata": {
        "id": "BKIJ20o2qsxA"
      },
      "source": [
        "# **Library**"
      ]
    },
    {
      "cell_type": "code",
      "metadata": {
        "id": "zNML-0ijMRre",
        "colab": {
          "base_uri": "https://localhost:8080/"
        },
        "outputId": "67328c93-b67f-4545-faf2-48c37809a423"
      },
      "source": [
        "from google.colab import drive\n",
        "drive.mount('/content/drive', force_remount=True)\n",
        "\n",
        "PROJECT_ROOT = 'drive/My Drive/Bangkit Capstone PT CJNN/ML/'\n",
        "HS_PATH = PROJECT_ROOT + 'dataset/hate_speech/'"
      ],
      "execution_count": null,
      "outputs": [
        {
          "output_type": "stream",
          "text": [
            "Mounted at /content/drive\n",
            "time: 19.1 s (started: 2021-05-20 21:38:04 +00:00)\n"
          ],
          "name": "stdout"
        }
      ]
    },
    {
      "cell_type": "code",
      "metadata": {
        "colab": {
          "base_uri": "https://localhost:8080/"
        },
        "id": "33lEGK7hhEOx",
        "outputId": "1dd4c0ab-4a20-4ddb-cf5d-802e39035b2a"
      },
      "source": [
        "!pip install --upgrade transformers\n",
        "!pip install simpletransformers\n",
        "!pip install ipython-autotime\n",
        "%load_ext autotime\n",
        "\n",
        "import os, sys\n",
        "import logging\n",
        "import json\n",
        "import re\n",
        "import time\n",
        "import pandas as pd\n",
        "import numpy as np\n",
        "import tensorflow as tf\n",
        "\n",
        "from functools import partial\n",
        "from datetime import timedelta\n",
        "from datasets import load_dataset\n",
        "from matplotlib import pyplot as plt\n",
        "from transformers import AlbertConfig, BertTokenizer, TFAlbertForSequenceClassification, TFTrainingArguments, set_seed\n",
        "from sklearn.metrics import f1_score, recall_score, precision_score, accuracy_score, confusion_matrix, classification_report"
      ],
      "execution_count": null,
      "outputs": [
        {
          "output_type": "stream",
          "text": [
            "Requirement already up-to-date: transformers in /usr/local/lib/python3.7/dist-packages (4.6.1)\n",
            "Requirement already satisfied, skipping upgrade: filelock in /usr/local/lib/python3.7/dist-packages (from transformers) (3.0.12)\n",
            "Requirement already satisfied, skipping upgrade: packaging in /usr/local/lib/python3.7/dist-packages (from transformers) (20.9)\n",
            "Requirement already satisfied, skipping upgrade: sacremoses in /usr/local/lib/python3.7/dist-packages (from transformers) (0.0.45)\n",
            "Requirement already satisfied, skipping upgrade: tokenizers<0.11,>=0.10.1 in /usr/local/lib/python3.7/dist-packages (from transformers) (0.10.2)\n",
            "Requirement already satisfied, skipping upgrade: numpy>=1.17 in /usr/local/lib/python3.7/dist-packages (from transformers) (1.19.5)\n",
            "Requirement already satisfied, skipping upgrade: requests in /usr/local/lib/python3.7/dist-packages (from transformers) (2.23.0)\n",
            "Requirement already satisfied, skipping upgrade: tqdm>=4.27 in /usr/local/lib/python3.7/dist-packages (from transformers) (4.60.0)\n",
            "Requirement already satisfied, skipping upgrade: regex!=2019.12.17 in /usr/local/lib/python3.7/dist-packages (from transformers) (2019.12.20)\n",
            "Requirement already satisfied, skipping upgrade: huggingface-hub==0.0.8 in /usr/local/lib/python3.7/dist-packages (from transformers) (0.0.8)\n",
            "Requirement already satisfied, skipping upgrade: importlib-metadata; python_version < \"3.8\" in /usr/local/lib/python3.7/dist-packages (from transformers) (4.0.1)\n",
            "Requirement already satisfied, skipping upgrade: pyparsing>=2.0.2 in /usr/local/lib/python3.7/dist-packages (from packaging->transformers) (2.4.7)\n",
            "Requirement already satisfied, skipping upgrade: six in /usr/local/lib/python3.7/dist-packages (from sacremoses->transformers) (1.15.0)\n",
            "Requirement already satisfied, skipping upgrade: click in /usr/local/lib/python3.7/dist-packages (from sacremoses->transformers) (8.0.0)\n",
            "Requirement already satisfied, skipping upgrade: joblib in /usr/local/lib/python3.7/dist-packages (from sacremoses->transformers) (1.0.1)\n",
            "Requirement already satisfied, skipping upgrade: certifi>=2017.4.17 in /usr/local/lib/python3.7/dist-packages (from requests->transformers) (2020.12.5)\n",
            "Requirement already satisfied, skipping upgrade: chardet<4,>=3.0.2 in /usr/local/lib/python3.7/dist-packages (from requests->transformers) (3.0.4)\n",
            "Requirement already satisfied, skipping upgrade: idna<3,>=2.5 in /usr/local/lib/python3.7/dist-packages (from requests->transformers) (2.10)\n",
            "Requirement already satisfied, skipping upgrade: urllib3!=1.25.0,!=1.25.1,<1.26,>=1.21.1 in /usr/local/lib/python3.7/dist-packages (from requests->transformers) (1.24.3)\n",
            "Requirement already satisfied, skipping upgrade: typing-extensions>=3.6.4; python_version < \"3.8\" in /usr/local/lib/python3.7/dist-packages (from importlib-metadata; python_version < \"3.8\"->transformers) (3.7.4.3)\n",
            "Requirement already satisfied, skipping upgrade: zipp>=0.5 in /usr/local/lib/python3.7/dist-packages (from importlib-metadata; python_version < \"3.8\"->transformers) (3.4.1)\n",
            "Requirement already satisfied: simpletransformers in /usr/local/lib/python3.7/dist-packages (0.61.5)\n",
            "Requirement already satisfied: tqdm>=4.47.0 in /usr/local/lib/python3.7/dist-packages (from simpletransformers) (4.60.0)\n",
            "Requirement already satisfied: scikit-learn in /usr/local/lib/python3.7/dist-packages (from simpletransformers) (0.22.2.post1)\n",
            "Requirement already satisfied: wandb in /usr/local/lib/python3.7/dist-packages (from simpletransformers) (0.10.30)\n",
            "Requirement already satisfied: tensorboardx in /usr/local/lib/python3.7/dist-packages (from simpletransformers) (2.2)\n",
            "Requirement already satisfied: regex in /usr/local/lib/python3.7/dist-packages (from simpletransformers) (2019.12.20)\n",
            "Requirement already satisfied: tokenizers in /usr/local/lib/python3.7/dist-packages (from simpletransformers) (0.10.2)\n",
            "Requirement already satisfied: seqeval in /usr/local/lib/python3.7/dist-packages (from simpletransformers) (1.2.2)\n",
            "Requirement already satisfied: transformers>=4.2.0 in /usr/local/lib/python3.7/dist-packages (from simpletransformers) (4.6.1)\n",
            "Requirement already satisfied: requests in /usr/local/lib/python3.7/dist-packages (from simpletransformers) (2.23.0)\n",
            "Requirement already satisfied: streamlit in /usr/local/lib/python3.7/dist-packages (from simpletransformers) (0.82.0)\n",
            "Requirement already satisfied: pandas in /usr/local/lib/python3.7/dist-packages (from simpletransformers) (1.1.5)\n",
            "Requirement already satisfied: sentencepiece in /usr/local/lib/python3.7/dist-packages (from simpletransformers) (0.1.95)\n",
            "Requirement already satisfied: numpy in /usr/local/lib/python3.7/dist-packages (from simpletransformers) (1.19.5)\n",
            "Requirement already satisfied: datasets in /usr/local/lib/python3.7/dist-packages (from simpletransformers) (1.6.2)\n",
            "Requirement already satisfied: scipy in /usr/local/lib/python3.7/dist-packages (from simpletransformers) (1.4.1)\n",
            "Requirement already satisfied: joblib>=0.11 in /usr/local/lib/python3.7/dist-packages (from scikit-learn->simpletransformers) (1.0.1)\n",
            "Requirement already satisfied: promise<3,>=2.0 in /usr/local/lib/python3.7/dist-packages (from wandb->simpletransformers) (2.3)\n",
            "Requirement already satisfied: psutil>=5.0.0 in /usr/local/lib/python3.7/dist-packages (from wandb->simpletransformers) (5.4.8)\n",
            "Requirement already satisfied: docker-pycreds>=0.4.0 in /usr/local/lib/python3.7/dist-packages (from wandb->simpletransformers) (0.4.0)\n",
            "Requirement already satisfied: python-dateutil>=2.6.1 in /usr/local/lib/python3.7/dist-packages (from wandb->simpletransformers) (2.8.1)\n",
            "Requirement already satisfied: sentry-sdk>=0.4.0 in /usr/local/lib/python3.7/dist-packages (from wandb->simpletransformers) (1.1.0)\n",
            "Requirement already satisfied: protobuf>=3.12.0 in /usr/local/lib/python3.7/dist-packages (from wandb->simpletransformers) (3.12.4)\n",
            "Requirement already satisfied: configparser>=3.8.1 in /usr/local/lib/python3.7/dist-packages (from wandb->simpletransformers) (5.0.2)\n",
            "Requirement already satisfied: six>=1.13.0 in /usr/local/lib/python3.7/dist-packages (from wandb->simpletransformers) (1.15.0)\n",
            "Requirement already satisfied: PyYAML in /usr/local/lib/python3.7/dist-packages (from wandb->simpletransformers) (3.13)\n",
            "Requirement already satisfied: shortuuid>=0.5.0 in /usr/local/lib/python3.7/dist-packages (from wandb->simpletransformers) (1.0.1)\n",
            "Requirement already satisfied: pathtools in /usr/local/lib/python3.7/dist-packages (from wandb->simpletransformers) (0.1.2)\n",
            "Requirement already satisfied: Click>=7.0 in /usr/local/lib/python3.7/dist-packages (from wandb->simpletransformers) (8.0.0)\n",
            "Requirement already satisfied: subprocess32>=3.5.3 in /usr/local/lib/python3.7/dist-packages (from wandb->simpletransformers) (3.5.4)\n",
            "Requirement already satisfied: GitPython>=1.0.0 in /usr/local/lib/python3.7/dist-packages (from wandb->simpletransformers) (3.1.17)\n",
            "Requirement already satisfied: importlib-metadata; python_version < \"3.8\" in /usr/local/lib/python3.7/dist-packages (from transformers>=4.2.0->simpletransformers) (4.0.1)\n",
            "Requirement already satisfied: sacremoses in /usr/local/lib/python3.7/dist-packages (from transformers>=4.2.0->simpletransformers) (0.0.45)\n",
            "Requirement already satisfied: filelock in /usr/local/lib/python3.7/dist-packages (from transformers>=4.2.0->simpletransformers) (3.0.12)\n",
            "Requirement already satisfied: packaging in /usr/local/lib/python3.7/dist-packages (from transformers>=4.2.0->simpletransformers) (20.9)\n",
            "Requirement already satisfied: huggingface-hub==0.0.8 in /usr/local/lib/python3.7/dist-packages (from transformers>=4.2.0->simpletransformers) (0.0.8)\n",
            "Requirement already satisfied: chardet<4,>=3.0.2 in /usr/local/lib/python3.7/dist-packages (from requests->simpletransformers) (3.0.4)\n",
            "Requirement already satisfied: idna<3,>=2.5 in /usr/local/lib/python3.7/dist-packages (from requests->simpletransformers) (2.10)\n",
            "Requirement already satisfied: certifi>=2017.4.17 in /usr/local/lib/python3.7/dist-packages (from requests->simpletransformers) (2020.12.5)\n",
            "Requirement already satisfied: urllib3!=1.25.0,!=1.25.1,<1.26,>=1.21.1 in /usr/local/lib/python3.7/dist-packages (from requests->simpletransformers) (1.24.3)\n",
            "Requirement already satisfied: pydeck>=0.1.dev5 in /usr/local/lib/python3.7/dist-packages (from streamlit->simpletransformers) (0.6.2)\n",
            "Requirement already satisfied: blinker in /usr/local/lib/python3.7/dist-packages (from streamlit->simpletransformers) (1.4)\n",
            "Requirement already satisfied: base58 in /usr/local/lib/python3.7/dist-packages (from streamlit->simpletransformers) (2.1.0)\n",
            "Requirement already satisfied: validators in /usr/local/lib/python3.7/dist-packages (from streamlit->simpletransformers) (0.18.2)\n",
            "Requirement already satisfied: astor in /usr/local/lib/python3.7/dist-packages (from streamlit->simpletransformers) (0.8.1)\n",
            "Requirement already satisfied: tzlocal in /usr/local/lib/python3.7/dist-packages (from streamlit->simpletransformers) (1.5.1)\n",
            "Requirement already satisfied: pillow>=6.2.0 in /usr/local/lib/python3.7/dist-packages (from streamlit->simpletransformers) (7.1.2)\n",
            "Requirement already satisfied: cachetools>=4.0 in /usr/local/lib/python3.7/dist-packages (from streamlit->simpletransformers) (4.2.2)\n",
            "Requirement already satisfied: tornado>=5.0 in /usr/local/lib/python3.7/dist-packages (from streamlit->simpletransformers) (5.1.1)\n",
            "Requirement already satisfied: pyarrow; python_version < \"3.9\" in /usr/local/lib/python3.7/dist-packages (from streamlit->simpletransformers) (3.0.0)\n",
            "Requirement already satisfied: toml in /usr/local/lib/python3.7/dist-packages (from streamlit->simpletransformers) (0.10.2)\n",
            "Requirement already satisfied: watchdog; platform_system != \"Darwin\" in /usr/local/lib/python3.7/dist-packages (from streamlit->simpletransformers) (2.1.2)\n",
            "Requirement already satisfied: altair>=3.2.0 in /usr/local/lib/python3.7/dist-packages (from streamlit->simpletransformers) (4.1.0)\n",
            "Requirement already satisfied: pytz>=2017.2 in /usr/local/lib/python3.7/dist-packages (from pandas->simpletransformers) (2018.9)\n",
            "Requirement already satisfied: fsspec in /usr/local/lib/python3.7/dist-packages (from datasets->simpletransformers) (2021.5.0)\n",
            "Requirement already satisfied: dill in /usr/local/lib/python3.7/dist-packages (from datasets->simpletransformers) (0.3.3)\n",
            "Requirement already satisfied: multiprocess in /usr/local/lib/python3.7/dist-packages (from datasets->simpletransformers) (0.70.11.1)\n",
            "Requirement already satisfied: xxhash in /usr/local/lib/python3.7/dist-packages (from datasets->simpletransformers) (2.0.2)\n",
            "Requirement already satisfied: setuptools in /usr/local/lib/python3.7/dist-packages (from protobuf>=3.12.0->wandb->simpletransformers) (56.1.0)\n",
            "Requirement already satisfied: gitdb<5,>=4.0.1 in /usr/local/lib/python3.7/dist-packages (from GitPython>=1.0.0->wandb->simpletransformers) (4.0.7)\n",
            "Requirement already satisfied: typing-extensions>=3.7.4.0; python_version < \"3.8\" in /usr/local/lib/python3.7/dist-packages (from GitPython>=1.0.0->wandb->simpletransformers) (3.7.4.3)\n",
            "Requirement already satisfied: zipp>=0.5 in /usr/local/lib/python3.7/dist-packages (from importlib-metadata; python_version < \"3.8\"->transformers>=4.2.0->simpletransformers) (3.4.1)\n",
            "Requirement already satisfied: pyparsing>=2.0.2 in /usr/local/lib/python3.7/dist-packages (from packaging->transformers>=4.2.0->simpletransformers) (2.4.7)\n",
            "Requirement already satisfied: ipykernel>=5.1.2; python_version >= \"3.4\" in /usr/local/lib/python3.7/dist-packages (from pydeck>=0.1.dev5->streamlit->simpletransformers) (5.5.5)\n",
            "Requirement already satisfied: ipywidgets>=7.0.0 in /usr/local/lib/python3.7/dist-packages (from pydeck>=0.1.dev5->streamlit->simpletransformers) (7.6.3)\n",
            "Requirement already satisfied: jinja2>=2.10.1 in /usr/local/lib/python3.7/dist-packages (from pydeck>=0.1.dev5->streamlit->simpletransformers) (2.11.3)\n",
            "Requirement already satisfied: traitlets>=4.3.2 in /usr/local/lib/python3.7/dist-packages (from pydeck>=0.1.dev5->streamlit->simpletransformers) (5.0.5)\n",
            "Requirement already satisfied: decorator>=3.4.0 in /usr/local/lib/python3.7/dist-packages (from validators->streamlit->simpletransformers) (4.4.2)\n",
            "Requirement already satisfied: jsonschema in /usr/local/lib/python3.7/dist-packages (from altair>=3.2.0->streamlit->simpletransformers) (2.6.0)\n",
            "Requirement already satisfied: entrypoints in /usr/local/lib/python3.7/dist-packages (from altair>=3.2.0->streamlit->simpletransformers) (0.3)\n",
            "Requirement already satisfied: toolz in /usr/local/lib/python3.7/dist-packages (from altair>=3.2.0->streamlit->simpletransformers) (0.11.1)\n",
            "Requirement already satisfied: smmap<5,>=3.0.1 in /usr/local/lib/python3.7/dist-packages (from gitdb<5,>=4.0.1->GitPython>=1.0.0->wandb->simpletransformers) (4.0.0)\n",
            "Requirement already satisfied: jupyter-client in /usr/local/lib/python3.7/dist-packages (from ipykernel>=5.1.2; python_version >= \"3.4\"->pydeck>=0.1.dev5->streamlit->simpletransformers) (5.3.5)\n",
            "Requirement already satisfied: ipython>=5.0.0 in /usr/local/lib/python3.7/dist-packages (from ipykernel>=5.1.2; python_version >= \"3.4\"->pydeck>=0.1.dev5->streamlit->simpletransformers) (5.5.0)\n",
            "Requirement already satisfied: widgetsnbextension~=3.5.0 in /usr/local/lib/python3.7/dist-packages (from ipywidgets>=7.0.0->pydeck>=0.1.dev5->streamlit->simpletransformers) (3.5.1)\n",
            "Requirement already satisfied: nbformat>=4.2.0 in /usr/local/lib/python3.7/dist-packages (from ipywidgets>=7.0.0->pydeck>=0.1.dev5->streamlit->simpletransformers) (5.1.3)\n",
            "Requirement already satisfied: jupyterlab-widgets>=1.0.0; python_version >= \"3.6\" in /usr/local/lib/python3.7/dist-packages (from ipywidgets>=7.0.0->pydeck>=0.1.dev5->streamlit->simpletransformers) (1.0.0)\n",
            "Requirement already satisfied: MarkupSafe>=0.23 in /usr/local/lib/python3.7/dist-packages (from jinja2>=2.10.1->pydeck>=0.1.dev5->streamlit->simpletransformers) (2.0.0)\n",
            "Requirement already satisfied: ipython-genutils in /usr/local/lib/python3.7/dist-packages (from traitlets>=4.3.2->pydeck>=0.1.dev5->streamlit->simpletransformers) (0.2.0)\n",
            "Requirement already satisfied: pyzmq>=13 in /usr/local/lib/python3.7/dist-packages (from jupyter-client->ipykernel>=5.1.2; python_version >= \"3.4\"->pydeck>=0.1.dev5->streamlit->simpletransformers) (22.0.3)\n",
            "Requirement already satisfied: jupyter-core>=4.6.0 in /usr/local/lib/python3.7/dist-packages (from jupyter-client->ipykernel>=5.1.2; python_version >= \"3.4\"->pydeck>=0.1.dev5->streamlit->simpletransformers) (4.7.1)\n",
            "Requirement already satisfied: pygments in /usr/local/lib/python3.7/dist-packages (from ipython>=5.0.0->ipykernel>=5.1.2; python_version >= \"3.4\"->pydeck>=0.1.dev5->streamlit->simpletransformers) (2.6.1)\n",
            "Requirement already satisfied: pexpect; sys_platform != \"win32\" in /usr/local/lib/python3.7/dist-packages (from ipython>=5.0.0->ipykernel>=5.1.2; python_version >= \"3.4\"->pydeck>=0.1.dev5->streamlit->simpletransformers) (4.8.0)\n",
            "Requirement already satisfied: pickleshare in /usr/local/lib/python3.7/dist-packages (from ipython>=5.0.0->ipykernel>=5.1.2; python_version >= \"3.4\"->pydeck>=0.1.dev5->streamlit->simpletransformers) (0.7.5)\n",
            "Requirement already satisfied: simplegeneric>0.8 in /usr/local/lib/python3.7/dist-packages (from ipython>=5.0.0->ipykernel>=5.1.2; python_version >= \"3.4\"->pydeck>=0.1.dev5->streamlit->simpletransformers) (0.8.1)\n",
            "Requirement already satisfied: prompt-toolkit<2.0.0,>=1.0.4 in /usr/local/lib/python3.7/dist-packages (from ipython>=5.0.0->ipykernel>=5.1.2; python_version >= \"3.4\"->pydeck>=0.1.dev5->streamlit->simpletransformers) (1.0.18)\n",
            "Requirement already satisfied: notebook>=4.4.1 in /usr/local/lib/python3.7/dist-packages (from widgetsnbextension~=3.5.0->ipywidgets>=7.0.0->pydeck>=0.1.dev5->streamlit->simpletransformers) (5.3.1)\n",
            "Requirement already satisfied: ptyprocess>=0.5 in /usr/local/lib/python3.7/dist-packages (from pexpect; sys_platform != \"win32\"->ipython>=5.0.0->ipykernel>=5.1.2; python_version >= \"3.4\"->pydeck>=0.1.dev5->streamlit->simpletransformers) (0.7.0)\n",
            "Requirement already satisfied: wcwidth in /usr/local/lib/python3.7/dist-packages (from prompt-toolkit<2.0.0,>=1.0.4->ipython>=5.0.0->ipykernel>=5.1.2; python_version >= \"3.4\"->pydeck>=0.1.dev5->streamlit->simpletransformers) (0.2.5)\n",
            "Requirement already satisfied: Send2Trash in /usr/local/lib/python3.7/dist-packages (from notebook>=4.4.1->widgetsnbextension~=3.5.0->ipywidgets>=7.0.0->pydeck>=0.1.dev5->streamlit->simpletransformers) (1.5.0)\n",
            "Requirement already satisfied: nbconvert in /usr/local/lib/python3.7/dist-packages (from notebook>=4.4.1->widgetsnbextension~=3.5.0->ipywidgets>=7.0.0->pydeck>=0.1.dev5->streamlit->simpletransformers) (5.6.1)\n",
            "Requirement already satisfied: terminado>=0.8.1 in /usr/local/lib/python3.7/dist-packages (from notebook>=4.4.1->widgetsnbextension~=3.5.0->ipywidgets>=7.0.0->pydeck>=0.1.dev5->streamlit->simpletransformers) (0.9.5)\n",
            "Requirement already satisfied: testpath in /usr/local/lib/python3.7/dist-packages (from nbconvert->notebook>=4.4.1->widgetsnbextension~=3.5.0->ipywidgets>=7.0.0->pydeck>=0.1.dev5->streamlit->simpletransformers) (0.4.4)\n",
            "Requirement already satisfied: defusedxml in /usr/local/lib/python3.7/dist-packages (from nbconvert->notebook>=4.4.1->widgetsnbextension~=3.5.0->ipywidgets>=7.0.0->pydeck>=0.1.dev5->streamlit->simpletransformers) (0.7.1)\n",
            "Requirement already satisfied: mistune<2,>=0.8.1 in /usr/local/lib/python3.7/dist-packages (from nbconvert->notebook>=4.4.1->widgetsnbextension~=3.5.0->ipywidgets>=7.0.0->pydeck>=0.1.dev5->streamlit->simpletransformers) (0.8.4)\n",
            "Requirement already satisfied: pandocfilters>=1.4.1 in /usr/local/lib/python3.7/dist-packages (from nbconvert->notebook>=4.4.1->widgetsnbextension~=3.5.0->ipywidgets>=7.0.0->pydeck>=0.1.dev5->streamlit->simpletransformers) (1.4.3)\n",
            "Requirement already satisfied: bleach in /usr/local/lib/python3.7/dist-packages (from nbconvert->notebook>=4.4.1->widgetsnbextension~=3.5.0->ipywidgets>=7.0.0->pydeck>=0.1.dev5->streamlit->simpletransformers) (3.3.0)\n",
            "Requirement already satisfied: webencodings in /usr/local/lib/python3.7/dist-packages (from bleach->nbconvert->notebook>=4.4.1->widgetsnbextension~=3.5.0->ipywidgets>=7.0.0->pydeck>=0.1.dev5->streamlit->simpletransformers) (0.5.1)\n",
            "Requirement already satisfied: ipython-autotime in /usr/local/lib/python3.7/dist-packages (0.3.1)\n",
            "Requirement already satisfied: ipython in /usr/local/lib/python3.7/dist-packages (from ipython-autotime) (5.5.0)\n",
            "Requirement already satisfied: pygments in /usr/local/lib/python3.7/dist-packages (from ipython->ipython-autotime) (2.6.1)\n",
            "Requirement already satisfied: prompt-toolkit<2.0.0,>=1.0.4 in /usr/local/lib/python3.7/dist-packages (from ipython->ipython-autotime) (1.0.18)\n",
            "Requirement already satisfied: traitlets>=4.2 in /usr/local/lib/python3.7/dist-packages (from ipython->ipython-autotime) (5.0.5)\n",
            "Requirement already satisfied: pexpect; sys_platform != \"win32\" in /usr/local/lib/python3.7/dist-packages (from ipython->ipython-autotime) (4.8.0)\n",
            "Requirement already satisfied: decorator in /usr/local/lib/python3.7/dist-packages (from ipython->ipython-autotime) (4.4.2)\n",
            "Requirement already satisfied: simplegeneric>0.8 in /usr/local/lib/python3.7/dist-packages (from ipython->ipython-autotime) (0.8.1)\n",
            "Requirement already satisfied: setuptools>=18.5 in /usr/local/lib/python3.7/dist-packages (from ipython->ipython-autotime) (56.1.0)\n",
            "Requirement already satisfied: pickleshare in /usr/local/lib/python3.7/dist-packages (from ipython->ipython-autotime) (0.7.5)\n",
            "Requirement already satisfied: six>=1.9.0 in /usr/local/lib/python3.7/dist-packages (from prompt-toolkit<2.0.0,>=1.0.4->ipython->ipython-autotime) (1.15.0)\n",
            "Requirement already satisfied: wcwidth in /usr/local/lib/python3.7/dist-packages (from prompt-toolkit<2.0.0,>=1.0.4->ipython->ipython-autotime) (0.2.5)\n",
            "Requirement already satisfied: ipython-genutils in /usr/local/lib/python3.7/dist-packages (from traitlets>=4.2->ipython->ipython-autotime) (0.2.0)\n",
            "Requirement already satisfied: ptyprocess>=0.5 in /usr/local/lib/python3.7/dist-packages (from pexpect; sys_platform != \"win32\"->ipython->ipython-autotime) (0.7.0)\n",
            "time: 2.53 s (started: 2021-05-20 21:38:01 +00:00)\n"
          ],
          "name": "stdout"
        }
      ]
    },
    {
      "cell_type": "code",
      "metadata": {
        "colab": {
          "base_uri": "https://localhost:8080/"
        },
        "id": "4XqFTr_icyWM",
        "outputId": "c57b9fe6-abb8-4c08-bc77-0a1d28104519"
      },
      "source": [
        "from transformers.file_utils import CONFIG_NAME, TF2_WEIGHTS_NAME\n",
        "print(CONFIG_NAME)\n",
        "print(TF2_WEIGHTS_NAME)"
      ],
      "execution_count": null,
      "outputs": [
        {
          "output_type": "stream",
          "text": [
            "config.json\n",
            "tf_model.h5\n",
            "time: 2.8 ms (started: 2021-05-14 11:28:35 +00:00)\n"
          ],
          "name": "stdout"
        }
      ]
    },
    {
      "cell_type": "markdown",
      "metadata": {
        "id": "HNHdECyLkHpy"
      },
      "source": [
        "# **SETTINGS**"
      ]
    },
    {
      "cell_type": "code",
      "metadata": {
        "colab": {
          "base_uri": "https://localhost:8080/"
        },
        "id": "VL2VKESczNOU",
        "outputId": "996861b8-c173-420a-801b-44ebff43af6a"
      },
      "source": [
        "train_df = pd.read_csv(HS_PATH + 'train_emo_v2.csv')\n",
        "val_df = pd.read_csv(HS_PATH + 'val_emo_v2.csv')\n",
        "test_df = pd.read_csv(HS_PATH + 'test_emo_v2.csv')\n",
        "\n",
        "measurer = np.vectorize(len)\n",
        "max_seq_len_train = measurer(train_df['sentence1'].values.astype(str)).max(axis=0)\n",
        "max_seq_len_val = measurer(val_df['sentence1'].values.astype(str)).max(axis=0)\n",
        "max_seq_len_test = measurer(test_df['sentence1'].values.astype(str)).max(axis=0)\n",
        "\n",
        "print('Maximum sequence length in training data'.ljust(42), ':', max_seq_len_train)\n",
        "print('Maximum sequence length in validation data'.ljust(42), ':', max_seq_len_val)\n",
        "print('Maximum sequence length in testing data'.ljust(42), ':', max_seq_len_test)"
      ],
      "execution_count": null,
      "outputs": [
        {
          "output_type": "stream",
          "text": [
            "Maximum sequence length in training data   : 316\n",
            "Maximum sequence length in validation data : 315\n",
            "Maximum sequence length in testing data    : 283\n",
            "time: 1.79 s (started: 2021-05-20 21:38:43 +00:00)\n"
          ],
          "name": "stdout"
        }
      ]
    },
    {
      "cell_type": "code",
      "metadata": {
        "colab": {
          "base_uri": "https://localhost:8080/"
        },
        "id": "N_8DabrekJNW",
        "outputId": "3940c260-f882-47ad-c5d8-33d3a40a6ea9"
      },
      "source": [
        "PRETRAINED_MODEL = 'indobenchmark/indobert-lite-base-p1'\n",
        "LABEL2ID =  {'non_hs':0, 'hs': 1}\n",
        "MAX_SEQ_LEN = np.max([max_seq_len_train, max_seq_len_val, max_seq_len_test])"
      ],
      "execution_count": null,
      "outputs": [
        {
          "output_type": "stream",
          "text": [
            "time: 2.11 ms (started: 2021-05-20 21:38:45 +00:00)\n"
          ],
          "name": "stdout"
        }
      ]
    },
    {
      "cell_type": "markdown",
      "metadata": {
        "id": "DcHsUnYAVxQT"
      },
      "source": [
        "# **Helper Function**"
      ]
    },
    {
      "cell_type": "code",
      "metadata": {
        "id": "XBqW-imnfTDL",
        "colab": {
          "base_uri": "https://localhost:8080/"
        },
        "outputId": "2da13b75-f28b-494f-84f2-eed20ed3fc77"
      },
      "source": [
        "def preprocess_function(data, tokenizer, non_label_column_names):\n",
        "    # Tokenize the texts\n",
        "    args = (data['sentence1'],) if 'sentence2' not in non_label_column_names else (data['sentence1'], data['sentence2'])\n",
        "    result = tokenizer(*args, max_length=MAX_SEQ_LEN, truncation=True, padding=True,\n",
        "                                add_special_tokens=True, return_attention_mask=True, return_token_type_ids=True)\n",
        "\n",
        "    # Map labels to IDs\n",
        "    if LABEL2ID is not None and 'label' in data:\n",
        "        result['label'] = [LABEL2ID[l] for l in data['label']]\n",
        "    return result"
      ],
      "execution_count": null,
      "outputs": [
        {
          "output_type": "stream",
          "text": [
            "time: 6.67 ms (started: 2021-05-20 07:42:15 +00:00)\n"
          ],
          "name": "stdout"
        }
      ]
    },
    {
      "cell_type": "code",
      "metadata": {
        "id": "div-4MT0VvJM",
        "colab": {
          "base_uri": "https://localhost:8080/"
        },
        "outputId": "007cb925-8cc1-4ec0-bb1f-32d063485d2b"
      },
      "source": [
        "class SavePretrainedCallback(tf.keras.callbacks.Callback):\n",
        "    # Hugging Face models have a save_pretrained() method that saves both the weights and the necessary\n",
        "    # metadata to allow them to be loaded as a pretrained model in future. This is a simple Keras callback\n",
        "    # that saves the model with this method after each epoch.\n",
        "    def __init__(self, output_dir, **kwargs):\n",
        "        super().__init__()\n",
        "        self.output_dir = output_dir\n",
        "\n",
        "    def on_epoch_end(self, epoch, logs=None):\n",
        "        self.model.save_pretrained(self.output_dir)"
      ],
      "execution_count": null,
      "outputs": [
        {
          "output_type": "stream",
          "text": [
            "time: 3.88 ms (started: 2021-05-20 07:42:15 +00:00)\n"
          ],
          "name": "stdout"
        }
      ]
    },
    {
      "cell_type": "code",
      "metadata": {
        "id": "orv-KJbsTvi-",
        "colab": {
          "base_uri": "https://localhost:8080/"
        },
        "outputId": "1cf9ea2e-a3d3-43bf-fd88-4e70bceca525"
      },
      "source": [
        "def convert_dataset_for_tensorflow(\n",
        "    dataset, non_label_column_names, batch_size, dataset_mode='variable_batch', shuffle=True, drop_remainder=True\n",
        "):\n",
        "    '''\n",
        "      Converts a Hugging Face dataset to a Tensorflow Dataset. The dataset_mode controls whether we pad all batches\n",
        "      to the maximum sequence length, or whether we only pad to the maximum length within that batch. The former\n",
        "      is most useful when training on TPU, as a new graph compilation is required for each sequence length.\n",
        "    '''\n",
        "\n",
        "    def densify_ragged_batch(features, label=None):\n",
        "        features = {\n",
        "            feature: ragged_tensor.to_tensor(shape=batch_shape[feature]) for feature, ragged_tensor in features.items()\n",
        "        }\n",
        "        if label is None:\n",
        "            return features\n",
        "        else:\n",
        "            return features, label\n",
        "\n",
        "    feature_keys = list(set(dataset.features.keys()) - set(non_label_column_names + ['label'])) # only take the tokenized embeddings\n",
        "    if dataset_mode == 'variable_batch':\n",
        "        batch_shape = {key: None for key in feature_keys}\n",
        "        data = {key: tf.ragged.constant(dataset[key]) for key in feature_keys}\n",
        "    elif dataset_mode == 'constant_batch':\n",
        "        data = {key: tf.ragged.constant(dataset[key]) for key in feature_keys}\n",
        "        batch_shape = {\n",
        "            key: tf.concat(([batch_size], ragged_tensor.bounding_shape()[1:]), axis=0)\n",
        "            for key, ragged_tensor in data.items()\n",
        "        }\n",
        "    else:\n",
        "        raise ValueError('Unknown dataset mode!')\n",
        "\n",
        "    if 'label' in dataset.features:\n",
        "        labels = tf.convert_to_tensor(np.array(dataset['label']))\n",
        "        tf_dataset = tf.data.Dataset.from_tensor_slices((data, labels))\n",
        "    else:\n",
        "        tf_dataset = tf.data.Dataset.from_tensor_slices(data)\n",
        "    \n",
        "    if shuffle:\n",
        "        tf_dataset = tf_dataset.shuffle(buffer_size=len(dataset))\n",
        "    \n",
        "    tf_dataset = tf_dataset.batch(batch_size=batch_size, drop_remainder=drop_remainder).map(densify_ragged_batch)\n",
        "    return tf_dataset"
      ],
      "execution_count": null,
      "outputs": [
        {
          "output_type": "stream",
          "text": [
            "time: 26.5 ms (started: 2021-05-20 07:42:17 +00:00)\n"
          ],
          "name": "stdout"
        }
      ]
    },
    {
      "cell_type": "code",
      "metadata": {
        "colab": {
          "base_uri": "https://localhost:8080/"
        },
        "id": "FX_-Lt-un7Ho",
        "outputId": "6636bfba-df26-4634-cc9a-90b866458b71"
      },
      "source": [
        "def classification_metrics(list_true, list_preds):\n",
        "    metrics = {}\n",
        "    metrics['ACC'] = accuracy_score(list_true, list_preds)\n",
        "    metrics['F1'] = f1_score(list_true, list_preds, average='weighted')\n",
        "    metrics['REC'] = recall_score(list_true, list_preds, average='weighted')\n",
        "    metrics['PRE'] = precision_score(list_true, list_preds, average='weighted')\n",
        "    return metrics\n",
        "\n",
        "def metrics_to_string(metric_dict):\n",
        "    string_list = []\n",
        "    for key, value in metric_dict.items():\n",
        "        string_list.append(f'\\033[1m{key}:\\033[0m{value:.4f}')\n",
        "    return ' '.join(string_list)"
      ],
      "execution_count": null,
      "outputs": [
        {
          "output_type": "stream",
          "text": [
            "time: 7.86 ms (started: 2021-05-20 20:38:15 +00:00)\n"
          ],
          "name": "stdout"
        }
      ]
    },
    {
      "cell_type": "code",
      "metadata": {
        "colab": {
          "base_uri": "https://localhost:8080/"
        },
        "id": "3tinAP3QdhYW",
        "outputId": "ccbc002f-576b-4810-c9ba-b1faa97c3a4d"
      },
      "source": [
        "def plot_history(history):\n",
        "    epochs = range(1, len(history['val_loss']) + 1)\n",
        "    fig, axes = plt.subplots(nrows=1, ncols=2, figsize=(15, 5))\n",
        "\n",
        "    axes[0].set_title('Training and Validation Loss')\n",
        "    axes[0].plot(epochs, history['val_loss'], label='val loss')\n",
        "    axes[0].plot(epochs, history['loss'], label='train loss')\n",
        "    axes[0].set_xlabel('Epochs')\n",
        "    axes[0].set_ylabel('Loss')\n",
        "    axes[0].legend(loc='best')\n",
        "\n",
        "    axes[1].set_title('Training and Validation Accuracy')\n",
        "    axes[1].plot(epochs, history['val_accuracy'], label='val accuracy')\n",
        "    axes[1].plot(epochs, history['accuracy'], label='train accuracy')\n",
        "    axes[1].set_xlabel('Epochs')\n",
        "    axes[1].set_ylabel('Accuracy')\n",
        "    axes[1].legend(loc='best')"
      ],
      "execution_count": null,
      "outputs": [
        {
          "output_type": "stream",
          "text": [
            "time: 121 ms (started: 2021-05-20 07:41:39 +00:00)\n"
          ],
          "name": "stdout"
        }
      ]
    },
    {
      "cell_type": "code",
      "metadata": {
        "colab": {
          "base_uri": "https://localhost:8080/"
        },
        "id": "iCZYgu_ZjDD2",
        "outputId": "e069131c-a080-4017-bdc9-24feba5cfed0"
      },
      "source": [
        "def main(datasets, training_args, config, non_label_column_names, PRETRAINED_MODEL=PRETRAINED_MODEL):\n",
        "    os.environ['TF_CPP_MIN_LOG_LEVEL'] = '1'  # Reduce the amount of console output from TF\n",
        "    logger = logging.getLogger(__name__)\n",
        "\n",
        "\n",
        "    with training_args.strategy.scope():\n",
        "        set_seed(training_args.seed)\n",
        "\n",
        "        model = TFAlbertForSequenceClassification.from_pretrained(PRETRAINED_MODEL, config=config)\n",
        "\n",
        "        optimizer = tf.keras.optimizers.Adam(\n",
        "                learning_rate=training_args.learning_rate,\n",
        "                clipnorm=training_args.max_grad_norm,\n",
        "            )\n",
        "        loss = tf.keras.losses.SparseCategoricalCrossentropy(from_logits=True)\n",
        "        acc = tf.keras.metrics.SparseCategoricalAccuracy('accuracy')\n",
        "        model.compile(optimizer=optimizer, loss=loss, metrics=[acc])\n",
        "\n",
        "        # Convert data to TF format\n",
        "        # Convert data to a tf.keras.utils.Sequence object for training if we're not using a TPU\n",
        "        # For TPU, convert to a tf.data.Dataset\n",
        "        tf_data = dict()\n",
        "        for key in ('train', 'validation', 'test'):\n",
        "            if key == 'train':\n",
        "                shuffle = True\n",
        "                batch_size = training_args.per_device_train_batch_size\n",
        "                drop_remainder = True  # Saves us worrying about scaling gradients for the last batch\n",
        "            else:\n",
        "                shuffle = False\n",
        "                batch_size = training_args.per_device_eval_batch_size\n",
        "                drop_remainder = False\n",
        "\n",
        "            dataset = datasets[key]\n",
        "            if isinstance(training_args.strategy, tf.distribute.TPUStrategy):\n",
        "                logger.info(\"Padding all batches to max length because argument was set or we're on TPU.\")\n",
        "                dataset_mode = 'constant_batch'\n",
        "            else:\n",
        "                dataset_mode = 'variable_batch'\n",
        "\n",
        "            data = convert_dataset_for_tensorflow(\n",
        "                dataset,\n",
        "                non_label_column_names,\n",
        "                batch_size=batch_size,\n",
        "                dataset_mode=dataset_mode,\n",
        "                drop_remainder=drop_remainder,\n",
        "                shuffle=shuffle,\n",
        "            )\n",
        "            tf_data[key] = data\n",
        "\n",
        "        # Training and validation\n",
        "        training_start_time = time.time()\n",
        "        history = None\n",
        "        if tf_data['train'] is not None and training_args.do_train:\n",
        "            callbacks = [SavePretrainedCallback(output_dir=training_args.output_dir),\n",
        "                         tf.keras.callbacks.EarlyStopping(monitor='val_loss', patience=3)]\n",
        "            history = model.fit(\n",
        "                      tf_data['train'],\n",
        "                      validation_data=tf_data['validation'],\n",
        "                      epochs=int(training_args.num_train_epochs),\n",
        "                      callbacks=callbacks,\n",
        "            )\n",
        "        elif tf_data['validation'] is not None and training_args.do_eval:\n",
        "            # If there's a validation dataset but no training set, just evaluate the metrics\n",
        "            logger.info('Computing metrics on validation data...')\n",
        "            loss, acc = model.evaluate(tf_data['validation'])\n",
        "            logger.info(f'Loss: {loss:.5f}, Accuracy: {acc * 100:.4f}%')\n",
        "\n",
        "        finished = time.time() - training_start_time\n",
        "        finished = str(timedelta(seconds=finished))\n",
        "\n",
        "        # Prediction\n",
        "        if tf_data['test'] is not None and training_args.do_predict:\n",
        "            logger.info('Doing predictions on test dataset...')\n",
        "            predictions = model.predict(tf_data['test'])['logits']\n",
        "            predicted_class_idx = np.argmax(predictions, axis=1)\n",
        "            predicted_class_name = [config.id2label[idx] for idx in predicted_class_idx]\n",
        "            output_test_file = os.path.join(training_args.output_dir, 'test_preds.csv')\n",
        "            pd.DataFrame(predicted_class_name, columns=['prediction']).to_csv(output_test_file)\n",
        "            logger.info(f'Wrote predictions to {output_test_file}!')\n",
        "\n",
        "    # region Prediction losses\n",
        "    # This section is outside the scope() because it's very quick to compute, but behaves badly inside it\n",
        "    if 'test' in datasets and 'label' in datasets['test'].features and training_args.do_predict:\n",
        "        print('\\n')\n",
        "        print(' \\033[1mMODEL PERFORMANCE ON TEST SET\\033[0m '.center(100, '='))\n",
        "        labels_idx = datasets['test']['label']\n",
        "        labels_name = [config.id2label[idx] for idx in labels_idx]\n",
        "        loss = float(loss(labels_idx, predictions).numpy())\n",
        "        print(f'\\033[1mLoss\\033[0m:{loss:.4f}', metrics_to_string(classification_metrics(labels_idx, predicted_class_idx)))\n",
        "        print('\\n\\033[1mClassification Report:\\033[0m')\n",
        "        print(classification_report(labels_name, predicted_class_name))    \n",
        "    # endregion\n",
        "\n",
        "    if tf_data['train'] is not None and training_args.do_train:\n",
        "        print('\\n')\n",
        "        print(' \\033[1mTRAINING AND VALIDATION PERFORMANCE\\033[0m '.center(100, '='))\n",
        "        print('\\033[1mTotal Training and Validation Time:\\033[0m', finished)\n",
        "        print('\\n\\033[1mPerformance Over Epochs:\\033[0m')\n",
        "        plot_history(history.history)\n",
        "\n",
        "    return history"
      ],
      "execution_count": null,
      "outputs": [
        {
          "output_type": "stream",
          "text": [
            "time: 91.7 ms (started: 2021-05-20 07:42:34 +00:00)\n"
          ],
          "name": "stdout"
        }
      ]
    },
    {
      "cell_type": "markdown",
      "metadata": {
        "id": "Z3YIEZTvvWS_"
      },
      "source": [
        "# **Load Pretrained Tokenizer and Configuration**"
      ]
    },
    {
      "cell_type": "code",
      "metadata": {
        "colab": {
          "base_uri": "https://localhost:8080/",
          "height": 150,
          "referenced_widgets": [
            "74957e86739e4932a8993b769510c768",
            "96d7c64a03434924a91496cd38b6004e",
            "367649416e7944469e40718eb8749f71",
            "b7752246d9ee4d4cbf76353e3f6e1209",
            "549ee557c79747cc9f84f9a24ae44254",
            "8d4244f338214cb99c264474ec1f41ff",
            "9f11b077102047838c9acbe77c45b333",
            "e716e90115c54c22bc8ebca45d876014",
            "33fcebe4fb0d47a688e2297cf8289868",
            "c5fa6255d83246df85e8f367726b0ae3",
            "86e3ea0b306848e0a809de57caf1d1ea",
            "b65a9cf85a104f2ea65e64d8c1559838",
            "65ddbb83642f4c2c908d5696be61bc21",
            "4a8e516f0c294b60a014b24c5a345b80",
            "bd495327523d4ebf94f1dd45076475b5",
            "9791d90b5c1849ea9f4bdc3d65e4a150",
            "da572ad9b5d3442d995cbb70a6d95c3e",
            "99cbd32e16fd48bdb4906312b60f6c9e",
            "a68de977b81444a480996b93811f6f10",
            "06d73605b4904b6cb3959966346778a1",
            "17854acdf1384b428e849b99eeeff048",
            "c7157c55362f43628a64c2884e93b5d7",
            "91dbba4654764d41adfd8818ac03f064",
            "c3ac65d5c3e2437d8bc23cdf50c22bd1",
            "75a50978dd144f9e82472688ffa9eb89",
            "d363057f37194ab8b06e559a7ab8e054",
            "2f61ff2584e84b698c3c63361f88a10c",
            "c90600bac31940a0aaf03531ae84b745",
            "ede18e2344c24c3c8aa2b7798fe024d0",
            "fd9bd5f5e1a1424c92d0c21018c8bcaa",
            "fc1d5f1d0a78453fbbdf56d817e1d83a",
            "6af2af32e482464a839f94821abd0f59",
            "c5773804540f47e3b40982fb1df54fa4"
          ]
        },
        "id": "YWIATwgUjUks",
        "outputId": "bdacf211-1212-4faf-a205-6caa74a65d6c"
      },
      "source": [
        "tokenizer = BertTokenizer.from_pretrained(PRETRAINED_MODEL, do_lower_case=True)\n",
        "tokenizer"
      ],
      "execution_count": null,
      "outputs": [
        {
          "output_type": "display_data",
          "data": {
            "application/vnd.jupyter.widget-view+json": {
              "model_id": "74957e86739e4932a8993b769510c768",
              "version_minor": 0,
              "version_major": 2
            },
            "text/plain": [
              "Downloading:   0%|          | 0.00/225k [00:00<?, ?B/s]"
            ]
          },
          "metadata": {
            "tags": []
          }
        },
        {
          "output_type": "display_data",
          "data": {
            "application/vnd.jupyter.widget-view+json": {
              "model_id": "b65a9cf85a104f2ea65e64d8c1559838",
              "version_minor": 0,
              "version_major": 2
            },
            "text/plain": [
              "Downloading:   0%|          | 0.00/112 [00:00<?, ?B/s]"
            ]
          },
          "metadata": {
            "tags": []
          }
        },
        {
          "output_type": "display_data",
          "data": {
            "application/vnd.jupyter.widget-view+json": {
              "model_id": "91dbba4654764d41adfd8818ac03f064",
              "version_minor": 0,
              "version_major": 2
            },
            "text/plain": [
              "Downloading:   0%|          | 0.00/2.00 [00:00<?, ?B/s]"
            ]
          },
          "metadata": {
            "tags": []
          }
        },
        {
          "output_type": "execute_result",
          "data": {
            "text/plain": [
              "PreTrainedTokenizer(name_or_path='indobenchmark/indobert-lite-base-p1', vocab_size=29999, model_max_len=1000000000000000019884624838656, is_fast=False, padding_side='right', special_tokens={'unk_token': '[UNK]', 'sep_token': '[SEP]', 'pad_token': '[PAD]', 'cls_token': '[CLS]', 'mask_token': '[MASK]'})"
            ]
          },
          "metadata": {
            "tags": []
          },
          "execution_count": 11
        },
        {
          "output_type": "stream",
          "text": [
            "time: 373 ms (started: 2021-05-20 21:40:27 +00:00)\n"
          ],
          "name": "stdout"
        }
      ]
    },
    {
      "cell_type": "code",
      "metadata": {
        "colab": {
          "base_uri": "https://localhost:8080/",
          "height": 770,
          "referenced_widgets": [
            "a7d47efed55c441a8a74ed331572dd94",
            "05874a1017004c11922ec6bc33e91e8f",
            "681f8733f1c1428f8de1387d5a57a3dc",
            "4346457f46fc4a2e82c51289b088425b",
            "dbf8622c01b84003afe65db470ebc474",
            "fd67a8f8add34debb75a210ee964276e",
            "0c6a3803290048e1a9792e1c23b9783f",
            "de69d1e6cb364e98a55947c03d1c2689",
            "eebb046632834b9dbae55f100e5285db",
            "65c64c73e6d64afab0f3b4294477e835",
            "a3cf661c38404e00957cc46c7f39d21c"
          ]
        },
        "id": "XgpEgVWo9FXa",
        "outputId": "f9e9d54d-9376-4edc-d0d8-75c2c5d6428e"
      },
      "source": [
        "# Configuration\n",
        "config_ori = AlbertConfig.from_pretrained(PRETRAINED_MODEL,\n",
        "                                    label2id=LABEL2ID,\n",
        "                                    id2label={id: label for label, id in LABEL2ID.items()},\n",
        "                                    _num_labels = len(LABEL2ID),\n",
        "                                    output_attentions=False,\n",
        "                                    output_hidden_states=False,\n",
        "                                    use_cache=False\n",
        "          )\n",
        "config_ori"
      ],
      "execution_count": null,
      "outputs": [
        {
          "output_type": "display_data",
          "data": {
            "application/vnd.jupyter.widget-view+json": {
              "model_id": "a7d47efed55c441a8a74ed331572dd94",
              "version_minor": 0,
              "version_major": 2
            },
            "text/plain": [
              "Downloading:   0%|          | 0.00/1.54k [00:00<?, ?B/s]"
            ]
          },
          "metadata": {
            "tags": []
          }
        },
        {
          "output_type": "execute_result",
          "data": {
            "text/plain": [
              "AlbertConfig {\n",
              "  \"_num_labels\": 2,\n",
              "  \"architectures\": [\n",
              "    \"AlbertModel\"\n",
              "  ],\n",
              "  \"attention_probs_dropout_prob\": 0,\n",
              "  \"bos_token_id\": 2,\n",
              "  \"classifier_dropout_prob\": 0.1,\n",
              "  \"down_scale_factor\": 1,\n",
              "  \"embedding_size\": 128,\n",
              "  \"eos_token_id\": 3,\n",
              "  \"gap_size\": 0,\n",
              "  \"hidden_act\": \"gelu\",\n",
              "  \"hidden_dropout_prob\": 0,\n",
              "  \"hidden_size\": 768,\n",
              "  \"id2label\": {\n",
              "    \"0\": \"non_hs\",\n",
              "    \"1\": \"hs\"\n",
              "  },\n",
              "  \"initializer_range\": 0.02,\n",
              "  \"inner_group_num\": 1,\n",
              "  \"intermediate_size\": 3072,\n",
              "  \"label2id\": {\n",
              "    \"hs\": 1,\n",
              "    \"non_hs\": 0\n",
              "  },\n",
              "  \"layer_norm_eps\": 1e-12,\n",
              "  \"max_position_embeddings\": 512,\n",
              "  \"model_type\": \"albert\",\n",
              "  \"net_structure_type\": 0,\n",
              "  \"num_attention_heads\": 12,\n",
              "  \"num_hidden_groups\": 1,\n",
              "  \"num_hidden_layers\": 12,\n",
              "  \"num_memory_blocks\": 0,\n",
              "  \"output_past\": true,\n",
              "  \"pad_token_id\": 0,\n",
              "  \"position_embedding_type\": \"absolute\",\n",
              "  \"transformers_version\": \"4.6.0\",\n",
              "  \"type_vocab_size\": 2,\n",
              "  \"vocab_size\": 30000\n",
              "}"
            ]
          },
          "metadata": {
            "tags": []
          },
          "execution_count": 14
        },
        {
          "output_type": "stream",
          "text": [
            "time: 489 ms (started: 2021-05-20 07:42:38 +00:00)\n"
          ],
          "name": "stdout"
        }
      ]
    },
    {
      "cell_type": "code",
      "metadata": {
        "id": "bGEucJCPiNJY",
        "colab": {
          "base_uri": "https://localhost:8080/"
        },
        "outputId": "4f33ea66-3e1b-4247-c08d-ec837e43f1b1"
      },
      "source": [
        "# Configuration\n",
        "config_ft = AlbertConfig.from_pretrained(PRETRAINED_MODEL,\n",
        "                                    label2id=LABEL2ID,\n",
        "                                    id2label={id: label for label, id in LABEL2ID.items()},\n",
        "                                    _num_labels=len(LABEL2ID),\n",
        "                                    attention_probs_dropout_prob=0.3,\n",
        "                                    classifier_dropout_prob=0.2,\n",
        "                                    output_attentions=False,\n",
        "                                    output_hidden_states=False,\n",
        "                                    use_cache=False\n",
        "          )\n",
        "config_ft"
      ],
      "execution_count": null,
      "outputs": [
        {
          "output_type": "execute_result",
          "data": {
            "text/plain": [
              "AlbertConfig {\n",
              "  \"_num_labels\": 2,\n",
              "  \"architectures\": [\n",
              "    \"AlbertModel\"\n",
              "  ],\n",
              "  \"attention_probs_dropout_prob\": 0.3,\n",
              "  \"bos_token_id\": 2,\n",
              "  \"classifier_dropout_prob\": 0.2,\n",
              "  \"down_scale_factor\": 1,\n",
              "  \"embedding_size\": 128,\n",
              "  \"eos_token_id\": 3,\n",
              "  \"gap_size\": 0,\n",
              "  \"hidden_act\": \"gelu\",\n",
              "  \"hidden_dropout_prob\": 0,\n",
              "  \"hidden_size\": 768,\n",
              "  \"id2label\": {\n",
              "    \"0\": \"non_hs\",\n",
              "    \"1\": \"hs\"\n",
              "  },\n",
              "  \"initializer_range\": 0.02,\n",
              "  \"inner_group_num\": 1,\n",
              "  \"intermediate_size\": 3072,\n",
              "  \"label2id\": {\n",
              "    \"hs\": 1,\n",
              "    \"non_hs\": 0\n",
              "  },\n",
              "  \"layer_norm_eps\": 1e-12,\n",
              "  \"max_position_embeddings\": 512,\n",
              "  \"model_type\": \"albert\",\n",
              "  \"net_structure_type\": 0,\n",
              "  \"num_attention_heads\": 12,\n",
              "  \"num_hidden_groups\": 1,\n",
              "  \"num_hidden_layers\": 12,\n",
              "  \"num_memory_blocks\": 0,\n",
              "  \"output_past\": true,\n",
              "  \"pad_token_id\": 0,\n",
              "  \"position_embedding_type\": \"absolute\",\n",
              "  \"transformers_version\": \"4.6.0\",\n",
              "  \"type_vocab_size\": 2,\n",
              "  \"vocab_size\": 30000\n",
              "}"
            ]
          },
          "metadata": {
            "tags": []
          },
          "execution_count": 15
        },
        {
          "output_type": "stream",
          "text": [
            "time: 224 ms (started: 2021-05-20 07:42:38 +00:00)\n"
          ],
          "name": "stdout"
        }
      ]
    },
    {
      "cell_type": "markdown",
      "metadata": {
        "id": "7aHD9vGSo0gY"
      },
      "source": [
        "# **Load and Prepate Data**"
      ]
    },
    {
      "cell_type": "code",
      "metadata": {
        "colab": {
          "base_uri": "https://localhost:8080/",
          "height": 336,
          "referenced_widgets": [
            "346fb6fd97624436a0c78586c90b77d9",
            "06c55e03f0e34aedbac4494449cdf6ab",
            "5cb69f65ccb34e61a21aaca4bd8f250c",
            "aa6fc08759a54d65962e265eb52db2c5",
            "22980f996b594e0587052227b7bdde4b",
            "3a79a3f65a23499aa63989dccd32fd9c",
            "e37a240ff9044fb0a85d395685d80386",
            "1eb8e521fda94a3287fe99a4f048b835",
            "d9a81c9eb30946418e9aa60098c379ee",
            "78248a534c4c447ba9c0656d45a448a7",
            "5545133868f14763860feacc04130a3a",
            "f02fd7b0c13d4ba49adcdedb33c106da",
            "35ae567f35c94100bbe6e5abb6539341",
            "50b728605d32477aa335ef77b8d8c63d",
            "c314668badf142c5b2d4b8bc97807431",
            "07ec2bacb79f4de2b5afe49b84b52af0",
            "09ab15864f5d4c1abbe39ab33df864b3",
            "9d46646a1d1c45a4aa870bc685a05b8a",
            "dda66d16111144caa4cc0f99929ac8db",
            "da07bf843880484b966e69d1506f4303",
            "5c812eb4ea044fba8b4631b2ee6a8791",
            "9347cdb9863646a88eac5e3ef98005e7",
            "fe9d2f2ac79848d697c19b94a02fc3f0",
            "32365dcad43b449a863011f7bb311ba9",
            "3786f2bf54db470e8485728fb8ceee54",
            "49e621953e554a48b5e5ecb5a624ef06",
            "de336923e918406aba302d7b8143a5ba",
            "82570eb398bc41fca45c9c48506e6c79",
            "1691de4c71664f018970084da70575d0",
            "005947054e01433e8bc4642038672afe",
            "88a56738413b4480ae7415e2124a7694",
            "a4860a1f10214c3581b6004ac91ddc48",
            "fcd43bda29434bc486130d6b9724e3d2"
          ]
        },
        "id": "HwSNWXe-zwMy",
        "outputId": "0f40607f-2b62-464a-ba2b-7847a595f41b"
      },
      "source": [
        "data_files = {'train': HS_PATH + 'train_emo_v2.csv', \n",
        "              'validation': HS_PATH + 'val_emo_v2.csv',\n",
        "              'test': HS_PATH + 'test_emo_v2.csv'}\n",
        "\n",
        "datasets = load_dataset('csv', data_files=data_files)\n",
        "datasets"
      ],
      "execution_count": null,
      "outputs": [
        {
          "output_type": "stream",
          "text": [
            "Using custom data configuration default-5bafea066430d3de\n"
          ],
          "name": "stderr"
        },
        {
          "output_type": "stream",
          "text": [
            "Downloading and preparing dataset csv/default (download: Unknown size, generated: Unknown size, post-processed: Unknown size, total: Unknown size) to /root/.cache/huggingface/datasets/csv/default-5bafea066430d3de/0.0.0/2dc6629a9ff6b5697d82c25b73731dd440507a69cbce8b425db50b751e8fcfd0...\n"
          ],
          "name": "stdout"
        },
        {
          "output_type": "display_data",
          "data": {
            "application/vnd.jupyter.widget-view+json": {
              "model_id": "346fb6fd97624436a0c78586c90b77d9",
              "version_minor": 0,
              "version_major": 2
            },
            "text/plain": [
              "0 tables [00:00, ? tables/s]"
            ]
          },
          "metadata": {
            "tags": []
          }
        },
        {
          "output_type": "display_data",
          "data": {
            "application/vnd.jupyter.widget-view+json": {
              "model_id": "f02fd7b0c13d4ba49adcdedb33c106da",
              "version_minor": 0,
              "version_major": 2
            },
            "text/plain": [
              "0 tables [00:00, ? tables/s]"
            ]
          },
          "metadata": {
            "tags": []
          }
        },
        {
          "output_type": "display_data",
          "data": {
            "application/vnd.jupyter.widget-view+json": {
              "model_id": "fe9d2f2ac79848d697c19b94a02fc3f0",
              "version_minor": 0,
              "version_major": 2
            },
            "text/plain": [
              "0 tables [00:00, ? tables/s]"
            ]
          },
          "metadata": {
            "tags": []
          }
        },
        {
          "output_type": "stream",
          "text": [
            "Dataset csv downloaded and prepared to /root/.cache/huggingface/datasets/csv/default-5bafea066430d3de/0.0.0/2dc6629a9ff6b5697d82c25b73731dd440507a69cbce8b425db50b751e8fcfd0. Subsequent calls will reuse this data.\n"
          ],
          "name": "stdout"
        },
        {
          "output_type": "execute_result",
          "data": {
            "text/plain": [
              "DatasetDict({\n",
              "    train: Dataset({\n",
              "        features: ['sentence1', 'label'],\n",
              "        num_rows: 7873\n",
              "    })\n",
              "    validation: Dataset({\n",
              "        features: ['sentence1', 'label'],\n",
              "        num_rows: 2625\n",
              "    })\n",
              "    test: Dataset({\n",
              "        features: ['sentence1', 'label'],\n",
              "        num_rows: 2625\n",
              "    })\n",
              "})"
            ]
          },
          "metadata": {
            "tags": []
          },
          "execution_count": 16
        },
        {
          "output_type": "stream",
          "text": [
            "time: 596 ms (started: 2021-05-20 07:42:39 +00:00)\n"
          ],
          "name": "stdout"
        }
      ]
    },
    {
      "cell_type": "code",
      "metadata": {
        "colab": {
          "base_uri": "https://localhost:8080/"
        },
        "id": "bQBvuQ6xUnG5",
        "outputId": "eaabf819-8b44-4cda-a5c0-356cf4a7be6d"
      },
      "source": [
        "column_names = {col for cols in datasets.column_names.values() for col in cols}\n",
        "non_label_column_names = [name for name in column_names if name != 'label']"
      ],
      "execution_count": null,
      "outputs": [
        {
          "output_type": "stream",
          "text": [
            "time: 2.37 ms (started: 2021-05-20 07:42:40 +00:00)\n"
          ],
          "name": "stdout"
        }
      ]
    },
    {
      "cell_type": "code",
      "metadata": {
        "colab": {
          "base_uri": "https://localhost:8080/",
          "height": 359,
          "referenced_widgets": [
            "adb8ebf6127c426fb6dfd78fd954aa3c",
            "a829dd2a9f924290b95093df148b0ceb",
            "0c22b36c1f544e73b5d68a226a18fada",
            "02a0029538f34c2e845742ef98d2b649",
            "e6d995359761428fa801249fb44f799f",
            "4f4eaa3fed1b47d9bfe5a7ff908f4d56",
            "4f09a1627d034c4e8a08302e12a0943d",
            "207ae532040b4687aa09691ef4c38786",
            "3ebcf6092f6840cba298fbfa76b5cb70",
            "12eedde1a675403da125d93655c199bb",
            "6dd7f3a7c5ae45fb9312808303c84bcc",
            "d064ac7fb6cd4ac3b44b38390f188088",
            "71e5fc4898d84c7880c3e786c9616167",
            "d572e42ea5ac4495be47ef29eb101a4a",
            "51659219b2764593b748d5e6c83846b0",
            "9e675e23da314cb291f7539a677f3f3c",
            "db2f34f705e24f36a6bc32b10ae5ece3",
            "728bf3c0c2bd4b1689db1b2a32ef03b1",
            "26e2e179a0204276a273a869d24622cf",
            "b224b1ed5a144d18b94af772f2927c4e",
            "b720fda4d714477bac579d729f19754c",
            "4729dbeba95946029f1dab64e263eff1",
            "6fd6b06e8c6d4968800a68ff72b7c029",
            "a7c212887ef840bdb5794c681b40a66d",
            "4aa26bda490f40c8841b8473573ec653",
            "a4ec29818e2f46f69e5be0260a22d0b4",
            "af2dcf86b42c4d43836c1a65e5499d3b",
            "673463da7ca242c69cf58770e28d31d1",
            "4c2fb190e6d049f39a430128188c6b35",
            "16bbf91a8ae9445590728c3f1a8d542d",
            "4733cd154376416faec6bd44d9aab4a1",
            "b1a11615c82c4949a61b8c5abdefa6f8",
            "4a06be9440a64af4a3fd96e51b5f33a2"
          ]
        },
        "id": "vYRFGD-TDp3r",
        "outputId": "a2b90e90-2496-4c26-e3be-e49758c452a5"
      },
      "source": [
        "partial_preprocess_func = partial(preprocess_function, tokenizer=tokenizer, non_label_column_names=non_label_column_names)\n",
        "datasets = datasets.map(partial_preprocess_func, batched=True)\n",
        "datasets"
      ],
      "execution_count": null,
      "outputs": [
        {
          "output_type": "display_data",
          "data": {
            "application/vnd.jupyter.widget-view+json": {
              "model_id": "adb8ebf6127c426fb6dfd78fd954aa3c",
              "version_minor": 0,
              "version_major": 2
            },
            "text/plain": [
              "  0%|          | 0/8 [00:00<?, ?ba/s]"
            ]
          },
          "metadata": {
            "tags": []
          }
        },
        {
          "output_type": "display_data",
          "data": {
            "application/vnd.jupyter.widget-view+json": {
              "model_id": "d064ac7fb6cd4ac3b44b38390f188088",
              "version_minor": 0,
              "version_major": 2
            },
            "text/plain": [
              "  0%|          | 0/3 [00:00<?, ?ba/s]"
            ]
          },
          "metadata": {
            "tags": []
          }
        },
        {
          "output_type": "display_data",
          "data": {
            "application/vnd.jupyter.widget-view+json": {
              "model_id": "6fd6b06e8c6d4968800a68ff72b7c029",
              "version_minor": 0,
              "version_major": 2
            },
            "text/plain": [
              "  0%|          | 0/3 [00:00<?, ?ba/s]"
            ]
          },
          "metadata": {
            "tags": []
          }
        },
        {
          "output_type": "execute_result",
          "data": {
            "text/plain": [
              "DatasetDict({\n",
              "    train: Dataset({\n",
              "        features: ['attention_mask', 'input_ids', 'label', 'sentence1', 'token_type_ids'],\n",
              "        num_rows: 7873\n",
              "    })\n",
              "    validation: Dataset({\n",
              "        features: ['attention_mask', 'input_ids', 'label', 'sentence1', 'token_type_ids'],\n",
              "        num_rows: 2625\n",
              "    })\n",
              "    test: Dataset({\n",
              "        features: ['attention_mask', 'input_ids', 'label', 'sentence1', 'token_type_ids'],\n",
              "        num_rows: 2625\n",
              "    })\n",
              "})"
            ]
          },
          "metadata": {
            "tags": []
          },
          "execution_count": 18
        },
        {
          "output_type": "stream",
          "text": [
            "time: 7.59 s (started: 2021-05-20 07:42:40 +00:00)\n"
          ],
          "name": "stdout"
        }
      ]
    },
    {
      "cell_type": "markdown",
      "metadata": {
        "id": "bjEsw1G7w8Kb"
      },
      "source": [
        "# **Without Transfer Learning or Fine Tuning**\n",
        "**(just use the pretrained model directly to see its performance on the test set)**"
      ]
    },
    {
      "cell_type": "code",
      "metadata": {
        "colab": {
          "base_uri": "https://localhost:8080/"
        },
        "id": "yyJrhVbQrJqs",
        "outputId": "a7f63ef5-6e8c-4ab2-a675-25e33bf48696"
      },
      "source": [
        "training_args_ori = TFTrainingArguments(\n",
        "    output_dir=PROJECT_ROOT + 'results/hs/albert_v3/ori/',                        # output directory\n",
        "    do_train=False,\n",
        "    do_predict=True,\n",
        "    do_eval=False,\n",
        "    num_train_epochs=25,                                                # total number of training epochs\n",
        "    per_device_train_batch_size=16,                                     # batch size per device during training\n",
        "    per_device_eval_batch_size=16,                                      # batch size for evaluation\n",
        "    learning_rate=4e-5,\n",
        "    max_grad_norm=10,\n",
        "    seed=42\n",
        ")"
      ],
      "execution_count": null,
      "outputs": [
        {
          "output_type": "stream",
          "text": [
            "time: 88.1 ms (started: 2021-05-19 20:45:46 +00:00)\n"
          ],
          "name": "stdout"
        }
      ]
    },
    {
      "cell_type": "code",
      "metadata": {
        "colab": {
          "base_uri": "https://localhost:8080/",
          "height": 720,
          "referenced_widgets": [
            "1b2759a346c543c5b5e280211cbdac46",
            "76e71d0936934133a1dd041f035f7e8d",
            "4b2225ee6cdb497985c08bf2e0af1f4f",
            "94f15fdab56e42429982dd4b2b3580a0",
            "cbaa7abf323c4ac2a8f0ea948680a6ac",
            "34114ce33e5f4f5b94c711e7f85f76b4",
            "62da74dd5d734f8ca917efd69cc0a759",
            "6d30dc16a5ea4942ba0fbaf9ef09f2ab",
            "a30d005e8f49437485a6de39d4605525",
            "3ddf19212d7846afaf609e735c2dbc6b",
            "da1d8a33f1324804a99ef8bae8a25edf"
          ]
        },
        "id": "IcZB03gvrJqv",
        "outputId": "bd140dc4-f170-4d5b-9c27-5d522160c347"
      },
      "source": [
        "main(datasets, training_args_ori, config_ori, non_label_column_names, PRETRAINED_MODEL)"
      ],
      "execution_count": null,
      "outputs": [
        {
          "output_type": "display_data",
          "data": {
            "application/vnd.jupyter.widget-view+json": {
              "model_id": "1b2759a346c543c5b5e280211cbdac46",
              "version_minor": 0,
              "version_major": 2
            },
            "text/plain": [
              "Downloading:   0%|          | 0.00/63.1M [00:00<?, ?B/s]"
            ]
          },
          "metadata": {
            "tags": []
          }
        },
        {
          "output_type": "stream",
          "text": [
            "Some layers from the model checkpoint at indobenchmark/indobert-lite-base-p1 were not used when initializing TFAlbertForSequenceClassification: ['sop_classifier']\n",
            "- This IS expected if you are initializing TFAlbertForSequenceClassification from the checkpoint of a model trained on another task or with another architecture (e.g. initializing a BertForSequenceClassification model from a BertForPreTraining model).\n",
            "- This IS NOT expected if you are initializing TFAlbertForSequenceClassification from the checkpoint of a model that you expect to be exactly identical (initializing a BertForSequenceClassification model from a BertForSequenceClassification model).\n",
            "Some layers of TFAlbertForSequenceClassification were not initialized from the model checkpoint at indobenchmark/indobert-lite-base-p1 and are newly initialized: ['classifier']\n",
            "You should probably TRAIN this model on a down-stream task to be able to use it for predictions and inference.\n"
          ],
          "name": "stderr"
        },
        {
          "output_type": "stream",
          "text": [
            "WARNING:tensorflow:The parameters `output_attentions`, `output_hidden_states` and `use_cache` cannot be updated when calling a model.They have to be set to True/False in the config object (i.e.: `config=XConfig.from_pretrained('name', output_attentions=True)`).\n",
            "WARNING:tensorflow:AutoGraph could not transform <bound method Socket.send of <zmq.sugar.socket.Socket object at 0x7fe3efc23bb0>> and will run it as-is.\n",
            "Please report this to the TensorFlow team. When filing the bug, set the verbosity to 10 (on Linux, `export AUTOGRAPH_VERBOSITY=10`) and attach the full output.\n",
            "Cause: module, class, method, function, traceback, frame, or code object was expected, got cython_function_or_method\n",
            "To silence this warning, decorate the function with @tf.autograph.experimental.do_not_convert\n",
            "WARNING: AutoGraph could not transform <bound method Socket.send of <zmq.sugar.socket.Socket object at 0x7fe3efc23bb0>> and will run it as-is.\n",
            "Please report this to the TensorFlow team. When filing the bug, set the verbosity to 10 (on Linux, `export AUTOGRAPH_VERBOSITY=10`) and attach the full output.\n",
            "Cause: module, class, method, function, traceback, frame, or code object was expected, got cython_function_or_method\n",
            "To silence this warning, decorate the function with @tf.autograph.experimental.do_not_convert\n",
            "WARNING:tensorflow:AutoGraph could not transform <function wrap at 0x7fe40a5d2f80> and will run it as-is.\n",
            "Cause: while/else statement not yet supported\n",
            "To silence this warning, decorate the function with @tf.autograph.experimental.do_not_convert\n",
            "WARNING: AutoGraph could not transform <function wrap at 0x7fe40a5d2f80> and will run it as-is.\n",
            "Cause: while/else statement not yet supported\n",
            "To silence this warning, decorate the function with @tf.autograph.experimental.do_not_convert\n",
            "WARNING:tensorflow:The parameter `return_dict` cannot be set in graph mode and will always be set to `True`.\n",
            "\n",
            "\n",
            "============================== \u001b[1mMODEL PERFORMANCE ON TEST SET\u001b[0m ===============================\n",
            "\u001b[1mLoss\u001b[0m:0.7108 \u001b[1mACC:\u001b[0m0.4579 \u001b[1mF1:\u001b[0m0.4588 \u001b[1mREC:\u001b[0m0.4579 \u001b[1mPRE:\u001b[0m0.4599\n",
            "\n",
            "\u001b[1mClassification Report:\u001b[0m\n",
            "              precision    recall  f1-score   support\n",
            "\n",
            "          hs       0.52      0.51      0.52      1486\n",
            "      non_hs       0.38      0.39      0.39      1139\n",
            "\n",
            "    accuracy                           0.46      2625\n",
            "   macro avg       0.45      0.45      0.45      2625\n",
            "weighted avg       0.46      0.46      0.46      2625\n",
            "\n",
            "time: 1min 23s (started: 2021-05-19 20:45:46 +00:00)\n"
          ],
          "name": "stdout"
        }
      ]
    },
    {
      "cell_type": "markdown",
      "metadata": {
        "id": "MOZVfWTK9WIp"
      },
      "source": [
        "# **Transfer Learning**"
      ]
    },
    {
      "cell_type": "code",
      "metadata": {
        "colab": {
          "base_uri": "https://localhost:8080/"
        },
        "id": "_0lqklm69bZ4",
        "outputId": "f24eb1ca-ebf8-4da2-81ed-502f442ee30d"
      },
      "source": [
        "training_args_tl = TFTrainingArguments(\n",
        "    output_dir=PROJECT_ROOT + 'results/hs/albert_v3/transfer-learning/',           # output directory\n",
        "    do_train=True,\n",
        "    do_predict=True,\n",
        "    do_eval=True,\n",
        "    num_train_epochs=25,                                                # total number of training epochs\n",
        "    per_device_train_batch_size=16,                                     # batch size per device during training\n",
        "    per_device_eval_batch_size=16,                                      # batch size for evaluation\n",
        "    learning_rate=1e-5,\n",
        "    max_grad_norm=10,\n",
        "    seed=42\n",
        ")"
      ],
      "execution_count": null,
      "outputs": [
        {
          "output_type": "stream",
          "text": [
            "time: 9.31 ms (started: 2021-05-19 20:47:10 +00:00)\n"
          ],
          "name": "stdout"
        }
      ]
    },
    {
      "cell_type": "code",
      "metadata": {
        "colab": {
          "base_uri": "https://localhost:8080/",
          "height": 1000
        },
        "id": "V13kyuXH9bZ5",
        "outputId": "ee816695-4894-4bfb-868a-661bfe125138"
      },
      "source": [
        "history_tl = main(datasets, training_args_tl, config_ori, non_label_column_names, PRETRAINED_MODEL)"
      ],
      "execution_count": null,
      "outputs": [
        {
          "output_type": "stream",
          "text": [
            "Some layers from the model checkpoint at indobenchmark/indobert-lite-base-p1 were not used when initializing TFAlbertForSequenceClassification: ['sop_classifier']\n",
            "- This IS expected if you are initializing TFAlbertForSequenceClassification from the checkpoint of a model trained on another task or with another architecture (e.g. initializing a BertForSequenceClassification model from a BertForPreTraining model).\n",
            "- This IS NOT expected if you are initializing TFAlbertForSequenceClassification from the checkpoint of a model that you expect to be exactly identical (initializing a BertForSequenceClassification model from a BertForSequenceClassification model).\n",
            "Some layers of TFAlbertForSequenceClassification were not initialized from the model checkpoint at indobenchmark/indobert-lite-base-p1 and are newly initialized: ['classifier']\n",
            "You should probably TRAIN this model on a down-stream task to be able to use it for predictions and inference.\n"
          ],
          "name": "stderr"
        },
        {
          "output_type": "stream",
          "text": [
            "Epoch 1/25\n",
            "WARNING:tensorflow:The parameters `output_attentions`, `output_hidden_states` and `use_cache` cannot be updated when calling a model.They have to be set to True/False in the config object (i.e.: `config=XConfig.from_pretrained('name', output_attentions=True)`).\n",
            "WARNING:tensorflow:The parameter `return_dict` cannot be set in graph mode and will always be set to `True`.\n",
            "WARNING:tensorflow:The parameters `output_attentions`, `output_hidden_states` and `use_cache` cannot be updated when calling a model.They have to be set to True/False in the config object (i.e.: `config=XConfig.from_pretrained('name', output_attentions=True)`).\n",
            "WARNING:tensorflow:The parameter `return_dict` cannot be set in graph mode and will always be set to `True`.\n",
            "492/492 [==============================] - ETA: 0s - loss: 0.5320 - accuracy: 0.7179WARNING:tensorflow:The parameters `output_attentions`, `output_hidden_states` and `use_cache` cannot be updated when calling a model.They have to be set to True/False in the config object (i.e.: `config=XConfig.from_pretrained('name', output_attentions=True)`).\n",
            "WARNING:tensorflow:The parameter `return_dict` cannot be set in graph mode and will always be set to `True`.\n",
            "492/492 [==============================] - 285s 552ms/step - loss: 0.5318 - accuracy: 0.7181 - val_loss: 0.2831 - val_accuracy: 0.8850\n",
            "Epoch 2/25\n",
            "492/492 [==============================] - 271s 550ms/step - loss: 0.2362 - accuracy: 0.9041 - val_loss: 0.2347 - val_accuracy: 0.9070\n",
            "Epoch 3/25\n",
            "492/492 [==============================] - 271s 551ms/step - loss: 0.1288 - accuracy: 0.9564 - val_loss: 0.2723 - val_accuracy: 0.9013\n",
            "Epoch 4/25\n",
            "492/492 [==============================] - 270s 549ms/step - loss: 0.0613 - accuracy: 0.9791 - val_loss: 0.2892 - val_accuracy: 0.9044\n",
            "Epoch 5/25\n",
            "492/492 [==============================] - 271s 550ms/step - loss: 0.0294 - accuracy: 0.9914 - val_loss: 0.3616 - val_accuracy: 0.9097\n",
            "WARNING:tensorflow:The parameters `output_attentions`, `output_hidden_states` and `use_cache` cannot be updated when calling a model.They have to be set to True/False in the config object (i.e.: `config=XConfig.from_pretrained('name', output_attentions=True)`).\n",
            "WARNING:tensorflow:The parameter `return_dict` cannot be set in graph mode and will always be set to `True`.\n",
            "\n",
            "\n",
            "============================== \u001b[1mMODEL PERFORMANCE ON TEST SET\u001b[0m ===============================\n",
            "\u001b[1mLoss\u001b[0m:0.3864 \u001b[1mACC:\u001b[0m0.9021 \u001b[1mF1:\u001b[0m0.9022 \u001b[1mREC:\u001b[0m0.9021 \u001b[1mPRE:\u001b[0m0.9025\n",
            "\n",
            "\u001b[1mClassification Report:\u001b[0m\n",
            "              precision    recall  f1-score   support\n",
            "\n",
            "          hs       0.92      0.91      0.91      1486\n",
            "      non_hs       0.88      0.90      0.89      1139\n",
            "\n",
            "    accuracy                           0.90      2625\n",
            "   macro avg       0.90      0.90      0.90      2625\n",
            "weighted avg       0.90      0.90      0.90      2625\n",
            "\n",
            "\n",
            "\n",
            "=========================== \u001b[1mTRAINING AND VALIDATION PERFORMANCE\u001b[0m ============================\n",
            "\u001b[1mTotal Training and Validation Time:\u001b[0m 0:22:50.411353\n",
            "\n",
            "\u001b[1mPerformance Over Epochs:\u001b[0m\n"
          ],
          "name": "stdout"
        },
        {
          "output_type": "display_data",
          "data": {
            "image/png": "[encoded data removed]",
            "text/plain": [
              "<Figure size 1080x360 with 2 Axes>"
            ]
          },
          "metadata": {
            "tags": [],
            "needs_background": "light"
          }
        },
        {
          "output_type": "stream",
          "text": [
            "time: 23min 29s (started: 2021-05-19 20:47:10 +00:00)\n"
          ],
          "name": "stdout"
        }
      ]
    },
    {
      "cell_type": "code",
      "metadata": {
        "colab": {
          "base_uri": "https://localhost:8080/"
        },
        "id": "87tA1Fxd-OAa",
        "outputId": "c378d1d1-4e77-4013-c6b4-2c685531ffc7"
      },
      "source": [
        "history_tl.model.summary()"
      ],
      "execution_count": null,
      "outputs": [
        {
          "output_type": "stream",
          "text": [
            "Model: \"tf_albert_for_sequence_classification_1\"\n",
            "_________________________________________________________________\n",
            "Layer (type)                 Output Shape              Param #   \n",
            "=================================================================\n",
            "albert (TFAlbertMainLayer)   multiple                  11683584  \n",
            "_________________________________________________________________\n",
            "dropout_9 (Dropout)          multiple                  0         \n",
            "_________________________________________________________________\n",
            "classifier (Dense)           multiple                  1538      \n",
            "=================================================================\n",
            "Total params: 11,685,122\n",
            "Trainable params: 11,685,122\n",
            "Non-trainable params: 0\n",
            "_________________________________________________________________\n",
            "time: 8.67 ms (started: 2021-05-19 21:10:40 +00:00)\n"
          ],
          "name": "stdout"
        }
      ]
    },
    {
      "cell_type": "markdown",
      "metadata": {
        "id": "Y2Nj4fD_us0-"
      },
      "source": [
        "# **Fine Tuning (Transfer Learning with some Changes on Architecture)**\n",
        "\n",
        "Try to reduce:\n",
        "* num_hidden_layers\n",
        "* num_attention_heads"
      ]
    },
    {
      "cell_type": "code",
      "metadata": {
        "colab": {
          "base_uri": "https://localhost:8080/"
        },
        "id": "_B-LMTpmMO2f",
        "outputId": "c7404332-c47c-4557-ea8c-cda18ac15899"
      },
      "source": [
        "training_args_ft = TFTrainingArguments(\n",
        "    output_dir=PROJECT_ROOT + 'results/hs/albert_v3/fine-tuning/',         # output directory\n",
        "    do_train=True,\n",
        "    do_predict=True,\n",
        "    do_eval=True,\n",
        "    num_train_epochs=25,                                                # total number of training epochs\n",
        "    per_device_train_batch_size=16,                                     # batch size per device during training\n",
        "    per_device_eval_batch_size=16,                                      # batch size for evaluation\n",
        "    learning_rate=4e-5,\n",
        "    max_grad_norm=10,\n",
        "    seed=42\n",
        ")"
      ],
      "execution_count": null,
      "outputs": [
        {
          "output_type": "stream",
          "text": [
            "time: 6.69 ms (started: 2021-05-19 21:10:40 +00:00)\n"
          ],
          "name": "stdout"
        }
      ]
    },
    {
      "cell_type": "code",
      "metadata": {
        "colab": {
          "base_uri": "https://localhost:8080/",
          "height": 1000
        },
        "id": "AGcZ11kDjJnC",
        "outputId": "316a2805-b086-4353-8b76-614407c37240"
      },
      "source": [
        "history_ft = main(datasets, training_args_ft, config_ft, non_label_column_names, PRETRAINED_MODEL)"
      ],
      "execution_count": null,
      "outputs": [
        {
          "output_type": "stream",
          "text": [
            "Some layers from the model checkpoint at indobenchmark/indobert-lite-base-p1 were not used when initializing TFAlbertForSequenceClassification: ['sop_classifier']\n",
            "- This IS expected if you are initializing TFAlbertForSequenceClassification from the checkpoint of a model trained on another task or with another architecture (e.g. initializing a BertForSequenceClassification model from a BertForPreTraining model).\n",
            "- This IS NOT expected if you are initializing TFAlbertForSequenceClassification from the checkpoint of a model that you expect to be exactly identical (initializing a BertForSequenceClassification model from a BertForSequenceClassification model).\n",
            "Some layers of TFAlbertForSequenceClassification were not initialized from the model checkpoint at indobenchmark/indobert-lite-base-p1 and are newly initialized: ['classifier']\n",
            "You should probably TRAIN this model on a down-stream task to be able to use it for predictions and inference.\n"
          ],
          "name": "stderr"
        },
        {
          "output_type": "stream",
          "text": [
            "Epoch 1/25\n",
            "WARNING:tensorflow:The parameters `output_attentions`, `output_hidden_states` and `use_cache` cannot be updated when calling a model.They have to be set to True/False in the config object (i.e.: `config=XConfig.from_pretrained('name', output_attentions=True)`).\n",
            "WARNING:tensorflow:The parameter `return_dict` cannot be set in graph mode and will always be set to `True`.\n",
            "WARNING:tensorflow:The parameters `output_attentions`, `output_hidden_states` and `use_cache` cannot be updated when calling a model.They have to be set to True/False in the config object (i.e.: `config=XConfig.from_pretrained('name', output_attentions=True)`).\n",
            "WARNING:tensorflow:The parameter `return_dict` cannot be set in graph mode and will always be set to `True`.\n",
            "492/492 [==============================] - ETA: 0s - loss: 0.4970 - accuracy: 0.7402WARNING:tensorflow:The parameters `output_attentions`, `output_hidden_states` and `use_cache` cannot be updated when calling a model.They have to be set to True/False in the config object (i.e.: `config=XConfig.from_pretrained('name', output_attentions=True)`).\n",
            "WARNING:tensorflow:The parameter `return_dict` cannot be set in graph mode and will always be set to `True`.\n",
            "492/492 [==============================] - 194s 377ms/step - loss: 0.4968 - accuracy: 0.7404 - val_loss: 0.2617 - val_accuracy: 0.8930\n",
            "Epoch 2/25\n",
            "492/492 [==============================] - 183s 373ms/step - loss: 0.2155 - accuracy: 0.9147 - val_loss: 0.2176 - val_accuracy: 0.9158\n",
            "Epoch 3/25\n",
            "492/492 [==============================] - 184s 373ms/step - loss: 0.1310 - accuracy: 0.9506 - val_loss: 0.2523 - val_accuracy: 0.9128\n",
            "Epoch 4/25\n",
            "492/492 [==============================] - 183s 373ms/step - loss: 0.0788 - accuracy: 0.9741 - val_loss: 0.2916 - val_accuracy: 0.9139\n",
            "Epoch 5/25\n",
            "492/492 [==============================] - 184s 373ms/step - loss: 0.0532 - accuracy: 0.9825 - val_loss: 0.3271 - val_accuracy: 0.9116\n",
            "WARNING:tensorflow:The parameters `output_attentions`, `output_hidden_states` and `use_cache` cannot be updated when calling a model.They have to be set to True/False in the config object (i.e.: `config=XConfig.from_pretrained('name', output_attentions=True)`).\n",
            "WARNING:tensorflow:The parameter `return_dict` cannot be set in graph mode and will always be set to `True`.\n",
            "\n",
            "\n",
            "============================== \u001b[1mMODEL PERFORMANCE ON TEST SET\u001b[0m ===============================\n",
            "\u001b[1mLoss\u001b[0m:0.3435 \u001b[1mACC:\u001b[0m0.9067 \u001b[1mF1:\u001b[0m0.9068 \u001b[1mREC:\u001b[0m0.9067 \u001b[1mPRE:\u001b[0m0.9075\n",
            "\n",
            "\u001b[1mClassification Report:\u001b[0m\n",
            "              precision    recall  f1-score   support\n",
            "\n",
            "          hs       0.93      0.90      0.92      1486\n",
            "      non_hs       0.88      0.91      0.89      1139\n",
            "\n",
            "    accuracy                           0.91      2625\n",
            "   macro avg       0.90      0.91      0.91      2625\n",
            "weighted avg       0.91      0.91      0.91      2625\n",
            "\n",
            "\n",
            "\n",
            "=========================== \u001b[1mTRAINING AND VALIDATION PERFORMANCE\u001b[0m ============================\n",
            "\u001b[1mTotal Training and Validation Time:\u001b[0m 0:15:31.183501\n",
            "\n",
            "\u001b[1mPerformance Over Epochs:\u001b[0m\n"
          ],
          "name": "stdout"
        },
        {
          "output_type": "display_data",
          "data": {
            "image/png": "[encoded data removed]",
            "text/plain": [
              "<Figure size 1080x360 with 2 Axes>"
            ]
          },
          "metadata": {
            "tags": [],
            "needs_background": "light"
          }
        },
        {
          "output_type": "stream",
          "text": [
            "time: 16min 2s (started: 2021-05-19 21:10:40 +00:00)\n"
          ],
          "name": "stdout"
        }
      ]
    },
    {
      "cell_type": "code",
      "metadata": {
        "colab": {
          "base_uri": "https://localhost:8080/"
        },
        "id": "45wd6lPGstp1",
        "outputId": "c367871e-2b94-46f6-8de3-180120d910fe"
      },
      "source": [
        "history_ft.model.summary()"
      ],
      "execution_count": null,
      "outputs": [
        {
          "output_type": "stream",
          "text": [
            "Model: \"tf_albert_for_sequence_classification_2\"\n",
            "_________________________________________________________________\n",
            "Layer (type)                 Output Shape              Param #   \n",
            "=================================================================\n",
            "albert (TFAlbertMainLayer)   multiple                  11683584  \n",
            "_________________________________________________________________\n",
            "dropout_14 (Dropout)         multiple                  0         \n",
            "_________________________________________________________________\n",
            "classifier (Dense)           multiple                  1538      \n",
            "=================================================================\n",
            "Total params: 11,685,122\n",
            "Trainable params: 11,685,122\n",
            "Non-trainable params: 0\n",
            "_________________________________________________________________\n",
            "time: 3.79 ms (started: 2021-05-19 21:26:42 +00:00)\n"
          ],
          "name": "stdout"
        }
      ]
    },
    {
      "cell_type": "code",
      "metadata": {
        "colab": {
          "base_uri": "https://localhost:8080/"
        },
        "id": "ya5U4SoqSWR3",
        "outputId": "b5d4e8e4-dddf-4b0d-8da3-3e0e83fa892e"
      },
      "source": [
        "# https://stackoverflow.com/questions/67052427/how-to-access-a-particular-layer-of-huggingfaces-pre-trained-bert-model\n",
        "history_ft.model.layers[0].embeddings"
      ],
      "execution_count": null,
      "outputs": [
        {
          "output_type": "execute_result",
          "data": {
            "text/plain": [
              "<transformers.models.albert.modeling_tf_albert.TFAlbertEmbeddings at 0x7fe1de540310>"
            ]
          },
          "metadata": {
            "tags": []
          },
          "execution_count": 25
        },
        {
          "output_type": "stream",
          "text": [
            "time: 4.77 ms (started: 2021-05-19 21:26:42 +00:00)\n"
          ],
          "name": "stdout"
        }
      ]
    },
    {
      "cell_type": "markdown",
      "metadata": {
        "id": "2Q1tJVcwHrq-"
      },
      "source": [
        "# **Test on Some Instances**"
      ]
    },
    {
      "cell_type": "markdown",
      "metadata": {
        "id": "BJbOy6wNNRwP"
      },
      "source": [
        "## **Preprocess emoji and emoticon**\n",
        "\n",
        "The preprocessing functions are copied from [hate speech preprocessing notebook](https://github.com/thingkilia2507/PTCJNN_BangkitCapstoneProject/blob/celine-branch/Machine%20Learning/notebooks/Hate%20Speech%20Dataset%20Preprocessing.ipynb) which was used to preprocess the training data."
      ]
    },
    {
      "cell_type": "code",
      "metadata": {
        "id": "12KQFoRUL_cu",
        "colab": {
          "base_uri": "https://localhost:8080/"
        },
        "outputId": "e7e54b27-54b4-4a34-bcf4-e5e8455002e1"
      },
      "source": [
        "with open('EMOTICONS_ID.json') as f:\n",
        "    EMOTICONS_ID = json.load(f)\n",
        "\n",
        "with open('EMOJI_ID.json') as f:\n",
        "    EMOJI_ID = json.load(f)"
      ],
      "execution_count": null,
      "outputs": [
        {
          "output_type": "stream",
          "text": [
            "time: 8.17 ms (started: 2021-05-20 20:37:53 +00:00)\n"
          ],
          "name": "stdout"
        }
      ]
    },
    {
      "cell_type": "code",
      "metadata": {
        "id": "BDQ-GKW8jG2I",
        "colab": {
          "base_uri": "https://localhost:8080/"
        },
        "outputId": "5a0f2642-93b5-4e10-ca2a-cf53be3ec209"
      },
      "source": [
        "def emot_to_desc(tweet):\n",
        "    # Regex punctuation nya diperoleh dari `string.punctuation` dan ditambahkan `“”…`\n",
        "    rgx_repeated_punct = re.compile(r'''([!\"#$%&'()*+,-./:;<=>?@[\\]^_`“”{|}~…])\\1+''', re.IGNORECASE)\n",
        "    tweet = re.sub(rgx_repeated_punct, r'\\1', tweet)                                # remove repeated punctuation, e.g. :---))))))))\n",
        "\n",
        "    for emot in EMOTICONS_ID:\n",
        "        tweet = re.sub('(' + emot + ')', ' '.join(EMOTICONS_ID[emot].replace(',', '').split()), tweet)\n",
        "    \n",
        "    return tweet\n",
        "\n",
        "\n",
        "# Use code from https://github.com/carpedm20/emoji/blob/master/emoji/core.py and modified accordingly.\n",
        "# Returns compiled regular expression that matches emojis defined in\n",
        "# ``EMOJI_ID``. The regular expression is only compiled once.\n",
        "def get_emoji_regexp():\n",
        "    EMOJI_UNICODE = EMOJI_ID\n",
        "    \n",
        "    # Sort emojis by length to make sure multi-character emojis are matched first\n",
        "    emojis = sorted(EMOJI_UNICODE.keys(), key=len, reverse=True)\n",
        "\n",
        "    # Escape Unicode string\n",
        "    pattern = u'(' + u'|'.join(re.escape(u) for u in emojis) + u')'\n",
        "\n",
        "    # combine a regular expression pattern into pattern objects, which can be used for pattern matching\n",
        "    _EMOJI_REGEXP = re.compile(pattern)\n",
        "\n",
        "    return _EMOJI_REGEXP\n",
        "\n",
        "\n",
        "_EMOJI_REGEXP = get_emoji_regexp()\n",
        "_DEFAULT_DELIMITER = ':'\n",
        "# Returns emoji that has been replaced by its decriptions in Bahasa Indonesia\n",
        "def emoji_to_desc(string, delimiters=(_DEFAULT_DELIMITER, _DEFAULT_DELIMITER), codes_dict=EMOJI_ID):\n",
        "    def replace(match):\n",
        "        val = codes_dict.get(match.group(0), match.group(0))\n",
        "        return delimiters[0] + val[1:-1] + delimiters[1]\n",
        "\n",
        "    demojized = _EMOJI_REGEXP.sub(replace, string)\n",
        "    return re.sub(u'\\ufe0f', '', demojized)\n",
        "\n",
        "\n",
        "def clean(text):\n",
        "    punct = '''([!\"#$%&'()*+,-./:;=?@[\\]^_`“”{|}~…])\\1+'''                                 # from string.punctuation but without <>\n",
        "    rgx_multi_space = r' {2,}'\n",
        "    rgx_byte_format = r'''b'|b\"'''\n",
        "\n",
        "    text = text.lower()\n",
        "    cleansed = re.sub(rgx_byte_format, '', text)\n",
        "    cleansed = cleansed.translate(str.maketrans(punct, ' '*len(punct)))                    # replace punct with whitespace\n",
        "    cleansed = re.sub(rgx_multi_space, ' ', cleansed)                                      # remove multiple spaces\n",
        "    cleansed = cleansed.strip()                                                            # remove trailing spaces\n",
        "    return cleansed"
      ],
      "execution_count": null,
      "outputs": [
        {
          "output_type": "stream",
          "text": [
            "time: 80.3 ms (started: 2021-05-20 20:37:53 +00:00)\n"
          ],
          "name": "stdout"
        }
      ]
    },
    {
      "cell_type": "code",
      "metadata": {
        "colab": {
          "base_uri": "https://localhost:8080/"
        },
        "id": "xuO2dVlxSXvA",
        "outputId": "e19cd7a5-5d5e-4f90-a140-3412b4208dae"
      },
      "source": [
        "dict_text = {'Dia ngatain aku jelek 😢': 'non_hs',\n",
        "             'Dia ngatain aku jelek': 'non_hs',\n",
        "             'Aku dipukul sama dia :(': 'non_hs',\n",
        "             'Aku cape dimarahin terus. Ga ngerti lagi deh sama orang ky dia': 'non_hs',\n",
        "             'Aku dikatain \"Eh bego lu, mending mati aja sana\"': 'non_hs',\n",
        "             'Aku dikatain \"Eh bego lu, mending mati aja sana\" 😢': 'non_hs',\n",
        "             'Ga ngerti lagi deh sama orang ky dia 🙄': 'hs',\n",
        "             'Eh bego lu, mending mati aja sana': 'hs',\n",
        "             'Ngapain sih chat di sini, tukang ngadu dasar': 'hs'}\n",
        "\n",
        "labels = list(dict_text.values())\n",
        "\n",
        "texts_emot_desc = [emot_to_desc(text) for text in dict_text.keys()]\n",
        "texts_emoji_emot_desc = [emoji_to_desc(text) for text in texts_emot_desc]\n",
        "preprocessed_texts = [clean(text) for text in texts_emoji_emot_desc]"
      ],
      "execution_count": null,
      "outputs": [
        {
          "output_type": "stream",
          "text": [
            "time: 25.1 ms (started: 2021-05-20 20:37:59 +00:00)\n"
          ],
          "name": "stdout"
        }
      ]
    },
    {
      "cell_type": "code",
      "metadata": {
        "colab": {
          "base_uri": "https://localhost:8080/"
        },
        "id": "Gg3fknwiMhrY",
        "outputId": "6cc7cb25-14df-4d57-a21f-25f2ee6f3489"
      },
      "source": [
        "texts_emot_desc"
      ],
      "execution_count": null,
      "outputs": [
        {
          "output_type": "execute_result",
          "data": {
            "text/plain": [
              "['Dia ngatain aku jelek 😢',\n",
              " 'Dia ngatain aku jelek',\n",
              " 'Aku dipukul sama dia sedih atau cemberut',\n",
              " 'Aku cape dimarahin terus. Ga ngerti lagi deh sama orang ky dia',\n",
              " 'Aku dikatain \"Eh bego lu, mending mati aja sana\"',\n",
              " 'Aku dikatain \"Eh bego lu, mending mati aja sana\" 😢',\n",
              " 'Ga ngerti lagi deh sama orang ky dia 🙄',\n",
              " 'Eh bego lu, mending mati aja sana',\n",
              " 'Ngapain sih chat di sini, tukang ngadu dasar']"
            ]
          },
          "metadata": {
            "tags": []
          },
          "execution_count": 26
        },
        {
          "output_type": "stream",
          "text": [
            "time: 7.54 ms (started: 2021-05-20 08:11:59 +00:00)\n"
          ],
          "name": "stdout"
        }
      ]
    },
    {
      "cell_type": "code",
      "metadata": {
        "colab": {
          "base_uri": "https://localhost:8080/"
        },
        "id": "zVwSJPXvMkD0",
        "outputId": "a9ee4304-0c0f-4759-cfb5-82102cc949cb"
      },
      "source": [
        "texts_emoji_emot_desc"
      ],
      "execution_count": null,
      "outputs": [
        {
          "output_type": "execute_result",
          "data": {
            "text/plain": [
              "['Dia ngatain aku jelek :menangis:',\n",
              " 'Dia ngatain aku jelek',\n",
              " 'Aku dipukul sama dia sedih atau cemberut',\n",
              " 'Aku cape dimarahin terus. Ga ngerti lagi deh sama orang ky dia',\n",
              " 'Aku dikatain \"Eh bego lu, mending mati aja sana\"',\n",
              " 'Aku dikatain \"Eh bego lu, mending mati aja sana\" :menangis:',\n",
              " 'Ga ngerti lagi deh sama orang ky dia :wajah dengan mata berputar:',\n",
              " 'Eh bego lu, mending mati aja sana',\n",
              " 'Ngapain sih chat di sini, tukang ngadu dasar']"
            ]
          },
          "metadata": {
            "tags": []
          },
          "execution_count": 27
        },
        {
          "output_type": "stream",
          "text": [
            "time: 2.7 ms (started: 2021-05-20 08:11:59 +00:00)\n"
          ],
          "name": "stdout"
        }
      ]
    },
    {
      "cell_type": "code",
      "metadata": {
        "colab": {
          "base_uri": "https://localhost:8080/"
        },
        "id": "tfRiKTsoQaz3",
        "outputId": "332ad8f6-a6bb-4c43-d55a-d703e8ff82fb"
      },
      "source": [
        "preprocessed_texts"
      ],
      "execution_count": null,
      "outputs": [
        {
          "output_type": "execute_result",
          "data": {
            "text/plain": [
              "['dia ngatain aku jelek menangis',\n",
              " 'dia ngatain aku jelek',\n",
              " 'aku dipukul sama dia sedih atau cemberut',\n",
              " 'aku cape dimarahin terus ga ngerti lagi deh sama orang ky dia',\n",
              " 'aku dikatain eh bego lu mending mati aja sana',\n",
              " 'aku dikatain eh bego lu mending mati aja sana menangis',\n",
              " 'ga ngerti lagi deh sama orang ky dia wajah dengan mata berputar',\n",
              " 'eh bego lu mending mati aja sana',\n",
              " 'ngapain sih chat di sini tukang ngadu dasar']"
            ]
          },
          "metadata": {
            "tags": []
          },
          "execution_count": 28
        },
        {
          "output_type": "stream",
          "text": [
            "time: 3.86 ms (started: 2021-05-20 08:12:00 +00:00)\n"
          ],
          "name": "stdout"
        }
      ]
    },
    {
      "cell_type": "markdown",
      "metadata": {
        "id": "Mz0ahxFyNmOz"
      },
      "source": [
        "## **Predict**"
      ]
    },
    {
      "cell_type": "code",
      "metadata": {
        "colab": {
          "base_uri": "https://localhost:8080/"
        },
        "id": "BItO7zzzLJFl",
        "outputId": "cef9fa8f-f9b0-4b27-bb13-5dd76c7a1abf"
      },
      "source": [
        "ori_model = TFAlbertForSequenceClassification.from_pretrained(PRETRAINED_MODEL, config=config_ori)\n",
        "tl_model = TFAlbertForSequenceClassification.from_pretrained(PROJECT_ROOT + 'results/hs/albert_v3/transfer-learning')\n",
        "ft_model = TFAlbertForSequenceClassification.from_pretrained(PROJECT_ROOT + 'results/hs/albert_v3/fine-tuning')\n",
        "\n",
        "dict_model = {'Original Pre-trained Model': ori_model,\n",
        "              'Transfer Learning Model': tl_model,\n",
        "              'Transfer Learning with Fine Tuning Model': ft_model}"
      ],
      "execution_count": null,
      "outputs": [
        {
          "output_type": "stream",
          "text": [
            "Some layers from the model checkpoint at indobenchmark/indobert-lite-base-p1 were not used when initializing TFAlbertForSequenceClassification: ['sop_classifier']\n",
            "- This IS expected if you are initializing TFAlbertForSequenceClassification from the checkpoint of a model trained on another task or with another architecture (e.g. initializing a BertForSequenceClassification model from a BertForPreTraining model).\n",
            "- This IS NOT expected if you are initializing TFAlbertForSequenceClassification from the checkpoint of a model that you expect to be exactly identical (initializing a BertForSequenceClassification model from a BertForSequenceClassification model).\n",
            "Some layers of TFAlbertForSequenceClassification were not initialized from the model checkpoint at indobenchmark/indobert-lite-base-p1 and are newly initialized: ['classifier']\n",
            "You should probably TRAIN this model on a down-stream task to be able to use it for predictions and inference.\n",
            "Some layers from the model checkpoint at drive/My Drive/Bangkit Capstone PT CJNN/ML/results/hs/albert_v3/transfer-learning were not used when initializing TFAlbertForSequenceClassification: ['dropout_9']\n",
            "- This IS expected if you are initializing TFAlbertForSequenceClassification from the checkpoint of a model trained on another task or with another architecture (e.g. initializing a BertForSequenceClassification model from a BertForPreTraining model).\n",
            "- This IS NOT expected if you are initializing TFAlbertForSequenceClassification from the checkpoint of a model that you expect to be exactly identical (initializing a BertForSequenceClassification model from a BertForSequenceClassification model).\n",
            "All the layers of TFAlbertForSequenceClassification were initialized from the model checkpoint at drive/My Drive/Bangkit Capstone PT CJNN/ML/results/hs/albert_v3/transfer-learning.\n",
            "If your task is similar to the task the model of the checkpoint was trained on, you can already use TFAlbertForSequenceClassification for predictions without further training.\n",
            "Some layers from the model checkpoint at drive/My Drive/Bangkit Capstone PT CJNN/ML/results/hs/albert_v3/fine-tuning were not used when initializing TFAlbertForSequenceClassification: ['dropout_4']\n",
            "- This IS expected if you are initializing TFAlbertForSequenceClassification from the checkpoint of a model trained on another task or with another architecture (e.g. initializing a BertForSequenceClassification model from a BertForPreTraining model).\n",
            "- This IS NOT expected if you are initializing TFAlbertForSequenceClassification from the checkpoint of a model that you expect to be exactly identical (initializing a BertForSequenceClassification model from a BertForSequenceClassification model).\n",
            "All the layers of TFAlbertForSequenceClassification were initialized from the model checkpoint at drive/My Drive/Bangkit Capstone PT CJNN/ML/results/hs/albert_v3/fine-tuning.\n",
            "If your task is similar to the task the model of the checkpoint was trained on, you can already use TFAlbertForSequenceClassification for predictions without further training.\n"
          ],
          "name": "stderr"
        },
        {
          "output_type": "stream",
          "text": [
            "time: 3.22 s (started: 2021-05-20 08:12:01 +00:00)\n"
          ],
          "name": "stdout"
        }
      ]
    },
    {
      "cell_type": "markdown",
      "metadata": {
        "id": "sO15uE9RQDEx"
      },
      "source": [
        "### **Emoji and Emoticon are Translated to Description**"
      ]
    },
    {
      "cell_type": "code",
      "metadata": {
        "id": "cI6T09ncNHrp",
        "colab": {
          "base_uri": "https://localhost:8080/"
        },
        "outputId": "c505bbad-7d20-4d27-cf06-83357aad0fff"
      },
      "source": [
        "for desc, model in dict_model.items():\n",
        "  print(f'\\n\\033[1mHasil Prediksi menggunakan {desc}:\\033[0m')\n",
        "  predicted_classes = []\n",
        "\n",
        "  for text in preprocessed_texts:\n",
        "      subwords = tokenizer(text, return_tensors='tf')\n",
        "      predictions = model(subwords)['logits']\n",
        "      predicted_class_idx = np.argmax(predictions, axis=1)[0]\n",
        "      predicted_class_label = config_ft.id2label[predicted_class_idx]\n",
        "      print(f'Kalimat \"\\033[1m{text}\\033[0m\" diprediksi sebagai label \\033[1m{predicted_class_label}\\033[0m')\n",
        "      predicted_classes.append(predicted_class_label)\n",
        "\n",
        "  print(metrics_to_string(classification_metrics(labels, predicted_classes)))"
      ],
      "execution_count": null,
      "outputs": [
        {
          "output_type": "stream",
          "text": [
            "\n",
            "\u001b[1mHasil Prediksi menggunakan Original Pre-trained Model:\u001b[0m\n",
            "Kalimat \"\u001b[1mdia ngatain aku jelek menangis\u001b[0m\" diprediksi sebagai label \u001b[1mhs\u001b[0m\n",
            "Kalimat \"\u001b[1mdia ngatain aku jelek\u001b[0m\" diprediksi sebagai label \u001b[1mnon_hs\u001b[0m\n",
            "Kalimat \"\u001b[1maku dipukul sama dia sedih atau cemberut\u001b[0m\" diprediksi sebagai label \u001b[1mnon_hs\u001b[0m\n",
            "Kalimat \"\u001b[1maku cape dimarahin terus ga ngerti lagi deh sama orang ky dia\u001b[0m\" diprediksi sebagai label \u001b[1mnon_hs\u001b[0m\n",
            "Kalimat \"\u001b[1maku dikatain eh bego lu mending mati aja sana\u001b[0m\" diprediksi sebagai label \u001b[1mnon_hs\u001b[0m\n",
            "Kalimat \"\u001b[1maku dikatain eh bego lu mending mati aja sana menangis\u001b[0m\" diprediksi sebagai label \u001b[1mhs\u001b[0m\n",
            "Kalimat \"\u001b[1mga ngerti lagi deh sama orang ky dia wajah dengan mata berputar\u001b[0m\" diprediksi sebagai label \u001b[1mnon_hs\u001b[0m\n",
            "Kalimat \"\u001b[1meh bego lu mending mati aja sana\u001b[0m\" diprediksi sebagai label \u001b[1mnon_hs\u001b[0m\n",
            "Kalimat \"\u001b[1mngapain sih chat di sini tukang ngadu dasar\u001b[0m\" diprediksi sebagai label \u001b[1mhs\u001b[0m\n",
            "\u001b[1mACC:\u001b[0m0.5556 \u001b[1mF1:\u001b[0m0.5556 \u001b[1mREC:\u001b[0m0.5556 \u001b[1mPRE:\u001b[0m0.5556\n",
            "\n",
            "\u001b[1mHasil Prediksi menggunakan Transfer Learning Model:\u001b[0m\n",
            "Kalimat \"\u001b[1mdia ngatain aku jelek menangis\u001b[0m\" diprediksi sebagai label \u001b[1mhs\u001b[0m\n",
            "Kalimat \"\u001b[1mdia ngatain aku jelek\u001b[0m\" diprediksi sebagai label \u001b[1mhs\u001b[0m\n",
            "Kalimat \"\u001b[1maku dipukul sama dia sedih atau cemberut\u001b[0m\" diprediksi sebagai label \u001b[1mnon_hs\u001b[0m\n",
            "Kalimat \"\u001b[1maku cape dimarahin terus ga ngerti lagi deh sama orang ky dia\u001b[0m\" diprediksi sebagai label \u001b[1mnon_hs\u001b[0m\n",
            "Kalimat \"\u001b[1maku dikatain eh bego lu mending mati aja sana\u001b[0m\" diprediksi sebagai label \u001b[1mhs\u001b[0m\n",
            "Kalimat \"\u001b[1maku dikatain eh bego lu mending mati aja sana menangis\u001b[0m\" diprediksi sebagai label \u001b[1mhs\u001b[0m\n",
            "Kalimat \"\u001b[1mga ngerti lagi deh sama orang ky dia wajah dengan mata berputar\u001b[0m\" diprediksi sebagai label \u001b[1mnon_hs\u001b[0m\n",
            "Kalimat \"\u001b[1meh bego lu mending mati aja sana\u001b[0m\" diprediksi sebagai label \u001b[1mhs\u001b[0m\n",
            "Kalimat \"\u001b[1mngapain sih chat di sini tukang ngadu dasar\u001b[0m\" diprediksi sebagai label \u001b[1mhs\u001b[0m\n",
            "\u001b[1mACC:\u001b[0m0.4444 \u001b[1mF1:\u001b[0m0.4444 \u001b[1mREC:\u001b[0m0.4444 \u001b[1mPRE:\u001b[0m0.5556\n",
            "\n",
            "\u001b[1mHasil Prediksi menggunakan Transfer Learning with Fine Tuning Model:\u001b[0m\n",
            "Kalimat \"\u001b[1mdia ngatain aku jelek menangis\u001b[0m\" diprediksi sebagai label \u001b[1mnon_hs\u001b[0m\n",
            "Kalimat \"\u001b[1mdia ngatain aku jelek\u001b[0m\" diprediksi sebagai label \u001b[1mhs\u001b[0m\n",
            "Kalimat \"\u001b[1maku dipukul sama dia sedih atau cemberut\u001b[0m\" diprediksi sebagai label \u001b[1mnon_hs\u001b[0m\n",
            "Kalimat \"\u001b[1maku cape dimarahin terus ga ngerti lagi deh sama orang ky dia\u001b[0m\" diprediksi sebagai label \u001b[1mnon_hs\u001b[0m\n",
            "Kalimat \"\u001b[1maku dikatain eh bego lu mending mati aja sana\u001b[0m\" diprediksi sebagai label \u001b[1mhs\u001b[0m\n",
            "Kalimat \"\u001b[1maku dikatain eh bego lu mending mati aja sana menangis\u001b[0m\" diprediksi sebagai label \u001b[1mhs\u001b[0m\n",
            "Kalimat \"\u001b[1mga ngerti lagi deh sama orang ky dia wajah dengan mata berputar\u001b[0m\" diprediksi sebagai label \u001b[1mnon_hs\u001b[0m\n",
            "Kalimat \"\u001b[1meh bego lu mending mati aja sana\u001b[0m\" diprediksi sebagai label \u001b[1mhs\u001b[0m\n",
            "Kalimat \"\u001b[1mngapain sih chat di sini tukang ngadu dasar\u001b[0m\" diprediksi sebagai label \u001b[1mhs\u001b[0m\n",
            "\u001b[1mACC:\u001b[0m0.5556 \u001b[1mF1:\u001b[0m0.5667 \u001b[1mREC:\u001b[0m0.5556 \u001b[1mPRE:\u001b[0m0.6333\n",
            "time: 2.95 s (started: 2021-05-20 08:12:05 +00:00)\n"
          ],
          "name": "stdout"
        }
      ]
    },
    {
      "cell_type": "markdown",
      "metadata": {
        "id": "YmE8STAUQKZq"
      },
      "source": [
        "### **Emoji and Emoticon are not Translated to Description**"
      ]
    },
    {
      "cell_type": "code",
      "metadata": {
        "colab": {
          "base_uri": "https://localhost:8080/"
        },
        "id": "0KFTcZJXPdYx",
        "outputId": "d68470d1-66c1-4e5e-949e-f7355e3ef33e"
      },
      "source": [
        "for desc, model in dict_model.items():\n",
        "  print(f'\\n\\033[1mHasil Prediksi menggunakan {desc}:\\033[0m')\n",
        "  predicted_classes = []\n",
        "\n",
        "  for text in dict_text:\n",
        "      subwords = tokenizer(text, return_tensors='tf')\n",
        "      predictions = model(subwords)['logits']\n",
        "      predicted_class_idx = np.argmax(predictions, axis=1)[0]\n",
        "      predicted_class_label = config_ft.id2label[predicted_class_idx]\n",
        "      print(f'Kalimat \"\\033[1m{text}\\033[0m\" diprediksi sebagai label \\033[1m{predicted_class_label}\\033[0m')\n",
        "      predicted_classes.append(predicted_class_label)\n",
        "\n",
        "  print(metrics_to_string(classification_metrics(labels, predicted_classes)))"
      ],
      "execution_count": null,
      "outputs": [
        {
          "output_type": "stream",
          "text": [
            "\n",
            "\u001b[1mHasil Prediksi menggunakan Original Pre-trained Model:\u001b[0m\n",
            "Kalimat \"\u001b[1mDia ngatain aku jelek 😢\u001b[0m\" diprediksi sebagai label \u001b[1mhs\u001b[0m\n",
            "Kalimat \"\u001b[1mDia ngatain aku jelek\u001b[0m\" diprediksi sebagai label \u001b[1mnon_hs\u001b[0m\n",
            "Kalimat \"\u001b[1mAku dipukul sama dia :(\u001b[0m\" diprediksi sebagai label \u001b[1mnon_hs\u001b[0m\n",
            "Kalimat \"\u001b[1mAku cape dimarahin terus. Ga ngerti lagi deh sama orang ky dia\u001b[0m\" diprediksi sebagai label \u001b[1mnon_hs\u001b[0m\n",
            "Kalimat \"\u001b[1mAku dikatain \"Eh bego lu, mending mati aja sana\"\u001b[0m\" diprediksi sebagai label \u001b[1mhs\u001b[0m\n",
            "Kalimat \"\u001b[1mAku dikatain \"Eh bego lu, mending mati aja sana\" 😢\u001b[0m\" diprediksi sebagai label \u001b[1mhs\u001b[0m\n",
            "Kalimat \"\u001b[1mGa ngerti lagi deh sama orang ky dia 🙄\u001b[0m\" diprediksi sebagai label \u001b[1mhs\u001b[0m\n",
            "Kalimat \"\u001b[1mEh bego lu, mending mati aja sana\u001b[0m\" diprediksi sebagai label \u001b[1mnon_hs\u001b[0m\n",
            "Kalimat \"\u001b[1mNgapain sih chat di sini, tukang ngadu dasar\u001b[0m\" diprediksi sebagai label \u001b[1mhs\u001b[0m\n",
            "\u001b[1mACC:\u001b[0m0.5556 \u001b[1mF1:\u001b[0m0.5667 \u001b[1mREC:\u001b[0m0.5556 \u001b[1mPRE:\u001b[0m0.6333\n",
            "\n",
            "\u001b[1mHasil Prediksi menggunakan Transfer Learning Model:\u001b[0m\n",
            "Kalimat \"\u001b[1mDia ngatain aku jelek 😢\u001b[0m\" diprediksi sebagai label \u001b[1mhs\u001b[0m\n",
            "Kalimat \"\u001b[1mDia ngatain aku jelek\u001b[0m\" diprediksi sebagai label \u001b[1mhs\u001b[0m\n",
            "Kalimat \"\u001b[1mAku dipukul sama dia :(\u001b[0m\" diprediksi sebagai label \u001b[1mnon_hs\u001b[0m\n",
            "Kalimat \"\u001b[1mAku cape dimarahin terus. Ga ngerti lagi deh sama orang ky dia\u001b[0m\" diprediksi sebagai label \u001b[1mnon_hs\u001b[0m\n",
            "Kalimat \"\u001b[1mAku dikatain \"Eh bego lu, mending mati aja sana\"\u001b[0m\" diprediksi sebagai label \u001b[1mhs\u001b[0m\n",
            "Kalimat \"\u001b[1mAku dikatain \"Eh bego lu, mending mati aja sana\" 😢\u001b[0m\" diprediksi sebagai label \u001b[1mhs\u001b[0m\n",
            "Kalimat \"\u001b[1mGa ngerti lagi deh sama orang ky dia 🙄\u001b[0m\" diprediksi sebagai label \u001b[1mnon_hs\u001b[0m\n",
            "Kalimat \"\u001b[1mEh bego lu, mending mati aja sana\u001b[0m\" diprediksi sebagai label \u001b[1mhs\u001b[0m\n",
            "Kalimat \"\u001b[1mNgapain sih chat di sini, tukang ngadu dasar\u001b[0m\" diprediksi sebagai label \u001b[1mhs\u001b[0m\n",
            "\u001b[1mACC:\u001b[0m0.4444 \u001b[1mF1:\u001b[0m0.4444 \u001b[1mREC:\u001b[0m0.4444 \u001b[1mPRE:\u001b[0m0.5556\n",
            "\n",
            "\u001b[1mHasil Prediksi menggunakan Transfer Learning with Fine Tuning Model:\u001b[0m\n",
            "Kalimat \"\u001b[1mDia ngatain aku jelek 😢\u001b[0m\" diprediksi sebagai label \u001b[1mnon_hs\u001b[0m\n",
            "Kalimat \"\u001b[1mDia ngatain aku jelek\u001b[0m\" diprediksi sebagai label \u001b[1mhs\u001b[0m\n",
            "Kalimat \"\u001b[1mAku dipukul sama dia :(\u001b[0m\" diprediksi sebagai label \u001b[1mnon_hs\u001b[0m\n",
            "Kalimat \"\u001b[1mAku cape dimarahin terus. Ga ngerti lagi deh sama orang ky dia\u001b[0m\" diprediksi sebagai label \u001b[1mnon_hs\u001b[0m\n",
            "Kalimat \"\u001b[1mAku dikatain \"Eh bego lu, mending mati aja sana\"\u001b[0m\" diprediksi sebagai label \u001b[1mhs\u001b[0m\n",
            "Kalimat \"\u001b[1mAku dikatain \"Eh bego lu, mending mati aja sana\" 😢\u001b[0m\" diprediksi sebagai label \u001b[1mhs\u001b[0m\n",
            "Kalimat \"\u001b[1mGa ngerti lagi deh sama orang ky dia 🙄\u001b[0m\" diprediksi sebagai label \u001b[1mnon_hs\u001b[0m\n",
            "Kalimat \"\u001b[1mEh bego lu, mending mati aja sana\u001b[0m\" diprediksi sebagai label \u001b[1mhs\u001b[0m\n",
            "Kalimat \"\u001b[1mNgapain sih chat di sini, tukang ngadu dasar\u001b[0m\" diprediksi sebagai label \u001b[1mhs\u001b[0m\n",
            "\u001b[1mACC:\u001b[0m0.5556 \u001b[1mF1:\u001b[0m0.5667 \u001b[1mREC:\u001b[0m0.5556 \u001b[1mPRE:\u001b[0m0.6333\n",
            "time: 2.96 s (started: 2021-05-20 08:12:08 +00:00)\n"
          ],
          "name": "stdout"
        }
      ]
    },
    {
      "cell_type": "markdown",
      "metadata": {
        "id": "zGYAqroKaxNk"
      },
      "source": [
        "# **Push to HuggingFace**"
      ]
    },
    {
      "cell_type": "code",
      "metadata": {
        "id": "87p1AEl1at83",
        "colab": {
          "base_uri": "https://localhost:8080/"
        },
        "outputId": "7ad97def-cd98-4e67-9ee2-dc03e311dd2d"
      },
      "source": [
        "!transformers-cli login"
      ],
      "execution_count": null,
      "outputs": [
        {
          "output_type": "stream",
          "text": [
            "2021-05-20 21:39:14.235013: I tensorflow/stream_executor/platform/default/dso_loader.cc:49] Successfully opened dynamic library libcudart.so.11.0\n",
            "\n",
            "        _|    _|  _|    _|    _|_|_|    _|_|_|  _|_|_|  _|      _|    _|_|_|      _|_|_|_|    _|_|      _|_|_|  _|_|_|_|\n",
            "        _|    _|  _|    _|  _|        _|          _|    _|_|    _|  _|            _|        _|    _|  _|        _|\n",
            "        _|_|_|_|  _|    _|  _|  _|_|  _|  _|_|    _|    _|  _|  _|  _|  _|_|      _|_|_|    _|_|_|_|  _|        _|_|_|\n",
            "        _|    _|  _|    _|  _|    _|  _|    _|    _|    _|    _|_|  _|    _|      _|        _|    _|  _|        _|\n",
            "        _|    _|    _|_|      _|_|_|    _|_|_|  _|_|_|  _|      _|    _|_|_|      _|        _|    _|    _|_|_|  _|_|_|_|\n",
            "\n",
            "        \n",
            "Username: celine\n",
            "Password: \n",
            "Login successful\n",
            "Your token: dHWKZHtSTVmTuuoYovdmVkJRFrVMAdhMJNaMXBcaYUzFZWFfJgUHLTgetFNcEJmYZLxNpbPeRhyrcJSWquqvLZBjQQVFtdupYnZHTagKhYfrrkVUlKjmEJwCYhKwCYNB \n",
            "\n",
            "Your token has been saved to /root/.huggingface/token\n",
            "time: 29.1 s (started: 2021-05-20 21:39:13 +00:00)\n"
          ],
          "name": "stdout"
        }
      ]
    },
    {
      "cell_type": "code",
      "metadata": {
        "colab": {
          "base_uri": "https://localhost:8080/"
        },
        "id": "ce39eclYbg7y",
        "outputId": "c388a9f8-3c85-4f8c-bc25-783d594a8ef5"
      },
      "source": [
        "# https://github.com/git-lfs/git-lfs/issues/3605\n",
        "!curl -s https://packagecloud.io/install/repositories/github/git-lfs/script.deb.sh | sudo bash\n",
        "!sudo apt-get install git-lfs\n",
        "!git lfs install"
      ],
      "execution_count": null,
      "outputs": [
        {
          "output_type": "stream",
          "text": [
            "Detected operating system as Ubuntu/bionic.\n",
            "Checking for curl...\n",
            "Detected curl...\n",
            "Checking for gpg...\n",
            "Detected gpg...\n",
            "Running apt-get update... done.\n",
            "Installing apt-transport-https... done.\n",
            "Installing /etc/apt/sources.list.d/github_git-lfs.list...done.\n",
            "Importing packagecloud gpg key... done.\n",
            "Running apt-get update... done.\n",
            "\n",
            "The repository is setup! You can now install packages.\n",
            "Reading package lists... Done\n",
            "Building dependency tree       \n",
            "Reading state information... Done\n",
            "The following package was automatically installed and is no longer required:\n",
            "  libnvidia-common-460\n",
            "Use 'sudo apt autoremove' to remove it.\n",
            "The following NEW packages will be installed:\n",
            "  git-lfs\n",
            "0 upgraded, 1 newly installed, 0 to remove and 72 not upgraded.\n",
            "Need to get 6,229 kB of archives.\n",
            "After this operation, 14.5 MB of additional disk space will be used.\n",
            "Get:1 https://packagecloud.io/github/git-lfs/ubuntu bionic/main amd64 git-lfs amd64 2.13.3 [6,229 kB]\n",
            "Fetched 6,229 kB in 0s (13.0 MB/s)\n",
            "debconf: unable to initialize frontend: Dialog\n",
            "debconf: (No usable dialog-like program is installed, so the dialog based frontend cannot be used. at /usr/share/perl5/Debconf/FrontEnd/Dialog.pm line 76, <> line 1.)\n",
            "debconf: falling back to frontend: Readline\n",
            "debconf: unable to initialize frontend: Readline\n",
            "debconf: (This frontend requires a controlling tty.)\n",
            "debconf: falling back to frontend: Teletype\n",
            "dpkg-preconfigure: unable to re-open stdin: \n",
            "Selecting previously unselected package git-lfs.\n",
            "(Reading database ... 160710 files and directories currently installed.)\n",
            "Preparing to unpack .../git-lfs_2.13.3_amd64.deb ...\n",
            "Unpacking git-lfs (2.13.3) ...\n",
            "Setting up git-lfs (2.13.3) ...\n",
            "Git LFS initialized.\n",
            "Processing triggers for man-db (2.8.3-2ubuntu0.1) ...\n",
            "Git LFS initialized.\n",
            "time: 15.1 s (started: 2021-05-20 21:39:42 +00:00)\n"
          ],
          "name": "stdout"
        }
      ]
    },
    {
      "cell_type": "code",
      "metadata": {
        "colab": {
          "base_uri": "https://localhost:8080/"
        },
        "id": "cI70WvJhbA4s",
        "outputId": "0d9a5568-61d0-4821-d613-9c3e8068cb8e"
      },
      "source": [
        "!git config --global user.email \"chrysant.celine@ui.ac.id\"\n",
        "!git config --global user.name \"celine\""
      ],
      "execution_count": null,
      "outputs": [
        {
          "output_type": "stream",
          "text": [
            "time: 269 ms (started: 2021-05-20 21:39:57 +00:00)\n"
          ],
          "name": "stdout"
        }
      ]
    },
    {
      "cell_type": "code",
      "metadata": {
        "colab": {
          "base_uri": "https://localhost:8080/"
        },
        "id": "q48tDEb4YwKa",
        "outputId": "3cab8146-6aed-40aa-bc6a-6f5187e236fb"
      },
      "source": [
        "ft_model = TFAlbertForSequenceClassification.from_pretrained(PROJECT_ROOT + 'results/hs/albert_v3/fine-tuning')"
      ],
      "execution_count": null,
      "outputs": [
        {
          "output_type": "stream",
          "text": [
            "Some layers from the model checkpoint at drive/My Drive/Bangkit Capstone PT CJNN/ML/results/hs/albert_v3/fine-tuning were not used when initializing TFAlbertForSequenceClassification: ['dropout_9']\n",
            "- This IS expected if you are initializing TFAlbertForSequenceClassification from the checkpoint of a model trained on another task or with another architecture (e.g. initializing a BertForSequenceClassification model from a BertForPreTraining model).\n",
            "- This IS NOT expected if you are initializing TFAlbertForSequenceClassification from the checkpoint of a model that you expect to be exactly identical (initializing a BertForSequenceClassification model from a BertForSequenceClassification model).\n",
            "All the layers of TFAlbertForSequenceClassification were initialized from the model checkpoint at drive/My Drive/Bangkit Capstone PT CJNN/ML/results/hs/albert_v3/fine-tuning.\n",
            "If your task is similar to the task the model of the checkpoint was trained on, you can already use TFAlbertForSequenceClassification for predictions without further training.\n"
          ],
          "name": "stderr"
        },
        {
          "output_type": "stream",
          "text": [
            "time: 10.6 s (started: 2021-05-20 21:38:55 +00:00)\n"
          ],
          "name": "stdout"
        }
      ]
    },
    {
      "cell_type": "code",
      "metadata": {
        "colab": {
          "base_uri": "https://localhost:8080/"
        },
        "id": "EqCd240MaMC5",
        "outputId": "0d6c70f6-01c9-4aab-96e5-e720083f0b35"
      },
      "source": [
        "save_directory = PROJECT_ROOT + 'results/hs/albert_v3/fine-tuning'\n",
        "ft_model.save_pretrained(save_directory, push_to_hub=True, repo_name='hate-speech_indobenchmark-indobert-lite-base-p1')\n",
        "tokenizer.push_to_hub('hate-speech_indobenchmark-indobert-lite-base-p1')"
      ],
      "execution_count": null,
      "outputs": [
        {
          "output_type": "stream",
          "text": [
            "time: 8.36 s (started: 2021-05-20 21:40:35 +00:00)\n"
          ],
          "name": "stdout"
        }
      ]
    },
    {
      "cell_type": "code",
      "metadata": {
        "colab": {
          "base_uri": "https://localhost:8080/"
        },
        "id": "6x1UL4lxccHY",
        "outputId": "6c2089ab-3484-4d50-f383-dbd746608570"
      },
      "source": [
        "PRETRAINED_MODEL_HS = 'celine/hate-speech_indobenchmark-indobert-lite-base-p1'\n",
        "hs_tokenizer = BertTokenizer.from_pretrained(PRETRAINED_MODEL_HS)\n",
        "hs_model = TFAlbertForSequenceClassification.from_pretrained(PRETRAINED_MODEL_HS)\n",
        "hs_config = AlbertConfig.from_pretrained(PRETRAINED_MODEL_HS)"
      ],
      "execution_count": null,
      "outputs": [
        {
          "output_type": "stream",
          "text": [
            "Some layers from the model checkpoint at celine/hate-speech_indobenchmark-indobert-lite-base-p1 were not used when initializing TFAlbertForSequenceClassification: ['dropout_9']\n",
            "- This IS expected if you are initializing TFAlbertForSequenceClassification from the checkpoint of a model trained on another task or with another architecture (e.g. initializing a BertForSequenceClassification model from a BertForPreTraining model).\n",
            "- This IS NOT expected if you are initializing TFAlbertForSequenceClassification from the checkpoint of a model that you expect to be exactly identical (initializing a BertForSequenceClassification model from a BertForSequenceClassification model).\n",
            "All the layers of TFAlbertForSequenceClassification were initialized from the model checkpoint at celine/hate-speech_indobenchmark-indobert-lite-base-p1.\n",
            "If your task is similar to the task the model of the checkpoint was trained on, you can already use TFAlbertForSequenceClassification for predictions without further training.\n"
          ],
          "name": "stderr"
        },
        {
          "output_type": "stream",
          "text": [
            "time: 490 ms (started: 2021-05-20 20:39:32 +00:00)\n"
          ],
          "name": "stdout"
        }
      ]
    },
    {
      "cell_type": "code",
      "metadata": {
        "colab": {
          "base_uri": "https://localhost:8080/"
        },
        "id": "O8Nz7MstgUr8",
        "outputId": "f2d9c77f-6c62-4673-bdc9-fff523bb3498"
      },
      "source": [
        "hs_config"
      ],
      "execution_count": null,
      "outputs": [
        {
          "output_type": "execute_result",
          "data": {
            "text/plain": [
              "AlbertConfig {\n",
              "  \"_name_or_path\": \"drive/My Drive/Bangkit Capstone PT CJNN/ML/results/hs/albert_v3/fine-tuning\",\n",
              "  \"_num_labels\": 2,\n",
              "  \"architectures\": [\n",
              "    \"AlbertForSequenceClassification\"\n",
              "  ],\n",
              "  \"attention_probs_dropout_prob\": 0.2,\n",
              "  \"bos_token_id\": 2,\n",
              "  \"classifier_dropout_prob\": 0.1,\n",
              "  \"down_scale_factor\": 1,\n",
              "  \"embedding_size\": 128,\n",
              "  \"eos_token_id\": 3,\n",
              "  \"gap_size\": 0,\n",
              "  \"hidden_act\": \"gelu\",\n",
              "  \"hidden_dropout_prob\": 0,\n",
              "  \"hidden_size\": 768,\n",
              "  \"id2label\": {\n",
              "    \"0\": \"non_hs\",\n",
              "    \"1\": \"hs\"\n",
              "  },\n",
              "  \"initializer_range\": 0.02,\n",
              "  \"inner_group_num\": 1,\n",
              "  \"intermediate_size\": 3072,\n",
              "  \"label2id\": {\n",
              "    \"hs\": 1,\n",
              "    \"non_hs\": 0\n",
              "  },\n",
              "  \"layer_norm_eps\": 1e-12,\n",
              "  \"max_position_embeddings\": 512,\n",
              "  \"model_type\": \"albert\",\n",
              "  \"net_structure_type\": 0,\n",
              "  \"num_attention_heads\": 12,\n",
              "  \"num_hidden_groups\": 1,\n",
              "  \"num_hidden_layers\": 8,\n",
              "  \"num_memory_blocks\": 0,\n",
              "  \"output_past\": true,\n",
              "  \"pad_token_id\": 0,\n",
              "  \"position_embedding_type\": \"absolute\",\n",
              "  \"transformers_version\": \"4.6.1\",\n",
              "  \"type_vocab_size\": 2,\n",
              "  \"vocab_size\": 30000\n",
              "}"
            ]
          },
          "metadata": {
            "tags": []
          },
          "execution_count": 36
        },
        {
          "output_type": "stream",
          "text": [
            "time: 10.7 ms (started: 2021-05-20 20:40:03 +00:00)\n"
          ],
          "name": "stdout"
        }
      ]
    },
    {
      "cell_type": "code",
      "metadata": {
        "colab": {
          "base_uri": "https://localhost:8080/"
        },
        "id": "Sxw9m0fPfFth",
        "outputId": "35aec02b-e8e0-4399-dfff-461a83afbd0e"
      },
      "source": [
        " predicted_classes = []\n",
        "for text in preprocessed_texts:\n",
        "    subwords = hs_tokenizer(text, return_tensors='tf')\n",
        "    predictions = hs_model(subwords)['logits']\n",
        "    predicted_class_idx = np.argmax(predictions, axis=1)[0]\n",
        "    predicted_class_label = hs_config.id2label[predicted_class_idx]\n",
        "    print(f'Kalimat \"\\033[1m{text}\\033[0m\" diprediksi sebagai label \\033[1m{predicted_class_label}\\033[0m')\n",
        "    predicted_classes.append(predicted_class_label)\n",
        "\n",
        "print(metrics_to_string(classification_metrics(labels, predicted_classes)))"
      ],
      "execution_count": null,
      "outputs": [
        {
          "output_type": "stream",
          "text": [
            "Kalimat \"\u001b[1mdia ngatain aku jelek menangis\u001b[0m\" diprediksi sebagai label \u001b[1mnon_hs\u001b[0m\n",
            "Kalimat \"\u001b[1mdia ngatain aku jelek\u001b[0m\" diprediksi sebagai label \u001b[1mnon_hs\u001b[0m\n",
            "Kalimat \"\u001b[1maku dipukul sama dia sedih atau cemberut\u001b[0m\" diprediksi sebagai label \u001b[1mnon_hs\u001b[0m\n",
            "Kalimat \"\u001b[1maku cape dimarahin terus ga ngerti lagi deh sama orang ky dia\u001b[0m\" diprediksi sebagai label \u001b[1mnon_hs\u001b[0m\n",
            "Kalimat \"\u001b[1maku dikatain eh bego lu mending mati aja sana\u001b[0m\" diprediksi sebagai label \u001b[1mhs\u001b[0m\n",
            "Kalimat \"\u001b[1maku dikatain eh bego lu mending mati aja sana menangis\u001b[0m\" diprediksi sebagai label \u001b[1mhs\u001b[0m\n",
            "Kalimat \"\u001b[1mga ngerti lagi deh sama orang ky dia wajah dengan mata berputar\u001b[0m\" diprediksi sebagai label \u001b[1mnon_hs\u001b[0m\n",
            "Kalimat \"\u001b[1meh bego lu mending mati aja sana\u001b[0m\" diprediksi sebagai label \u001b[1mhs\u001b[0m\n",
            "Kalimat \"\u001b[1mngapain sih chat di sini tukang ngadu dasar\u001b[0m\" diprediksi sebagai label \u001b[1mhs\u001b[0m\n",
            "\u001b[1mACC:\u001b[0m0.6667 \u001b[1mF1:\u001b[0m0.6753 \u001b[1mREC:\u001b[0m0.6667 \u001b[1mPRE:\u001b[0m0.7000\n",
            "time: 650 ms (started: 2021-05-20 20:41:04 +00:00)\n"
          ],
          "name": "stdout"
        }
      ]
    },
    {
      "cell_type": "code",
      "metadata": {
        "id": "oAjgBmf_fwva"
      },
      "source": [
        ""
      ],
      "execution_count": null,
      "outputs": []
    }
  ]
}