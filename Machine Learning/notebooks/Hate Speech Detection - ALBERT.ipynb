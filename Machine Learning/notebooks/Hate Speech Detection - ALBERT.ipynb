{
  "nbformat": 4,
  "nbformat_minor": 0,
  "metadata": {
    "colab": {
      "name": "Hate Speech Detection - ALBERT.ipynb",
      "provenance": [],
      "collapsed_sections": [],
      "toc_visible": true,
      "include_colab_link": true
    },
    "kernelspec": {
      "name": "python3",
      "display_name": "Python 3"
    },
    "language_info": {
      "name": "python"
    },
    "widgets": {
      "application/vnd.jupyter.widget-state+json": {
        "0a76f5d88d634006a2433806d78fba81": {
          "model_module": "@jupyter-widgets/controls",
          "model_name": "HBoxModel",
          "state": {
            "_view_name": "HBoxView",
            "_dom_classes": [],
            "_model_name": "HBoxModel",
            "_view_module": "@jupyter-widgets/controls",
            "_model_module_version": "1.5.0",
            "_view_count": null,
            "_view_module_version": "1.5.0",
            "box_style": "",
            "layout": "IPY_MODEL_d2c1e652dd0944128bd70115516dfab0",
            "_model_module": "@jupyter-widgets/controls",
            "children": [
              "IPY_MODEL_8748629cf2e34c8286e8adda1e3ebda2",
              "IPY_MODEL_5a4d6b52fcbb47b7bc8eeeea857bd338",
              "IPY_MODEL_bea8b69de6ab4ddeb07e8db09aebd237"
            ]
          }
        },
        "d2c1e652dd0944128bd70115516dfab0": {
          "model_module": "@jupyter-widgets/base",
          "model_name": "LayoutModel",
          "state": {
            "_view_name": "LayoutView",
            "grid_template_rows": null,
            "right": null,
            "justify_content": null,
            "_view_module": "@jupyter-widgets/base",
            "overflow": null,
            "_model_module_version": "1.2.0",
            "_view_count": null,
            "flex_flow": null,
            "width": null,
            "min_width": null,
            "border": null,
            "align_items": null,
            "bottom": null,
            "_model_module": "@jupyter-widgets/base",
            "top": null,
            "grid_column": null,
            "overflow_y": null,
            "overflow_x": null,
            "grid_auto_flow": null,
            "grid_area": null,
            "grid_template_columns": null,
            "flex": null,
            "_model_name": "LayoutModel",
            "justify_items": null,
            "grid_row": null,
            "max_height": null,
            "align_content": null,
            "visibility": null,
            "align_self": null,
            "height": null,
            "min_height": null,
            "padding": null,
            "grid_auto_rows": null,
            "grid_gap": null,
            "max_width": null,
            "order": null,
            "_view_module_version": "1.2.0",
            "grid_template_areas": null,
            "object_position": null,
            "object_fit": null,
            "grid_auto_columns": null,
            "margin": null,
            "display": null,
            "left": null
          }
        },
        "8748629cf2e34c8286e8adda1e3ebda2": {
          "model_module": "@jupyter-widgets/controls",
          "model_name": "HTMLModel",
          "state": {
            "_view_name": "HTMLView",
            "style": "IPY_MODEL_e914159b8748410797a950e47baee42b",
            "_dom_classes": [],
            "description": "",
            "_model_name": "HTMLModel",
            "placeholder": "​",
            "_view_module": "@jupyter-widgets/controls",
            "_model_module_version": "1.5.0",
            "value": "Downloading: 100%",
            "_view_count": null,
            "_view_module_version": "1.5.0",
            "description_tooltip": null,
            "_model_module": "@jupyter-widgets/controls",
            "layout": "IPY_MODEL_36c962ea1752451a9ac58eab428860d7"
          }
        },
        "5a4d6b52fcbb47b7bc8eeeea857bd338": {
          "model_module": "@jupyter-widgets/controls",
          "model_name": "FloatProgressModel",
          "state": {
            "_view_name": "ProgressView",
            "style": "IPY_MODEL_b558ea491b5746d0a8ec1b46c5bfca35",
            "_dom_classes": [],
            "description": "",
            "_model_name": "FloatProgressModel",
            "bar_style": "success",
            "max": 224974,
            "_view_module": "@jupyter-widgets/controls",
            "_model_module_version": "1.5.0",
            "value": 224974,
            "_view_count": null,
            "_view_module_version": "1.5.0",
            "orientation": "horizontal",
            "min": 0,
            "description_tooltip": null,
            "_model_module": "@jupyter-widgets/controls",
            "layout": "IPY_MODEL_50779aea60014579a2530770be38894c"
          }
        },
        "bea8b69de6ab4ddeb07e8db09aebd237": {
          "model_module": "@jupyter-widgets/controls",
          "model_name": "HTMLModel",
          "state": {
            "_view_name": "HTMLView",
            "style": "IPY_MODEL_5439db0b7e4446519542695201386d31",
            "_dom_classes": [],
            "description": "",
            "_model_name": "HTMLModel",
            "placeholder": "​",
            "_view_module": "@jupyter-widgets/controls",
            "_model_module_version": "1.5.0",
            "value": " 225k/225k [00:00&lt;00:00, 3.93MB/s]",
            "_view_count": null,
            "_view_module_version": "1.5.0",
            "description_tooltip": null,
            "_model_module": "@jupyter-widgets/controls",
            "layout": "IPY_MODEL_8752c5956b644e728ac49ede162bad29"
          }
        },
        "e914159b8748410797a950e47baee42b": {
          "model_module": "@jupyter-widgets/controls",
          "model_name": "DescriptionStyleModel",
          "state": {
            "_view_name": "StyleView",
            "_model_name": "DescriptionStyleModel",
            "description_width": "",
            "_view_module": "@jupyter-widgets/base",
            "_model_module_version": "1.5.0",
            "_view_count": null,
            "_view_module_version": "1.2.0",
            "_model_module": "@jupyter-widgets/controls"
          }
        },
        "36c962ea1752451a9ac58eab428860d7": {
          "model_module": "@jupyter-widgets/base",
          "model_name": "LayoutModel",
          "state": {
            "_view_name": "LayoutView",
            "grid_template_rows": null,
            "right": null,
            "justify_content": null,
            "_view_module": "@jupyter-widgets/base",
            "overflow": null,
            "_model_module_version": "1.2.0",
            "_view_count": null,
            "flex_flow": null,
            "width": null,
            "min_width": null,
            "border": null,
            "align_items": null,
            "bottom": null,
            "_model_module": "@jupyter-widgets/base",
            "top": null,
            "grid_column": null,
            "overflow_y": null,
            "overflow_x": null,
            "grid_auto_flow": null,
            "grid_area": null,
            "grid_template_columns": null,
            "flex": null,
            "_model_name": "LayoutModel",
            "justify_items": null,
            "grid_row": null,
            "max_height": null,
            "align_content": null,
            "visibility": null,
            "align_self": null,
            "height": null,
            "min_height": null,
            "padding": null,
            "grid_auto_rows": null,
            "grid_gap": null,
            "max_width": null,
            "order": null,
            "_view_module_version": "1.2.0",
            "grid_template_areas": null,
            "object_position": null,
            "object_fit": null,
            "grid_auto_columns": null,
            "margin": null,
            "display": null,
            "left": null
          }
        },
        "b558ea491b5746d0a8ec1b46c5bfca35": {
          "model_module": "@jupyter-widgets/controls",
          "model_name": "ProgressStyleModel",
          "state": {
            "_view_name": "StyleView",
            "_model_name": "ProgressStyleModel",
            "description_width": "",
            "_view_module": "@jupyter-widgets/base",
            "_model_module_version": "1.5.0",
            "_view_count": null,
            "_view_module_version": "1.2.0",
            "bar_color": null,
            "_model_module": "@jupyter-widgets/controls"
          }
        },
        "50779aea60014579a2530770be38894c": {
          "model_module": "@jupyter-widgets/base",
          "model_name": "LayoutModel",
          "state": {
            "_view_name": "LayoutView",
            "grid_template_rows": null,
            "right": null,
            "justify_content": null,
            "_view_module": "@jupyter-widgets/base",
            "overflow": null,
            "_model_module_version": "1.2.0",
            "_view_count": null,
            "flex_flow": null,
            "width": null,
            "min_width": null,
            "border": null,
            "align_items": null,
            "bottom": null,
            "_model_module": "@jupyter-widgets/base",
            "top": null,
            "grid_column": null,
            "overflow_y": null,
            "overflow_x": null,
            "grid_auto_flow": null,
            "grid_area": null,
            "grid_template_columns": null,
            "flex": null,
            "_model_name": "LayoutModel",
            "justify_items": null,
            "grid_row": null,
            "max_height": null,
            "align_content": null,
            "visibility": null,
            "align_self": null,
            "height": null,
            "min_height": null,
            "padding": null,
            "grid_auto_rows": null,
            "grid_gap": null,
            "max_width": null,
            "order": null,
            "_view_module_version": "1.2.0",
            "grid_template_areas": null,
            "object_position": null,
            "object_fit": null,
            "grid_auto_columns": null,
            "margin": null,
            "display": null,
            "left": null
          }
        },
        "5439db0b7e4446519542695201386d31": {
          "model_module": "@jupyter-widgets/controls",
          "model_name": "DescriptionStyleModel",
          "state": {
            "_view_name": "StyleView",
            "_model_name": "DescriptionStyleModel",
            "description_width": "",
            "_view_module": "@jupyter-widgets/base",
            "_model_module_version": "1.5.0",
            "_view_count": null,
            "_view_module_version": "1.2.0",
            "_model_module": "@jupyter-widgets/controls"
          }
        },
        "8752c5956b644e728ac49ede162bad29": {
          "model_module": "@jupyter-widgets/base",
          "model_name": "LayoutModel",
          "state": {
            "_view_name": "LayoutView",
            "grid_template_rows": null,
            "right": null,
            "justify_content": null,
            "_view_module": "@jupyter-widgets/base",
            "overflow": null,
            "_model_module_version": "1.2.0",
            "_view_count": null,
            "flex_flow": null,
            "width": null,
            "min_width": null,
            "border": null,
            "align_items": null,
            "bottom": null,
            "_model_module": "@jupyter-widgets/base",
            "top": null,
            "grid_column": null,
            "overflow_y": null,
            "overflow_x": null,
            "grid_auto_flow": null,
            "grid_area": null,
            "grid_template_columns": null,
            "flex": null,
            "_model_name": "LayoutModel",
            "justify_items": null,
            "grid_row": null,
            "max_height": null,
            "align_content": null,
            "visibility": null,
            "align_self": null,
            "height": null,
            "min_height": null,
            "padding": null,
            "grid_auto_rows": null,
            "grid_gap": null,
            "max_width": null,
            "order": null,
            "_view_module_version": "1.2.0",
            "grid_template_areas": null,
            "object_position": null,
            "object_fit": null,
            "grid_auto_columns": null,
            "margin": null,
            "display": null,
            "left": null
          }
        },
        "f206feacc8154575a3937a6b4e5feb25": {
          "model_module": "@jupyter-widgets/controls",
          "model_name": "HBoxModel",
          "state": {
            "_view_name": "HBoxView",
            "_dom_classes": [],
            "_model_name": "HBoxModel",
            "_view_module": "@jupyter-widgets/controls",
            "_model_module_version": "1.5.0",
            "_view_count": null,
            "_view_module_version": "1.5.0",
            "box_style": "",
            "layout": "IPY_MODEL_bda985f468b24acf8c9ae842f218ff8e",
            "_model_module": "@jupyter-widgets/controls",
            "children": [
              "IPY_MODEL_1c6ab8ca5aaa47a59d0ff77cdd838baf",
              "IPY_MODEL_e1b3349120a54356b2d8399923e217c4",
              "IPY_MODEL_a6da2d9f243a4e6b9646976b946882c9"
            ]
          }
        },
        "bda985f468b24acf8c9ae842f218ff8e": {
          "model_module": "@jupyter-widgets/base",
          "model_name": "LayoutModel",
          "state": {
            "_view_name": "LayoutView",
            "grid_template_rows": null,
            "right": null,
            "justify_content": null,
            "_view_module": "@jupyter-widgets/base",
            "overflow": null,
            "_model_module_version": "1.2.0",
            "_view_count": null,
            "flex_flow": null,
            "width": null,
            "min_width": null,
            "border": null,
            "align_items": null,
            "bottom": null,
            "_model_module": "@jupyter-widgets/base",
            "top": null,
            "grid_column": null,
            "overflow_y": null,
            "overflow_x": null,
            "grid_auto_flow": null,
            "grid_area": null,
            "grid_template_columns": null,
            "flex": null,
            "_model_name": "LayoutModel",
            "justify_items": null,
            "grid_row": null,
            "max_height": null,
            "align_content": null,
            "visibility": null,
            "align_self": null,
            "height": null,
            "min_height": null,
            "padding": null,
            "grid_auto_rows": null,
            "grid_gap": null,
            "max_width": null,
            "order": null,
            "_view_module_version": "1.2.0",
            "grid_template_areas": null,
            "object_position": null,
            "object_fit": null,
            "grid_auto_columns": null,
            "margin": null,
            "display": null,
            "left": null
          }
        },
        "1c6ab8ca5aaa47a59d0ff77cdd838baf": {
          "model_module": "@jupyter-widgets/controls",
          "model_name": "HTMLModel",
          "state": {
            "_view_name": "HTMLView",
            "style": "IPY_MODEL_8e59f889e6374d25b9e804be8a3219a2",
            "_dom_classes": [],
            "description": "",
            "_model_name": "HTMLModel",
            "placeholder": "​",
            "_view_module": "@jupyter-widgets/controls",
            "_model_module_version": "1.5.0",
            "value": "Downloading: 100%",
            "_view_count": null,
            "_view_module_version": "1.5.0",
            "description_tooltip": null,
            "_model_module": "@jupyter-widgets/controls",
            "layout": "IPY_MODEL_211f3df9be0c4bf7b3bfe0cbde6ec0bd"
          }
        },
        "e1b3349120a54356b2d8399923e217c4": {
          "model_module": "@jupyter-widgets/controls",
          "model_name": "FloatProgressModel",
          "state": {
            "_view_name": "ProgressView",
            "style": "IPY_MODEL_b3195f90e91c4db6bfe09f7cbaa30420",
            "_dom_classes": [],
            "description": "",
            "_model_name": "FloatProgressModel",
            "bar_style": "success",
            "max": 1542,
            "_view_module": "@jupyter-widgets/controls",
            "_model_module_version": "1.5.0",
            "value": 1542,
            "_view_count": null,
            "_view_module_version": "1.5.0",
            "orientation": "horizontal",
            "min": 0,
            "description_tooltip": null,
            "_model_module": "@jupyter-widgets/controls",
            "layout": "IPY_MODEL_7d87b745071d4d08a4c96484ac403752"
          }
        },
        "a6da2d9f243a4e6b9646976b946882c9": {
          "model_module": "@jupyter-widgets/controls",
          "model_name": "HTMLModel",
          "state": {
            "_view_name": "HTMLView",
            "style": "IPY_MODEL_986887d3e949451aaa55d6622c2fac97",
            "_dom_classes": [],
            "description": "",
            "_model_name": "HTMLModel",
            "placeholder": "​",
            "_view_module": "@jupyter-widgets/controls",
            "_model_module_version": "1.5.0",
            "value": " 1.54k/1.54k [00:00&lt;00:00, 42.4kB/s]",
            "_view_count": null,
            "_view_module_version": "1.5.0",
            "description_tooltip": null,
            "_model_module": "@jupyter-widgets/controls",
            "layout": "IPY_MODEL_e4511e8bb39c43d5ba21510e381b0913"
          }
        },
        "8e59f889e6374d25b9e804be8a3219a2": {
          "model_module": "@jupyter-widgets/controls",
          "model_name": "DescriptionStyleModel",
          "state": {
            "_view_name": "StyleView",
            "_model_name": "DescriptionStyleModel",
            "description_width": "",
            "_view_module": "@jupyter-widgets/base",
            "_model_module_version": "1.5.0",
            "_view_count": null,
            "_view_module_version": "1.2.0",
            "_model_module": "@jupyter-widgets/controls"
          }
        },
        "211f3df9be0c4bf7b3bfe0cbde6ec0bd": {
          "model_module": "@jupyter-widgets/base",
          "model_name": "LayoutModel",
          "state": {
            "_view_name": "LayoutView",
            "grid_template_rows": null,
            "right": null,
            "justify_content": null,
            "_view_module": "@jupyter-widgets/base",
            "overflow": null,
            "_model_module_version": "1.2.0",
            "_view_count": null,
            "flex_flow": null,
            "width": null,
            "min_width": null,
            "border": null,
            "align_items": null,
            "bottom": null,
            "_model_module": "@jupyter-widgets/base",
            "top": null,
            "grid_column": null,
            "overflow_y": null,
            "overflow_x": null,
            "grid_auto_flow": null,
            "grid_area": null,
            "grid_template_columns": null,
            "flex": null,
            "_model_name": "LayoutModel",
            "justify_items": null,
            "grid_row": null,
            "max_height": null,
            "align_content": null,
            "visibility": null,
            "align_self": null,
            "height": null,
            "min_height": null,
            "padding": null,
            "grid_auto_rows": null,
            "grid_gap": null,
            "max_width": null,
            "order": null,
            "_view_module_version": "1.2.0",
            "grid_template_areas": null,
            "object_position": null,
            "object_fit": null,
            "grid_auto_columns": null,
            "margin": null,
            "display": null,
            "left": null
          }
        },
        "b3195f90e91c4db6bfe09f7cbaa30420": {
          "model_module": "@jupyter-widgets/controls",
          "model_name": "ProgressStyleModel",
          "state": {
            "_view_name": "StyleView",
            "_model_name": "ProgressStyleModel",
            "description_width": "",
            "_view_module": "@jupyter-widgets/base",
            "_model_module_version": "1.5.0",
            "_view_count": null,
            "_view_module_version": "1.2.0",
            "bar_color": null,
            "_model_module": "@jupyter-widgets/controls"
          }
        },
        "7d87b745071d4d08a4c96484ac403752": {
          "model_module": "@jupyter-widgets/base",
          "model_name": "LayoutModel",
          "state": {
            "_view_name": "LayoutView",
            "grid_template_rows": null,
            "right": null,
            "justify_content": null,
            "_view_module": "@jupyter-widgets/base",
            "overflow": null,
            "_model_module_version": "1.2.0",
            "_view_count": null,
            "flex_flow": null,
            "width": null,
            "min_width": null,
            "border": null,
            "align_items": null,
            "bottom": null,
            "_model_module": "@jupyter-widgets/base",
            "top": null,
            "grid_column": null,
            "overflow_y": null,
            "overflow_x": null,
            "grid_auto_flow": null,
            "grid_area": null,
            "grid_template_columns": null,
            "flex": null,
            "_model_name": "LayoutModel",
            "justify_items": null,
            "grid_row": null,
            "max_height": null,
            "align_content": null,
            "visibility": null,
            "align_self": null,
            "height": null,
            "min_height": null,
            "padding": null,
            "grid_auto_rows": null,
            "grid_gap": null,
            "max_width": null,
            "order": null,
            "_view_module_version": "1.2.0",
            "grid_template_areas": null,
            "object_position": null,
            "object_fit": null,
            "grid_auto_columns": null,
            "margin": null,
            "display": null,
            "left": null
          }
        },
        "986887d3e949451aaa55d6622c2fac97": {
          "model_module": "@jupyter-widgets/controls",
          "model_name": "DescriptionStyleModel",
          "state": {
            "_view_name": "StyleView",
            "_model_name": "DescriptionStyleModel",
            "description_width": "",
            "_view_module": "@jupyter-widgets/base",
            "_model_module_version": "1.5.0",
            "_view_count": null,
            "_view_module_version": "1.2.0",
            "_model_module": "@jupyter-widgets/controls"
          }
        },
        "e4511e8bb39c43d5ba21510e381b0913": {
          "model_module": "@jupyter-widgets/base",
          "model_name": "LayoutModel",
          "state": {
            "_view_name": "LayoutView",
            "grid_template_rows": null,
            "right": null,
            "justify_content": null,
            "_view_module": "@jupyter-widgets/base",
            "overflow": null,
            "_model_module_version": "1.2.0",
            "_view_count": null,
            "flex_flow": null,
            "width": null,
            "min_width": null,
            "border": null,
            "align_items": null,
            "bottom": null,
            "_model_module": "@jupyter-widgets/base",
            "top": null,
            "grid_column": null,
            "overflow_y": null,
            "overflow_x": null,
            "grid_auto_flow": null,
            "grid_area": null,
            "grid_template_columns": null,
            "flex": null,
            "_model_name": "LayoutModel",
            "justify_items": null,
            "grid_row": null,
            "max_height": null,
            "align_content": null,
            "visibility": null,
            "align_self": null,
            "height": null,
            "min_height": null,
            "padding": null,
            "grid_auto_rows": null,
            "grid_gap": null,
            "max_width": null,
            "order": null,
            "_view_module_version": "1.2.0",
            "grid_template_areas": null,
            "object_position": null,
            "object_fit": null,
            "grid_auto_columns": null,
            "margin": null,
            "display": null,
            "left": null
          }
        },
        "964f550572504da6837ea691e5eee002": {
          "model_module": "@jupyter-widgets/controls",
          "model_name": "HBoxModel",
          "state": {
            "_view_name": "HBoxView",
            "_dom_classes": [],
            "_model_name": "HBoxModel",
            "_view_module": "@jupyter-widgets/controls",
            "_model_module_version": "1.5.0",
            "_view_count": null,
            "_view_module_version": "1.5.0",
            "box_style": "",
            "layout": "IPY_MODEL_49b844eb668249bd855e3b6d8e0b15cc",
            "_model_module": "@jupyter-widgets/controls",
            "children": [
              "IPY_MODEL_a4ad217419d947fb8d696d831f48307a",
              "IPY_MODEL_5d9c5e286b524131806f7042351e8fac",
              "IPY_MODEL_7c674a8f06e54619b8c218a634dfba08"
            ]
          }
        },
        "49b844eb668249bd855e3b6d8e0b15cc": {
          "model_module": "@jupyter-widgets/base",
          "model_name": "LayoutModel",
          "state": {
            "_view_name": "LayoutView",
            "grid_template_rows": null,
            "right": null,
            "justify_content": null,
            "_view_module": "@jupyter-widgets/base",
            "overflow": null,
            "_model_module_version": "1.2.0",
            "_view_count": null,
            "flex_flow": null,
            "width": null,
            "min_width": null,
            "border": null,
            "align_items": null,
            "bottom": null,
            "_model_module": "@jupyter-widgets/base",
            "top": null,
            "grid_column": null,
            "overflow_y": null,
            "overflow_x": null,
            "grid_auto_flow": null,
            "grid_area": null,
            "grid_template_columns": null,
            "flex": null,
            "_model_name": "LayoutModel",
            "justify_items": null,
            "grid_row": null,
            "max_height": null,
            "align_content": null,
            "visibility": null,
            "align_self": null,
            "height": null,
            "min_height": null,
            "padding": null,
            "grid_auto_rows": null,
            "grid_gap": null,
            "max_width": null,
            "order": null,
            "_view_module_version": "1.2.0",
            "grid_template_areas": null,
            "object_position": null,
            "object_fit": null,
            "grid_auto_columns": null,
            "margin": null,
            "display": null,
            "left": null
          }
        },
        "a4ad217419d947fb8d696d831f48307a": {
          "model_module": "@jupyter-widgets/controls",
          "model_name": "HTMLModel",
          "state": {
            "_view_name": "HTMLView",
            "style": "IPY_MODEL_0c4726fda0964fdb8462cb162c894610",
            "_dom_classes": [],
            "description": "",
            "_model_name": "HTMLModel",
            "placeholder": "​",
            "_view_module": "@jupyter-widgets/controls",
            "_model_module_version": "1.5.0",
            "value": "",
            "_view_count": null,
            "_view_module_version": "1.5.0",
            "description_tooltip": null,
            "_model_module": "@jupyter-widgets/controls",
            "layout": "IPY_MODEL_a5ac0ebf5ea14f32a8c2f348b13fd2b2"
          }
        },
        "5d9c5e286b524131806f7042351e8fac": {
          "model_module": "@jupyter-widgets/controls",
          "model_name": "FloatProgressModel",
          "state": {
            "_view_name": "ProgressView",
            "style": "IPY_MODEL_4d7fea1a988f4e2d943273e2541e367b",
            "_dom_classes": [],
            "description": "",
            "_model_name": "FloatProgressModel",
            "bar_style": "info",
            "max": 1,
            "_view_module": "@jupyter-widgets/controls",
            "_model_module_version": "1.5.0",
            "value": 1,
            "_view_count": null,
            "_view_module_version": "1.5.0",
            "orientation": "horizontal",
            "min": 0,
            "description_tooltip": null,
            "_model_module": "@jupyter-widgets/controls",
            "layout": "IPY_MODEL_552add54a2134758a10238f0f6cf636e"
          }
        },
        "7c674a8f06e54619b8c218a634dfba08": {
          "model_module": "@jupyter-widgets/controls",
          "model_name": "HTMLModel",
          "state": {
            "_view_name": "HTMLView",
            "style": "IPY_MODEL_99a90e916ab84ba9864581148ab5d7c4",
            "_dom_classes": [],
            "description": "",
            "_model_name": "HTMLModel",
            "placeholder": "​",
            "_view_module": "@jupyter-widgets/controls",
            "_model_module_version": "1.5.0",
            "value": " 0/? [00:00&lt;?, ? tables/s]",
            "_view_count": null,
            "_view_module_version": "1.5.0",
            "description_tooltip": null,
            "_model_module": "@jupyter-widgets/controls",
            "layout": "IPY_MODEL_217f14bc13534c0f83e01c87995aabdc"
          }
        },
        "0c4726fda0964fdb8462cb162c894610": {
          "model_module": "@jupyter-widgets/controls",
          "model_name": "DescriptionStyleModel",
          "state": {
            "_view_name": "StyleView",
            "_model_name": "DescriptionStyleModel",
            "description_width": "",
            "_view_module": "@jupyter-widgets/base",
            "_model_module_version": "1.5.0",
            "_view_count": null,
            "_view_module_version": "1.2.0",
            "_model_module": "@jupyter-widgets/controls"
          }
        },
        "a5ac0ebf5ea14f32a8c2f348b13fd2b2": {
          "model_module": "@jupyter-widgets/base",
          "model_name": "LayoutModel",
          "state": {
            "_view_name": "LayoutView",
            "grid_template_rows": null,
            "right": null,
            "justify_content": null,
            "_view_module": "@jupyter-widgets/base",
            "overflow": null,
            "_model_module_version": "1.2.0",
            "_view_count": null,
            "flex_flow": null,
            "width": null,
            "min_width": null,
            "border": null,
            "align_items": null,
            "bottom": null,
            "_model_module": "@jupyter-widgets/base",
            "top": null,
            "grid_column": null,
            "overflow_y": null,
            "overflow_x": null,
            "grid_auto_flow": null,
            "grid_area": null,
            "grid_template_columns": null,
            "flex": null,
            "_model_name": "LayoutModel",
            "justify_items": null,
            "grid_row": null,
            "max_height": null,
            "align_content": null,
            "visibility": null,
            "align_self": null,
            "height": null,
            "min_height": null,
            "padding": null,
            "grid_auto_rows": null,
            "grid_gap": null,
            "max_width": null,
            "order": null,
            "_view_module_version": "1.2.0",
            "grid_template_areas": null,
            "object_position": null,
            "object_fit": null,
            "grid_auto_columns": null,
            "margin": null,
            "display": null,
            "left": null
          }
        },
        "4d7fea1a988f4e2d943273e2541e367b": {
          "model_module": "@jupyter-widgets/controls",
          "model_name": "ProgressStyleModel",
          "state": {
            "_view_name": "StyleView",
            "_model_name": "ProgressStyleModel",
            "description_width": "",
            "_view_module": "@jupyter-widgets/base",
            "_model_module_version": "1.5.0",
            "_view_count": null,
            "_view_module_version": "1.2.0",
            "bar_color": null,
            "_model_module": "@jupyter-widgets/controls"
          }
        },
        "552add54a2134758a10238f0f6cf636e": {
          "model_module": "@jupyter-widgets/base",
          "model_name": "LayoutModel",
          "state": {
            "_view_name": "LayoutView",
            "grid_template_rows": null,
            "right": null,
            "justify_content": null,
            "_view_module": "@jupyter-widgets/base",
            "overflow": null,
            "_model_module_version": "1.2.0",
            "_view_count": null,
            "flex_flow": null,
            "width": "20px",
            "min_width": null,
            "border": null,
            "align_items": null,
            "bottom": null,
            "_model_module": "@jupyter-widgets/base",
            "top": null,
            "grid_column": null,
            "overflow_y": null,
            "overflow_x": null,
            "grid_auto_flow": null,
            "grid_area": null,
            "grid_template_columns": null,
            "flex": null,
            "_model_name": "LayoutModel",
            "justify_items": null,
            "grid_row": null,
            "max_height": null,
            "align_content": null,
            "visibility": null,
            "align_self": null,
            "height": null,
            "min_height": null,
            "padding": null,
            "grid_auto_rows": null,
            "grid_gap": null,
            "max_width": null,
            "order": null,
            "_view_module_version": "1.2.0",
            "grid_template_areas": null,
            "object_position": null,
            "object_fit": null,
            "grid_auto_columns": null,
            "margin": null,
            "display": null,
            "left": null
          }
        },
        "99a90e916ab84ba9864581148ab5d7c4": {
          "model_module": "@jupyter-widgets/controls",
          "model_name": "DescriptionStyleModel",
          "state": {
            "_view_name": "StyleView",
            "_model_name": "DescriptionStyleModel",
            "description_width": "",
            "_view_module": "@jupyter-widgets/base",
            "_model_module_version": "1.5.0",
            "_view_count": null,
            "_view_module_version": "1.2.0",
            "_model_module": "@jupyter-widgets/controls"
          }
        },
        "217f14bc13534c0f83e01c87995aabdc": {
          "model_module": "@jupyter-widgets/base",
          "model_name": "LayoutModel",
          "state": {
            "_view_name": "LayoutView",
            "grid_template_rows": null,
            "right": null,
            "justify_content": null,
            "_view_module": "@jupyter-widgets/base",
            "overflow": null,
            "_model_module_version": "1.2.0",
            "_view_count": null,
            "flex_flow": null,
            "width": null,
            "min_width": null,
            "border": null,
            "align_items": null,
            "bottom": null,
            "_model_module": "@jupyter-widgets/base",
            "top": null,
            "grid_column": null,
            "overflow_y": null,
            "overflow_x": null,
            "grid_auto_flow": null,
            "grid_area": null,
            "grid_template_columns": null,
            "flex": null,
            "_model_name": "LayoutModel",
            "justify_items": null,
            "grid_row": null,
            "max_height": null,
            "align_content": null,
            "visibility": null,
            "align_self": null,
            "height": null,
            "min_height": null,
            "padding": null,
            "grid_auto_rows": null,
            "grid_gap": null,
            "max_width": null,
            "order": null,
            "_view_module_version": "1.2.0",
            "grid_template_areas": null,
            "object_position": null,
            "object_fit": null,
            "grid_auto_columns": null,
            "margin": null,
            "display": null,
            "left": null
          }
        },
        "02dabf8c71434c31ba40b4ddf525d726": {
          "model_module": "@jupyter-widgets/controls",
          "model_name": "HBoxModel",
          "state": {
            "_view_name": "HBoxView",
            "_dom_classes": [],
            "_model_name": "HBoxModel",
            "_view_module": "@jupyter-widgets/controls",
            "_model_module_version": "1.5.0",
            "_view_count": null,
            "_view_module_version": "1.5.0",
            "box_style": "",
            "layout": "IPY_MODEL_7c65738e36d74ce0b9fb6030dc897217",
            "_model_module": "@jupyter-widgets/controls",
            "children": [
              "IPY_MODEL_2e4f9650581a4acabae06994581d0b8e",
              "IPY_MODEL_bbe1ab7632c2469b8c86f81e048518bd",
              "IPY_MODEL_a97e0610c2df480d907e2c0472d679f7"
            ]
          }
        },
        "7c65738e36d74ce0b9fb6030dc897217": {
          "model_module": "@jupyter-widgets/base",
          "model_name": "LayoutModel",
          "state": {
            "_view_name": "LayoutView",
            "grid_template_rows": null,
            "right": null,
            "justify_content": null,
            "_view_module": "@jupyter-widgets/base",
            "overflow": null,
            "_model_module_version": "1.2.0",
            "_view_count": null,
            "flex_flow": null,
            "width": null,
            "min_width": null,
            "border": null,
            "align_items": null,
            "bottom": null,
            "_model_module": "@jupyter-widgets/base",
            "top": null,
            "grid_column": null,
            "overflow_y": null,
            "overflow_x": null,
            "grid_auto_flow": null,
            "grid_area": null,
            "grid_template_columns": null,
            "flex": null,
            "_model_name": "LayoutModel",
            "justify_items": null,
            "grid_row": null,
            "max_height": null,
            "align_content": null,
            "visibility": null,
            "align_self": null,
            "height": null,
            "min_height": null,
            "padding": null,
            "grid_auto_rows": null,
            "grid_gap": null,
            "max_width": null,
            "order": null,
            "_view_module_version": "1.2.0",
            "grid_template_areas": null,
            "object_position": null,
            "object_fit": null,
            "grid_auto_columns": null,
            "margin": null,
            "display": null,
            "left": null
          }
        },
        "2e4f9650581a4acabae06994581d0b8e": {
          "model_module": "@jupyter-widgets/controls",
          "model_name": "HTMLModel",
          "state": {
            "_view_name": "HTMLView",
            "style": "IPY_MODEL_23f4d054f57f429894d33aba3e7d879e",
            "_dom_classes": [],
            "description": "",
            "_model_name": "HTMLModel",
            "placeholder": "​",
            "_view_module": "@jupyter-widgets/controls",
            "_model_module_version": "1.5.0",
            "value": "",
            "_view_count": null,
            "_view_module_version": "1.5.0",
            "description_tooltip": null,
            "_model_module": "@jupyter-widgets/controls",
            "layout": "IPY_MODEL_e5806dd3d39548f69c1389bf1ee41b58"
          }
        },
        "bbe1ab7632c2469b8c86f81e048518bd": {
          "model_module": "@jupyter-widgets/controls",
          "model_name": "FloatProgressModel",
          "state": {
            "_view_name": "ProgressView",
            "style": "IPY_MODEL_95f16e9289a0451ea09d037709c6f5c5",
            "_dom_classes": [],
            "description": "",
            "_model_name": "FloatProgressModel",
            "bar_style": "info",
            "max": 1,
            "_view_module": "@jupyter-widgets/controls",
            "_model_module_version": "1.5.0",
            "value": 1,
            "_view_count": null,
            "_view_module_version": "1.5.0",
            "orientation": "horizontal",
            "min": 0,
            "description_tooltip": null,
            "_model_module": "@jupyter-widgets/controls",
            "layout": "IPY_MODEL_cb108dd6552445b3ba02b210bf11c20c"
          }
        },
        "a97e0610c2df480d907e2c0472d679f7": {
          "model_module": "@jupyter-widgets/controls",
          "model_name": "HTMLModel",
          "state": {
            "_view_name": "HTMLView",
            "style": "IPY_MODEL_26379672efb94e30a61fab94dad5bddd",
            "_dom_classes": [],
            "description": "",
            "_model_name": "HTMLModel",
            "placeholder": "​",
            "_view_module": "@jupyter-widgets/controls",
            "_model_module_version": "1.5.0",
            "value": " 0/? [00:00&lt;?, ? tables/s]",
            "_view_count": null,
            "_view_module_version": "1.5.0",
            "description_tooltip": null,
            "_model_module": "@jupyter-widgets/controls",
            "layout": "IPY_MODEL_082359c3065c4b57ac64108eb8b1707a"
          }
        },
        "23f4d054f57f429894d33aba3e7d879e": {
          "model_module": "@jupyter-widgets/controls",
          "model_name": "DescriptionStyleModel",
          "state": {
            "_view_name": "StyleView",
            "_model_name": "DescriptionStyleModel",
            "description_width": "",
            "_view_module": "@jupyter-widgets/base",
            "_model_module_version": "1.5.0",
            "_view_count": null,
            "_view_module_version": "1.2.0",
            "_model_module": "@jupyter-widgets/controls"
          }
        },
        "e5806dd3d39548f69c1389bf1ee41b58": {
          "model_module": "@jupyter-widgets/base",
          "model_name": "LayoutModel",
          "state": {
            "_view_name": "LayoutView",
            "grid_template_rows": null,
            "right": null,
            "justify_content": null,
            "_view_module": "@jupyter-widgets/base",
            "overflow": null,
            "_model_module_version": "1.2.0",
            "_view_count": null,
            "flex_flow": null,
            "width": null,
            "min_width": null,
            "border": null,
            "align_items": null,
            "bottom": null,
            "_model_module": "@jupyter-widgets/base",
            "top": null,
            "grid_column": null,
            "overflow_y": null,
            "overflow_x": null,
            "grid_auto_flow": null,
            "grid_area": null,
            "grid_template_columns": null,
            "flex": null,
            "_model_name": "LayoutModel",
            "justify_items": null,
            "grid_row": null,
            "max_height": null,
            "align_content": null,
            "visibility": null,
            "align_self": null,
            "height": null,
            "min_height": null,
            "padding": null,
            "grid_auto_rows": null,
            "grid_gap": null,
            "max_width": null,
            "order": null,
            "_view_module_version": "1.2.0",
            "grid_template_areas": null,
            "object_position": null,
            "object_fit": null,
            "grid_auto_columns": null,
            "margin": null,
            "display": null,
            "left": null
          }
        },
        "95f16e9289a0451ea09d037709c6f5c5": {
          "model_module": "@jupyter-widgets/controls",
          "model_name": "ProgressStyleModel",
          "state": {
            "_view_name": "StyleView",
            "_model_name": "ProgressStyleModel",
            "description_width": "",
            "_view_module": "@jupyter-widgets/base",
            "_model_module_version": "1.5.0",
            "_view_count": null,
            "_view_module_version": "1.2.0",
            "bar_color": null,
            "_model_module": "@jupyter-widgets/controls"
          }
        },
        "cb108dd6552445b3ba02b210bf11c20c": {
          "model_module": "@jupyter-widgets/base",
          "model_name": "LayoutModel",
          "state": {
            "_view_name": "LayoutView",
            "grid_template_rows": null,
            "right": null,
            "justify_content": null,
            "_view_module": "@jupyter-widgets/base",
            "overflow": null,
            "_model_module_version": "1.2.0",
            "_view_count": null,
            "flex_flow": null,
            "width": "20px",
            "min_width": null,
            "border": null,
            "align_items": null,
            "bottom": null,
            "_model_module": "@jupyter-widgets/base",
            "top": null,
            "grid_column": null,
            "overflow_y": null,
            "overflow_x": null,
            "grid_auto_flow": null,
            "grid_area": null,
            "grid_template_columns": null,
            "flex": null,
            "_model_name": "LayoutModel",
            "justify_items": null,
            "grid_row": null,
            "max_height": null,
            "align_content": null,
            "visibility": null,
            "align_self": null,
            "height": null,
            "min_height": null,
            "padding": null,
            "grid_auto_rows": null,
            "grid_gap": null,
            "max_width": null,
            "order": null,
            "_view_module_version": "1.2.0",
            "grid_template_areas": null,
            "object_position": null,
            "object_fit": null,
            "grid_auto_columns": null,
            "margin": null,
            "display": null,
            "left": null
          }
        },
        "26379672efb94e30a61fab94dad5bddd": {
          "model_module": "@jupyter-widgets/controls",
          "model_name": "DescriptionStyleModel",
          "state": {
            "_view_name": "StyleView",
            "_model_name": "DescriptionStyleModel",
            "description_width": "",
            "_view_module": "@jupyter-widgets/base",
            "_model_module_version": "1.5.0",
            "_view_count": null,
            "_view_module_version": "1.2.0",
            "_model_module": "@jupyter-widgets/controls"
          }
        },
        "082359c3065c4b57ac64108eb8b1707a": {
          "model_module": "@jupyter-widgets/base",
          "model_name": "LayoutModel",
          "state": {
            "_view_name": "LayoutView",
            "grid_template_rows": null,
            "right": null,
            "justify_content": null,
            "_view_module": "@jupyter-widgets/base",
            "overflow": null,
            "_model_module_version": "1.2.0",
            "_view_count": null,
            "flex_flow": null,
            "width": null,
            "min_width": null,
            "border": null,
            "align_items": null,
            "bottom": null,
            "_model_module": "@jupyter-widgets/base",
            "top": null,
            "grid_column": null,
            "overflow_y": null,
            "overflow_x": null,
            "grid_auto_flow": null,
            "grid_area": null,
            "grid_template_columns": null,
            "flex": null,
            "_model_name": "LayoutModel",
            "justify_items": null,
            "grid_row": null,
            "max_height": null,
            "align_content": null,
            "visibility": null,
            "align_self": null,
            "height": null,
            "min_height": null,
            "padding": null,
            "grid_auto_rows": null,
            "grid_gap": null,
            "max_width": null,
            "order": null,
            "_view_module_version": "1.2.0",
            "grid_template_areas": null,
            "object_position": null,
            "object_fit": null,
            "grid_auto_columns": null,
            "margin": null,
            "display": null,
            "left": null
          }
        },
        "2d31b3d3c1d34249a1b05751c03365c8": {
          "model_module": "@jupyter-widgets/controls",
          "model_name": "HBoxModel",
          "state": {
            "_view_name": "HBoxView",
            "_dom_classes": [],
            "_model_name": "HBoxModel",
            "_view_module": "@jupyter-widgets/controls",
            "_model_module_version": "1.5.0",
            "_view_count": null,
            "_view_module_version": "1.5.0",
            "box_style": "",
            "layout": "IPY_MODEL_7f8c6974d1fa440c94c743d0e4eeddc8",
            "_model_module": "@jupyter-widgets/controls",
            "children": [
              "IPY_MODEL_783953895be34e439ce52ea708c0fa2b",
              "IPY_MODEL_21cd49150a134bc78b18050924f87451",
              "IPY_MODEL_c6147864201e48ac9a50b762f72042e9"
            ]
          }
        },
        "7f8c6974d1fa440c94c743d0e4eeddc8": {
          "model_module": "@jupyter-widgets/base",
          "model_name": "LayoutModel",
          "state": {
            "_view_name": "LayoutView",
            "grid_template_rows": null,
            "right": null,
            "justify_content": null,
            "_view_module": "@jupyter-widgets/base",
            "overflow": null,
            "_model_module_version": "1.2.0",
            "_view_count": null,
            "flex_flow": null,
            "width": null,
            "min_width": null,
            "border": null,
            "align_items": null,
            "bottom": null,
            "_model_module": "@jupyter-widgets/base",
            "top": null,
            "grid_column": null,
            "overflow_y": null,
            "overflow_x": null,
            "grid_auto_flow": null,
            "grid_area": null,
            "grid_template_columns": null,
            "flex": null,
            "_model_name": "LayoutModel",
            "justify_items": null,
            "grid_row": null,
            "max_height": null,
            "align_content": null,
            "visibility": null,
            "align_self": null,
            "height": null,
            "min_height": null,
            "padding": null,
            "grid_auto_rows": null,
            "grid_gap": null,
            "max_width": null,
            "order": null,
            "_view_module_version": "1.2.0",
            "grid_template_areas": null,
            "object_position": null,
            "object_fit": null,
            "grid_auto_columns": null,
            "margin": null,
            "display": null,
            "left": null
          }
        },
        "783953895be34e439ce52ea708c0fa2b": {
          "model_module": "@jupyter-widgets/controls",
          "model_name": "HTMLModel",
          "state": {
            "_view_name": "HTMLView",
            "style": "IPY_MODEL_b446dcf95fc34ce3b0ee57f38fbfb695",
            "_dom_classes": [],
            "description": "",
            "_model_name": "HTMLModel",
            "placeholder": "​",
            "_view_module": "@jupyter-widgets/controls",
            "_model_module_version": "1.5.0",
            "value": "",
            "_view_count": null,
            "_view_module_version": "1.5.0",
            "description_tooltip": null,
            "_model_module": "@jupyter-widgets/controls",
            "layout": "IPY_MODEL_2f2e1e1f1a6c45609c5c100640392279"
          }
        },
        "21cd49150a134bc78b18050924f87451": {
          "model_module": "@jupyter-widgets/controls",
          "model_name": "FloatProgressModel",
          "state": {
            "_view_name": "ProgressView",
            "style": "IPY_MODEL_bb27f99a80194bf9a0894519e295c514",
            "_dom_classes": [],
            "description": "",
            "_model_name": "FloatProgressModel",
            "bar_style": "info",
            "max": 1,
            "_view_module": "@jupyter-widgets/controls",
            "_model_module_version": "1.5.0",
            "value": 1,
            "_view_count": null,
            "_view_module_version": "1.5.0",
            "orientation": "horizontal",
            "min": 0,
            "description_tooltip": null,
            "_model_module": "@jupyter-widgets/controls",
            "layout": "IPY_MODEL_ee60d2f3a9e64956b751a2ce08a637f9"
          }
        },
        "c6147864201e48ac9a50b762f72042e9": {
          "model_module": "@jupyter-widgets/controls",
          "model_name": "HTMLModel",
          "state": {
            "_view_name": "HTMLView",
            "style": "IPY_MODEL_354233f3dc7a4803a3d8762dddb66c39",
            "_dom_classes": [],
            "description": "",
            "_model_name": "HTMLModel",
            "placeholder": "​",
            "_view_module": "@jupyter-widgets/controls",
            "_model_module_version": "1.5.0",
            "value": " 0/? [00:00&lt;?, ? tables/s]",
            "_view_count": null,
            "_view_module_version": "1.5.0",
            "description_tooltip": null,
            "_model_module": "@jupyter-widgets/controls",
            "layout": "IPY_MODEL_b6b83423d4cc425ab8fb9968d7e74cc0"
          }
        },
        "b446dcf95fc34ce3b0ee57f38fbfb695": {
          "model_module": "@jupyter-widgets/controls",
          "model_name": "DescriptionStyleModel",
          "state": {
            "_view_name": "StyleView",
            "_model_name": "DescriptionStyleModel",
            "description_width": "",
            "_view_module": "@jupyter-widgets/base",
            "_model_module_version": "1.5.0",
            "_view_count": null,
            "_view_module_version": "1.2.0",
            "_model_module": "@jupyter-widgets/controls"
          }
        },
        "2f2e1e1f1a6c45609c5c100640392279": {
          "model_module": "@jupyter-widgets/base",
          "model_name": "LayoutModel",
          "state": {
            "_view_name": "LayoutView",
            "grid_template_rows": null,
            "right": null,
            "justify_content": null,
            "_view_module": "@jupyter-widgets/base",
            "overflow": null,
            "_model_module_version": "1.2.0",
            "_view_count": null,
            "flex_flow": null,
            "width": null,
            "min_width": null,
            "border": null,
            "align_items": null,
            "bottom": null,
            "_model_module": "@jupyter-widgets/base",
            "top": null,
            "grid_column": null,
            "overflow_y": null,
            "overflow_x": null,
            "grid_auto_flow": null,
            "grid_area": null,
            "grid_template_columns": null,
            "flex": null,
            "_model_name": "LayoutModel",
            "justify_items": null,
            "grid_row": null,
            "max_height": null,
            "align_content": null,
            "visibility": null,
            "align_self": null,
            "height": null,
            "min_height": null,
            "padding": null,
            "grid_auto_rows": null,
            "grid_gap": null,
            "max_width": null,
            "order": null,
            "_view_module_version": "1.2.0",
            "grid_template_areas": null,
            "object_position": null,
            "object_fit": null,
            "grid_auto_columns": null,
            "margin": null,
            "display": null,
            "left": null
          }
        },
        "bb27f99a80194bf9a0894519e295c514": {
          "model_module": "@jupyter-widgets/controls",
          "model_name": "ProgressStyleModel",
          "state": {
            "_view_name": "StyleView",
            "_model_name": "ProgressStyleModel",
            "description_width": "",
            "_view_module": "@jupyter-widgets/base",
            "_model_module_version": "1.5.0",
            "_view_count": null,
            "_view_module_version": "1.2.0",
            "bar_color": null,
            "_model_module": "@jupyter-widgets/controls"
          }
        },
        "ee60d2f3a9e64956b751a2ce08a637f9": {
          "model_module": "@jupyter-widgets/base",
          "model_name": "LayoutModel",
          "state": {
            "_view_name": "LayoutView",
            "grid_template_rows": null,
            "right": null,
            "justify_content": null,
            "_view_module": "@jupyter-widgets/base",
            "overflow": null,
            "_model_module_version": "1.2.0",
            "_view_count": null,
            "flex_flow": null,
            "width": "20px",
            "min_width": null,
            "border": null,
            "align_items": null,
            "bottom": null,
            "_model_module": "@jupyter-widgets/base",
            "top": null,
            "grid_column": null,
            "overflow_y": null,
            "overflow_x": null,
            "grid_auto_flow": null,
            "grid_area": null,
            "grid_template_columns": null,
            "flex": null,
            "_model_name": "LayoutModel",
            "justify_items": null,
            "grid_row": null,
            "max_height": null,
            "align_content": null,
            "visibility": null,
            "align_self": null,
            "height": null,
            "min_height": null,
            "padding": null,
            "grid_auto_rows": null,
            "grid_gap": null,
            "max_width": null,
            "order": null,
            "_view_module_version": "1.2.0",
            "grid_template_areas": null,
            "object_position": null,
            "object_fit": null,
            "grid_auto_columns": null,
            "margin": null,
            "display": null,
            "left": null
          }
        },
        "354233f3dc7a4803a3d8762dddb66c39": {
          "model_module": "@jupyter-widgets/controls",
          "model_name": "DescriptionStyleModel",
          "state": {
            "_view_name": "StyleView",
            "_model_name": "DescriptionStyleModel",
            "description_width": "",
            "_view_module": "@jupyter-widgets/base",
            "_model_module_version": "1.5.0",
            "_view_count": null,
            "_view_module_version": "1.2.0",
            "_model_module": "@jupyter-widgets/controls"
          }
        },
        "b6b83423d4cc425ab8fb9968d7e74cc0": {
          "model_module": "@jupyter-widgets/base",
          "model_name": "LayoutModel",
          "state": {
            "_view_name": "LayoutView",
            "grid_template_rows": null,
            "right": null,
            "justify_content": null,
            "_view_module": "@jupyter-widgets/base",
            "overflow": null,
            "_model_module_version": "1.2.0",
            "_view_count": null,
            "flex_flow": null,
            "width": null,
            "min_width": null,
            "border": null,
            "align_items": null,
            "bottom": null,
            "_model_module": "@jupyter-widgets/base",
            "top": null,
            "grid_column": null,
            "overflow_y": null,
            "overflow_x": null,
            "grid_auto_flow": null,
            "grid_area": null,
            "grid_template_columns": null,
            "flex": null,
            "_model_name": "LayoutModel",
            "justify_items": null,
            "grid_row": null,
            "max_height": null,
            "align_content": null,
            "visibility": null,
            "align_self": null,
            "height": null,
            "min_height": null,
            "padding": null,
            "grid_auto_rows": null,
            "grid_gap": null,
            "max_width": null,
            "order": null,
            "_view_module_version": "1.2.0",
            "grid_template_areas": null,
            "object_position": null,
            "object_fit": null,
            "grid_auto_columns": null,
            "margin": null,
            "display": null,
            "left": null
          }
        },
        "5291f78d890c45d89dc363e6f3eeb80d": {
          "model_module": "@jupyter-widgets/controls",
          "model_name": "HBoxModel",
          "state": {
            "_view_name": "HBoxView",
            "_dom_classes": [],
            "_model_name": "HBoxModel",
            "_view_module": "@jupyter-widgets/controls",
            "_model_module_version": "1.5.0",
            "_view_count": null,
            "_view_module_version": "1.5.0",
            "box_style": "",
            "layout": "IPY_MODEL_8742547136de47d0b715bbca4ea4044e",
            "_model_module": "@jupyter-widgets/controls",
            "children": [
              "IPY_MODEL_a3f49c0b18e1490c80651e4944075665",
              "IPY_MODEL_272e870ee4b04b90b40ce0bc3c6a4993",
              "IPY_MODEL_f9cd7e7c46444fbe8d39ddf5d7da14d7"
            ]
          }
        },
        "8742547136de47d0b715bbca4ea4044e": {
          "model_module": "@jupyter-widgets/base",
          "model_name": "LayoutModel",
          "state": {
            "_view_name": "LayoutView",
            "grid_template_rows": null,
            "right": null,
            "justify_content": null,
            "_view_module": "@jupyter-widgets/base",
            "overflow": null,
            "_model_module_version": "1.2.0",
            "_view_count": null,
            "flex_flow": null,
            "width": null,
            "min_width": null,
            "border": null,
            "align_items": null,
            "bottom": null,
            "_model_module": "@jupyter-widgets/base",
            "top": null,
            "grid_column": null,
            "overflow_y": null,
            "overflow_x": null,
            "grid_auto_flow": null,
            "grid_area": null,
            "grid_template_columns": null,
            "flex": null,
            "_model_name": "LayoutModel",
            "justify_items": null,
            "grid_row": null,
            "max_height": null,
            "align_content": null,
            "visibility": null,
            "align_self": null,
            "height": null,
            "min_height": null,
            "padding": null,
            "grid_auto_rows": null,
            "grid_gap": null,
            "max_width": null,
            "order": null,
            "_view_module_version": "1.2.0",
            "grid_template_areas": null,
            "object_position": null,
            "object_fit": null,
            "grid_auto_columns": null,
            "margin": null,
            "display": null,
            "left": null
          }
        },
        "a3f49c0b18e1490c80651e4944075665": {
          "model_module": "@jupyter-widgets/controls",
          "model_name": "HTMLModel",
          "state": {
            "_view_name": "HTMLView",
            "style": "IPY_MODEL_cc61b855ac5446289df98728a02ef9a6",
            "_dom_classes": [],
            "description": "",
            "_model_name": "HTMLModel",
            "placeholder": "​",
            "_view_module": "@jupyter-widgets/controls",
            "_model_module_version": "1.5.0",
            "value": "100%",
            "_view_count": null,
            "_view_module_version": "1.5.0",
            "description_tooltip": null,
            "_model_module": "@jupyter-widgets/controls",
            "layout": "IPY_MODEL_f731bd1524aa44ffa5af5a39869acdbf"
          }
        },
        "272e870ee4b04b90b40ce0bc3c6a4993": {
          "model_module": "@jupyter-widgets/controls",
          "model_name": "FloatProgressModel",
          "state": {
            "_view_name": "ProgressView",
            "style": "IPY_MODEL_ae376bd4ecee49c0b6e83d2d6df24a71",
            "_dom_classes": [],
            "description": "",
            "_model_name": "FloatProgressModel",
            "bar_style": "success",
            "max": 10,
            "_view_module": "@jupyter-widgets/controls",
            "_model_module_version": "1.5.0",
            "value": 10,
            "_view_count": null,
            "_view_module_version": "1.5.0",
            "orientation": "horizontal",
            "min": 0,
            "description_tooltip": null,
            "_model_module": "@jupyter-widgets/controls",
            "layout": "IPY_MODEL_dd479816750546249a43d6711e5d8635"
          }
        },
        "f9cd7e7c46444fbe8d39ddf5d7da14d7": {
          "model_module": "@jupyter-widgets/controls",
          "model_name": "HTMLModel",
          "state": {
            "_view_name": "HTMLView",
            "style": "IPY_MODEL_ce726e214b954c1e90b638a78f49ecd9",
            "_dom_classes": [],
            "description": "",
            "_model_name": "HTMLModel",
            "placeholder": "​",
            "_view_module": "@jupyter-widgets/controls",
            "_model_module_version": "1.5.0",
            "value": " 10/10 [00:04&lt;00:00,  2.58ba/s]",
            "_view_count": null,
            "_view_module_version": "1.5.0",
            "description_tooltip": null,
            "_model_module": "@jupyter-widgets/controls",
            "layout": "IPY_MODEL_ddc375868ebe475f8078b821c4d6d686"
          }
        },
        "cc61b855ac5446289df98728a02ef9a6": {
          "model_module": "@jupyter-widgets/controls",
          "model_name": "DescriptionStyleModel",
          "state": {
            "_view_name": "StyleView",
            "_model_name": "DescriptionStyleModel",
            "description_width": "",
            "_view_module": "@jupyter-widgets/base",
            "_model_module_version": "1.5.0",
            "_view_count": null,
            "_view_module_version": "1.2.0",
            "_model_module": "@jupyter-widgets/controls"
          }
        },
        "f731bd1524aa44ffa5af5a39869acdbf": {
          "model_module": "@jupyter-widgets/base",
          "model_name": "LayoutModel",
          "state": {
            "_view_name": "LayoutView",
            "grid_template_rows": null,
            "right": null,
            "justify_content": null,
            "_view_module": "@jupyter-widgets/base",
            "overflow": null,
            "_model_module_version": "1.2.0",
            "_view_count": null,
            "flex_flow": null,
            "width": null,
            "min_width": null,
            "border": null,
            "align_items": null,
            "bottom": null,
            "_model_module": "@jupyter-widgets/base",
            "top": null,
            "grid_column": null,
            "overflow_y": null,
            "overflow_x": null,
            "grid_auto_flow": null,
            "grid_area": null,
            "grid_template_columns": null,
            "flex": null,
            "_model_name": "LayoutModel",
            "justify_items": null,
            "grid_row": null,
            "max_height": null,
            "align_content": null,
            "visibility": null,
            "align_self": null,
            "height": null,
            "min_height": null,
            "padding": null,
            "grid_auto_rows": null,
            "grid_gap": null,
            "max_width": null,
            "order": null,
            "_view_module_version": "1.2.0",
            "grid_template_areas": null,
            "object_position": null,
            "object_fit": null,
            "grid_auto_columns": null,
            "margin": null,
            "display": null,
            "left": null
          }
        },
        "ae376bd4ecee49c0b6e83d2d6df24a71": {
          "model_module": "@jupyter-widgets/controls",
          "model_name": "ProgressStyleModel",
          "state": {
            "_view_name": "StyleView",
            "_model_name": "ProgressStyleModel",
            "description_width": "",
            "_view_module": "@jupyter-widgets/base",
            "_model_module_version": "1.5.0",
            "_view_count": null,
            "_view_module_version": "1.2.0",
            "bar_color": null,
            "_model_module": "@jupyter-widgets/controls"
          }
        },
        "dd479816750546249a43d6711e5d8635": {
          "model_module": "@jupyter-widgets/base",
          "model_name": "LayoutModel",
          "state": {
            "_view_name": "LayoutView",
            "grid_template_rows": null,
            "right": null,
            "justify_content": null,
            "_view_module": "@jupyter-widgets/base",
            "overflow": null,
            "_model_module_version": "1.2.0",
            "_view_count": null,
            "flex_flow": null,
            "width": null,
            "min_width": null,
            "border": null,
            "align_items": null,
            "bottom": null,
            "_model_module": "@jupyter-widgets/base",
            "top": null,
            "grid_column": null,
            "overflow_y": null,
            "overflow_x": null,
            "grid_auto_flow": null,
            "grid_area": null,
            "grid_template_columns": null,
            "flex": null,
            "_model_name": "LayoutModel",
            "justify_items": null,
            "grid_row": null,
            "max_height": null,
            "align_content": null,
            "visibility": null,
            "align_self": null,
            "height": null,
            "min_height": null,
            "padding": null,
            "grid_auto_rows": null,
            "grid_gap": null,
            "max_width": null,
            "order": null,
            "_view_module_version": "1.2.0",
            "grid_template_areas": null,
            "object_position": null,
            "object_fit": null,
            "grid_auto_columns": null,
            "margin": null,
            "display": null,
            "left": null
          }
        },
        "ce726e214b954c1e90b638a78f49ecd9": {
          "model_module": "@jupyter-widgets/controls",
          "model_name": "DescriptionStyleModel",
          "state": {
            "_view_name": "StyleView",
            "_model_name": "DescriptionStyleModel",
            "description_width": "",
            "_view_module": "@jupyter-widgets/base",
            "_model_module_version": "1.5.0",
            "_view_count": null,
            "_view_module_version": "1.2.0",
            "_model_module": "@jupyter-widgets/controls"
          }
        },
        "ddc375868ebe475f8078b821c4d6d686": {
          "model_module": "@jupyter-widgets/base",
          "model_name": "LayoutModel",
          "state": {
            "_view_name": "LayoutView",
            "grid_template_rows": null,
            "right": null,
            "justify_content": null,
            "_view_module": "@jupyter-widgets/base",
            "overflow": null,
            "_model_module_version": "1.2.0",
            "_view_count": null,
            "flex_flow": null,
            "width": null,
            "min_width": null,
            "border": null,
            "align_items": null,
            "bottom": null,
            "_model_module": "@jupyter-widgets/base",
            "top": null,
            "grid_column": null,
            "overflow_y": null,
            "overflow_x": null,
            "grid_auto_flow": null,
            "grid_area": null,
            "grid_template_columns": null,
            "flex": null,
            "_model_name": "LayoutModel",
            "justify_items": null,
            "grid_row": null,
            "max_height": null,
            "align_content": null,
            "visibility": null,
            "align_self": null,
            "height": null,
            "min_height": null,
            "padding": null,
            "grid_auto_rows": null,
            "grid_gap": null,
            "max_width": null,
            "order": null,
            "_view_module_version": "1.2.0",
            "grid_template_areas": null,
            "object_position": null,
            "object_fit": null,
            "grid_auto_columns": null,
            "margin": null,
            "display": null,
            "left": null
          }
        },
        "9483a870ddbc4862833ee32c15fe02bb": {
          "model_module": "@jupyter-widgets/controls",
          "model_name": "HBoxModel",
          "state": {
            "_view_name": "HBoxView",
            "_dom_classes": [],
            "_model_name": "HBoxModel",
            "_view_module": "@jupyter-widgets/controls",
            "_model_module_version": "1.5.0",
            "_view_count": null,
            "_view_module_version": "1.5.0",
            "box_style": "",
            "layout": "IPY_MODEL_bfd735e1bf504ab6b7ad7240517eb2e6",
            "_model_module": "@jupyter-widgets/controls",
            "children": [
              "IPY_MODEL_8895042ec8f44efb87dc5031f7015a4c",
              "IPY_MODEL_33aacb03a204446c8fcf57a05a11c6a0",
              "IPY_MODEL_1629a3bad412450c880e5da919f5f6b2"
            ]
          }
        },
        "bfd735e1bf504ab6b7ad7240517eb2e6": {
          "model_module": "@jupyter-widgets/base",
          "model_name": "LayoutModel",
          "state": {
            "_view_name": "LayoutView",
            "grid_template_rows": null,
            "right": null,
            "justify_content": null,
            "_view_module": "@jupyter-widgets/base",
            "overflow": null,
            "_model_module_version": "1.2.0",
            "_view_count": null,
            "flex_flow": null,
            "width": null,
            "min_width": null,
            "border": null,
            "align_items": null,
            "bottom": null,
            "_model_module": "@jupyter-widgets/base",
            "top": null,
            "grid_column": null,
            "overflow_y": null,
            "overflow_x": null,
            "grid_auto_flow": null,
            "grid_area": null,
            "grid_template_columns": null,
            "flex": null,
            "_model_name": "LayoutModel",
            "justify_items": null,
            "grid_row": null,
            "max_height": null,
            "align_content": null,
            "visibility": null,
            "align_self": null,
            "height": null,
            "min_height": null,
            "padding": null,
            "grid_auto_rows": null,
            "grid_gap": null,
            "max_width": null,
            "order": null,
            "_view_module_version": "1.2.0",
            "grid_template_areas": null,
            "object_position": null,
            "object_fit": null,
            "grid_auto_columns": null,
            "margin": null,
            "display": null,
            "left": null
          }
        },
        "8895042ec8f44efb87dc5031f7015a4c": {
          "model_module": "@jupyter-widgets/controls",
          "model_name": "HTMLModel",
          "state": {
            "_view_name": "HTMLView",
            "style": "IPY_MODEL_2fdca77844124c649bbd65777741a56e",
            "_dom_classes": [],
            "description": "",
            "_model_name": "HTMLModel",
            "placeholder": "​",
            "_view_module": "@jupyter-widgets/controls",
            "_model_module_version": "1.5.0",
            "value": "100%",
            "_view_count": null,
            "_view_module_version": "1.5.0",
            "description_tooltip": null,
            "_model_module": "@jupyter-widgets/controls",
            "layout": "IPY_MODEL_d770b62f33324e76989b902bf26cd652"
          }
        },
        "33aacb03a204446c8fcf57a05a11c6a0": {
          "model_module": "@jupyter-widgets/controls",
          "model_name": "FloatProgressModel",
          "state": {
            "_view_name": "ProgressView",
            "style": "IPY_MODEL_57ae39b7650543538fd46916c463efa9",
            "_dom_classes": [],
            "description": "",
            "_model_name": "FloatProgressModel",
            "bar_style": "success",
            "max": 2,
            "_view_module": "@jupyter-widgets/controls",
            "_model_module_version": "1.5.0",
            "value": 2,
            "_view_count": null,
            "_view_module_version": "1.5.0",
            "orientation": "horizontal",
            "min": 0,
            "description_tooltip": null,
            "_model_module": "@jupyter-widgets/controls",
            "layout": "IPY_MODEL_75f713315cf34b219616d1c7ad8fee4e"
          }
        },
        "1629a3bad412450c880e5da919f5f6b2": {
          "model_module": "@jupyter-widgets/controls",
          "model_name": "HTMLModel",
          "state": {
            "_view_name": "HTMLView",
            "style": "IPY_MODEL_d2033ca6e7b442dfa86f5a421657b6d2",
            "_dom_classes": [],
            "description": "",
            "_model_name": "HTMLModel",
            "placeholder": "​",
            "_view_module": "@jupyter-widgets/controls",
            "_model_module_version": "1.5.0",
            "value": " 2/2 [00:01&lt;00:00,  1.86ba/s]",
            "_view_count": null,
            "_view_module_version": "1.5.0",
            "description_tooltip": null,
            "_model_module": "@jupyter-widgets/controls",
            "layout": "IPY_MODEL_380a7e97d8894057baa4e4bc67ebfbeb"
          }
        },
        "2fdca77844124c649bbd65777741a56e": {
          "model_module": "@jupyter-widgets/controls",
          "model_name": "DescriptionStyleModel",
          "state": {
            "_view_name": "StyleView",
            "_model_name": "DescriptionStyleModel",
            "description_width": "",
            "_view_module": "@jupyter-widgets/base",
            "_model_module_version": "1.5.0",
            "_view_count": null,
            "_view_module_version": "1.2.0",
            "_model_module": "@jupyter-widgets/controls"
          }
        },
        "d770b62f33324e76989b902bf26cd652": {
          "model_module": "@jupyter-widgets/base",
          "model_name": "LayoutModel",
          "state": {
            "_view_name": "LayoutView",
            "grid_template_rows": null,
            "right": null,
            "justify_content": null,
            "_view_module": "@jupyter-widgets/base",
            "overflow": null,
            "_model_module_version": "1.2.0",
            "_view_count": null,
            "flex_flow": null,
            "width": null,
            "min_width": null,
            "border": null,
            "align_items": null,
            "bottom": null,
            "_model_module": "@jupyter-widgets/base",
            "top": null,
            "grid_column": null,
            "overflow_y": null,
            "overflow_x": null,
            "grid_auto_flow": null,
            "grid_area": null,
            "grid_template_columns": null,
            "flex": null,
            "_model_name": "LayoutModel",
            "justify_items": null,
            "grid_row": null,
            "max_height": null,
            "align_content": null,
            "visibility": null,
            "align_self": null,
            "height": null,
            "min_height": null,
            "padding": null,
            "grid_auto_rows": null,
            "grid_gap": null,
            "max_width": null,
            "order": null,
            "_view_module_version": "1.2.0",
            "grid_template_areas": null,
            "object_position": null,
            "object_fit": null,
            "grid_auto_columns": null,
            "margin": null,
            "display": null,
            "left": null
          }
        },
        "57ae39b7650543538fd46916c463efa9": {
          "model_module": "@jupyter-widgets/controls",
          "model_name": "ProgressStyleModel",
          "state": {
            "_view_name": "StyleView",
            "_model_name": "ProgressStyleModel",
            "description_width": "",
            "_view_module": "@jupyter-widgets/base",
            "_model_module_version": "1.5.0",
            "_view_count": null,
            "_view_module_version": "1.2.0",
            "bar_color": null,
            "_model_module": "@jupyter-widgets/controls"
          }
        },
        "75f713315cf34b219616d1c7ad8fee4e": {
          "model_module": "@jupyter-widgets/base",
          "model_name": "LayoutModel",
          "state": {
            "_view_name": "LayoutView",
            "grid_template_rows": null,
            "right": null,
            "justify_content": null,
            "_view_module": "@jupyter-widgets/base",
            "overflow": null,
            "_model_module_version": "1.2.0",
            "_view_count": null,
            "flex_flow": null,
            "width": null,
            "min_width": null,
            "border": null,
            "align_items": null,
            "bottom": null,
            "_model_module": "@jupyter-widgets/base",
            "top": null,
            "grid_column": null,
            "overflow_y": null,
            "overflow_x": null,
            "grid_auto_flow": null,
            "grid_area": null,
            "grid_template_columns": null,
            "flex": null,
            "_model_name": "LayoutModel",
            "justify_items": null,
            "grid_row": null,
            "max_height": null,
            "align_content": null,
            "visibility": null,
            "align_self": null,
            "height": null,
            "min_height": null,
            "padding": null,
            "grid_auto_rows": null,
            "grid_gap": null,
            "max_width": null,
            "order": null,
            "_view_module_version": "1.2.0",
            "grid_template_areas": null,
            "object_position": null,
            "object_fit": null,
            "grid_auto_columns": null,
            "margin": null,
            "display": null,
            "left": null
          }
        },
        "d2033ca6e7b442dfa86f5a421657b6d2": {
          "model_module": "@jupyter-widgets/controls",
          "model_name": "DescriptionStyleModel",
          "state": {
            "_view_name": "StyleView",
            "_model_name": "DescriptionStyleModel",
            "description_width": "",
            "_view_module": "@jupyter-widgets/base",
            "_model_module_version": "1.5.0",
            "_view_count": null,
            "_view_module_version": "1.2.0",
            "_model_module": "@jupyter-widgets/controls"
          }
        },
        "380a7e97d8894057baa4e4bc67ebfbeb": {
          "model_module": "@jupyter-widgets/base",
          "model_name": "LayoutModel",
          "state": {
            "_view_name": "LayoutView",
            "grid_template_rows": null,
            "right": null,
            "justify_content": null,
            "_view_module": "@jupyter-widgets/base",
            "overflow": null,
            "_model_module_version": "1.2.0",
            "_view_count": null,
            "flex_flow": null,
            "width": null,
            "min_width": null,
            "border": null,
            "align_items": null,
            "bottom": null,
            "_model_module": "@jupyter-widgets/base",
            "top": null,
            "grid_column": null,
            "overflow_y": null,
            "overflow_x": null,
            "grid_auto_flow": null,
            "grid_area": null,
            "grid_template_columns": null,
            "flex": null,
            "_model_name": "LayoutModel",
            "justify_items": null,
            "grid_row": null,
            "max_height": null,
            "align_content": null,
            "visibility": null,
            "align_self": null,
            "height": null,
            "min_height": null,
            "padding": null,
            "grid_auto_rows": null,
            "grid_gap": null,
            "max_width": null,
            "order": null,
            "_view_module_version": "1.2.0",
            "grid_template_areas": null,
            "object_position": null,
            "object_fit": null,
            "grid_auto_columns": null,
            "margin": null,
            "display": null,
            "left": null
          }
        },
        "cd9303109f52401f9a68531407986487": {
          "model_module": "@jupyter-widgets/controls",
          "model_name": "HBoxModel",
          "state": {
            "_view_name": "HBoxView",
            "_dom_classes": [],
            "_model_name": "HBoxModel",
            "_view_module": "@jupyter-widgets/controls",
            "_model_module_version": "1.5.0",
            "_view_count": null,
            "_view_module_version": "1.5.0",
            "box_style": "",
            "layout": "IPY_MODEL_e3958dea29d24c8c97f7a2c674ed23db",
            "_model_module": "@jupyter-widgets/controls",
            "children": [
              "IPY_MODEL_631b52e36a184561b21216754ac9f76e",
              "IPY_MODEL_f344845bfac8457482de27fb1958a124",
              "IPY_MODEL_3bf25761322d4877903c94afcbe9fc53"
            ]
          }
        },
        "e3958dea29d24c8c97f7a2c674ed23db": {
          "model_module": "@jupyter-widgets/base",
          "model_name": "LayoutModel",
          "state": {
            "_view_name": "LayoutView",
            "grid_template_rows": null,
            "right": null,
            "justify_content": null,
            "_view_module": "@jupyter-widgets/base",
            "overflow": null,
            "_model_module_version": "1.2.0",
            "_view_count": null,
            "flex_flow": null,
            "width": null,
            "min_width": null,
            "border": null,
            "align_items": null,
            "bottom": null,
            "_model_module": "@jupyter-widgets/base",
            "top": null,
            "grid_column": null,
            "overflow_y": null,
            "overflow_x": null,
            "grid_auto_flow": null,
            "grid_area": null,
            "grid_template_columns": null,
            "flex": null,
            "_model_name": "LayoutModel",
            "justify_items": null,
            "grid_row": null,
            "max_height": null,
            "align_content": null,
            "visibility": null,
            "align_self": null,
            "height": null,
            "min_height": null,
            "padding": null,
            "grid_auto_rows": null,
            "grid_gap": null,
            "max_width": null,
            "order": null,
            "_view_module_version": "1.2.0",
            "grid_template_areas": null,
            "object_position": null,
            "object_fit": null,
            "grid_auto_columns": null,
            "margin": null,
            "display": null,
            "left": null
          }
        },
        "631b52e36a184561b21216754ac9f76e": {
          "model_module": "@jupyter-widgets/controls",
          "model_name": "HTMLModel",
          "state": {
            "_view_name": "HTMLView",
            "style": "IPY_MODEL_d6a34c0df6c8479abb2f1f44d4442fcf",
            "_dom_classes": [],
            "description": "",
            "_model_name": "HTMLModel",
            "placeholder": "​",
            "_view_module": "@jupyter-widgets/controls",
            "_model_module_version": "1.5.0",
            "value": "100%",
            "_view_count": null,
            "_view_module_version": "1.5.0",
            "description_tooltip": null,
            "_model_module": "@jupyter-widgets/controls",
            "layout": "IPY_MODEL_39e653805c3545799d5e0b57a46be6ae"
          }
        },
        "f344845bfac8457482de27fb1958a124": {
          "model_module": "@jupyter-widgets/controls",
          "model_name": "FloatProgressModel",
          "state": {
            "_view_name": "ProgressView",
            "style": "IPY_MODEL_834cf6ca90ce47a3b777220cda277938",
            "_dom_classes": [],
            "description": "",
            "_model_name": "FloatProgressModel",
            "bar_style": "success",
            "max": 2,
            "_view_module": "@jupyter-widgets/controls",
            "_model_module_version": "1.5.0",
            "value": 2,
            "_view_count": null,
            "_view_module_version": "1.5.0",
            "orientation": "horizontal",
            "min": 0,
            "description_tooltip": null,
            "_model_module": "@jupyter-widgets/controls",
            "layout": "IPY_MODEL_9c09d58c064f46258aca81756d2cb69c"
          }
        },
        "3bf25761322d4877903c94afcbe9fc53": {
          "model_module": "@jupyter-widgets/controls",
          "model_name": "HTMLModel",
          "state": {
            "_view_name": "HTMLView",
            "style": "IPY_MODEL_927770a2320347dabf90f1eb30debbac",
            "_dom_classes": [],
            "description": "",
            "_model_name": "HTMLModel",
            "placeholder": "​",
            "_view_module": "@jupyter-widgets/controls",
            "_model_module_version": "1.5.0",
            "value": " 2/2 [00:01&lt;00:00,  1.92ba/s]",
            "_view_count": null,
            "_view_module_version": "1.5.0",
            "description_tooltip": null,
            "_model_module": "@jupyter-widgets/controls",
            "layout": "IPY_MODEL_aca93ef391a34e84b87ddfcf9e76f2c5"
          }
        },
        "d6a34c0df6c8479abb2f1f44d4442fcf": {
          "model_module": "@jupyter-widgets/controls",
          "model_name": "DescriptionStyleModel",
          "state": {
            "_view_name": "StyleView",
            "_model_name": "DescriptionStyleModel",
            "description_width": "",
            "_view_module": "@jupyter-widgets/base",
            "_model_module_version": "1.5.0",
            "_view_count": null,
            "_view_module_version": "1.2.0",
            "_model_module": "@jupyter-widgets/controls"
          }
        },
        "39e653805c3545799d5e0b57a46be6ae": {
          "model_module": "@jupyter-widgets/base",
          "model_name": "LayoutModel",
          "state": {
            "_view_name": "LayoutView",
            "grid_template_rows": null,
            "right": null,
            "justify_content": null,
            "_view_module": "@jupyter-widgets/base",
            "overflow": null,
            "_model_module_version": "1.2.0",
            "_view_count": null,
            "flex_flow": null,
            "width": null,
            "min_width": null,
            "border": null,
            "align_items": null,
            "bottom": null,
            "_model_module": "@jupyter-widgets/base",
            "top": null,
            "grid_column": null,
            "overflow_y": null,
            "overflow_x": null,
            "grid_auto_flow": null,
            "grid_area": null,
            "grid_template_columns": null,
            "flex": null,
            "_model_name": "LayoutModel",
            "justify_items": null,
            "grid_row": null,
            "max_height": null,
            "align_content": null,
            "visibility": null,
            "align_self": null,
            "height": null,
            "min_height": null,
            "padding": null,
            "grid_auto_rows": null,
            "grid_gap": null,
            "max_width": null,
            "order": null,
            "_view_module_version": "1.2.0",
            "grid_template_areas": null,
            "object_position": null,
            "object_fit": null,
            "grid_auto_columns": null,
            "margin": null,
            "display": null,
            "left": null
          }
        },
        "834cf6ca90ce47a3b777220cda277938": {
          "model_module": "@jupyter-widgets/controls",
          "model_name": "ProgressStyleModel",
          "state": {
            "_view_name": "StyleView",
            "_model_name": "ProgressStyleModel",
            "description_width": "",
            "_view_module": "@jupyter-widgets/base",
            "_model_module_version": "1.5.0",
            "_view_count": null,
            "_view_module_version": "1.2.0",
            "bar_color": null,
            "_model_module": "@jupyter-widgets/controls"
          }
        },
        "9c09d58c064f46258aca81756d2cb69c": {
          "model_module": "@jupyter-widgets/base",
          "model_name": "LayoutModel",
          "state": {
            "_view_name": "LayoutView",
            "grid_template_rows": null,
            "right": null,
            "justify_content": null,
            "_view_module": "@jupyter-widgets/base",
            "overflow": null,
            "_model_module_version": "1.2.0",
            "_view_count": null,
            "flex_flow": null,
            "width": null,
            "min_width": null,
            "border": null,
            "align_items": null,
            "bottom": null,
            "_model_module": "@jupyter-widgets/base",
            "top": null,
            "grid_column": null,
            "overflow_y": null,
            "overflow_x": null,
            "grid_auto_flow": null,
            "grid_area": null,
            "grid_template_columns": null,
            "flex": null,
            "_model_name": "LayoutModel",
            "justify_items": null,
            "grid_row": null,
            "max_height": null,
            "align_content": null,
            "visibility": null,
            "align_self": null,
            "height": null,
            "min_height": null,
            "padding": null,
            "grid_auto_rows": null,
            "grid_gap": null,
            "max_width": null,
            "order": null,
            "_view_module_version": "1.2.0",
            "grid_template_areas": null,
            "object_position": null,
            "object_fit": null,
            "grid_auto_columns": null,
            "margin": null,
            "display": null,
            "left": null
          }
        },
        "927770a2320347dabf90f1eb30debbac": {
          "model_module": "@jupyter-widgets/controls",
          "model_name": "DescriptionStyleModel",
          "state": {
            "_view_name": "StyleView",
            "_model_name": "DescriptionStyleModel",
            "description_width": "",
            "_view_module": "@jupyter-widgets/base",
            "_model_module_version": "1.5.0",
            "_view_count": null,
            "_view_module_version": "1.2.0",
            "_model_module": "@jupyter-widgets/controls"
          }
        },
        "aca93ef391a34e84b87ddfcf9e76f2c5": {
          "model_module": "@jupyter-widgets/base",
          "model_name": "LayoutModel",
          "state": {
            "_view_name": "LayoutView",
            "grid_template_rows": null,
            "right": null,
            "justify_content": null,
            "_view_module": "@jupyter-widgets/base",
            "overflow": null,
            "_model_module_version": "1.2.0",
            "_view_count": null,
            "flex_flow": null,
            "width": null,
            "min_width": null,
            "border": null,
            "align_items": null,
            "bottom": null,
            "_model_module": "@jupyter-widgets/base",
            "top": null,
            "grid_column": null,
            "overflow_y": null,
            "overflow_x": null,
            "grid_auto_flow": null,
            "grid_area": null,
            "grid_template_columns": null,
            "flex": null,
            "_model_name": "LayoutModel",
            "justify_items": null,
            "grid_row": null,
            "max_height": null,
            "align_content": null,
            "visibility": null,
            "align_self": null,
            "height": null,
            "min_height": null,
            "padding": null,
            "grid_auto_rows": null,
            "grid_gap": null,
            "max_width": null,
            "order": null,
            "_view_module_version": "1.2.0",
            "grid_template_areas": null,
            "object_position": null,
            "object_fit": null,
            "grid_auto_columns": null,
            "margin": null,
            "display": null,
            "left": null
          }
        }
      }
    },
    "accelerator": "GPU"
  },
  "cells": [
    {
      "cell_type": "markdown",
      "metadata": {
        "id": "view-in-github",
        "colab_type": "text"
      },
      "source": [
        "<a href=\"https://colab.research.google.com/github/thingkilia2507/PTCJNN_BangkitCapstoneProject/blob/celine-branch/Machine%20Learning/notebooks/Hate%20Speech%20Detection%20-%20ALBERT.ipynb\" target=\"_parent\"><img src=\"https://colab.research.google.com/assets/colab-badge.svg\" alt=\"Open In Colab\"/></a>"
      ]
    },
    {
      "cell_type": "markdown",
      "metadata": {
        "id": "hrh51XdTgtHE"
      },
      "source": [
        "# **Acknowledgment**\n",
        "\n",
        "This notebook mainly use codes from https://github.com/huggingface/transformers/blob/master/examples/tensorflow/text-classification/run_text_classification.py and modified accordingly.\n",
        "```\n",
        "#!/usr/bin/env python\n",
        "# coding=utf-8\n",
        "# Copyright 2021 The HuggingFace Inc. team. All rights reserved.\n",
        "#\n",
        "# Licensed under the Apache License, Version 2.0 (the \"License\");\n",
        "# you may not use this file except in compliance with the License.\n",
        "# You may obtain a copy of the License at\n",
        "#\n",
        "#     http://www.apache.org/licenses/LICENSE-2.0\n",
        "#\n",
        "# Unless required by applicable law or agreed to in writing, software\n",
        "# distributed under the License is distributed on an \"AS IS\" BASIS,\n",
        "# WITHOUT WARRANTIES OR CONDITIONS OF ANY KIND, either express or implied.\n",
        "# See the License for the specific language governing permissions and\n",
        "# limitations under the License.\n",
        "\"\"\" Fine-tuning the library models for sequence classification.\"\"\"\n",
        "# You can also adapt this script on your own text classification task. Pointers for this are left as comments.\n",
        "```\n",
        "\n",
        "\n",
        "**Other References**\n",
        "* https://towardsdatascience.com/tensorflow-and-transformers-df6fceaf57cc\n",
        "* https://towardsdatascience.com/working-with-hugging-face-transformers-and-tf-2-0-89bf35e3555a\n",
        "\n",
        "\n",
        "**Pre-trained Language Model: ```indobenchmark/indobert-lite-base-p1``` from:**\n",
        "```\n",
        "@inproceedings{wilie2020indonlu,\n",
        "  title={IndoNLU: Benchmark and Resources for Evaluating Indonesian Natural Language Understanding},\n",
        "  author={Bryan Wilie and Karissa Vincentio and Genta Indra Winata and Samuel Cahyawijaya and X. Li and Zhi Yuan Lim and S. Soleman and R. Mahendra and Pascale Fung and Syafri Bahar and A. Purwarianti},\n",
        "  booktitle={Proceedings of the 1st Conference of the Asia-Pacific Chapter of the Association for Computational Linguistics and the 10th International Joint Conference on Natural Language Processing},\n",
        "  year={2020}\n",
        "}\n",
        "```"
      ]
    },
    {
      "cell_type": "markdown",
      "metadata": {
        "id": "BKIJ20o2qsxA"
      },
      "source": [
        "# **Library**"
      ]
    },
    {
      "cell_type": "code",
      "metadata": {
        "id": "zNML-0ijMRre",
        "colab": {
          "base_uri": "https://localhost:8080/"
        },
        "outputId": "a61824fd-8080-427c-de7f-b1cc13a11cb4"
      },
      "source": [
        "from google.colab import drive\n",
        "drive.mount('/content/drive', force_remount=True)\n",
        "\n",
        "PROJECT_ROOT = 'drive/My Drive/Bangkit Capstone PT CJNN/ML/'\n",
        "HS_PATH = PROJECT_ROOT + 'dataset/hate_speech/'"
      ],
      "execution_count": 2,
      "outputs": [
        {
          "output_type": "stream",
          "text": [
            "Mounted at /content/drive\n",
            "time: 15.1 s (started: 2021-05-16 15:56:00 +00:00)\n"
          ],
          "name": "stdout"
        }
      ]
    },
    {
      "cell_type": "code",
      "metadata": {
        "colab": {
          "base_uri": "https://localhost:8080/"
        },
        "id": "33lEGK7hhEOx",
        "outputId": "65bad443-bfb5-4767-f393-6efb146b2cbe"
      },
      "source": [
        "!pip install --upgrade transformers\n",
        "!pip install simpletransformers\n",
        "!pip install ipython-autotime\n",
        "%load_ext autotime\n",
        "\n",
        "import os, sys\n",
        "import logging\n",
        "import json\n",
        "import re\n",
        "import time\n",
        "import pandas as pd\n",
        "import numpy as np\n",
        "import tensorflow as tf\n",
        "\n",
        "from functools import partial\n",
        "from datetime import timedelta\n",
        "from datasets import load_dataset\n",
        "from matplotlib import pyplot as plt\n",
        "from transformers import AlbertConfig, BertTokenizer, TFAlbertForSequenceClassification, TFTrainingArguments, set_seed\n",
        "from sklearn.metrics import f1_score, recall_score, precision_score, accuracy_score, confusion_matrix, classification_report"
      ],
      "execution_count": 1,
      "outputs": [
        {
          "output_type": "stream",
          "text": [
            "Requirement already up-to-date: transformers in /usr/local/lib/python3.7/dist-packages (4.6.0)\n",
            "Requirement already satisfied, skipping upgrade: importlib-metadata; python_version < \"3.8\" in /usr/local/lib/python3.7/dist-packages (from transformers) (4.0.1)\n",
            "Requirement already satisfied, skipping upgrade: tokenizers<0.11,>=0.10.1 in /usr/local/lib/python3.7/dist-packages (from transformers) (0.10.2)\n",
            "Requirement already satisfied, skipping upgrade: numpy>=1.17 in /usr/local/lib/python3.7/dist-packages (from transformers) (1.19.5)\n",
            "Requirement already satisfied, skipping upgrade: tqdm>=4.27 in /usr/local/lib/python3.7/dist-packages (from transformers) (4.60.0)\n",
            "Requirement already satisfied, skipping upgrade: filelock in /usr/local/lib/python3.7/dist-packages (from transformers) (3.0.12)\n",
            "Requirement already satisfied, skipping upgrade: sacremoses in /usr/local/lib/python3.7/dist-packages (from transformers) (0.0.45)\n",
            "Requirement already satisfied, skipping upgrade: requests in /usr/local/lib/python3.7/dist-packages (from transformers) (2.23.0)\n",
            "Requirement already satisfied, skipping upgrade: huggingface-hub==0.0.8 in /usr/local/lib/python3.7/dist-packages (from transformers) (0.0.8)\n",
            "Requirement already satisfied, skipping upgrade: packaging in /usr/local/lib/python3.7/dist-packages (from transformers) (20.9)\n",
            "Requirement already satisfied, skipping upgrade: regex!=2019.12.17 in /usr/local/lib/python3.7/dist-packages (from transformers) (2019.12.20)\n",
            "Requirement already satisfied, skipping upgrade: zipp>=0.5 in /usr/local/lib/python3.7/dist-packages (from importlib-metadata; python_version < \"3.8\"->transformers) (3.4.1)\n",
            "Requirement already satisfied, skipping upgrade: typing-extensions>=3.6.4; python_version < \"3.8\" in /usr/local/lib/python3.7/dist-packages (from importlib-metadata; python_version < \"3.8\"->transformers) (3.7.4.3)\n",
            "Requirement already satisfied, skipping upgrade: six in /usr/local/lib/python3.7/dist-packages (from sacremoses->transformers) (1.15.0)\n",
            "Requirement already satisfied, skipping upgrade: click in /usr/local/lib/python3.7/dist-packages (from sacremoses->transformers) (8.0.0)\n",
            "Requirement already satisfied, skipping upgrade: joblib in /usr/local/lib/python3.7/dist-packages (from sacremoses->transformers) (1.0.1)\n",
            "Requirement already satisfied, skipping upgrade: urllib3!=1.25.0,!=1.25.1,<1.26,>=1.21.1 in /usr/local/lib/python3.7/dist-packages (from requests->transformers) (1.24.3)\n",
            "Requirement already satisfied, skipping upgrade: certifi>=2017.4.17 in /usr/local/lib/python3.7/dist-packages (from requests->transformers) (2020.12.5)\n",
            "Requirement already satisfied, skipping upgrade: chardet<4,>=3.0.2 in /usr/local/lib/python3.7/dist-packages (from requests->transformers) (3.0.4)\n",
            "Requirement already satisfied, skipping upgrade: idna<3,>=2.5 in /usr/local/lib/python3.7/dist-packages (from requests->transformers) (2.10)\n",
            "Requirement already satisfied, skipping upgrade: pyparsing>=2.0.2 in /usr/local/lib/python3.7/dist-packages (from packaging->transformers) (2.4.7)\n",
            "Requirement already satisfied: simpletransformers in /usr/local/lib/python3.7/dist-packages (0.61.4)\n",
            "Requirement already satisfied: datasets in /usr/local/lib/python3.7/dist-packages (from simpletransformers) (1.6.2)\n",
            "Requirement already satisfied: pandas in /usr/local/lib/python3.7/dist-packages (from simpletransformers) (1.1.5)\n",
            "Requirement already satisfied: regex in /usr/local/lib/python3.7/dist-packages (from simpletransformers) (2019.12.20)\n",
            "Requirement already satisfied: tqdm>=4.47.0 in /usr/local/lib/python3.7/dist-packages (from simpletransformers) (4.60.0)\n",
            "Requirement already satisfied: seqeval in /usr/local/lib/python3.7/dist-packages (from simpletransformers) (1.2.2)\n",
            "Requirement already satisfied: tokenizers in /usr/local/lib/python3.7/dist-packages (from simpletransformers) (0.10.2)\n",
            "Requirement already satisfied: wandb in /usr/local/lib/python3.7/dist-packages (from simpletransformers) (0.10.30)\n",
            "Requirement already satisfied: scipy in /usr/local/lib/python3.7/dist-packages (from simpletransformers) (1.4.1)\n",
            "Requirement already satisfied: scikit-learn in /usr/local/lib/python3.7/dist-packages (from simpletransformers) (0.22.2.post1)\n",
            "Requirement already satisfied: transformers>=4.2.0 in /usr/local/lib/python3.7/dist-packages (from simpletransformers) (4.6.0)\n",
            "Requirement already satisfied: requests in /usr/local/lib/python3.7/dist-packages (from simpletransformers) (2.23.0)\n",
            "Requirement already satisfied: tensorboardx in /usr/local/lib/python3.7/dist-packages (from simpletransformers) (2.2)\n",
            "Requirement already satisfied: numpy in /usr/local/lib/python3.7/dist-packages (from simpletransformers) (1.19.5)\n",
            "Requirement already satisfied: streamlit in /usr/local/lib/python3.7/dist-packages (from simpletransformers) (0.82.0)\n",
            "Requirement already satisfied: sentencepiece in /usr/local/lib/python3.7/dist-packages (from simpletransformers) (0.1.95)\n",
            "Requirement already satisfied: importlib-metadata; python_version < \"3.8\" in /usr/local/lib/python3.7/dist-packages (from datasets->simpletransformers) (4.0.1)\n",
            "Requirement already satisfied: pyarrow>=1.0.0<4.0.0 in /usr/local/lib/python3.7/dist-packages (from datasets->simpletransformers) (3.0.0)\n",
            "Requirement already satisfied: multiprocess in /usr/local/lib/python3.7/dist-packages (from datasets->simpletransformers) (0.70.11.1)\n",
            "Requirement already satisfied: packaging in /usr/local/lib/python3.7/dist-packages (from datasets->simpletransformers) (20.9)\n",
            "Requirement already satisfied: fsspec in /usr/local/lib/python3.7/dist-packages (from datasets->simpletransformers) (2021.5.0)\n",
            "Requirement already satisfied: huggingface-hub<0.1.0 in /usr/local/lib/python3.7/dist-packages (from datasets->simpletransformers) (0.0.8)\n",
            "Requirement already satisfied: xxhash in /usr/local/lib/python3.7/dist-packages (from datasets->simpletransformers) (2.0.2)\n",
            "Requirement already satisfied: dill in /usr/local/lib/python3.7/dist-packages (from datasets->simpletransformers) (0.3.3)\n",
            "Requirement already satisfied: python-dateutil>=2.7.3 in /usr/local/lib/python3.7/dist-packages (from pandas->simpletransformers) (2.8.1)\n",
            "Requirement already satisfied: pytz>=2017.2 in /usr/local/lib/python3.7/dist-packages (from pandas->simpletransformers) (2018.9)\n",
            "Requirement already satisfied: protobuf>=3.12.0 in /usr/local/lib/python3.7/dist-packages (from wandb->simpletransformers) (3.12.4)\n",
            "Requirement already satisfied: configparser>=3.8.1 in /usr/local/lib/python3.7/dist-packages (from wandb->simpletransformers) (5.0.2)\n",
            "Requirement already satisfied: sentry-sdk>=0.4.0 in /usr/local/lib/python3.7/dist-packages (from wandb->simpletransformers) (1.1.0)\n",
            "Requirement already satisfied: PyYAML in /usr/local/lib/python3.7/dist-packages (from wandb->simpletransformers) (3.13)\n",
            "Requirement already satisfied: six>=1.13.0 in /usr/local/lib/python3.7/dist-packages (from wandb->simpletransformers) (1.15.0)\n",
            "Requirement already satisfied: docker-pycreds>=0.4.0 in /usr/local/lib/python3.7/dist-packages (from wandb->simpletransformers) (0.4.0)\n",
            "Requirement already satisfied: shortuuid>=0.5.0 in /usr/local/lib/python3.7/dist-packages (from wandb->simpletransformers) (1.0.1)\n",
            "Requirement already satisfied: subprocess32>=3.5.3 in /usr/local/lib/python3.7/dist-packages (from wandb->simpletransformers) (3.5.4)\n",
            "Requirement already satisfied: GitPython>=1.0.0 in /usr/local/lib/python3.7/dist-packages (from wandb->simpletransformers) (3.1.17)\n",
            "Requirement already satisfied: pathtools in /usr/local/lib/python3.7/dist-packages (from wandb->simpletransformers) (0.1.2)\n",
            "Requirement already satisfied: promise<3,>=2.0 in /usr/local/lib/python3.7/dist-packages (from wandb->simpletransformers) (2.3)\n",
            "Requirement already satisfied: Click>=7.0 in /usr/local/lib/python3.7/dist-packages (from wandb->simpletransformers) (8.0.0)\n",
            "Requirement already satisfied: psutil>=5.0.0 in /usr/local/lib/python3.7/dist-packages (from wandb->simpletransformers) (5.4.8)\n",
            "Requirement already satisfied: joblib>=0.11 in /usr/local/lib/python3.7/dist-packages (from scikit-learn->simpletransformers) (1.0.1)\n",
            "Requirement already satisfied: filelock in /usr/local/lib/python3.7/dist-packages (from transformers>=4.2.0->simpletransformers) (3.0.12)\n",
            "Requirement already satisfied: sacremoses in /usr/local/lib/python3.7/dist-packages (from transformers>=4.2.0->simpletransformers) (0.0.45)\n",
            "Requirement already satisfied: idna<3,>=2.5 in /usr/local/lib/python3.7/dist-packages (from requests->simpletransformers) (2.10)\n",
            "Requirement already satisfied: certifi>=2017.4.17 in /usr/local/lib/python3.7/dist-packages (from requests->simpletransformers) (2020.12.5)\n",
            "Requirement already satisfied: urllib3!=1.25.0,!=1.25.1,<1.26,>=1.21.1 in /usr/local/lib/python3.7/dist-packages (from requests->simpletransformers) (1.24.3)\n",
            "Requirement already satisfied: chardet<4,>=3.0.2 in /usr/local/lib/python3.7/dist-packages (from requests->simpletransformers) (3.0.4)\n",
            "Requirement already satisfied: tornado>=5.0 in /usr/local/lib/python3.7/dist-packages (from streamlit->simpletransformers) (5.1.1)\n",
            "Requirement already satisfied: pillow>=6.2.0 in /usr/local/lib/python3.7/dist-packages (from streamlit->simpletransformers) (7.1.2)\n",
            "Requirement already satisfied: pydeck>=0.1.dev5 in /usr/local/lib/python3.7/dist-packages (from streamlit->simpletransformers) (0.6.2)\n",
            "Requirement already satisfied: watchdog; platform_system != \"Darwin\" in /usr/local/lib/python3.7/dist-packages (from streamlit->simpletransformers) (2.1.1)\n",
            "Requirement already satisfied: base58 in /usr/local/lib/python3.7/dist-packages (from streamlit->simpletransformers) (2.1.0)\n",
            "Requirement already satisfied: tzlocal in /usr/local/lib/python3.7/dist-packages (from streamlit->simpletransformers) (1.5.1)\n",
            "Requirement already satisfied: altair>=3.2.0 in /usr/local/lib/python3.7/dist-packages (from streamlit->simpletransformers) (4.1.0)\n",
            "Requirement already satisfied: cachetools>=4.0 in /usr/local/lib/python3.7/dist-packages (from streamlit->simpletransformers) (4.2.2)\n",
            "Requirement already satisfied: blinker in /usr/local/lib/python3.7/dist-packages (from streamlit->simpletransformers) (1.4)\n",
            "Requirement already satisfied: astor in /usr/local/lib/python3.7/dist-packages (from streamlit->simpletransformers) (0.8.1)\n",
            "Requirement already satisfied: toml in /usr/local/lib/python3.7/dist-packages (from streamlit->simpletransformers) (0.10.2)\n",
            "Requirement already satisfied: validators in /usr/local/lib/python3.7/dist-packages (from streamlit->simpletransformers) (0.18.2)\n",
            "Requirement already satisfied: typing-extensions>=3.6.4; python_version < \"3.8\" in /usr/local/lib/python3.7/dist-packages (from importlib-metadata; python_version < \"3.8\"->datasets->simpletransformers) (3.7.4.3)\n",
            "Requirement already satisfied: zipp>=0.5 in /usr/local/lib/python3.7/dist-packages (from importlib-metadata; python_version < \"3.8\"->datasets->simpletransformers) (3.4.1)\n",
            "Requirement already satisfied: pyparsing>=2.0.2 in /usr/local/lib/python3.7/dist-packages (from packaging->datasets->simpletransformers) (2.4.7)\n",
            "Requirement already satisfied: setuptools in /usr/local/lib/python3.7/dist-packages (from protobuf>=3.12.0->wandb->simpletransformers) (56.1.0)\n",
            "Requirement already satisfied: gitdb<5,>=4.0.1 in /usr/local/lib/python3.7/dist-packages (from GitPython>=1.0.0->wandb->simpletransformers) (4.0.7)\n",
            "Requirement already satisfied: ipykernel>=5.1.2; python_version >= \"3.4\" in /usr/local/lib/python3.7/dist-packages (from pydeck>=0.1.dev5->streamlit->simpletransformers) (5.5.5)\n",
            "Requirement already satisfied: traitlets>=4.3.2 in /usr/local/lib/python3.7/dist-packages (from pydeck>=0.1.dev5->streamlit->simpletransformers) (5.0.5)\n",
            "Requirement already satisfied: ipywidgets>=7.0.0 in /usr/local/lib/python3.7/dist-packages (from pydeck>=0.1.dev5->streamlit->simpletransformers) (7.6.3)\n",
            "Requirement already satisfied: jinja2>=2.10.1 in /usr/local/lib/python3.7/dist-packages (from pydeck>=0.1.dev5->streamlit->simpletransformers) (2.11.3)\n",
            "Requirement already satisfied: entrypoints in /usr/local/lib/python3.7/dist-packages (from altair>=3.2.0->streamlit->simpletransformers) (0.3)\n",
            "Requirement already satisfied: toolz in /usr/local/lib/python3.7/dist-packages (from altair>=3.2.0->streamlit->simpletransformers) (0.11.1)\n",
            "Requirement already satisfied: jsonschema in /usr/local/lib/python3.7/dist-packages (from altair>=3.2.0->streamlit->simpletransformers) (2.6.0)\n",
            "Requirement already satisfied: decorator>=3.4.0 in /usr/local/lib/python3.7/dist-packages (from validators->streamlit->simpletransformers) (4.4.2)\n",
            "Requirement already satisfied: smmap<5,>=3.0.1 in /usr/local/lib/python3.7/dist-packages (from gitdb<5,>=4.0.1->GitPython>=1.0.0->wandb->simpletransformers) (4.0.0)\n",
            "Requirement already satisfied: ipython>=5.0.0 in /usr/local/lib/python3.7/dist-packages (from ipykernel>=5.1.2; python_version >= \"3.4\"->pydeck>=0.1.dev5->streamlit->simpletransformers) (5.5.0)\n",
            "Requirement already satisfied: jupyter-client in /usr/local/lib/python3.7/dist-packages (from ipykernel>=5.1.2; python_version >= \"3.4\"->pydeck>=0.1.dev5->streamlit->simpletransformers) (5.3.5)\n",
            "Requirement already satisfied: ipython-genutils in /usr/local/lib/python3.7/dist-packages (from traitlets>=4.3.2->pydeck>=0.1.dev5->streamlit->simpletransformers) (0.2.0)\n",
            "Requirement already satisfied: widgetsnbextension~=3.5.0 in /usr/local/lib/python3.7/dist-packages (from ipywidgets>=7.0.0->pydeck>=0.1.dev5->streamlit->simpletransformers) (3.5.1)\n",
            "Requirement already satisfied: jupyterlab-widgets>=1.0.0; python_version >= \"3.6\" in /usr/local/lib/python3.7/dist-packages (from ipywidgets>=7.0.0->pydeck>=0.1.dev5->streamlit->simpletransformers) (1.0.0)\n",
            "Requirement already satisfied: nbformat>=4.2.0 in /usr/local/lib/python3.7/dist-packages (from ipywidgets>=7.0.0->pydeck>=0.1.dev5->streamlit->simpletransformers) (5.1.3)\n",
            "Requirement already satisfied: MarkupSafe>=0.23 in /usr/local/lib/python3.7/dist-packages (from jinja2>=2.10.1->pydeck>=0.1.dev5->streamlit->simpletransformers) (2.0.0)\n",
            "Requirement already satisfied: simplegeneric>0.8 in /usr/local/lib/python3.7/dist-packages (from ipython>=5.0.0->ipykernel>=5.1.2; python_version >= \"3.4\"->pydeck>=0.1.dev5->streamlit->simpletransformers) (0.8.1)\n",
            "Requirement already satisfied: pexpect; sys_platform != \"win32\" in /usr/local/lib/python3.7/dist-packages (from ipython>=5.0.0->ipykernel>=5.1.2; python_version >= \"3.4\"->pydeck>=0.1.dev5->streamlit->simpletransformers) (4.8.0)\n",
            "Requirement already satisfied: prompt-toolkit<2.0.0,>=1.0.4 in /usr/local/lib/python3.7/dist-packages (from ipython>=5.0.0->ipykernel>=5.1.2; python_version >= \"3.4\"->pydeck>=0.1.dev5->streamlit->simpletransformers) (1.0.18)\n",
            "Requirement already satisfied: pygments in /usr/local/lib/python3.7/dist-packages (from ipython>=5.0.0->ipykernel>=5.1.2; python_version >= \"3.4\"->pydeck>=0.1.dev5->streamlit->simpletransformers) (2.6.1)\n",
            "Requirement already satisfied: pickleshare in /usr/local/lib/python3.7/dist-packages (from ipython>=5.0.0->ipykernel>=5.1.2; python_version >= \"3.4\"->pydeck>=0.1.dev5->streamlit->simpletransformers) (0.7.5)\n",
            "Requirement already satisfied: jupyter-core>=4.6.0 in /usr/local/lib/python3.7/dist-packages (from jupyter-client->ipykernel>=5.1.2; python_version >= \"3.4\"->pydeck>=0.1.dev5->streamlit->simpletransformers) (4.7.1)\n",
            "Requirement already satisfied: pyzmq>=13 in /usr/local/lib/python3.7/dist-packages (from jupyter-client->ipykernel>=5.1.2; python_version >= \"3.4\"->pydeck>=0.1.dev5->streamlit->simpletransformers) (22.0.3)\n",
            "Requirement already satisfied: notebook>=4.4.1 in /usr/local/lib/python3.7/dist-packages (from widgetsnbextension~=3.5.0->ipywidgets>=7.0.0->pydeck>=0.1.dev5->streamlit->simpletransformers) (5.3.1)\n",
            "Requirement already satisfied: ptyprocess>=0.5 in /usr/local/lib/python3.7/dist-packages (from pexpect; sys_platform != \"win32\"->ipython>=5.0.0->ipykernel>=5.1.2; python_version >= \"3.4\"->pydeck>=0.1.dev5->streamlit->simpletransformers) (0.7.0)\n",
            "Requirement already satisfied: wcwidth in /usr/local/lib/python3.7/dist-packages (from prompt-toolkit<2.0.0,>=1.0.4->ipython>=5.0.0->ipykernel>=5.1.2; python_version >= \"3.4\"->pydeck>=0.1.dev5->streamlit->simpletransformers) (0.2.5)\n",
            "Requirement already satisfied: Send2Trash in /usr/local/lib/python3.7/dist-packages (from notebook>=4.4.1->widgetsnbextension~=3.5.0->ipywidgets>=7.0.0->pydeck>=0.1.dev5->streamlit->simpletransformers) (1.5.0)\n",
            "Requirement already satisfied: nbconvert in /usr/local/lib/python3.7/dist-packages (from notebook>=4.4.1->widgetsnbextension~=3.5.0->ipywidgets>=7.0.0->pydeck>=0.1.dev5->streamlit->simpletransformers) (5.6.1)\n",
            "Requirement already satisfied: terminado>=0.8.1 in /usr/local/lib/python3.7/dist-packages (from notebook>=4.4.1->widgetsnbextension~=3.5.0->ipywidgets>=7.0.0->pydeck>=0.1.dev5->streamlit->simpletransformers) (0.9.5)\n",
            "Requirement already satisfied: pandocfilters>=1.4.1 in /usr/local/lib/python3.7/dist-packages (from nbconvert->notebook>=4.4.1->widgetsnbextension~=3.5.0->ipywidgets>=7.0.0->pydeck>=0.1.dev5->streamlit->simpletransformers) (1.4.3)\n",
            "Requirement already satisfied: testpath in /usr/local/lib/python3.7/dist-packages (from nbconvert->notebook>=4.4.1->widgetsnbextension~=3.5.0->ipywidgets>=7.0.0->pydeck>=0.1.dev5->streamlit->simpletransformers) (0.4.4)\n",
            "Requirement already satisfied: mistune<2,>=0.8.1 in /usr/local/lib/python3.7/dist-packages (from nbconvert->notebook>=4.4.1->widgetsnbextension~=3.5.0->ipywidgets>=7.0.0->pydeck>=0.1.dev5->streamlit->simpletransformers) (0.8.4)\n",
            "Requirement already satisfied: defusedxml in /usr/local/lib/python3.7/dist-packages (from nbconvert->notebook>=4.4.1->widgetsnbextension~=3.5.0->ipywidgets>=7.0.0->pydeck>=0.1.dev5->streamlit->simpletransformers) (0.7.1)\n",
            "Requirement already satisfied: bleach in /usr/local/lib/python3.7/dist-packages (from nbconvert->notebook>=4.4.1->widgetsnbextension~=3.5.0->ipywidgets>=7.0.0->pydeck>=0.1.dev5->streamlit->simpletransformers) (3.3.0)\n",
            "Requirement already satisfied: webencodings in /usr/local/lib/python3.7/dist-packages (from bleach->nbconvert->notebook>=4.4.1->widgetsnbextension~=3.5.0->ipywidgets>=7.0.0->pydeck>=0.1.dev5->streamlit->simpletransformers) (0.5.1)\n",
            "Requirement already satisfied: ipython-autotime in /usr/local/lib/python3.7/dist-packages (0.3.1)\n",
            "Requirement already satisfied: ipython in /usr/local/lib/python3.7/dist-packages (from ipython-autotime) (5.5.0)\n",
            "Requirement already satisfied: traitlets>=4.2 in /usr/local/lib/python3.7/dist-packages (from ipython->ipython-autotime) (5.0.5)\n",
            "Requirement already satisfied: pexpect; sys_platform != \"win32\" in /usr/local/lib/python3.7/dist-packages (from ipython->ipython-autotime) (4.8.0)\n",
            "Requirement already satisfied: simplegeneric>0.8 in /usr/local/lib/python3.7/dist-packages (from ipython->ipython-autotime) (0.8.1)\n",
            "Requirement already satisfied: pickleshare in /usr/local/lib/python3.7/dist-packages (from ipython->ipython-autotime) (0.7.5)\n",
            "Requirement already satisfied: prompt-toolkit<2.0.0,>=1.0.4 in /usr/local/lib/python3.7/dist-packages (from ipython->ipython-autotime) (1.0.18)\n",
            "Requirement already satisfied: setuptools>=18.5 in /usr/local/lib/python3.7/dist-packages (from ipython->ipython-autotime) (56.1.0)\n",
            "Requirement already satisfied: pygments in /usr/local/lib/python3.7/dist-packages (from ipython->ipython-autotime) (2.6.1)\n",
            "Requirement already satisfied: decorator in /usr/local/lib/python3.7/dist-packages (from ipython->ipython-autotime) (4.4.2)\n",
            "Requirement already satisfied: ipython-genutils in /usr/local/lib/python3.7/dist-packages (from traitlets>=4.2->ipython->ipython-autotime) (0.2.0)\n",
            "Requirement already satisfied: ptyprocess>=0.5 in /usr/local/lib/python3.7/dist-packages (from pexpect; sys_platform != \"win32\"->ipython->ipython-autotime) (0.7.0)\n",
            "Requirement already satisfied: six>=1.9.0 in /usr/local/lib/python3.7/dist-packages (from prompt-toolkit<2.0.0,>=1.0.4->ipython->ipython-autotime) (1.15.0)\n",
            "Requirement already satisfied: wcwidth in /usr/local/lib/python3.7/dist-packages (from prompt-toolkit<2.0.0,>=1.0.4->ipython->ipython-autotime) (0.2.5)\n",
            "time: 2.53 s (started: 2021-05-16 15:55:53 +00:00)\n"
          ],
          "name": "stdout"
        }
      ]
    },
    {
      "cell_type": "code",
      "metadata": {
        "colab": {
          "base_uri": "https://localhost:8080/"
        },
        "id": "4XqFTr_icyWM",
        "outputId": "c57b9fe6-abb8-4c08-bc77-0a1d28104519"
      },
      "source": [
        "from transformers.file_utils import CONFIG_NAME, TF2_WEIGHTS_NAME\n",
        "print(CONFIG_NAME)\n",
        "print(TF2_WEIGHTS_NAME)"
      ],
      "execution_count": null,
      "outputs": [
        {
          "output_type": "stream",
          "text": [
            "config.json\n",
            "tf_model.h5\n",
            "time: 2.8 ms (started: 2021-05-14 11:28:35 +00:00)\n"
          ],
          "name": "stdout"
        }
      ]
    },
    {
      "cell_type": "markdown",
      "metadata": {
        "id": "HNHdECyLkHpy"
      },
      "source": [
        "# **SETTINGS**"
      ]
    },
    {
      "cell_type": "code",
      "metadata": {
        "colab": {
          "base_uri": "https://localhost:8080/"
        },
        "id": "0t5wNd2xkOhd",
        "outputId": "e63d20f8-d960-4946-ba31-37083a2b2777"
      },
      "source": [
        "train_df = pd.read_csv(HS_PATH + 'train.csv')\n",
        "val_df = pd.read_csv(HS_PATH + 'val.csv')\n",
        "test_df = pd.read_csv(HS_PATH + 'test.csv')\n",
        "\n",
        "measurer = np.vectorize(len)\n",
        "max_seq_len_train = measurer(train_df['sentence1'].values.astype(str)).max(axis=0)\n",
        "max_seq_len_val = measurer(val_df['sentence1'].values.astype(str)).max(axis=0)\n",
        "max_seq_len_test = measurer(test_df['sentence1'].values.astype(str)).max(axis=0)\n",
        "\n",
        "print('Maximum sequence length in training data'.ljust(42), ':', max_seq_len_train)\n",
        "print('Maximum sequence length in validation data'.ljust(42), ':', max_seq_len_val)\n",
        "print('Maximum sequence length in testing data'.ljust(42), ':', max_seq_len_test)"
      ],
      "execution_count": 3,
      "outputs": [
        {
          "output_type": "stream",
          "text": [
            "Maximum sequence length in training data   : 1209\n",
            "Maximum sequence length in validation data : 580\n",
            "Maximum sequence length in testing data    : 617\n",
            "time: 2.14 s (started: 2021-05-16 15:56:20 +00:00)\n"
          ],
          "name": "stdout"
        }
      ]
    },
    {
      "cell_type": "code",
      "metadata": {
        "colab": {
          "base_uri": "https://localhost:8080/"
        },
        "id": "N_8DabrekJNW",
        "outputId": "05c5ee8c-fe5a-4616-cb52-8ec21a00e23b"
      },
      "source": [
        "PRETRAINED_MODEL = 'indobenchmark/indobert-lite-base-p1'\n",
        "LABEL2ID =  {'non_hs':0, 'hs': 1}\n",
        "MAX_SEQ_LEN = np.max([max_seq_len_train, max_seq_len_val, max_seq_len_test])"
      ],
      "execution_count": 4,
      "outputs": [
        {
          "output_type": "stream",
          "text": [
            "time: 1.59 ms (started: 2021-05-16 15:56:22 +00:00)\n"
          ],
          "name": "stdout"
        }
      ]
    },
    {
      "cell_type": "markdown",
      "metadata": {
        "id": "DcHsUnYAVxQT"
      },
      "source": [
        "# **Helper Function**"
      ]
    },
    {
      "cell_type": "code",
      "metadata": {
        "id": "XBqW-imnfTDL",
        "colab": {
          "base_uri": "https://localhost:8080/"
        },
        "outputId": "6ece8a45-b852-40ce-e830-b22c4ff586af"
      },
      "source": [
        "def preprocess_function(data, tokenizer, non_label_column_names):\n",
        "    # Tokenize the texts\n",
        "    args = (data['sentence1'],) if 'sentence2' not in non_label_column_names else (data['sentence1'], data['sentence2'])\n",
        "    result = tokenizer(*args, max_length=MAX_SEQ_LEN, truncation=True, padding=True,\n",
        "                                add_special_tokens=True, return_attention_mask=True, return_token_type_ids=True)\n",
        "\n",
        "    # Map labels to IDs\n",
        "    if LABEL2ID is not None and 'label' in data:\n",
        "        result['label'] = [LABEL2ID[l] for l in data['label']]\n",
        "    return result"
      ],
      "execution_count": 5,
      "outputs": [
        {
          "output_type": "stream",
          "text": [
            "time: 5.56 ms (started: 2021-05-16 15:57:25 +00:00)\n"
          ],
          "name": "stdout"
        }
      ]
    },
    {
      "cell_type": "code",
      "metadata": {
        "id": "div-4MT0VvJM",
        "colab": {
          "base_uri": "https://localhost:8080/"
        },
        "outputId": "80c870bb-ce7e-48ca-c289-4e2320063942"
      },
      "source": [
        "class SavePretrainedCallback(tf.keras.callbacks.Callback):\n",
        "    # Hugging Face models have a save_pretrained() method that saves both the weights and the necessary\n",
        "    # metadata to allow them to be loaded as a pretrained model in future. This is a simple Keras callback\n",
        "    # that saves the model with this method after each epoch.\n",
        "    def __init__(self, output_dir, **kwargs):\n",
        "        super().__init__()\n",
        "        self.output_dir = output_dir\n",
        "\n",
        "    def on_epoch_end(self, epoch, logs=None):\n",
        "        self.model.save_pretrained(self.output_dir)"
      ],
      "execution_count": 6,
      "outputs": [
        {
          "output_type": "stream",
          "text": [
            "time: 12.2 ms (started: 2021-05-16 15:57:27 +00:00)\n"
          ],
          "name": "stdout"
        }
      ]
    },
    {
      "cell_type": "code",
      "metadata": {
        "id": "orv-KJbsTvi-",
        "colab": {
          "base_uri": "https://localhost:8080/"
        },
        "outputId": "904a979c-da56-49c1-c41c-2bcefd8b18c9"
      },
      "source": [
        "def convert_dataset_for_tensorflow(\n",
        "    dataset, non_label_column_names, batch_size, dataset_mode='variable_batch', shuffle=True, drop_remainder=True\n",
        "):\n",
        "    '''\n",
        "      Converts a Hugging Face dataset to a Tensorflow Dataset. The dataset_mode controls whether we pad all batches\n",
        "      to the maximum sequence length, or whether we only pad to the maximum length within that batch. The former\n",
        "      is most useful when training on TPU, as a new graph compilation is required for each sequence length.\n",
        "    '''\n",
        "\n",
        "    def densify_ragged_batch(features, label=None):\n",
        "        features = {\n",
        "            feature: ragged_tensor.to_tensor(shape=batch_shape[feature]) for feature, ragged_tensor in features.items()\n",
        "        }\n",
        "        if label is None:\n",
        "            return features\n",
        "        else:\n",
        "            return features, label\n",
        "\n",
        "    feature_keys = list(set(dataset.features.keys()) - set(non_label_column_names + ['label'])) # only take the tokenized embeddings\n",
        "    if dataset_mode == 'variable_batch':\n",
        "        batch_shape = {key: None for key in feature_keys}\n",
        "        data = {key: tf.ragged.constant(dataset[key]) for key in feature_keys}\n",
        "    elif dataset_mode == 'constant_batch':\n",
        "        data = {key: tf.ragged.constant(dataset[key]) for key in feature_keys}\n",
        "        batch_shape = {\n",
        "            key: tf.concat(([batch_size], ragged_tensor.bounding_shape()[1:]), axis=0)\n",
        "            for key, ragged_tensor in data.items()\n",
        "        }\n",
        "    else:\n",
        "        raise ValueError('Unknown dataset mode!')\n",
        "\n",
        "    if 'label' in dataset.features:\n",
        "        labels = tf.convert_to_tensor(np.array(dataset['label']))\n",
        "        tf_dataset = tf.data.Dataset.from_tensor_slices((data, labels))\n",
        "    else:\n",
        "        tf_dataset = tf.data.Dataset.from_tensor_slices(data)\n",
        "    \n",
        "    if shuffle:\n",
        "        tf_dataset = tf_dataset.shuffle(buffer_size=len(dataset))\n",
        "    \n",
        "    tf_dataset = tf_dataset.batch(batch_size=batch_size, drop_remainder=drop_remainder).map(densify_ragged_batch)\n",
        "    return tf_dataset"
      ],
      "execution_count": 7,
      "outputs": [
        {
          "output_type": "stream",
          "text": [
            "time: 24.4 ms (started: 2021-05-16 15:57:28 +00:00)\n"
          ],
          "name": "stdout"
        }
      ]
    },
    {
      "cell_type": "code",
      "metadata": {
        "colab": {
          "base_uri": "https://localhost:8080/"
        },
        "id": "FX_-Lt-un7Ho",
        "outputId": "829cdbfa-aab5-490a-fddb-7cc308b7bca4"
      },
      "source": [
        "def classification_metrics(list_true, list_preds):\n",
        "    metrics = {}\n",
        "    metrics['ACC'] = accuracy_score(list_true, list_preds)\n",
        "    metrics['F1'] = f1_score(list_true, list_preds, average='weighted')\n",
        "    metrics['REC'] = recall_score(list_true, list_preds, average='weighted')\n",
        "    metrics['PRE'] = precision_score(list_true, list_preds, average='weighted')\n",
        "    return metrics\n",
        "\n",
        "def metrics_to_string(metric_dict):\n",
        "    string_list = []\n",
        "    for key, value in metric_dict.items():\n",
        "        string_list.append(f'\\033[1m{key}:\\033[0m{value:.4f}')\n",
        "    return ' '.join(string_list)"
      ],
      "execution_count": 8,
      "outputs": [
        {
          "output_type": "stream",
          "text": [
            "time: 8.22 ms (started: 2021-05-16 15:57:30 +00:00)\n"
          ],
          "name": "stdout"
        }
      ]
    },
    {
      "cell_type": "code",
      "metadata": {
        "colab": {
          "base_uri": "https://localhost:8080/"
        },
        "id": "3tinAP3QdhYW",
        "outputId": "6cf19a3d-608a-4224-e0ea-a6151fdfc724"
      },
      "source": [
        "def plot_history(history):\n",
        "    epochs = range(1, len(history['val_loss']) + 1)\n",
        "    fig, axes = plt.subplots(nrows=1, ncols=2, figsize=(15, 5))\n",
        "\n",
        "    axes[0].set_title('Training and Validation Loss')\n",
        "    axes[0].plot(epochs, history['val_loss'], label='val loss')\n",
        "    axes[0].plot(epochs, history['loss'], label='train loss')\n",
        "    axes[0].set_xlabel('Epochs')\n",
        "    axes[0].set_ylabel('Loss')\n",
        "    axes[0].legend(loc='best')\n",
        "\n",
        "    axes[1].set_title('Training and Validation Accuracy')\n",
        "    axes[1].plot(epochs, history['val_accuracy'], label='val accuracy')\n",
        "    axes[1].plot(epochs, history['accuracy'], label='train accuracy')\n",
        "    axes[1].set_xlabel('Epochs')\n",
        "    axes[1].set_ylabel('Accuracy')\n",
        "    axes[1].legend(loc='best')"
      ],
      "execution_count": 9,
      "outputs": [
        {
          "output_type": "stream",
          "text": [
            "time: 7.46 ms (started: 2021-05-16 15:57:31 +00:00)\n"
          ],
          "name": "stdout"
        }
      ]
    },
    {
      "cell_type": "code",
      "metadata": {
        "colab": {
          "base_uri": "https://localhost:8080/"
        },
        "id": "iCZYgu_ZjDD2",
        "outputId": "d5f5b7a3-98a6-4d7d-a90f-912028d0eb6a"
      },
      "source": [
        "def main(datasets, training_args, config, non_label_column_names, PRETRAINED_MODEL=PRETRAINED_MODEL):\n",
        "    os.environ['TF_CPP_MIN_LOG_LEVEL'] = '1'  # Reduce the amount of console output from TF\n",
        "    logger = logging.getLogger(__name__)\n",
        "\n",
        "\n",
        "    with training_args.strategy.scope():\n",
        "        set_seed(training_args.seed)\n",
        "\n",
        "        model = TFAlbertForSequenceClassification.from_pretrained(PRETRAINED_MODEL, config=config)\n",
        "\n",
        "        optimizer = tf.keras.optimizers.Adam(\n",
        "                learning_rate=training_args.learning_rate,\n",
        "                clipnorm=training_args.max_grad_norm,\n",
        "            )\n",
        "        loss = tf.keras.losses.SparseCategoricalCrossentropy(from_logits=True)\n",
        "        acc = tf.keras.metrics.SparseCategoricalAccuracy('accuracy')\n",
        "        model.compile(optimizer=optimizer, loss=loss, metrics=[acc])\n",
        "\n",
        "        # Convert data to TF format\n",
        "        # Convert data to a tf.keras.utils.Sequence object for training if we're not using a TPU\n",
        "        # For TPU, convert to a tf.data.Dataset\n",
        "        tf_data = dict()\n",
        "        for key in ('train', 'validation', 'test'):\n",
        "            if key == 'train':\n",
        "                shuffle = True\n",
        "                batch_size = training_args.per_device_train_batch_size\n",
        "                drop_remainder = True  # Saves us worrying about scaling gradients for the last batch\n",
        "            else:\n",
        "                shuffle = False\n",
        "                batch_size = training_args.per_device_eval_batch_size\n",
        "                drop_remainder = False\n",
        "\n",
        "            dataset = datasets[key]\n",
        "            if isinstance(training_args.strategy, tf.distribute.TPUStrategy):\n",
        "                logger.info(\"Padding all batches to max length because argument was set or we're on TPU.\")\n",
        "                dataset_mode = 'constant_batch'\n",
        "            else:\n",
        "                dataset_mode = 'variable_batch'\n",
        "\n",
        "            data = convert_dataset_for_tensorflow(\n",
        "                dataset,\n",
        "                non_label_column_names,\n",
        "                batch_size=batch_size,\n",
        "                dataset_mode=dataset_mode,\n",
        "                drop_remainder=drop_remainder,\n",
        "                shuffle=shuffle,\n",
        "            )\n",
        "            tf_data[key] = data\n",
        "\n",
        "        # Training and validation\n",
        "        training_start_time = time.time()\n",
        "        history = None\n",
        "        if tf_data['train'] is not None and training_args.do_train:\n",
        "            callbacks = [SavePretrainedCallback(output_dir=training_args.output_dir),\n",
        "                         tf.keras.callbacks.EarlyStopping(monitor='val_loss', patience=3)]\n",
        "            history = model.fit(\n",
        "                      tf_data['train'],\n",
        "                      validation_data=tf_data['validation'],\n",
        "                      epochs=int(training_args.num_train_epochs),\n",
        "                      callbacks=callbacks,\n",
        "            )\n",
        "        elif tf_data['validation'] is not None and training_args.do_eval:\n",
        "            # If there's a validation dataset but no training set, just evaluate the metrics\n",
        "            logger.info('Computing metrics on validation data...')\n",
        "            loss, acc = model.evaluate(tf_data['validation'])\n",
        "            logger.info(f'Loss: {loss:.5f}, Accuracy: {acc * 100:.4f}%')\n",
        "\n",
        "        finished = time.time() - training_start_time\n",
        "        finished = str(timedelta(seconds=finished))\n",
        "\n",
        "        # Prediction\n",
        "        if tf_data['test'] is not None and training_args.do_predict:\n",
        "            logger.info('Doing predictions on test dataset...')\n",
        "            predictions = model.predict(tf_data['test'])['logits']\n",
        "            predicted_class_idx = np.argmax(predictions, axis=1)\n",
        "            predicted_class_name = [config.id2label[idx] for idx in predicted_class_idx]\n",
        "            output_test_file = os.path.join(training_args.output_dir, 'test_preds.csv')\n",
        "            pd.DataFrame(predicted_class_name, columns=['prediction']).to_csv(output_test_file)\n",
        "            logger.info(f'Wrote predictions to {output_test_file}!')\n",
        "\n",
        "    # region Prediction losses\n",
        "    # This section is outside the scope() because it's very quick to compute, but behaves badly inside it\n",
        "    if 'test' in datasets and 'label' in datasets['test'].features and training_args.do_predict:\n",
        "        print('\\n')\n",
        "        print(' \\033[1mMODEL PERFORMANCE ON TEST SET\\033[0m '.center(100, '='))\n",
        "        labels_idx = datasets['test']['label']\n",
        "        labels_name = [config.id2label[idx] for idx in labels_idx]\n",
        "        loss = float(loss(labels_idx, predictions).numpy())\n",
        "        print(f'\\033[1mLoss\\033[0m:{loss:.4f}', metrics_to_string(classification_metrics(labels_idx, predicted_class_idx)))\n",
        "        print('\\n\\033[1mClassification Report:\\033[0m')\n",
        "        print(classification_report(labels_name, predicted_class_name))    \n",
        "    # endregion\n",
        "\n",
        "    if tf_data['train'] is not None and training_args.do_train:\n",
        "        print('\\n')\n",
        "        print(' \\033[1mTRAINING AND VALIDATION PERFORMANCE\\033[0m '.center(100, '='))\n",
        "        print('\\033[1mTotal Training and Validation Time:\\033[0m', finished)\n",
        "        print('\\n\\033[1mPerformance Over Epochs:\\033[0m')\n",
        "        plot_history(history.history)\n",
        "\n",
        "    return history"
      ],
      "execution_count": 10,
      "outputs": [
        {
          "output_type": "stream",
          "text": [
            "time: 102 ms (started: 2021-05-16 15:57:33 +00:00)\n"
          ],
          "name": "stdout"
        }
      ]
    },
    {
      "cell_type": "markdown",
      "metadata": {
        "id": "Z3YIEZTvvWS_"
      },
      "source": [
        "# **Load Pretrained Tokenizer and Configuration**"
      ]
    },
    {
      "cell_type": "code",
      "metadata": {
        "colab": {
          "base_uri": "https://localhost:8080/",
          "height": 86,
          "referenced_widgets": [
            "0a76f5d88d634006a2433806d78fba81",
            "d2c1e652dd0944128bd70115516dfab0",
            "8748629cf2e34c8286e8adda1e3ebda2",
            "5a4d6b52fcbb47b7bc8eeeea857bd338",
            "bea8b69de6ab4ddeb07e8db09aebd237",
            "e914159b8748410797a950e47baee42b",
            "36c962ea1752451a9ac58eab428860d7",
            "b558ea491b5746d0a8ec1b46c5bfca35",
            "50779aea60014579a2530770be38894c",
            "5439db0b7e4446519542695201386d31",
            "8752c5956b644e728ac49ede162bad29"
          ]
        },
        "id": "YWIATwgUjUks",
        "outputId": "54bd6043-cb41-4f1e-c192-8ca09a8f1a65"
      },
      "source": [
        "tokenizer = BertTokenizer.from_pretrained(PRETRAINED_MODEL, do_lower_case=True)\n",
        "tokenizer"
      ],
      "execution_count": 13,
      "outputs": [
        {
          "output_type": "display_data",
          "data": {
            "application/vnd.jupyter.widget-view+json": {
              "model_id": "0a76f5d88d634006a2433806d78fba81",
              "version_minor": 0,
              "version_major": 2
            },
            "text/plain": [
              "Downloading:   0%|          | 0.00/225k [00:00<?, ?B/s]"
            ]
          },
          "metadata": {
            "tags": []
          }
        },
        {
          "output_type": "execute_result",
          "data": {
            "text/plain": [
              "PreTrainedTokenizer(name_or_path='indobenchmark/indobert-lite-base-p1', vocab_size=29999, model_max_len=1000000000000000019884624838656, is_fast=False, padding_side='right', special_tokens={'unk_token': '[UNK]', 'sep_token': '[SEP]', 'pad_token': '[PAD]', 'cls_token': '[CLS]', 'mask_token': '[MASK]'})"
            ]
          },
          "metadata": {
            "tags": []
          },
          "execution_count": 13
        },
        {
          "output_type": "stream",
          "text": [
            "time: 295 ms (started: 2021-05-16 15:58:53 +00:00)\n"
          ],
          "name": "stdout"
        }
      ]
    },
    {
      "cell_type": "code",
      "metadata": {
        "colab": {
          "base_uri": "https://localhost:8080/",
          "height": 770,
          "referenced_widgets": [
            "f206feacc8154575a3937a6b4e5feb25",
            "bda985f468b24acf8c9ae842f218ff8e",
            "1c6ab8ca5aaa47a59d0ff77cdd838baf",
            "e1b3349120a54356b2d8399923e217c4",
            "a6da2d9f243a4e6b9646976b946882c9",
            "8e59f889e6374d25b9e804be8a3219a2",
            "211f3df9be0c4bf7b3bfe0cbde6ec0bd",
            "b3195f90e91c4db6bfe09f7cbaa30420",
            "7d87b745071d4d08a4c96484ac403752",
            "986887d3e949451aaa55d6622c2fac97",
            "e4511e8bb39c43d5ba21510e381b0913"
          ]
        },
        "id": "XgpEgVWo9FXa",
        "outputId": "80fa5a76-8907-4fe8-e173-0dd1716fe341"
      },
      "source": [
        "# Configuration\n",
        "config_ori = AlbertConfig.from_pretrained(PRETRAINED_MODEL,\n",
        "                                    label2id=LABEL2ID,\n",
        "                                    id2label={id: label for label, id in LABEL2ID.items()},\n",
        "                                    _num_labels = len(LABEL2ID),\n",
        "                                    output_attentions=False,\n",
        "                                    output_hidden_states=False,\n",
        "                                    use_cache=False\n",
        "          )\n",
        "config_ori"
      ],
      "execution_count": 14,
      "outputs": [
        {
          "output_type": "display_data",
          "data": {
            "application/vnd.jupyter.widget-view+json": {
              "model_id": "f206feacc8154575a3937a6b4e5feb25",
              "version_minor": 0,
              "version_major": 2
            },
            "text/plain": [
              "Downloading:   0%|          | 0.00/1.54k [00:00<?, ?B/s]"
            ]
          },
          "metadata": {
            "tags": []
          }
        },
        {
          "output_type": "execute_result",
          "data": {
            "text/plain": [
              "AlbertConfig {\n",
              "  \"_num_labels\": 2,\n",
              "  \"architectures\": [\n",
              "    \"AlbertModel\"\n",
              "  ],\n",
              "  \"attention_probs_dropout_prob\": 0,\n",
              "  \"bos_token_id\": 2,\n",
              "  \"classifier_dropout_prob\": 0.1,\n",
              "  \"down_scale_factor\": 1,\n",
              "  \"embedding_size\": 128,\n",
              "  \"eos_token_id\": 3,\n",
              "  \"gap_size\": 0,\n",
              "  \"hidden_act\": \"gelu\",\n",
              "  \"hidden_dropout_prob\": 0,\n",
              "  \"hidden_size\": 768,\n",
              "  \"id2label\": {\n",
              "    \"0\": \"non_hs\",\n",
              "    \"1\": \"hs\"\n",
              "  },\n",
              "  \"initializer_range\": 0.02,\n",
              "  \"inner_group_num\": 1,\n",
              "  \"intermediate_size\": 3072,\n",
              "  \"label2id\": {\n",
              "    \"hs\": 1,\n",
              "    \"non_hs\": 0\n",
              "  },\n",
              "  \"layer_norm_eps\": 1e-12,\n",
              "  \"max_position_embeddings\": 512,\n",
              "  \"model_type\": \"albert\",\n",
              "  \"net_structure_type\": 0,\n",
              "  \"num_attention_heads\": 12,\n",
              "  \"num_hidden_groups\": 1,\n",
              "  \"num_hidden_layers\": 12,\n",
              "  \"num_memory_blocks\": 0,\n",
              "  \"output_past\": true,\n",
              "  \"pad_token_id\": 0,\n",
              "  \"position_embedding_type\": \"absolute\",\n",
              "  \"transformers_version\": \"4.6.0\",\n",
              "  \"type_vocab_size\": 2,\n",
              "  \"vocab_size\": 30000\n",
              "}"
            ]
          },
          "metadata": {
            "tags": []
          },
          "execution_count": 14
        },
        {
          "output_type": "stream",
          "text": [
            "time: 94.4 ms (started: 2021-05-16 15:59:01 +00:00)\n"
          ],
          "name": "stdout"
        }
      ]
    },
    {
      "cell_type": "code",
      "metadata": {
        "id": "bGEucJCPiNJY",
        "colab": {
          "base_uri": "https://localhost:8080/"
        },
        "outputId": "6d30af0d-02fe-4450-bcdf-7335f3febc47"
      },
      "source": [
        "# Configuration\n",
        "config_ft = AlbertConfig.from_pretrained(PRETRAINED_MODEL,\n",
        "                                    label2id=LABEL2ID,\n",
        "                                    id2label={id: label for label, id in LABEL2ID.items()},\n",
        "                                    _num_labels = len(LABEL2ID),\n",
        "                                    attention_probs_dropout_prob = 0.2,\n",
        "                                    num_hidden_layers = 8,\n",
        "                                    num_attention_heads= 12,\n",
        "                                    output_attentions=False,\n",
        "                                    output_hidden_states=False,\n",
        "                                    use_cache=False\n",
        "          )\n",
        "config_ft"
      ],
      "execution_count": 15,
      "outputs": [
        {
          "output_type": "execute_result",
          "data": {
            "text/plain": [
              "AlbertConfig {\n",
              "  \"_num_labels\": 2,\n",
              "  \"architectures\": [\n",
              "    \"AlbertModel\"\n",
              "  ],\n",
              "  \"attention_probs_dropout_prob\": 0.2,\n",
              "  \"bos_token_id\": 2,\n",
              "  \"classifier_dropout_prob\": 0.1,\n",
              "  \"down_scale_factor\": 1,\n",
              "  \"embedding_size\": 128,\n",
              "  \"eos_token_id\": 3,\n",
              "  \"gap_size\": 0,\n",
              "  \"hidden_act\": \"gelu\",\n",
              "  \"hidden_dropout_prob\": 0,\n",
              "  \"hidden_size\": 768,\n",
              "  \"id2label\": {\n",
              "    \"0\": \"non_hs\",\n",
              "    \"1\": \"hs\"\n",
              "  },\n",
              "  \"initializer_range\": 0.02,\n",
              "  \"inner_group_num\": 1,\n",
              "  \"intermediate_size\": 3072,\n",
              "  \"label2id\": {\n",
              "    \"hs\": 1,\n",
              "    \"non_hs\": 0\n",
              "  },\n",
              "  \"layer_norm_eps\": 1e-12,\n",
              "  \"max_position_embeddings\": 512,\n",
              "  \"model_type\": \"albert\",\n",
              "  \"net_structure_type\": 0,\n",
              "  \"num_attention_heads\": 12,\n",
              "  \"num_hidden_groups\": 1,\n",
              "  \"num_hidden_layers\": 8,\n",
              "  \"num_memory_blocks\": 0,\n",
              "  \"output_past\": true,\n",
              "  \"pad_token_id\": 0,\n",
              "  \"position_embedding_type\": \"absolute\",\n",
              "  \"transformers_version\": \"4.6.0\",\n",
              "  \"type_vocab_size\": 2,\n",
              "  \"vocab_size\": 30000\n",
              "}"
            ]
          },
          "metadata": {
            "tags": []
          },
          "execution_count": 15
        },
        {
          "output_type": "stream",
          "text": [
            "time: 30.3 ms (started: 2021-05-16 15:59:17 +00:00)\n"
          ],
          "name": "stdout"
        }
      ]
    },
    {
      "cell_type": "markdown",
      "metadata": {
        "id": "7aHD9vGSo0gY"
      },
      "source": [
        "# **Load and Prepate Data**"
      ]
    },
    {
      "cell_type": "code",
      "metadata": {
        "colab": {
          "base_uri": "https://localhost:8080/",
          "height": 336,
          "referenced_widgets": [
            "964f550572504da6837ea691e5eee002",
            "49b844eb668249bd855e3b6d8e0b15cc",
            "a4ad217419d947fb8d696d831f48307a",
            "5d9c5e286b524131806f7042351e8fac",
            "7c674a8f06e54619b8c218a634dfba08",
            "0c4726fda0964fdb8462cb162c894610",
            "a5ac0ebf5ea14f32a8c2f348b13fd2b2",
            "4d7fea1a988f4e2d943273e2541e367b",
            "552add54a2134758a10238f0f6cf636e",
            "99a90e916ab84ba9864581148ab5d7c4",
            "217f14bc13534c0f83e01c87995aabdc",
            "02dabf8c71434c31ba40b4ddf525d726",
            "7c65738e36d74ce0b9fb6030dc897217",
            "2e4f9650581a4acabae06994581d0b8e",
            "bbe1ab7632c2469b8c86f81e048518bd",
            "a97e0610c2df480d907e2c0472d679f7",
            "23f4d054f57f429894d33aba3e7d879e",
            "e5806dd3d39548f69c1389bf1ee41b58",
            "95f16e9289a0451ea09d037709c6f5c5",
            "cb108dd6552445b3ba02b210bf11c20c",
            "26379672efb94e30a61fab94dad5bddd",
            "082359c3065c4b57ac64108eb8b1707a",
            "2d31b3d3c1d34249a1b05751c03365c8",
            "7f8c6974d1fa440c94c743d0e4eeddc8",
            "783953895be34e439ce52ea708c0fa2b",
            "21cd49150a134bc78b18050924f87451",
            "c6147864201e48ac9a50b762f72042e9",
            "b446dcf95fc34ce3b0ee57f38fbfb695",
            "2f2e1e1f1a6c45609c5c100640392279",
            "bb27f99a80194bf9a0894519e295c514",
            "ee60d2f3a9e64956b751a2ce08a637f9",
            "354233f3dc7a4803a3d8762dddb66c39",
            "b6b83423d4cc425ab8fb9968d7e74cc0"
          ]
        },
        "id": "1RXifZEzBth0",
        "outputId": "4d011b8f-d606-40cf-dcf1-bd5503402ffc"
      },
      "source": [
        "data_files = {'train': HS_PATH + 'train.csv', \n",
        "              'validation': HS_PATH + 'val.csv',\n",
        "              'test': HS_PATH + 'test.csv'}\n",
        "\n",
        "datasets = load_dataset('csv', data_files=data_files)\n",
        "datasets"
      ],
      "execution_count": 16,
      "outputs": [
        {
          "output_type": "stream",
          "text": [
            "Using custom data configuration default-789035bf0b69893d\n"
          ],
          "name": "stderr"
        },
        {
          "output_type": "stream",
          "text": [
            "Downloading and preparing dataset csv/default (download: Unknown size, generated: Unknown size, post-processed: Unknown size, total: Unknown size) to /root/.cache/huggingface/datasets/csv/default-789035bf0b69893d/0.0.0/2dc6629a9ff6b5697d82c25b73731dd440507a69cbce8b425db50b751e8fcfd0...\n"
          ],
          "name": "stdout"
        },
        {
          "output_type": "display_data",
          "data": {
            "application/vnd.jupyter.widget-view+json": {
              "model_id": "964f550572504da6837ea691e5eee002",
              "version_minor": 0,
              "version_major": 2
            },
            "text/plain": [
              "0 tables [00:00, ? tables/s]"
            ]
          },
          "metadata": {
            "tags": []
          }
        },
        {
          "output_type": "display_data",
          "data": {
            "application/vnd.jupyter.widget-view+json": {
              "model_id": "02dabf8c71434c31ba40b4ddf525d726",
              "version_minor": 0,
              "version_major": 2
            },
            "text/plain": [
              "0 tables [00:00, ? tables/s]"
            ]
          },
          "metadata": {
            "tags": []
          }
        },
        {
          "output_type": "display_data",
          "data": {
            "application/vnd.jupyter.widget-view+json": {
              "model_id": "2d31b3d3c1d34249a1b05751c03365c8",
              "version_minor": 0,
              "version_major": 2
            },
            "text/plain": [
              "0 tables [00:00, ? tables/s]"
            ]
          },
          "metadata": {
            "tags": []
          }
        },
        {
          "output_type": "stream",
          "text": [
            "Dataset csv downloaded and prepared to /root/.cache/huggingface/datasets/csv/default-789035bf0b69893d/0.0.0/2dc6629a9ff6b5697d82c25b73731dd440507a69cbce8b425db50b751e8fcfd0. Subsequent calls will reuse this data.\n"
          ],
          "name": "stdout"
        },
        {
          "output_type": "execute_result",
          "data": {
            "text/plain": [
              "DatasetDict({\n",
              "    train: Dataset({\n",
              "        features: ['sentence1', 'label'],\n",
              "        num_rows: 9186\n",
              "    })\n",
              "    validation: Dataset({\n",
              "        features: ['sentence1', 'label'],\n",
              "        num_rows: 1968\n",
              "    })\n",
              "    test: Dataset({\n",
              "        features: ['sentence1', 'label'],\n",
              "        num_rows: 1969\n",
              "    })\n",
              "})"
            ]
          },
          "metadata": {
            "tags": []
          },
          "execution_count": 16
        },
        {
          "output_type": "stream",
          "text": [
            "time: 344 ms (started: 2021-05-16 15:59:21 +00:00)\n"
          ],
          "name": "stdout"
        }
      ]
    },
    {
      "cell_type": "code",
      "metadata": {
        "colab": {
          "base_uri": "https://localhost:8080/"
        },
        "id": "bQBvuQ6xUnG5",
        "outputId": "6ef487d0-1c4e-4ddd-8f85-0a30065aee04"
      },
      "source": [
        "column_names = {col for cols in datasets.column_names.values() for col in cols}\n",
        "non_label_column_names = [name for name in column_names if name != 'label']"
      ],
      "execution_count": 17,
      "outputs": [
        {
          "output_type": "stream",
          "text": [
            "time: 1.26 ms (started: 2021-05-16 15:59:23 +00:00)\n"
          ],
          "name": "stdout"
        }
      ]
    },
    {
      "cell_type": "code",
      "metadata": {
        "colab": {
          "base_uri": "https://localhost:8080/",
          "height": 359,
          "referenced_widgets": [
            "5291f78d890c45d89dc363e6f3eeb80d",
            "8742547136de47d0b715bbca4ea4044e",
            "a3f49c0b18e1490c80651e4944075665",
            "272e870ee4b04b90b40ce0bc3c6a4993",
            "f9cd7e7c46444fbe8d39ddf5d7da14d7",
            "cc61b855ac5446289df98728a02ef9a6",
            "f731bd1524aa44ffa5af5a39869acdbf",
            "ae376bd4ecee49c0b6e83d2d6df24a71",
            "dd479816750546249a43d6711e5d8635",
            "ce726e214b954c1e90b638a78f49ecd9",
            "ddc375868ebe475f8078b821c4d6d686",
            "9483a870ddbc4862833ee32c15fe02bb",
            "bfd735e1bf504ab6b7ad7240517eb2e6",
            "8895042ec8f44efb87dc5031f7015a4c",
            "33aacb03a204446c8fcf57a05a11c6a0",
            "1629a3bad412450c880e5da919f5f6b2",
            "2fdca77844124c649bbd65777741a56e",
            "d770b62f33324e76989b902bf26cd652",
            "57ae39b7650543538fd46916c463efa9",
            "75f713315cf34b219616d1c7ad8fee4e",
            "d2033ca6e7b442dfa86f5a421657b6d2",
            "380a7e97d8894057baa4e4bc67ebfbeb",
            "cd9303109f52401f9a68531407986487",
            "e3958dea29d24c8c97f7a2c674ed23db",
            "631b52e36a184561b21216754ac9f76e",
            "f344845bfac8457482de27fb1958a124",
            "3bf25761322d4877903c94afcbe9fc53",
            "d6a34c0df6c8479abb2f1f44d4442fcf",
            "39e653805c3545799d5e0b57a46be6ae",
            "834cf6ca90ce47a3b777220cda277938",
            "9c09d58c064f46258aca81756d2cb69c",
            "927770a2320347dabf90f1eb30debbac",
            "aca93ef391a34e84b87ddfcf9e76f2c5"
          ]
        },
        "id": "vYRFGD-TDp3r",
        "outputId": "4ad200da-740d-4e49-8770-a40644f23550"
      },
      "source": [
        "partial_preprocess_func = partial(preprocess_function, tokenizer=tokenizer, non_label_column_names=non_label_column_names)\n",
        "datasets = datasets.map(partial_preprocess_func, batched=True)\n",
        "datasets"
      ],
      "execution_count": 18,
      "outputs": [
        {
          "output_type": "display_data",
          "data": {
            "application/vnd.jupyter.widget-view+json": {
              "model_id": "5291f78d890c45d89dc363e6f3eeb80d",
              "version_minor": 0,
              "version_major": 2
            },
            "text/plain": [
              "  0%|          | 0/10 [00:00<?, ?ba/s]"
            ]
          },
          "metadata": {
            "tags": []
          }
        },
        {
          "output_type": "display_data",
          "data": {
            "application/vnd.jupyter.widget-view+json": {
              "model_id": "9483a870ddbc4862833ee32c15fe02bb",
              "version_minor": 0,
              "version_major": 2
            },
            "text/plain": [
              "  0%|          | 0/2 [00:00<?, ?ba/s]"
            ]
          },
          "metadata": {
            "tags": []
          }
        },
        {
          "output_type": "display_data",
          "data": {
            "application/vnd.jupyter.widget-view+json": {
              "model_id": "cd9303109f52401f9a68531407986487",
              "version_minor": 0,
              "version_major": 2
            },
            "text/plain": [
              "  0%|          | 0/2 [00:00<?, ?ba/s]"
            ]
          },
          "metadata": {
            "tags": []
          }
        },
        {
          "output_type": "execute_result",
          "data": {
            "text/plain": [
              "DatasetDict({\n",
              "    train: Dataset({\n",
              "        features: ['attention_mask', 'input_ids', 'label', 'sentence1', 'token_type_ids'],\n",
              "        num_rows: 9186\n",
              "    })\n",
              "    validation: Dataset({\n",
              "        features: ['attention_mask', 'input_ids', 'label', 'sentence1', 'token_type_ids'],\n",
              "        num_rows: 1968\n",
              "    })\n",
              "    test: Dataset({\n",
              "        features: ['attention_mask', 'input_ids', 'label', 'sentence1', 'token_type_ids'],\n",
              "        num_rows: 1969\n",
              "    })\n",
              "})"
            ]
          },
          "metadata": {
            "tags": []
          },
          "execution_count": 18
        },
        {
          "output_type": "stream",
          "text": [
            "time: 7.78 s (started: 2021-05-16 15:59:24 +00:00)\n"
          ],
          "name": "stdout"
        }
      ]
    },
    {
      "cell_type": "markdown",
      "metadata": {
        "id": "bjEsw1G7w8Kb"
      },
      "source": [
        "# **Without Transfer Learning or Fine Tuning**\n",
        "**(just use the pretrained model directly to see its performance on the test set)**"
      ]
    },
    {
      "cell_type": "code",
      "metadata": {
        "colab": {
          "base_uri": "https://localhost:8080/"
        },
        "id": "yyJrhVbQrJqs",
        "outputId": "6bf8000e-245d-4047-909e-d2a2b0bfcb86"
      },
      "source": [
        "training_args_ori = TFTrainingArguments(\n",
        "    output_dir=PROJECT_ROOT + 'results/hs/albert/ori/',                        # output directory\n",
        "    do_train=False,\n",
        "    do_predict=True,\n",
        "    do_eval=False,\n",
        "    num_train_epochs=25,                                                # total number of training epochs\n",
        "    per_device_train_batch_size=16,                                     # batch size per device during training\n",
        "    per_device_eval_batch_size=16,                                      # batch size for evaluation\n",
        "    learning_rate=4e-5,\n",
        "    max_grad_norm=10,\n",
        "    seed=42\n",
        ")"
      ],
      "execution_count": 21,
      "outputs": [
        {
          "output_type": "stream",
          "text": [
            "time: 5.27 ms (started: 2021-05-16 16:02:13 +00:00)\n"
          ],
          "name": "stdout"
        }
      ]
    },
    {
      "cell_type": "code",
      "metadata": {
        "colab": {
          "base_uri": "https://localhost:8080/"
        },
        "id": "IcZB03gvrJqv",
        "outputId": "b4f0378c-2036-49ce-9db2-fefbd66409ac"
      },
      "source": [
        "main(datasets, training_args_ori, config_ori, non_label_column_names, PRETRAINED_MODEL)"
      ],
      "execution_count": 22,
      "outputs": [
        {
          "output_type": "stream",
          "text": [
            "Some layers from the model checkpoint at indobenchmark/indobert-lite-base-p1 were not used when initializing TFAlbertForSequenceClassification: ['sop_classifier']\n",
            "- This IS expected if you are initializing TFAlbertForSequenceClassification from the checkpoint of a model trained on another task or with another architecture (e.g. initializing a BertForSequenceClassification model from a BertForPreTraining model).\n",
            "- This IS NOT expected if you are initializing TFAlbertForSequenceClassification from the checkpoint of a model that you expect to be exactly identical (initializing a BertForSequenceClassification model from a BertForSequenceClassification model).\n",
            "Some layers of TFAlbertForSequenceClassification were not initialized from the model checkpoint at indobenchmark/indobert-lite-base-p1 and are newly initialized: ['classifier']\n",
            "You should probably TRAIN this model on a down-stream task to be able to use it for predictions and inference.\n"
          ],
          "name": "stderr"
        },
        {
          "output_type": "stream",
          "text": [
            "WARNING:tensorflow:The parameters `output_attentions`, `output_hidden_states` and `use_cache` cannot be updated when calling a model.They have to be set to True/False in the config object (i.e.: `config=XConfig.from_pretrained('name', output_attentions=True)`).\n",
            "WARNING:tensorflow:The parameter `return_dict` cannot be set in graph mode and will always be set to `True`.\n",
            "\n",
            "\n",
            "============================== \u001b[1mMODEL PERFORMANCE ON TEST SET\u001b[0m ===============================\n",
            "\u001b[1mLoss\u001b[0m:0.7227 \u001b[1mACC:\u001b[0m0.4068 \u001b[1mF1:\u001b[0m0.4101 \u001b[1mREC:\u001b[0m0.4068 \u001b[1mPRE:\u001b[0m0.4203\n",
            "\n",
            "\u001b[1mClassification Report:\u001b[0m\n",
            "              precision    recall  f1-score   support\n",
            "\n",
            "          hs       0.48      0.40      0.44      1134\n",
            "      non_hs       0.34      0.41      0.37       835\n",
            "\n",
            "    accuracy                           0.41      1969\n",
            "   macro avg       0.41      0.41      0.40      1969\n",
            "weighted avg       0.42      0.41      0.41      1969\n",
            "\n",
            "time: 29.2 s (started: 2021-05-16 16:02:15 +00:00)\n"
          ],
          "name": "stdout"
        }
      ]
    },
    {
      "cell_type": "markdown",
      "metadata": {
        "id": "MOZVfWTK9WIp"
      },
      "source": [
        "# **Transfer Learning**"
      ]
    },
    {
      "cell_type": "code",
      "metadata": {
        "colab": {
          "base_uri": "https://localhost:8080/"
        },
        "id": "_0lqklm69bZ4",
        "outputId": "2052e4c1-ffa4-4a62-9975-88e35f7b6dcb"
      },
      "source": [
        "training_args_tl = TFTrainingArguments(\n",
        "    output_dir=PROJECT_ROOT + 'results/hs/albert/transfer-learning/',           # output directory\n",
        "    do_train=True,\n",
        "    do_predict=True,\n",
        "    do_eval=True,\n",
        "    num_train_epochs=25,                                                # total number of training epochs\n",
        "    per_device_train_batch_size=16,                                     # batch size per device during training\n",
        "    per_device_eval_batch_size=16,                                      # batch size for evaluation\n",
        "    learning_rate=1e-5,\n",
        "    max_grad_norm=10,\n",
        "    seed=42\n",
        ")"
      ],
      "execution_count": 23,
      "outputs": [
        {
          "output_type": "stream",
          "text": [
            "time: 3.37 ms (started: 2021-05-16 16:05:45 +00:00)\n"
          ],
          "name": "stdout"
        }
      ]
    },
    {
      "cell_type": "code",
      "metadata": {
        "colab": {
          "base_uri": "https://localhost:8080/",
          "height": 1000
        },
        "id": "V13kyuXH9bZ5",
        "outputId": "f3c973b3-2f85-41b2-d3a8-72b1ba870ffa"
      },
      "source": [
        "history_tl = main(datasets, training_args_tl, config_ori, non_label_column_names, PRETRAINED_MODEL)"
      ],
      "execution_count": 24,
      "outputs": [
        {
          "output_type": "stream",
          "text": [
            "Some layers from the model checkpoint at indobenchmark/indobert-lite-base-p1 were not used when initializing TFAlbertForSequenceClassification: ['sop_classifier']\n",
            "- This IS expected if you are initializing TFAlbertForSequenceClassification from the checkpoint of a model trained on another task or with another architecture (e.g. initializing a BertForSequenceClassification model from a BertForPreTraining model).\n",
            "- This IS NOT expected if you are initializing TFAlbertForSequenceClassification from the checkpoint of a model that you expect to be exactly identical (initializing a BertForSequenceClassification model from a BertForSequenceClassification model).\n",
            "Some layers of TFAlbertForSequenceClassification were not initialized from the model checkpoint at indobenchmark/indobert-lite-base-p1 and are newly initialized: ['classifier']\n",
            "You should probably TRAIN this model on a down-stream task to be able to use it for predictions and inference.\n"
          ],
          "name": "stderr"
        },
        {
          "output_type": "stream",
          "text": [
            "Epoch 1/25\n",
            "WARNING:tensorflow:The parameters `output_attentions`, `output_hidden_states` and `use_cache` cannot be updated when calling a model.They have to be set to True/False in the config object (i.e.: `config=XConfig.from_pretrained('name', output_attentions=True)`).\n",
            "WARNING:tensorflow:The parameter `return_dict` cannot be set in graph mode and will always be set to `True`.\n",
            "WARNING:tensorflow:The parameters `output_attentions`, `output_hidden_states` and `use_cache` cannot be updated when calling a model.They have to be set to True/False in the config object (i.e.: `config=XConfig.from_pretrained('name', output_attentions=True)`).\n",
            "WARNING:tensorflow:The parameter `return_dict` cannot be set in graph mode and will always be set to `True`.\n",
            "574/574 [==============================] - ETA: 0s - loss: 0.5149 - accuracy: 0.7411WARNING:tensorflow:The parameters `output_attentions`, `output_hidden_states` and `use_cache` cannot be updated when calling a model.They have to be set to True/False in the config object (i.e.: `config=XConfig.from_pretrained('name', output_attentions=True)`).\n",
            "WARNING:tensorflow:The parameter `return_dict` cannot be set in graph mode and will always be set to `True`.\n",
            "574/574 [==============================] - 405s 682ms/step - loss: 0.5147 - accuracy: 0.7412 - val_loss: 0.2748 - val_accuracy: 0.8908\n",
            "Epoch 2/25\n",
            "574/574 [==============================] - 393s 684ms/step - loss: 0.2447 - accuracy: 0.9036 - val_loss: 0.2346 - val_accuracy: 0.9050\n",
            "Epoch 3/25\n",
            "574/574 [==============================] - 395s 687ms/step - loss: 0.1258 - accuracy: 0.9590 - val_loss: 0.2708 - val_accuracy: 0.9065\n",
            "Epoch 4/25\n",
            "574/574 [==============================] - 395s 687ms/step - loss: 0.0544 - accuracy: 0.9841 - val_loss: 0.3192 - val_accuracy: 0.9096\n",
            "Epoch 5/25\n",
            "574/574 [==============================] - 392s 683ms/step - loss: 0.0200 - accuracy: 0.9946 - val_loss: 0.3900 - val_accuracy: 0.9070\n",
            "WARNING:tensorflow:The parameters `output_attentions`, `output_hidden_states` and `use_cache` cannot be updated when calling a model.They have to be set to True/False in the config object (i.e.: `config=XConfig.from_pretrained('name', output_attentions=True)`).\n",
            "WARNING:tensorflow:The parameter `return_dict` cannot be set in graph mode and will always be set to `True`.\n",
            "\n",
            "\n",
            "============================== \u001b[1mMODEL PERFORMANCE ON TEST SET\u001b[0m ===============================\n",
            "\u001b[1mLoss\u001b[0m:0.4283 \u001b[1mACC:\u001b[0m0.8989 \u001b[1mF1:\u001b[0m0.8991 \u001b[1mREC:\u001b[0m0.8989 \u001b[1mPRE:\u001b[0m0.8997\n",
            "\n",
            "\u001b[1mClassification Report:\u001b[0m\n",
            "              precision    recall  f1-score   support\n",
            "\n",
            "          hs       0.92      0.90      0.91      1134\n",
            "      non_hs       0.87      0.90      0.88       835\n",
            "\n",
            "    accuracy                           0.90      1969\n",
            "   macro avg       0.90      0.90      0.90      1969\n",
            "weighted avg       0.90      0.90      0.90      1969\n",
            "\n",
            "\n",
            "\n",
            "=========================== \u001b[1mTRAINING AND VALIDATION PERFORMANCE\u001b[0m ============================\n",
            "\u001b[1mTotal Training and Validation Time:\u001b[0m 0:33:02.612810\n",
            "\n",
            "\u001b[1mPerformance Over Epochs:\u001b[0m\n"
          ],
          "name": "stdout"
        },
        {
          "output_type": "display_data",
          "data": {
            "image/png": "[encoded data removed]",
            "text/plain": [
              "<Figure size 1080x360 with 2 Axes>"
            ]
          },
          "metadata": {
            "tags": [],
            "needs_background": "light"
          }
        },
        {
          "output_type": "stream",
          "text": [
            "time: 33min 32s (started: 2021-05-16 16:05:47 +00:00)\n"
          ],
          "name": "stdout"
        }
      ]
    },
    {
      "cell_type": "code",
      "metadata": {
        "colab": {
          "base_uri": "https://localhost:8080/"
        },
        "id": "87tA1Fxd-OAa",
        "outputId": "9855e1fe-8861-4184-80c0-2fdea9a4ee7b"
      },
      "source": [
        "history_tl.model.summary()"
      ],
      "execution_count": 26,
      "outputs": [
        {
          "output_type": "stream",
          "text": [
            "Model: \"tf_albert_for_sequence_classification_2\"\n",
            "_________________________________________________________________\n",
            "Layer (type)                 Output Shape              Param #   \n",
            "=================================================================\n",
            "albert (TFAlbertMainLayer)   multiple                  11683584  \n",
            "_________________________________________________________________\n",
            "dropout_14 (Dropout)         multiple                  0         \n",
            "_________________________________________________________________\n",
            "classifier (Dense)           multiple                  1538      \n",
            "=================================================================\n",
            "Total params: 11,685,122\n",
            "Trainable params: 11,685,122\n",
            "Non-trainable params: 0\n",
            "_________________________________________________________________\n",
            "time: 7.19 ms (started: 2021-05-16 16:40:33 +00:00)\n"
          ],
          "name": "stdout"
        }
      ]
    },
    {
      "cell_type": "markdown",
      "metadata": {
        "id": "Y2Nj4fD_us0-"
      },
      "source": [
        "# **Fine Tuning (Transfer Learning with some Changes on Architecture)**\n",
        "\n",
        "Try to reduce:\n",
        "* num_hidden_layers\n",
        "* num_attention_heads"
      ]
    },
    {
      "cell_type": "code",
      "metadata": {
        "colab": {
          "base_uri": "https://localhost:8080/"
        },
        "id": "_B-LMTpmMO2f",
        "outputId": "c81af8d9-1a61-42e4-aba7-f40eb7d9b6d6"
      },
      "source": [
        "training_args_ft = TFTrainingArguments(\n",
        "    output_dir=PROJECT_ROOT + 'results/hs/albert/fine-tuning/',         # output directory\n",
        "    do_train=True,\n",
        "    do_predict=True,\n",
        "    do_eval=True,\n",
        "    num_train_epochs=25,                                                # total number of training epochs\n",
        "    per_device_train_batch_size=16,                                     # batch size per device during training\n",
        "    per_device_eval_batch_size=16,                                      # batch size for evaluation\n",
        "    learning_rate=4e-5,\n",
        "    max_grad_norm=10,\n",
        "    seed=42\n",
        ")"
      ],
      "execution_count": 27,
      "outputs": [
        {
          "output_type": "stream",
          "text": [
            "time: 6.65 ms (started: 2021-05-16 16:43:16 +00:00)\n"
          ],
          "name": "stdout"
        }
      ]
    },
    {
      "cell_type": "code",
      "metadata": {
        "colab": {
          "base_uri": "https://localhost:8080/",
          "height": 1000
        },
        "id": "AGcZ11kDjJnC",
        "outputId": "1102a6bd-07a4-4cf9-ff16-f38acc45a85f"
      },
      "source": [
        "history_ft = main(datasets, training_args_ft, config_ft, non_label_column_names, PRETRAINED_MODEL)"
      ],
      "execution_count": 28,
      "outputs": [
        {
          "output_type": "stream",
          "text": [
            "Some layers from the model checkpoint at indobenchmark/indobert-lite-base-p1 were not used when initializing TFAlbertForSequenceClassification: ['sop_classifier']\n",
            "- This IS expected if you are initializing TFAlbertForSequenceClassification from the checkpoint of a model trained on another task or with another architecture (e.g. initializing a BertForSequenceClassification model from a BertForPreTraining model).\n",
            "- This IS NOT expected if you are initializing TFAlbertForSequenceClassification from the checkpoint of a model that you expect to be exactly identical (initializing a BertForSequenceClassification model from a BertForSequenceClassification model).\n",
            "Some layers of TFAlbertForSequenceClassification were not initialized from the model checkpoint at indobenchmark/indobert-lite-base-p1 and are newly initialized: ['classifier']\n",
            "You should probably TRAIN this model on a down-stream task to be able to use it for predictions and inference.\n"
          ],
          "name": "stderr"
        },
        {
          "output_type": "stream",
          "text": [
            "Epoch 1/25\n",
            "WARNING:tensorflow:The parameters `output_attentions`, `output_hidden_states` and `use_cache` cannot be updated when calling a model.They have to be set to True/False in the config object (i.e.: `config=XConfig.from_pretrained('name', output_attentions=True)`).\n",
            "WARNING:tensorflow:The parameter `return_dict` cannot be set in graph mode and will always be set to `True`.\n",
            "WARNING:tensorflow:The parameters `output_attentions`, `output_hidden_states` and `use_cache` cannot be updated when calling a model.They have to be set to True/False in the config object (i.e.: `config=XConfig.from_pretrained('name', output_attentions=True)`).\n",
            "WARNING:tensorflow:The parameter `return_dict` cannot be set in graph mode and will always be set to `True`.\n",
            "  6/574 [..............................] - ETA: 3:53 - loss: 0.6748 - accuracy: 0.5446WARNING:tensorflow:Callback method `on_train_batch_end` is slow compared to the batch time (batch time: 0.1938s vs `on_train_batch_end` time: 0.2217s). Check your callbacks.\n",
            "574/574 [==============================] - ETA: 0s - loss: 0.5113 - accuracy: 0.7357WARNING:tensorflow:The parameters `output_attentions`, `output_hidden_states` and `use_cache` cannot be updated when calling a model.They have to be set to True/False in the config object (i.e.: `config=XConfig.from_pretrained('name', output_attentions=True)`).\n",
            "WARNING:tensorflow:The parameter `return_dict` cannot be set in graph mode and will always be set to `True`.\n",
            "574/574 [==============================] - 275s 463ms/step - loss: 0.5111 - accuracy: 0.7358 - val_loss: 0.2431 - val_accuracy: 0.9070\n",
            "Epoch 2/25\n",
            "574/574 [==============================] - 267s 465ms/step - loss: 0.2371 - accuracy: 0.9066 - val_loss: 0.2413 - val_accuracy: 0.9014\n",
            "Epoch 3/25\n",
            "574/574 [==============================] - 268s 467ms/step - loss: 0.1378 - accuracy: 0.9476 - val_loss: 0.2414 - val_accuracy: 0.9141\n",
            "Epoch 4/25\n",
            "574/574 [==============================] - 268s 467ms/step - loss: 0.0911 - accuracy: 0.9680 - val_loss: 0.2838 - val_accuracy: 0.9035\n",
            "Epoch 5/25\n",
            "574/574 [==============================] - 267s 464ms/step - loss: 0.0598 - accuracy: 0.9780 - val_loss: 0.3512 - val_accuracy: 0.8928\n",
            "WARNING:tensorflow:The parameters `output_attentions`, `output_hidden_states` and `use_cache` cannot be updated when calling a model.They have to be set to True/False in the config object (i.e.: `config=XConfig.from_pretrained('name', output_attentions=True)`).\n",
            "WARNING:tensorflow:The parameter `return_dict` cannot be set in graph mode and will always be set to `True`.\n",
            "\n",
            "\n",
            "============================== \u001b[1mMODEL PERFORMANCE ON TEST SET\u001b[0m ===============================\n",
            "\u001b[1mLoss\u001b[0m:0.3680 \u001b[1mACC:\u001b[0m0.8959 \u001b[1mF1:\u001b[0m0.8950 \u001b[1mREC:\u001b[0m0.8959 \u001b[1mPRE:\u001b[0m0.8976\n",
            "\n",
            "\u001b[1mClassification Report:\u001b[0m\n",
            "              precision    recall  f1-score   support\n",
            "\n",
            "          hs       0.88      0.95      0.91      1134\n",
            "      non_hs       0.92      0.83      0.87       835\n",
            "\n",
            "    accuracy                           0.90      1969\n",
            "   macro avg       0.90      0.89      0.89      1969\n",
            "weighted avg       0.90      0.90      0.89      1969\n",
            "\n",
            "\n",
            "\n",
            "=========================== \u001b[1mTRAINING AND VALIDATION PERFORMANCE\u001b[0m ============================\n",
            "\u001b[1mTotal Training and Validation Time:\u001b[0m 0:22:28.585944\n",
            "\n",
            "\u001b[1mPerformance Over Epochs:\u001b[0m\n"
          ],
          "name": "stdout"
        },
        {
          "output_type": "display_data",
          "data": {
            "image/png": "[encoded data removed]",
            "text/plain": [
              "<Figure size 1080x360 with 2 Axes>"
            ]
          },
          "metadata": {
            "tags": [],
            "needs_background": "light"
          }
        },
        {
          "output_type": "stream",
          "text": [
            "time: 22min 53s (started: 2021-05-16 16:43:17 +00:00)\n"
          ],
          "name": "stdout"
        }
      ]
    },
    {
      "cell_type": "code",
      "metadata": {
        "colab": {
          "base_uri": "https://localhost:8080/"
        },
        "id": "45wd6lPGstp1",
        "outputId": "8347b7ce-18c8-4b9f-d188-3e79d7f8c410"
      },
      "source": [
        "history_ft.model.summary()"
      ],
      "execution_count": 29,
      "outputs": [
        {
          "output_type": "stream",
          "text": [
            "Model: \"tf_albert_for_sequence_classification_3\"\n",
            "_________________________________________________________________\n",
            "Layer (type)                 Output Shape              Param #   \n",
            "=================================================================\n",
            "albert (TFAlbertMainLayer)   multiple                  11683584  \n",
            "_________________________________________________________________\n",
            "dropout_19 (Dropout)         multiple                  0         \n",
            "_________________________________________________________________\n",
            "classifier (Dense)           multiple                  1538      \n",
            "=================================================================\n",
            "Total params: 11,685,122\n",
            "Trainable params: 11,685,122\n",
            "Non-trainable params: 0\n",
            "_________________________________________________________________\n",
            "time: 4.56 ms (started: 2021-05-16 17:09:38 +00:00)\n"
          ],
          "name": "stdout"
        }
      ]
    },
    {
      "cell_type": "code",
      "metadata": {
        "colab": {
          "base_uri": "https://localhost:8080/"
        },
        "id": "ya5U4SoqSWR3",
        "outputId": "5668a74e-5177-47e4-ef05-5d1799d0617a"
      },
      "source": [
        "# https://stackoverflow.com/questions/67052427/how-to-access-a-particular-layer-of-huggingfaces-pre-trained-bert-model\n",
        "history_ft.model.layers[0].embeddings"
      ],
      "execution_count": null,
      "outputs": [
        {
          "output_type": "execute_result",
          "data": {
            "text/plain": [
              "<transformers.models.bert.modeling_tf_bert.TFBertEmbeddings at 0x7fba099db1d0>"
            ]
          },
          "metadata": {
            "tags": []
          },
          "execution_count": 20
        },
        {
          "output_type": "stream",
          "text": [
            "time: 3.58 ms (started: 2021-05-15 22:27:07 +00:00)\n"
          ],
          "name": "stdout"
        }
      ]
    },
    {
      "cell_type": "markdown",
      "metadata": {
        "id": "2Q1tJVcwHrq-"
      },
      "source": [
        "# **Test on Some Instances**"
      ]
    },
    {
      "cell_type": "markdown",
      "metadata": {
        "id": "BJbOy6wNNRwP"
      },
      "source": [
        "## **Preprocess emoji and emoticon**\n",
        "\n",
        "The preprocessing functions are copied from [hate speech preprocessing notebook](https://github.com/thingkilia2507/PTCJNN_BangkitCapstoneProject/blob/celine-branch/Machine%20Learning/notebooks/Hate%20Speech%20Dataset%20Preprocessing.ipynb) which was used to preprocess the training data."
      ]
    },
    {
      "cell_type": "code",
      "metadata": {
        "id": "12KQFoRUL_cu",
        "colab": {
          "base_uri": "https://localhost:8080/"
        },
        "outputId": "6bdf6d49-33e6-497e-8328-7f15a084dbcb"
      },
      "source": [
        "with open('EMOTICONS_ID.json') as f:\n",
        "    EMOTICONS_ID = json.load(f)\n",
        "\n",
        "with open('EMOJI_ID.json') as f:\n",
        "    EMOJI_ID = json.load(f)"
      ],
      "execution_count": 33,
      "outputs": [
        {
          "output_type": "stream",
          "text": [
            "time: 11.3 ms (started: 2021-05-16 17:17:00 +00:00)\n"
          ],
          "name": "stdout"
        }
      ]
    },
    {
      "cell_type": "code",
      "metadata": {
        "id": "BDQ-GKW8jG2I",
        "colab": {
          "base_uri": "https://localhost:8080/"
        },
        "outputId": "11974651-8c8b-4694-ef1b-34c5743b0a3b"
      },
      "source": [
        "def emot_to_desc(tweet):\n",
        "    # Regex punctuation nya diperoleh dari `string.punctuation` dan ditambahkan `“”…`\n",
        "    rgx_repeated_punct = re.compile(r'''([!\"#$%&'()*+,-./:;<=>?@[\\]^_`“”{|}~…])\\1+''', re.IGNORECASE)\n",
        "    tweet = re.sub(rgx_repeated_punct, r'\\1', tweet)                                # remove repeated punctuation, e.g. :---))))))))\n",
        "\n",
        "    for emot in EMOTICONS_ID:\n",
        "        tweet = re.sub('(' + emot + ')', ' '.join(EMOTICONS_ID[emot].replace(',', '').split()), tweet)\n",
        "    \n",
        "    return tweet\n",
        "\n",
        "\n",
        "# Use code from https://github.com/carpedm20/emoji/blob/master/emoji/core.py and modified accordingly.\n",
        "# Returns compiled regular expression that matches emojis defined in\n",
        "# ``EMOJI_ID``. The regular expression is only compiled once.\n",
        "def get_emoji_regexp():\n",
        "    EMOJI_UNICODE = EMOJI_ID\n",
        "    \n",
        "    # Sort emojis by length to make sure multi-character emojis are matched first\n",
        "    emojis = sorted(EMOJI_UNICODE.keys(), key=len, reverse=True)\n",
        "\n",
        "    # Escape Unicode string\n",
        "    pattern = u'(' + u'|'.join(re.escape(u) for u in emojis) + u')'\n",
        "\n",
        "    # combine a regular expression pattern into pattern objects, which can be used for pattern matching\n",
        "    _EMOJI_REGEXP = re.compile(pattern)\n",
        "\n",
        "    return _EMOJI_REGEXP\n",
        "\n",
        "\n",
        "_EMOJI_REGEXP = get_emoji_regexp()\n",
        "_DEFAULT_DELIMITER = ':'\n",
        "# Returns emoji that has been replaced by its decriptions in Bahasa Indonesia\n",
        "def emoji_to_desc(string, delimiters=(_DEFAULT_DELIMITER, _DEFAULT_DELIMITER), codes_dict=EMOJI_ID):\n",
        "    def replace(match):\n",
        "        val = codes_dict.get(match.group(0), match.group(0))\n",
        "        return delimiters[0] + val[1:-1] + delimiters[1]\n",
        "\n",
        "    demojized = _EMOJI_REGEXP.sub(replace, string)\n",
        "    return re.sub(u'\\ufe0f', '', demojized)\n",
        "\n",
        "\n",
        "def clean(text):\n",
        "    punct = '''([!\"#$%&'()*+,-./:;=?@[\\]^_`“”{|}~…])\\1+'''                                 # from string.punctuation but without <>\n",
        "    rgx_multi_space = r' {2,}'\n",
        "    rgx_byte_format = r'''b'|b\"'''\n",
        "\n",
        "    text = text.lower()\n",
        "    cleansed = re.sub(rgx_byte_format, '', text)\n",
        "    cleansed = cleansed.translate(str.maketrans(punct, ' '*len(punct)))                    # replace punct with whitespace\n",
        "    cleansed = re.sub(rgx_multi_space, ' ', cleansed)                                      # remove multiple spaces\n",
        "    cleansed = cleansed.strip()                                                            # remove trailing spaces\n",
        "    return cleansed"
      ],
      "execution_count": 44,
      "outputs": [
        {
          "output_type": "stream",
          "text": [
            "time: 38.8 ms (started: 2021-05-16 17:37:10 +00:00)\n"
          ],
          "name": "stdout"
        }
      ]
    },
    {
      "cell_type": "code",
      "metadata": {
        "colab": {
          "base_uri": "https://localhost:8080/"
        },
        "id": "xuO2dVlxSXvA",
        "outputId": "945d28a2-1ed7-4d15-936b-b2ff3e1963e2"
      },
      "source": [
        "list_text = ['Dia ngatain aku jelek 😢',\n",
        "             'Aku dipukul sama dia :(',\n",
        "             'Aku cape dimarahin terus. Ga ngerti lagi deh sama orang ky dia',\n",
        "             'Ga ngerti lagi deh sama orang ky dia 🙄',\n",
        "             'Eh bego lu, mending mati aja sana',\n",
        "             'Ngapain sih chat di sini, tukang ngadu dasar']\n",
        "\n",
        "texts_emot_desc = [emot_to_desc(text) for text in list_text]\n",
        "texts_emoji_emot_desc = [emoji_to_desc(text) for text in texts_emot_desc]\n",
        "preprocessed_texts = [clean(text) for text in texts_emoji_emot_desc]"
      ],
      "execution_count": 45,
      "outputs": [
        {
          "output_type": "stream",
          "text": [
            "time: 14 ms (started: 2021-05-16 17:37:55 +00:00)\n"
          ],
          "name": "stdout"
        }
      ]
    },
    {
      "cell_type": "code",
      "metadata": {
        "colab": {
          "base_uri": "https://localhost:8080/"
        },
        "id": "Gg3fknwiMhrY",
        "outputId": "030fc727-f025-4a75-a197-40b24e718710"
      },
      "source": [
        "texts_emot_desc"
      ],
      "execution_count": 41,
      "outputs": [
        {
          "output_type": "execute_result",
          "data": {
            "text/plain": [
              "['Dia ngatain aku jelek 😢',\n",
              " 'Aku dipukul sama dia sedih atau cemberut',\n",
              " 'Aku cape dimarahin terus. Ga ngerti lagi deh sama orang ky dia',\n",
              " 'Ga ngerti lagi deh sama orang ky dia 🙄',\n",
              " 'Eh bego lu, mending mati aja sana',\n",
              " 'Ngapain sih chat di sini, tukang ngadu dasar']"
            ]
          },
          "metadata": {
            "tags": []
          },
          "execution_count": 41
        },
        {
          "output_type": "stream",
          "text": [
            "time: 2.34 ms (started: 2021-05-16 17:23:32 +00:00)\n"
          ],
          "name": "stdout"
        }
      ]
    },
    {
      "cell_type": "code",
      "metadata": {
        "colab": {
          "base_uri": "https://localhost:8080/"
        },
        "id": "zVwSJPXvMkD0",
        "outputId": "08b60375-5ed0-4612-93c8-f386a19ade14"
      },
      "source": [
        "texts_emoji_emot_desc"
      ],
      "execution_count": 42,
      "outputs": [
        {
          "output_type": "execute_result",
          "data": {
            "text/plain": [
              "['Dia ngatain aku jelek :menangis:',\n",
              " 'Aku dipukul sama dia sedih atau cemberut',\n",
              " 'Aku cape dimarahin terus. Ga ngerti lagi deh sama orang ky dia',\n",
              " 'Ga ngerti lagi deh sama orang ky dia :wajah dengan mata berputar:',\n",
              " 'Eh bego lu, mending mati aja sana',\n",
              " 'Ngapain sih chat di sini, tukang ngadu dasar']"
            ]
          },
          "metadata": {
            "tags": []
          },
          "execution_count": 42
        },
        {
          "output_type": "stream",
          "text": [
            "time: 3.43 ms (started: 2021-05-16 17:23:34 +00:00)\n"
          ],
          "name": "stdout"
        }
      ]
    },
    {
      "cell_type": "code",
      "metadata": {
        "colab": {
          "base_uri": "https://localhost:8080/"
        },
        "id": "tfRiKTsoQaz3",
        "outputId": "83c9c548-38e8-426e-bf46-805ddec7b913"
      },
      "source": [
        "preprocessed_texts"
      ],
      "execution_count": 46,
      "outputs": [
        {
          "output_type": "execute_result",
          "data": {
            "text/plain": [
              "['dia ngatain aku jelek menangis',\n",
              " 'aku dipukul sama dia sedih atau cemberut',\n",
              " 'aku cape dimarahin terus ga ngerti lagi deh sama orang ky dia',\n",
              " 'ga ngerti lagi deh sama orang ky dia wajah dengan mata berputar',\n",
              " 'eh bego lu mending mati aja sana',\n",
              " 'ngapain sih chat di sini tukang ngadu dasar']"
            ]
          },
          "metadata": {
            "tags": []
          },
          "execution_count": 46
        },
        {
          "output_type": "stream",
          "text": [
            "time: 3.77 ms (started: 2021-05-16 17:38:07 +00:00)\n"
          ],
          "name": "stdout"
        }
      ]
    },
    {
      "cell_type": "markdown",
      "metadata": {
        "id": "Mz0ahxFyNmOz"
      },
      "source": [
        "## **Predict**"
      ]
    },
    {
      "cell_type": "code",
      "metadata": {
        "colab": {
          "base_uri": "https://localhost:8080/"
        },
        "id": "BItO7zzzLJFl",
        "outputId": "ff4d3e1e-5c40-4d71-c127-1320388abbcc"
      },
      "source": [
        "ori_model = TFAlbertForSequenceClassification.from_pretrained(PRETRAINED_MODEL, config=config_ori)\n",
        "tl_model = TFAlbertForSequenceClassification.from_pretrained(PROJECT_ROOT + 'results/hs/albert/transfer-learning')\n",
        "ft_model = TFAlbertForSequenceClassification.from_pretrained(PROJECT_ROOT + 'results/hs/albert/fine-tuning')\n",
        "\n",
        "dict_model = {'Original Pre-trained Model': ori_model,\n",
        "              'Transfer Learning Model': tl_model,\n",
        "              'Transfer Learning with Fine Tuning Model': ft_model}"
      ],
      "execution_count": 30,
      "outputs": [
        {
          "output_type": "stream",
          "text": [
            "Some layers from the model checkpoint at indobenchmark/indobert-lite-base-p1 were not used when initializing TFAlbertForSequenceClassification: ['sop_classifier']\n",
            "- This IS expected if you are initializing TFAlbertForSequenceClassification from the checkpoint of a model trained on another task or with another architecture (e.g. initializing a BertForSequenceClassification model from a BertForPreTraining model).\n",
            "- This IS NOT expected if you are initializing TFAlbertForSequenceClassification from the checkpoint of a model that you expect to be exactly identical (initializing a BertForSequenceClassification model from a BertForSequenceClassification model).\n",
            "Some layers of TFAlbertForSequenceClassification were not initialized from the model checkpoint at indobenchmark/indobert-lite-base-p1 and are newly initialized: ['classifier']\n",
            "You should probably TRAIN this model on a down-stream task to be able to use it for predictions and inference.\n",
            "Some layers from the model checkpoint at drive/My Drive/Bangkit Capstone PT CJNN/ML/results/hs/albert/transfer-learning were not used when initializing TFAlbertForSequenceClassification: ['dropout_14']\n",
            "- This IS expected if you are initializing TFAlbertForSequenceClassification from the checkpoint of a model trained on another task or with another architecture (e.g. initializing a BertForSequenceClassification model from a BertForPreTraining model).\n",
            "- This IS NOT expected if you are initializing TFAlbertForSequenceClassification from the checkpoint of a model that you expect to be exactly identical (initializing a BertForSequenceClassification model from a BertForSequenceClassification model).\n",
            "All the layers of TFAlbertForSequenceClassification were initialized from the model checkpoint at drive/My Drive/Bangkit Capstone PT CJNN/ML/results/hs/albert/transfer-learning.\n",
            "If your task is similar to the task the model of the checkpoint was trained on, you can already use TFAlbertForSequenceClassification for predictions without further training.\n",
            "Some layers from the model checkpoint at drive/My Drive/Bangkit Capstone PT CJNN/ML/results/hs/albert/fine-tuning were not used when initializing TFAlbertForSequenceClassification: ['dropout_19']\n",
            "- This IS expected if you are initializing TFAlbertForSequenceClassification from the checkpoint of a model trained on another task or with another architecture (e.g. initializing a BertForSequenceClassification model from a BertForPreTraining model).\n",
            "- This IS NOT expected if you are initializing TFAlbertForSequenceClassification from the checkpoint of a model that you expect to be exactly identical (initializing a BertForSequenceClassification model from a BertForSequenceClassification model).\n",
            "All the layers of TFAlbertForSequenceClassification were initialized from the model checkpoint at drive/My Drive/Bangkit Capstone PT CJNN/ML/results/hs/albert/fine-tuning.\n",
            "If your task is similar to the task the model of the checkpoint was trained on, you can already use TFAlbertForSequenceClassification for predictions without further training.\n"
          ],
          "name": "stderr"
        },
        {
          "output_type": "stream",
          "text": [
            "time: 3.86 s (started: 2021-05-16 17:10:22 +00:00)\n"
          ],
          "name": "stdout"
        }
      ]
    },
    {
      "cell_type": "code",
      "metadata": {
        "id": "wxMCbpBGJCVP",
        "colab": {
          "base_uri": "https://localhost:8080/"
        },
        "outputId": "a340aa7e-de34-476d-935e-7953ecadcddb"
      },
      "source": [
        "for desc, model in dict_model.items():\n",
        "  print(f'\\n\\033[1mHasil Prediksi menggunakan {desc}:\\033[0m')\n",
        "  for text in preprocessed_texts:\n",
        "      subwords = tokenizer(text, return_tensors='tf')\n",
        "      predictions = model(subwords)['logits']\n",
        "      predicted_class_idx = np.argmax(predictions, axis=1)[0]\n",
        "      predicted_class_label = config_ft.id2label[predicted_class_idx]\n",
        "      print(f'Kalimat \"\\033[1m{text}\\033[0m\" diprediksi sebagai label \\033[1m{predicted_class_label}\\033[0m')"
      ],
      "execution_count": 47,
      "outputs": [
        {
          "output_type": "stream",
          "text": [
            "\n",
            "\u001b[1mHasil Prediksi menggunakan Original Pre-trained Model:\u001b[0m\n",
            "Kalimat \"\u001b[1mdia ngatain aku jelek menangis\u001b[0m\" diprediksi sebagai label \u001b[1mhs\u001b[0m\n",
            "Kalimat \"\u001b[1maku dipukul sama dia sedih atau cemberut\u001b[0m\" diprediksi sebagai label \u001b[1mnon_hs\u001b[0m\n",
            "Kalimat \"\u001b[1maku cape dimarahin terus ga ngerti lagi deh sama orang ky dia\u001b[0m\" diprediksi sebagai label \u001b[1mnon_hs\u001b[0m\n",
            "Kalimat \"\u001b[1mga ngerti lagi deh sama orang ky dia wajah dengan mata berputar\u001b[0m\" diprediksi sebagai label \u001b[1mnon_hs\u001b[0m\n",
            "Kalimat \"\u001b[1meh bego lu mending mati aja sana\u001b[0m\" diprediksi sebagai label \u001b[1mnon_hs\u001b[0m\n",
            "Kalimat \"\u001b[1mngapain sih chat di sini tukang ngadu dasar\u001b[0m\" diprediksi sebagai label \u001b[1mhs\u001b[0m\n",
            "\n",
            "\u001b[1mHasil Prediksi menggunakan Transfer Learning Model:\u001b[0m\n",
            "Kalimat \"\u001b[1mdia ngatain aku jelek menangis\u001b[0m\" diprediksi sebagai label \u001b[1mhs\u001b[0m\n",
            "Kalimat \"\u001b[1maku dipukul sama dia sedih atau cemberut\u001b[0m\" diprediksi sebagai label \u001b[1mnon_hs\u001b[0m\n",
            "Kalimat \"\u001b[1maku cape dimarahin terus ga ngerti lagi deh sama orang ky dia\u001b[0m\" diprediksi sebagai label \u001b[1mnon_hs\u001b[0m\n",
            "Kalimat \"\u001b[1mga ngerti lagi deh sama orang ky dia wajah dengan mata berputar\u001b[0m\" diprediksi sebagai label \u001b[1mnon_hs\u001b[0m\n",
            "Kalimat \"\u001b[1meh bego lu mending mati aja sana\u001b[0m\" diprediksi sebagai label \u001b[1mhs\u001b[0m\n",
            "Kalimat \"\u001b[1mngapain sih chat di sini tukang ngadu dasar\u001b[0m\" diprediksi sebagai label \u001b[1mhs\u001b[0m\n",
            "\n",
            "\u001b[1mHasil Prediksi menggunakan Transfer Learning with Fine Tuning Model:\u001b[0m\n",
            "Kalimat \"\u001b[1mdia ngatain aku jelek menangis\u001b[0m\" diprediksi sebagai label \u001b[1mnon_hs\u001b[0m\n",
            "Kalimat \"\u001b[1maku dipukul sama dia sedih atau cemberut\u001b[0m\" diprediksi sebagai label \u001b[1mnon_hs\u001b[0m\n",
            "Kalimat \"\u001b[1maku cape dimarahin terus ga ngerti lagi deh sama orang ky dia\u001b[0m\" diprediksi sebagai label \u001b[1mnon_hs\u001b[0m\n",
            "Kalimat \"\u001b[1mga ngerti lagi deh sama orang ky dia wajah dengan mata berputar\u001b[0m\" diprediksi sebagai label \u001b[1mnon_hs\u001b[0m\n",
            "Kalimat \"\u001b[1meh bego lu mending mati aja sana\u001b[0m\" diprediksi sebagai label \u001b[1mhs\u001b[0m\n",
            "Kalimat \"\u001b[1mngapain sih chat di sini tukang ngadu dasar\u001b[0m\" diprediksi sebagai label \u001b[1mhs\u001b[0m\n",
            "time: 1.8 s (started: 2021-05-16 17:38:30 +00:00)\n"
          ],
          "name": "stdout"
        }
      ]
    },
    {
      "cell_type": "code",
      "metadata": {
        "id": "cI6T09ncNHrp"
      },
      "source": [
        ""
      ],
      "execution_count": null,
      "outputs": []
    }
  ]
}